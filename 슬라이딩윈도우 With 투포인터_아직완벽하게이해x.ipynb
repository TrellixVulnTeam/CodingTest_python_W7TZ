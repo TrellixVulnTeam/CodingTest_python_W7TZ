{
 "cells": [
  {
   "cell_type": "markdown",
   "metadata": {},
   "source": [
    "https://leetcode.com/problems/minimum-window-substring/\n",
    "\n",
    "https://programmers.co.kr/learn/courses/30/lessons/67258"
   ]
  },
  {
   "cell_type": "code",
   "execution_count": 5,
   "metadata": {},
   "outputs": [
    {
     "name": "stdout",
     "output_type": "stream",
     "text": [
      "Counter({'A': 1, 'B': 1, 'C': 1})\n",
      "Counter({'B': 1, 'A': 1, 'C': 1})\n",
      "99\n"
     ]
    }
   ],
   "source": [
    "from collections import Counter\n",
    "t = 'ABC'\n",
    "t=list(t)\n",
    "c='BAC'\n",
    "c=list(c)\n",
    "print(Counter(t))\n",
    "print(Counter(c))\n",
    "if Counter(t) ==Counter(c):\n",
    "    print(99)"
   ]
  },
  {
   "cell_type": "code",
   "execution_count": 7,
   "metadata": {},
   "outputs": [
    {
     "data": {
      "text/plain": [
       "dict_keys(['A', 'B', 'C'])"
      ]
     },
     "execution_count": 7,
     "metadata": {},
     "output_type": "execute_result"
    }
   ],
   "source": [
    "ex=Counter(t)\n",
    "ex.keys()"
   ]
  },
  {
   "cell_type": "code",
   "execution_count": 14,
   "metadata": {},
   "outputs": [
    {
     "name": "stdout",
     "output_type": "stream",
     "text": [
      "defaultdict(<class 'int'>, {})\n"
     ]
    }
   ],
   "source": [
    "from collections import defaultdict\n",
    "d=defaultdict(int)\n",
    "\n",
    "\n"
   ]
  },
  {
   "cell_type": "code",
   "execution_count": 105,
   "metadata": {},
   "outputs": [],
   "source": [
    "from collections import Counter\n",
    "from collections import defaultdict\n",
    "s= \"ADOBECODEBANC\"\n",
    "t=\"ABC\"\n",
    "\n",
    "s='abc'\n",
    "t='bc'\n",
    "\n",
    "# s='ABC'\n",
    "# t='B'\n",
    "\n",
    "# s='ABCDEFG'\n",
    "# t='B'\n",
    "\n",
    "# s='a'\n",
    "# t='a'\n",
    "\n",
    "\n",
    "t_lst = list(t)\n",
    "lst = []\n",
    "\n",
    "if len(t)==1:\n",
    "    print(t)\n",
    "    #return t \n",
    "else:\n",
    "    tmp1 = s[:len(t)]\n",
    "    if Counter(t)==Counter(tmp1):\n",
    "        print(tmp1)\n",
    "        #return tmp1\n",
    "\n",
    "    else:\n",
    "        tmpd = defaultdict(int)\n",
    "        flag=True\n",
    "        while(end<len(s)):\n",
    "            if tmpd:\n",
    "                a=sorted(tmpd.items(), key = lambda x:x[1])\n",
    "                print('a : ',a)\n",
    "                if len(a)>=len(t):\n",
    "                    alp, start, end = a[0][0], a[1][1], a[-1][1]\n",
    "                    tmp1 = s[start:end+1]\n",
    "                    del tmpd[alp]\n",
    "\n",
    "                    for x in range(start,end+1):\n",
    "                        if s[x] in t and s[x] not in tmpd: \n",
    "                            tmpd[s[x]]=x\n",
    "\n",
    "\n",
    "                else:\n",
    "                    break\n",
    "\n",
    "\n",
    "            else:\n",
    "                start=len(t)\n",
    "                end = len(t)-1\n",
    "\n",
    "                for x in range(len(tmp1)):\n",
    "                    if tmp1[x] in t:\n",
    "                        tmpd[tmp1[x]]=x\n",
    "\n",
    "#             if end>len(s):\n",
    "#                     flag=False\n",
    "#                     break\n",
    "            for i in range(end+1,len(s)):\n",
    "                end+=1\n",
    "                tmp1+=s[i]\n",
    "\n",
    "                if s[i] in t and s[i] not in list(tmpd.keys()):\n",
    "                    tmpd[s[i]]=i\n",
    "\n",
    "                if sorted(list(tmpd.keys()))==t_lst:\n",
    "                    lst.append(tmp1)\n",
    "                    break\n",
    "\n",
    "\n",
    "\n",
    "    res = sorted(lst, key = lambda x:len(x))\n",
    "    if res:\n",
    "        #return res[0]\n",
    "        print(res[0])     "
   ]
  },
  {
   "cell_type": "code",
   "execution_count": 109,
   "metadata": {},
   "outputs": [
    {
     "data": {
      "text/plain": [
       "'ab'"
      ]
     },
     "execution_count": 109,
     "metadata": {},
     "output_type": "execute_result"
    }
   ],
   "source": [
    "class Solution(object):\n",
    "    from collections import Counter\n",
    "    from collections import defaultdict\n",
    "    def minWindow(self, s, t):\n",
    "        \n",
    "        t_lst = list(t)\n",
    "        lst = []\n",
    "        end = len(t)-1\n",
    "        if len(s)<len(t):\n",
    "            return ''\n",
    "        if len(t)==1:\n",
    "            for x in s:\n",
    "                if x==t:\n",
    "                    print(t)\n",
    "                    return t\n",
    "            return ''\n",
    "        else:\n",
    "            tmp1 = s[:len(t)]\n",
    "            if Counter(t)==Counter(tmp1):\n",
    "                print(tmp1)\n",
    "                return tmp1\n",
    "\n",
    "            else:\n",
    "                tmpd = defaultdict(int)\n",
    "                flag=True\n",
    "                while(end<len(s)):\n",
    "                    if tmpd:\n",
    "                        a=sorted(tmpd.items(), key = lambda x:x[1])\n",
    "                        #print('a : ',a)\n",
    "                        if len(a)==len(t):\n",
    "                            alp, start, end = a[0][0], a[1][1], a[-1][1]\n",
    "                            tmp1 = s[start:end+1]\n",
    "                            del tmpd[alp]\n",
    "\n",
    "                            for x in range(start,end+1):\n",
    "                                if s[x] in t and s[x] not in tmpd: \n",
    "                                    tmpd[s[x]]=x\n",
    "                        else:\n",
    "                            break\n",
    "\n",
    "                    else:\n",
    "                        start=len(t)\n",
    "                        end = len(t)-1\n",
    "\n",
    "                        for x in range(len(tmp1)):\n",
    "                            if tmp1[x] in t:\n",
    "                                tmpd[tmp1[x]]=x\n",
    "\n",
    "                    if end>len(s):\n",
    "                            flag=False\n",
    "                            break\n",
    "                    for i in range(end+1,len(s)):\n",
    "                        end+=1\n",
    "                        tmp1+=s[i]\n",
    "\n",
    "                        if s[i] in t and s[i] not in list(tmpd.keys()):\n",
    "                            tmpd[s[i]]=i\n",
    "\n",
    "                        if sorted(list(tmpd.keys()))==t_lst:\n",
    "                            lst.append(tmp1)\n",
    "                            break\n",
    "        \n",
    "        res = sorted(lst, key = lambda x:len(x))\n",
    "        if res:\n",
    "            print(res[0]) \n",
    "            return res[0]\n",
    "                \n",
    "                \n",
    "    "
   ]
  },
  {
   "cell_type": "code",
   "execution_count": 139,
   "metadata": {},
   "outputs": [
    {
     "name": "stdout",
     "output_type": "stream",
     "text": [
      "s :  ADOBECODEBANC  t :  ABC\n",
      "Counter({'A': 1, 'B': 1, 'C': 1})\n",
      "\n",
      "1 A need :  Counter({'B': 1, 'C': 1, 'A': 0})\n",
      "2 D need :  Counter({'B': 1, 'C': 1, 'A': 0, 'D': -1})\n",
      "3 O need :  Counter({'B': 1, 'C': 1, 'A': 0, 'D': -1, 'O': -1})\n",
      "4 B need :  Counter({'C': 1, 'A': 0, 'B': 0, 'D': -1, 'O': -1})\n",
      "5 E need :  Counter({'C': 1, 'A': 0, 'B': 0, 'D': -1, 'O': -1, 'E': -1})\n",
      "6 C need :  Counter({'A': 0, 'B': 0, 'C': 0, 'D': -1, 'O': -1, 'E': -1})\n",
      "need :  Counter({'A': 0, 'B': 0, 'C': 0, 'D': -1, 'O': -1, 'E': -1})\n",
      "0 0 0 6\n",
      "ADOBEC\n",
      "\n",
      "7 O need :  Counter({'A': 1, 'B': 0, 'C': 0, 'D': -1, 'E': -1, 'O': -2})\n",
      "8 D need :  Counter({'A': 1, 'B': 0, 'C': 0, 'E': -1, 'D': -2, 'O': -2})\n",
      "9 E need :  Counter({'A': 1, 'B': 0, 'C': 0, 'D': -2, 'O': -2, 'E': -2})\n",
      "10 B need :  Counter({'A': 1, 'C': 0, 'B': -1, 'D': -2, 'O': -2, 'E': -2})\n",
      "11 A need :  Counter({'A': 0, 'C': 0, 'B': -1, 'D': -2, 'O': -2, 'E': -2})\n",
      "need :  Counter({'A': 0, 'C': 0, 'B': -1, 'D': -2, 'O': -2, 'E': -2})\n",
      "0 6 1 11\n",
      "CODEBA\n",
      "\n",
      "12 N need :  Counter({'C': 1, 'A': 0, 'B': 0, 'D': -1, 'O': -1, 'E': -1, 'N': -1})\n",
      "13 C need :  Counter({'A': 0, 'B': 0, 'C': 0, 'D': -1, 'O': -1, 'E': -1, 'N': -1})\n",
      "need :  Counter({'A': 0, 'B': 0, 'C': 0, 'D': -1, 'O': -1, 'E': -1, 'N': -1})\n",
      "5 11 6 13\n",
      "BANC\n",
      "\n"
     ]
    }
   ],
   "source": [
    "\n",
    "from collections import Counter\n",
    "from collections import defaultdict\n",
    "\n",
    "s=\"ADOBECODEBANC\"\n",
    "t=\"ABC\"\n",
    "print('s : ',s, ' t : ',t)\n",
    "\n",
    "need = Counter(t)\n",
    "missing = len(t)\n",
    "left = start = end = 0\n",
    "print(need)\n",
    "print()\n",
    "for right, char in enumerate(s,1): # 문자열 s의 인덱스를 1부터 시작~, default : 0부터 시작\n",
    "    \n",
    "    missing -= need[char]>0     # missing ==0 조건이 right의 움직임을 좌우하는 제약조건\n",
    "    need[char] -=1\n",
    "    print(right,char,'need : ', need)\n",
    "    \n",
    "    if missing == 0:\n",
    "        print('need : ', need)\n",
    "        print(start, end,left,right)\n",
    "        while left<right and need[s[left]] < 0:  # left를 움직임 (t에 있는 문자 중 하나라도 만날 때까지)\n",
    "            need[s[left]] +=1\n",
    "            left +=1\n",
    "            \n",
    "        \n",
    "        \n",
    "        if not end or right - left <= end - start:  \n",
    "            start, end = left, right\n",
    "            need[s[left]]+=1\n",
    "            missing +=1\n",
    "            left+=1\n",
    "\n",
    "        print(s[start:end])\n",
    "        print()\n",
    "            \n",
    "        \n",
    "        \n",
    "                \n",
    "                \n",
    "        \n",
    "        "
   ]
  },
  {
   "cell_type": "code",
   "execution_count": 149,
   "metadata": {},
   "outputs": [
    {
     "name": "stdout",
     "output_type": "stream",
     "text": [
      "need :  Counter({'SAPPHIRE': 0, 'EMERALD': 0, 'RUBY': -1, 'DIA': -2})\n",
      "0 0 0 7\n",
      "[[5, 3, 7], [8, 0, 7]]\n"
     ]
    },
    {
     "data": {
      "text/plain": [
       "[3, 7]"
      ]
     },
     "execution_count": 149,
     "metadata": {},
     "output_type": "execute_result"
    }
   ],
   "source": [
    "from collections import Counter\n",
    "from collections import defaultdict\n",
    "def solution(gems):\n",
    "    answer = [[len(gems),0,len(gems)-1]]\n",
    "    standard = list(set(gems))\n",
    "    need = Counter(standard)\n",
    "    missing = len(standard)\n",
    "    left = start = end = 0\n",
    "    \n",
    "    \n",
    "    for right, char in enumerate(gems,1):\n",
    "        missing -= need[char]>0\n",
    "        need[char]-=1\n",
    "        \n",
    "        if missing==0:\n",
    "            print('need : ', need)\n",
    "            print(start, end,left,right)\n",
    "            while left<right and need[gems[left]] < 0:\n",
    "                need[gems[left]] += 1\n",
    "                left += 1\n",
    "                \n",
    "            if not end or right - left <= end - start:\n",
    "                start, end = left, right\n",
    "                need[gems[left]]+=1\n",
    "                missing += 1\n",
    "                left += 1\n",
    "                \n",
    "            answer.append([end-start,start+1,end])\n",
    "            \n",
    "    \n",
    "    if answer:\n",
    "        print(sorted(answer,key = lambda x:(x[0],x[1])))\n",
    "        res = sorted(answer,key = lambda x:(x[0],x[1]))\n",
    "        \n",
    "        #res = sorted(answer,key = lambda x:(x[0],x[1]))\n",
    "        return [res[0][1], res[0][2]] \n",
    "        \n",
    "        \n",
    "    \n",
    "            \n",
    "gems = [\"DIA\", \"RUBY\", \"RUBY\", \"DIA\", \"DIA\", \"EMERALD\", \"SAPPHIRE\", \"DIA\"]\n",
    "solution(gems)"
   ]
  },
  {
   "cell_type": "code",
   "execution_count": null,
   "metadata": {},
   "outputs": [],
   "source": []
  }
 ],
 "metadata": {
  "kernelspec": {
   "display_name": "Python 3",
   "language": "python",
   "name": "python3"
  },
  "language_info": {
   "codemirror_mode": {
    "name": "ipython",
    "version": 3
   },
   "file_extension": ".py",
   "mimetype": "text/x-python",
   "name": "python",
   "nbconvert_exporter": "python",
   "pygments_lexer": "ipython3",
   "version": "3.8.5"
  }
 },
 "nbformat": 4,
 "nbformat_minor": 4
}
