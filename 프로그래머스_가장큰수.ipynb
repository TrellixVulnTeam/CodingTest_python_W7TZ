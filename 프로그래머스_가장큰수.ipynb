{
 "cells": [
  {
   "cell_type": "code",
   "execution_count": 2,
   "metadata": {},
   "outputs": [
    {
     "name": "stdout",
     "output_type": "stream",
     "text": [
      "['9', '5', '34', '3', '30']\n"
     ]
    },
    {
     "data": {
      "text/plain": [
       "'9534330'"
      ]
     },
     "execution_count": 2,
     "metadata": {},
     "output_type": "execute_result"
    }
   ],
   "source": [
    "def solution(numbers):\n",
    "    numbers = list(map(str, numbers)) #입력값이 숫자형리스트이므로 문자열형 리스트로 바꿔줌\n",
    "    numbers.sort(key=lambda x: x*3, reverse=True) #문자열 정렬원리에 따라 정렬\n",
    "    print(numbers)\n",
    "    return str(int(''.join(numbers)))  #numbers=[0,0,0]일 경우, 문자열로 합쳤을 때, '000'이 아니라 '0'이므로 int형으로 바꾸었다가 str로 바꿔준다.\n",
    "\n",
    "numbers=[3, 30, 34, 5, 9]\n",
    "solution(numbers)"
   ]
  },
  {
   "cell_type": "code",
   "execution_count": 22,
   "metadata": {},
   "outputs": [
    {
     "data": {
      "text/plain": [
       "['333', '331', '3', '32', '31', '30']"
      ]
     },
     "execution_count": 22,
     "metadata": {},
     "output_type": "execute_result"
    }
   ],
   "source": [
    "a=[30,31,32,333,331,3]\n",
    "a=list(map(str,a))\n",
    "a.sort(key=lambda x: x*2, reverse=True)\n",
    "a"
   ]
  }
 ],
 "metadata": {
  "kernelspec": {
   "display_name": "Python 3",
   "language": "python",
   "name": "python3"
  },
  "language_info": {
   "codemirror_mode": {
    "name": "ipython",
    "version": 3
   },
   "file_extension": ".py",
   "mimetype": "text/x-python",
   "name": "python",
   "nbconvert_exporter": "python",
   "pygments_lexer": "ipython3",
   "version": "3.8.5"
  }
 },
 "nbformat": 4,
 "nbformat_minor": 4
}
