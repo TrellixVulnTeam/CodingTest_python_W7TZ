{
 "cells": [
  {
   "cell_type": "code",
   "execution_count": 46,
   "metadata": {},
   "outputs": [
    {
     "name": "stdout",
     "output_type": "stream",
     "text": [
      "7 7\n",
      "1011111\n",
      "1110001\n",
      "1000001\n",
      "1000001\n",
      "1000001\n",
      "1000001\n",
      "1111111\n"
     ]
    }
   ],
   "source": [
    "N, M=input().split()\n",
    "\n",
    "miro=[]\n",
    "N=int(N)\n",
    "M=int(M)\n",
    "miro=[list(map(int,input())) for _ in range(N)]     # int형으로 2차원배열 입력받기\n",
    "\n",
    "direction=[(0,1),(1,0),(0,-1),(-1,0)]  # 동, 남, 서, 북            "
   ]
  },
  {
   "cell_type": "code",
   "execution_count": 57,
   "metadata": {},
   "outputs": [],
   "source": [
    "def bfs(miro,N,M):\n",
    "    \n",
    "    que=[(0,0)]\n",
    "    visit=[[1 for col in range(M)] for row in range(N)]\n",
    "    \n",
    "    while(len(que)):\n",
    "        print(que)\n",
    "        kan=que.pop(0)\n",
    "        #print(kan)\n",
    "        x=kan[0]\n",
    "        y=kan[1]\n",
    "        \n",
    "        for d in direction:\n",
    "            x_d=x+d[0]\n",
    "            y_d=y+d[1]\n",
    "            \n",
    "            if (x_d>=0) & (x_d<N) & (y_d>=0) & (y_d<M):\n",
    "                if (miro[x_d][y_d]==1) & (visit[x_d][y_d]==1):\n",
    "                    visit[x_d][y_d]+=visit[x][y]\n",
    "                    que.append((x_d,y_d))\n",
    "               \n",
    "    \n",
    "    return visit[N-1][M-1]\n",
    "                    "
   ]
  },
  {
   "cell_type": "code",
   "execution_count": 58,
   "metadata": {},
   "outputs": [
    {
     "name": "stdout",
     "output_type": "stream",
     "text": [
      "[(0, 0)]\n",
      "[(1, 0)]\n",
      "[(1, 1), (2, 0), (0, 0)]\n",
      "[(2, 0), (0, 0), (1, 2)]\n",
      "[(0, 0), (1, 2), (3, 0)]\n",
      "[(1, 2), (3, 0)]\n",
      "[(3, 0), (0, 2)]\n",
      "[(0, 2), (4, 0)]\n",
      "[(4, 0), (0, 3)]\n",
      "[(0, 3), (5, 0)]\n",
      "[(5, 0), (0, 4)]\n",
      "[(0, 4), (6, 0)]\n",
      "[(6, 0), (0, 5)]\n",
      "[(0, 5), (6, 1)]\n",
      "[(6, 1), (0, 6)]\n",
      "[(0, 6), (6, 2)]\n",
      "[(6, 2), (1, 6)]\n",
      "[(1, 6), (6, 3)]\n",
      "[(6, 3), (2, 6)]\n",
      "[(2, 6), (6, 4)]\n",
      "[(6, 4), (3, 6)]\n",
      "[(3, 6), (6, 5)]\n",
      "[(6, 5), (4, 6)]\n",
      "[(4, 6), (6, 6)]\n",
      "[(6, 6), (5, 6)]\n",
      "[(5, 6)]\n"
     ]
    }
   ],
   "source": [
    "ans=bfs(miro,N,M)"
   ]
  },
  {
   "cell_type": "code",
   "execution_count": 59,
   "metadata": {},
   "outputs": [
    {
     "data": {
      "text/plain": [
       "13"
      ]
     },
     "execution_count": 59,
     "metadata": {},
     "output_type": "execute_result"
    }
   ],
   "source": [
    "ans"
   ]
  },
  {
   "cell_type": "code",
   "execution_count": 61,
   "metadata": {},
   "outputs": [
    {
     "name": "stdout",
     "output_type": "stream",
     "text": [
      "7 7\n",
      "1011111\n",
      "1110001\n",
      "1000001\n",
      "1000001\n",
      "1000001\n",
      "1000001\n",
      "1111111\n",
      "[(0, 0)]\n",
      "[(1, 0)]\n",
      "[(1, 1), (2, 0), (0, 0)]\n",
      "[(2, 0), (0, 0), (1, 2)]\n",
      "[(0, 0), (1, 2), (3, 0)]\n",
      "[(1, 2), (3, 0)]\n",
      "[(3, 0), (0, 2)]\n",
      "[(0, 2), (4, 0)]\n",
      "[(4, 0), (0, 3)]\n",
      "[(0, 3), (5, 0)]\n",
      "[(5, 0), (0, 4)]\n",
      "[(0, 4), (6, 0)]\n",
      "[(6, 0), (0, 5)]\n",
      "[(0, 5), (6, 1)]\n",
      "[(6, 1), (0, 6)]\n",
      "[(0, 6), (6, 2)]\n",
      "[(6, 2), (1, 6)]\n",
      "[(1, 6), (6, 3)]\n",
      "[(6, 3), (2, 6)]\n",
      "[(2, 6), (6, 4)]\n",
      "[(6, 4), (3, 6)]\n",
      "[(3, 6), (6, 5)]\n",
      "[(6, 5), (4, 6)]\n",
      "[(4, 6), (6, 6)]\n",
      "[(6, 6), (5, 6)]\n",
      "[(5, 6)]\n",
      "13\n"
     ]
    }
   ],
   "source": [
    "def bfs(miro,N,M):\n",
    "    \n",
    "    que=[(0,0)]\n",
    "    visit=[[1 for col in range(M)] for row in range(N)]\n",
    "    direction=[(0,1),(1,0),(0,-1),(-1,0)]  # 동, 남, 서, 북   \n",
    "    \n",
    "    while(len(que)):\n",
    "        print(que)\n",
    "        kan=que.pop(0)\n",
    "        #print(kan)\n",
    "        x=kan[0]\n",
    "        y=kan[1]\n",
    "        \n",
    "        for d in direction:\n",
    "            x_d=x+d[0]\n",
    "            y_d=y+d[1]\n",
    "            \n",
    "            if (x_d>=0) & (x_d<N) & (y_d>=0) & (y_d<M):\n",
    "                if (miro[x_d][y_d]==1) & (visit[x_d][y_d]==1):\n",
    "                    visit[x_d][y_d]+=visit[x][y]\n",
    "                    que.append((x_d,y_d))\n",
    "               \n",
    "    \n",
    "    return visit[N-1][M-1]\n",
    "                    \n",
    "N, M=input().split()\n",
    "\n",
    "miro=[]\n",
    "N=int(N)\n",
    "M=int(M)\n",
    "miro=[list(map(int,input())) for _ in range(N)]     # int형으로 2차원배열 입력받기\n",
    "print(bfs(miro,N,M))"
   ]
  }
 ],
 "metadata": {
  "kernelspec": {
   "display_name": "Python 3",
   "language": "python",
   "name": "python3"
  },
  "language_info": {
   "codemirror_mode": {
    "name": "ipython",
    "version": 3
   },
   "file_extension": ".py",
   "mimetype": "text/x-python",
   "name": "python",
   "nbconvert_exporter": "python",
   "pygments_lexer": "ipython3",
   "version": "3.8.5"
  }
 },
 "nbformat": 4,
 "nbformat_minor": 4
}
