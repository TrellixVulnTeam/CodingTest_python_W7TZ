{
 "cells": [
  {
   "cell_type": "code",
   "execution_count": 8,
   "metadata": {},
   "outputs": [
    {
     "name": "stdout",
     "output_type": "stream",
     "text": [
      "1 4 5 2\n",
      "2 4 5 6\n",
      "3 4 5 7\n",
      "4 4 5 9\n"
     ]
    }
   ],
   "source": [
    "class Solution:\n",
    "    def trap(self, height: List[int]) -> int:\n",
    "        \n",
    "        answer=0\n",
    "        for i in range(1,len(height)-1):\n",
    "            left_max=max(height[:i])\n",
    "            right_max=max(height[i+1:])\n",
    "            if left_max==0 or right_max==0 or left_max<height[i] or right_max<height[i]:\n",
    "                continue\n",
    "            answer+=min(left_max,right_max)-height[i]\n",
    "                \n",
    "                \n",
    "        return answer"
   ]
  },
  {
   "cell_type": "code",
   "execution_count": 10,
   "metadata": {},
   "outputs": [
    {
     "name": "stdout",
     "output_type": "stream",
     "text": [
      "1 11 0 1 0\n",
      "2 11 1 1 0\n",
      "3 11 1 1 1\n",
      "3 10 2 1 1\n",
      "4 10 2 2 1\n",
      "5 10 2 2 2\n",
      "6 10 2 2 4\n",
      "7 10 2 2 5\n",
      "7 9 3 2 5\n",
      "7 8 3 2 6\n",
      "7 7 3 2 6\n"
     ]
    }
   ],
   "source": [
    "height = [0,1,0,2,1,0,1,3,2,1,2,1]\n",
    "volume=0\n",
    "left, right=0,len(height)-1\n",
    "left_max, right_max=height[left], height[right]\n",
    "\n",
    "while left<right:\n",
    "    left_max=max(left_max,height[left])\n",
    "    right_max=max(right_max, height[right])\n",
    "    \n",
    "    if left_max<=right_max:\n",
    "        volume+=left_max-height[left]\n",
    "        left+=1\n",
    "        \n",
    "    else:\n",
    "        volume+=right_max-height[right]\n",
    "        right-=1\n",
    "        \n",
    "    print(left, right, left_max, right_max,volume)\n",
    "        "
   ]
  }
 ],
 "metadata": {
  "kernelspec": {
   "display_name": "Python 3",
   "language": "python",
   "name": "python3"
  },
  "language_info": {
   "codemirror_mode": {
    "name": "ipython",
    "version": 3
   },
   "file_extension": ".py",
   "mimetype": "text/x-python",
   "name": "python",
   "nbconvert_exporter": "python",
   "pygments_lexer": "ipython3",
   "version": "3.8.5"
  }
 },
 "nbformat": 4,
 "nbformat_minor": 4
}
