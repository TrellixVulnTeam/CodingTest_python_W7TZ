{
 "cells": [
  {
   "cell_type": "code",
   "execution_count": 13,
   "metadata": {},
   "outputs": [
    {
     "name": "stdout",
     "output_type": "stream",
     "text": [
      "1\n",
      "0\n"
     ]
    }
   ],
   "source": [
    "\n",
    "N=int(input())\n",
    "\n",
    "# b=int(N)\n",
    "# lst=[int(x) for x in list(N)]+[b]\n",
    "# lst\n",
    "\n",
    "ans=[]\n",
    "for i in range(1,1000001):\n",
    "    comp=[int(x) for x in list(str(i))]\n",
    "    if N==i+sum(comp):\n",
    "        print(i)\n",
    "        break\n",
    "else:\n",
    "    print(0)\n",
    "\n"
   ]
  }
 ],
 "metadata": {
  "kernelspec": {
   "display_name": "Python 3",
   "language": "python",
   "name": "python3"
  },
  "language_info": {
   "codemirror_mode": {
    "name": "ipython",
    "version": 3
   },
   "file_extension": ".py",
   "mimetype": "text/x-python",
   "name": "python",
   "nbconvert_exporter": "python",
   "pygments_lexer": "ipython3",
   "version": "3.8.5"
  }
 },
 "nbformat": 4,
 "nbformat_minor": 4
}
