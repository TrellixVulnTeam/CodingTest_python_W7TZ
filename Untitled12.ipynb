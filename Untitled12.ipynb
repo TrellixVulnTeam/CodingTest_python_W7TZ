{
 "cells": [
  {
   "cell_type": "code",
   "execution_count": 62,
   "metadata": {},
   "outputs": [
    {
     "name": "stdout",
     "output_type": "stream",
     "text": [
      "1 [[0, 0, 1], [0, 1, 4], [0, 2, 8], [0, 3, 10], [1, 0, 5], [1, 1, 5], [1, 2, 5], [1, 3, 5]]\n",
      "2 [[2, 0, 10], [2, 1, 10], [2, 2, 10], [2, 3, 10], [3, 0, 10], [3, 1, 10], [3, 2, 10]]\n",
      "3 [[3, 3, 20]]\n",
      "1 1 2 1\n",
      "1 2 2 2\n",
      "1 0 2 0\n",
      "1 3 2 3\n",
      "5\n",
      "2 0 1 0\n",
      "2 1 1 1\n",
      "2 2 1 2\n",
      "3 2 3 3\n",
      "2 3 3 3\n",
      "2 3 1 3\n",
      "5\n",
      "3 3 2 3\n",
      "3 3 3 2\n",
      "10\n",
      "20\n"
     ]
    }
   ],
   "source": [
    "from collections import defaultdict\n",
    "import sys\n",
    "def solution(land, height):\n",
    "    answer = 0\n",
    "    direc = [(1,0),(-1,0),(0,1),(0,-1)]\n",
    "    visit = [[0]*len(land[0]) for _ in range(len(land))]\n",
    "    d = defaultdict(list)\n",
    "    cnt=0\n",
    "    \n",
    "    def bfs(a,b,c):\n",
    "        \n",
    "        q= [(a,b)]\n",
    "        \n",
    "        while(q):\n",
    "            \n",
    "            x,y = q.pop(0)\n",
    "                \n",
    "            for dc in direc:\n",
    "                nx = x + dc[0]\n",
    "                ny = y + dc[1]\n",
    "                if nx>=0 and nx<len(land) and ny>=0 and ny<len(land[0]) and visit[nx][ny]==0 and abs(land[x][y]-land[nx][ny])<=height:\n",
    "                    #print(x,y,' | ',nx,ny)\n",
    "                    visit[nx][ny]=1\n",
    "                    d[c] += [[nx,ny,land[nx][ny]]]\n",
    "                    q.append((nx,ny))\n",
    "        #print()\n",
    "        \n",
    "    for i in range(len(land)):\n",
    "        for j in range(len(land[0])):\n",
    "            if visit[i][j]==0:\n",
    "                visit[i][j]=1\n",
    "                cnt+=1\n",
    "                d[cnt] = [[i,j,land[i][j]]]\n",
    "                bfs(i,j,cnt)\n",
    "                \n",
    "    for k in d.keys():\n",
    "        print(k,sorted(d[k],key = lambda x: (x[0],x[1])))\n",
    "    \n",
    "    for k in d.keys():\n",
    "        sub = sys.maxsize \n",
    "        for v in d[k]:\n",
    "            x,y,z = v\n",
    "            for dic in direc:\n",
    "                if x+dic[0]>=0 and x+dic[0]<len(land) and y+dic[1]>=0 and y+dic[1]<len(land[0]) and [x+dic[0],y+dic[1],land[x+dic[0]][y+dic[1]]] not in d[k] :\n",
    "                    print(x,y,x+dic[0],y+dic[1])\n",
    "                    sub = min(sub,abs(z-land[x+dic[0]][y+dic[1]]))\n",
    "        print(sub)\n",
    "        answer+=sub\n",
    "    print(answer)\n",
    "    #print(sorted(d.items(),key =lambda x: (x[1][0],x[1][1])))\n",
    "#    print(sorted(d.items(),key = lambda x:(x[1][0],x[1][1])))\n",
    "\n",
    "land = [[1, 4, 8, 10], [5, 5, 5, 5], [10, 10, 10, 10], [10, 10, 10, 20]]\n",
    "height= 3\n",
    "solution(land,height)"
   ]
  },
  {
   "cell_type": "code",
   "execution_count": 10,
   "metadata": {},
   "outputs": [
    {
     "data": {
      "text/plain": [
       "defaultdict(list, {0: [[0, 0], [1, 1]]})"
      ]
     },
     "execution_count": 10,
     "metadata": {},
     "output_type": "execute_result"
    }
   ],
   "source": [
    "d=defaultdict(list)\n",
    "d[0]+=[[0,0]]\n",
    "d[0]+=[[1,1]]\n",
    "d"
   ]
  }
 ],
 "metadata": {
  "kernelspec": {
   "display_name": "Python 3",
   "language": "python",
   "name": "python3"
  },
  "language_info": {
   "codemirror_mode": {
    "name": "ipython",
    "version": 3
   },
   "file_extension": ".py",
   "mimetype": "text/x-python",
   "name": "python",
   "nbconvert_exporter": "python",
   "pygments_lexer": "ipython3",
   "version": "3.7.9"
  }
 },
 "nbformat": 4,
 "nbformat_minor": 4
}
