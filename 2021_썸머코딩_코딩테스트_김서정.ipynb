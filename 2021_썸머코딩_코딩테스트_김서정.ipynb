{
 "cells": [
  {
   "cell_type": "code",
   "execution_count": 1,
   "metadata": {},
   "outputs": [
    {
     "name": "stdout",
     "output_type": "stream",
     "text": [
      "0\n"
     ]
    }
   ],
   "source": [
    "d={}\n",
    "print(len(d))"
   ]
  },
  {
   "cell_type": "code",
   "execution_count": 34,
   "metadata": {},
   "outputs": [
    {
     "name": "stdout",
     "output_type": "stream",
     "text": [
      "[[1, 28, 41, 22, 25, 79, 4], [39, 20, 10, 17, 19, 18, 8], [21, 4, 13, 12, 9, 29, 19], [58, 1, 20, 5, 8, 16, 9], [5, 6, 15, 2, 39, 8, 29], [39, 7, 17, 5, 4, 49, 5], [74, 46, 8, 11, 25, 2, 11]]\n",
      "3\n",
      "13\n",
      "13\n",
      "13\n"
     ]
    },
    {
     "data": {
      "text/plain": [
       "21"
      ]
     },
     "execution_count": 34,
     "metadata": {},
     "output_type": "execute_result"
    }
   ],
   "source": [
    "def solution(maps, p, r):\n",
    "    answer = 0\n",
    "            \n",
    "    def check(a,b,ran):\n",
    "        ans = 0\n",
    "        \n",
    "        left = b\n",
    "        right = b+1\n",
    "        \n",
    "        for i in range(a-(r-1),a+1):  # 위 왼 \n",
    "            first_cnt = 0\n",
    "            for j in range(left,b+1):\n",
    "                if i>=0 and i<len(maps) and j>=0 and j<len(maps[0]):\n",
    "                    if first_cnt==0:\n",
    "                        if maps[i][j]<=(p/2):\n",
    "                            ans+=1\n",
    "\n",
    "                    else:\n",
    "                        if maps[i][j]<=p:\n",
    "                            ans+=1\n",
    "                            \n",
    "            left-=1\n",
    "        if a==3 and b==2:\n",
    "            print(ans)\n",
    "            \n",
    "            \n",
    "        for i in range(a-(r-1),a+1):  # 위 오른\n",
    "            first_cnt=right-1\n",
    "            for j in range(b,right):\n",
    "                if i>=0 and i<len(maps) and j>=0 and j<len(maps[0]):\n",
    "                    if first_cnt==right-1:\n",
    "                        if maps[i][j]<=(p/2):\n",
    "                            ans+=1\n",
    "                    else:\n",
    "                        if maps[i][j]<=p:\n",
    "                            ans+=1\n",
    "                        \n",
    "                first_cnt=0\n",
    "            right+=1\n",
    "            \n",
    "        if a==3 and b==2:\n",
    "            print(ans)\n",
    "            \n",
    "        left2 = b\n",
    "        right2 = b+1\n",
    "        \n",
    "        for i in range(i+1,i+r+1):    # 아래 왼\n",
    "            first_cnt2 = 0\n",
    "            for j in (left2-(r-1),b+1):\n",
    "                if i>=0 and i<len(maps) and j>=0 and j<len(maps[0]):\n",
    "                    if first_cnt2==0:\n",
    "                        if maps[i][j]<=(p/2):\n",
    "                            ans+=1\n",
    "\n",
    "                        else:\n",
    "                            if maps[i][j]<=p:\n",
    "                                ans+=1\n",
    "                first_cnt2+=1\n",
    "            left2+=1\n",
    "        if a==3 and b==2:\n",
    "            print(ans)\n",
    "            \n",
    "            \n",
    "        for i in range(i+1,i+r+1):    # 아래 오른\n",
    "            first_cnt2=right2+r-1\n",
    "            for j in (b+1,right2+r):\n",
    "                if i>=0 and i<len(maps) and j>=0 and j<len(maps[0]):\n",
    "                    if first_cnt2==right2+r-1:\n",
    "                        if maps[i][j]<=(p/2):\n",
    "                            ans+=1\n",
    "\n",
    "                        else:\n",
    "                            if maps[i][j]<=p:\n",
    "                                ans+=1\n",
    "                first_cnt2=0\n",
    "            right2-=1\n",
    "            \n",
    "        if a==3 and b==2:\n",
    "            print(ans)\n",
    "        return ans\n",
    "             \n",
    "    \n",
    "    for i in range(len(maps)-1):\n",
    "        for j in range(len(maps[0])-1):\n",
    "            \n",
    "            # 위 : (i-(r-1), j) ~ (i-(r-1),j+1)\n",
    "             # 세로(행) : i-(r-1) ~ i+(r)\n",
    "                \n",
    "            answer = max(answer,check(i,j,r))\n",
    "    \n",
    "    return answer\n",
    "\n",
    "\n",
    "maps = [[1, 28, 41, 22, 25, 79, 4], [39, 20, 10, 17, 19, 18, 8], [21, 4, 13, 12, 9, 29, 19], [58, 1, 20, 5, 8, 16, 9], [5, 6, 15, 2, 39, 8, 29],[39, 7, 17, 5, 4, 49, 5], [74, 46, 8, 11, 25, 2, 11]]\n",
    "p=19\n",
    "r=6\n",
    "result = 17\n",
    "print(maps)\n",
    "solution(maps, p, r)"
   ]
  },
  {
   "cell_type": "code",
   "execution_count": null,
   "metadata": {},
   "outputs": [],
   "source": [
    "#1 \n",
    "\n",
    "def solution(code, day, data):\n",
    "    answer = []\n",
    "    \n",
    "    for i in data:\n",
    "        p,c,t = i.split()\n",
    "        p_val = p[6:]\n",
    "        c_val = c[5:]\n",
    "        t_val = t[5:-2]\n",
    "        hour = t[5:]\n",
    "        \n",
    "        #print(p_val,c_val,t_val)\n",
    "        if code == c_val and day == t_val:\n",
    "            answer.append((hour,p_val))\n",
    "        \n",
    "    \n",
    "    res = [int(b) for a,b in sorted(answer,key = lambda x: x[0])]\n",
    "    return res"
   ]
  },
  {
   "cell_type": "code",
   "execution_count": null,
   "metadata": {},
   "outputs": [],
   "source": [
    "#2 \n",
    "\n",
    "def solution(t, r):\n",
    "    answer = []\n",
    "    if len(t)==1:\n",
    "        return [0]\n",
    "    guest = {i:(t[i],j) for i,j in zip(range(len(t)),r)}\n",
    "    \n",
    "    time = -1\n",
    "    while(1):\n",
    "        time+=1\n",
    "        sub = [(k,v[0],v[1]) for k,v in guest.items() if v[0]<=time]\n",
    "        if sub:\n",
    "            sub.sort(key = lambda x:(x[2],x[1],x[0]))\n",
    "            lift = sub.pop(0)\n",
    "            answer.append(lift[0])\n",
    "            del guest[lift[0]]\n",
    "        \n",
    "        if len(answer)==len(r):\n",
    "            break\n",
    "    \n",
    "    return answer\n",
    "\n"
   ]
  }
 ],
 "metadata": {
  "kernelspec": {
   "display_name": "Python 3",
   "language": "python",
   "name": "python3"
  },
  "language_info": {
   "codemirror_mode": {
    "name": "ipython",
    "version": 3
   },
   "file_extension": ".py",
   "mimetype": "text/x-python",
   "name": "python",
   "nbconvert_exporter": "python",
   "pygments_lexer": "ipython3",
   "version": "3.7.9"
  }
 },
 "nbformat": 4,
 "nbformat_minor": 4
}
