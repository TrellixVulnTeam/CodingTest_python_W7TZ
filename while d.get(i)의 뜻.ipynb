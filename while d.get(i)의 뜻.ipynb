{
 "cells": [
  {
   "cell_type": "code",
   "execution_count": 53,
   "metadata": {},
   "outputs": [
    {
     "data": {
      "text/plain": [
       "defaultdict(list,\n",
       "            {'ICN': ['ATL', 'SFO'], 'SFO': ['ATL'], 'ATL': ['ICN', 'SFO']})"
      ]
     },
     "execution_count": 53,
     "metadata": {},
     "output_type": "execute_result"
    }
   ],
   "source": [
    "tickets=[['ICN', 'JFK'], ['HND', 'IAD'], ['JFK', 'HND']]\n",
    "tickets=[['ICN', 'SFO'], ['ICN', 'ATL'], ['SFO', 'ATL'], ['ATL', 'ICN'], ['ATL','SFO']]\n",
    "\n",
    "from collections import defaultdict\n",
    "d=defaultdict(list)\n",
    "for i in tickets:\n",
    "    d[i[0]]+=[i[1]]\n",
    "    d[i[0]].sort()\n",
    "d"
   ]
  },
  {
   "cell_type": "code",
   "execution_count": 55,
   "metadata": {},
   "outputs": [
    {
     "name": "stdout",
     "output_type": "stream",
     "text": [
      "ICN\n",
      "ATL\n",
      "ICN\n",
      "SFO\n",
      "ATL\n",
      "SFO\n"
     ]
    }
   ],
   "source": [
    "ans=[]\n",
    "def dp(city):\n",
    "    print(city)\n",
    "#     while d.get(city):\n",
    "        \n",
    "#     ans.append(city)\n",
    "    ans.append(city)\n",
    "    if d.get(city) is not None:\n",
    "        if d[city]!=[]:\n",
    "            dp(d[city].pop(0))\n",
    "#     if d.get(city) is not None and not d[city]:\n",
    "#         a=d[city].pop(0)\n",
    "#         print(a)\n",
    "#         return dp(a)\n",
    "    \n",
    "    \n",
    "dp('ICN')\n"
   ]
  },
  {
   "cell_type": "code",
   "execution_count": 56,
   "metadata": {},
   "outputs": [
    {
     "data": {
      "text/plain": [
       "['ICN', 'ATL', 'ICN', 'SFO', 'ATL', 'SFO']"
      ]
     },
     "execution_count": 56,
     "metadata": {},
     "output_type": "execute_result"
    }
   ],
   "source": [
    "ans"
   ]
  },
  {
   "cell_type": "code",
   "execution_count": 52,
   "metadata": {},
   "outputs": [
    {
     "data": {
      "text/plain": [
       "['SFO', 'ATL', 'SFO', 'ICN', 'ATL', 'ICN']"
      ]
     },
     "execution_count": 52,
     "metadata": {},
     "output_type": "execute_result"
    }
   ],
   "source": [
    "ans[::-1]"
   ]
  },
  {
   "cell_type": "code",
   "execution_count": null,
   "metadata": {},
   "outputs": [],
   "source": [
    "def solution(tickets):\n",
    "    answer = []\n",
    "    \n",
    "    routes={}\n",
    "    \n",
    "    for i in tickets:\n",
    "        if i[0] not in routes:\n",
    "            routes[i[0]]=[i[1]]\n",
    "        else:\n",
    "            routes[i[0]].append(i[1])\n",
    "            \n",
    "    for i,v in routes.items():\n",
    "        v.sort(reverse=True)\n",
    "    \n",
    "    stack=['ICN']\n",
    "    path=[]\n",
    "    while(stack):\n",
    "        top=stack[-1]\n",
    "        if (top not in routes) or (len(routes[top])==0):\n",
    "            path.append(stack.pop())\n",
    "        else:\n",
    "            stack.append(routes[top][-1])\n",
    "            routes[top]=routes[top][:-1]\n",
    "            \n",
    "    path=path[::-1]\n",
    "            \n",
    "    \n",
    "    return path"
   ]
  },
  {
   "cell_type": "code",
   "execution_count": 59,
   "metadata": {},
   "outputs": [
    {
     "data": {
      "text/plain": [
       "['ICN', 'ATL', 'ICN', 'SFO', 'ATL', 'SFO']"
      ]
     },
     "execution_count": 59,
     "metadata": {},
     "output_type": "execute_result"
    }
   ],
   "source": [
    "from collections import defaultdict\n",
    "def solution(tickets):\n",
    "    answer = []\n",
    "    d=defaultdict(list)\n",
    "    for i in tickets:\n",
    "        d[i[0]]+=[i[1]]\n",
    "        d[i[0]].sort()\n",
    "    \n",
    "    ans=[]\n",
    "    \n",
    "    def dp(city):\n",
    "        while d.get(city):\n",
    "            dp(d[city].pop(0))\n",
    "        ans.append(city)\n",
    "    dp('ICN')\n",
    "    return ans[::-1]\n",
    "\n",
    "\n",
    "        # ans.append(city)\n",
    "        # if d.get(city) is not None:\n",
    "        #     if d[city]!=[]:\n",
    "        #         return dp(d[city].pop(0))\n",
    "     "
   ]
  },
  {
   "cell_type": "code",
   "execution_count": null,
   "metadata": {},
   "outputs": [],
   "source": [
    "from collections import defaultdict\n",
    "def solution(tickets):\n",
    "    answer = []\n",
    "    d=defaultdict(list)\n",
    "    for i in tickets:\n",
    "        d[i[0]]+=[i[1]]\n",
    "        d[i[0]].sort()\n",
    "    \n",
    "    ans=[]\n",
    "    \n",
    "    def dp(city):\n",
    "        if d.get(city) is not None:\n",
    "            for i in d[city]:\n",
    "                dp(d[i])\n",
    "        ans.append(city)\n",
    "#         if d.get[city] is not None:\n",
    "#             d[city].pop(0)\n",
    "#         while d.get(city):\n",
    "#             dp(d[city].pop(0))\n",
    "#         ans.append(city)\n",
    "        \n",
    "        # ans.append(city)\n",
    "        # if d.get(city) is not None:\n",
    "        #     if d[city]!=[]:\n",
    "        #         return dp(d[city].pop(0))\n",
    "    dp('ICN')\n",
    "    return ans[::-1]\n",
    "    \n",
    "solution(tickets)"
   ]
  },
  {
   "cell_type": "code",
   "execution_count": 93,
   "metadata": {},
   "outputs": [
    {
     "data": {
      "text/plain": [
       "defaultdict(list,\n",
       "            {'ICN': ['ATL', 'SFO'], 'SFO': ['ATL'], 'ATL': ['ICN', 'SFO']})"
      ]
     },
     "execution_count": 93,
     "metadata": {},
     "output_type": "execute_result"
    }
   ],
   "source": [
    "d=defaultdict(list)\n",
    "for i in tickets:\n",
    "    d[i[0]]+=[i[1]]\n",
    "    d[i[0]].sort()\n",
    "d"
   ]
  },
  {
   "cell_type": "markdown",
   "metadata": {},
   "source": [
    "##  요건 안돼\n",
    "answer=[]\n",
    "def dp(city):\n",
    "    if d.get(city) is not None and d[city]:\n",
    "        print(city,d[city])\n",
    "        dp(d[city].pop(0))\n",
    "        \n",
    "    answer.append(city)\n",
    "dp('ICN')"
   ]
  },
  {
   "cell_type": "code",
   "execution_count": 95,
   "metadata": {},
   "outputs": [
    {
     "data": {
      "text/plain": [
       "['SFO', 'ATL', 'SFO', 'ICN', 'ATL', 'ICN']"
      ]
     },
     "execution_count": 95,
     "metadata": {},
     "output_type": "execute_result"
    }
   ],
   "source": [
    "answer"
   ]
  },
  {
   "cell_type": "code",
   "execution_count": 91,
   "metadata": {},
   "outputs": [],
   "source": [
    "c=[]\n",
    "while c:\n",
    "    print(1)\n",
    "    break"
   ]
  },
  {
   "cell_type": "code",
   "execution_count": 98,
   "metadata": {},
   "outputs": [
    {
     "name": "stdout",
     "output_type": "stream",
     "text": [
      "3\n",
      "5\n"
     ]
    }
   ],
   "source": [
    "c=[1,2,3]\n",
    "k={1:[2],2:[3,5]}\n",
    "num=2\n",
    "while k.get(num):  # while k.get(num) : 사전 k가 num이라는 키를 가지고 있고, 그 키에 해당하는 값들을 반복시킨다는 뜻\n",
    "    a=k[num].pop(0)\n",
    "    print(a)"
   ]
  }
 ],
 "metadata": {
  "kernelspec": {
   "display_name": "Python 3",
   "language": "python",
   "name": "python3"
  },
  "language_info": {
   "codemirror_mode": {
    "name": "ipython",
    "version": 3
   },
   "file_extension": ".py",
   "mimetype": "text/x-python",
   "name": "python",
   "nbconvert_exporter": "python",
   "pygments_lexer": "ipython3",
   "version": "3.8.5"
  }
 },
 "nbformat": 4,
 "nbformat_minor": 4
}
