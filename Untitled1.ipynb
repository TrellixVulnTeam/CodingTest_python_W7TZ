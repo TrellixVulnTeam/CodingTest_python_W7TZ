{
 "cells": [
  {
   "cell_type": "code",
   "execution_count": 11,
   "metadata": {},
   "outputs": [
    {
     "name": "stdout",
     "output_type": "stream",
     "text": [
      "None\n"
     ]
    }
   ],
   "source": [
    "from collections import defaultdict\n",
    "\n",
    "d=defaultdict(list)\n",
    "d[1]=[1,2,3,4]\n",
    "d[2]=[5,6]\n",
    "d[3]=[]\n",
    "print(d.get(4))"
   ]
  },
  {
   "cell_type": "code",
   "execution_count": 140,
   "metadata": {},
   "outputs": [
    {
     "data": {
      "text/plain": [
       "defaultdict(list,\n",
       "            {3: [6, 4, 2, 1],\n",
       "             6: [3],\n",
       "             4: [3, 2],\n",
       "             2: [3, 1, 4, 5],\n",
       "             1: [3, 2],\n",
       "             5: [2]})"
      ]
     },
     "execution_count": 140,
     "metadata": {},
     "output_type": "execute_result"
    }
   ],
   "source": [
    "from collections import defaultdict\n",
    "from collections import deque\n",
    "n=6\n",
    "vertex=[[3, 6], [4, 3], [3, 2], [1, 3], [1, 2], [2, 4], [5, 2]]\n",
    "#vertex=[[1,2],[3,1]]\n",
    "answer = 0\n",
    "d=defaultdict(list)\n",
    "memo=set()\n",
    "ans=defaultdict(int)\n",
    "\n",
    "for i in vertex:\n",
    "    d[i[0]]+=[i[1]] \n",
    "    d[i[1]]+=[i[0]]\n",
    "d\n"
   ]
  },
  {
   "cell_type": "code",
   "execution_count": 141,
   "metadata": {},
   "outputs": [],
   "source": [
    "# def dfs(num,cnt):\n",
    "#     print(num,cnt)\n",
    "#     if num in memo:\n",
    "#         return\n",
    "#     memo.append(num)\n",
    "#     ans[cnt]+=1\n",
    "#     cnt+=1\n",
    "#     for j in d[num]:\n",
    "#         if j in memo:\n",
    "#             continue\n",
    "#         dfs(j,cnt)\n",
    "    \n",
    "# dfs(1,1)"
   ]
  },
  {
   "cell_type": "code",
   "execution_count": 142,
   "metadata": {},
   "outputs": [],
   "source": [
    "q=deque([(1,1)])\n",
    "# q.popleft()"
   ]
  },
  {
   "cell_type": "code",
   "execution_count": 143,
   "metadata": {},
   "outputs": [
    {
     "name": "stdout",
     "output_type": "stream",
     "text": [
      "1 1\n",
      "3 2\n",
      "2 2\n",
      "6 3\n",
      "4 3\n",
      "2 3\n",
      "4 3\n",
      "5 3\n"
     ]
    }
   ],
   "source": [
    "while q:\n",
    "    node, cnt=q.popleft()\n",
    "    print(node,cnt)\n",
    "    \n",
    "    if node in memo:\n",
    "        continue\n",
    "    memo.add(node)\n",
    "    ans[cnt]+=1\n",
    "    cnt+=1\n",
    "    for j in d[node]:\n",
    "        if j in memo:\n",
    "            continue\n",
    "        q.append((j,cnt))"
   ]
  },
  {
   "cell_type": "code",
   "execution_count": 145,
   "metadata": {},
   "outputs": [
    {
     "data": {
      "text/plain": [
       "defaultdict(int, {1: 1, 2: 2, 3: 3})"
      ]
     },
     "execution_count": 145,
     "metadata": {},
     "output_type": "execute_result"
    }
   ],
   "source": [
    "ans"
   ]
  },
  {
   "cell_type": "code",
   "execution_count": 146,
   "metadata": {},
   "outputs": [
    {
     "data": {
      "text/plain": [
       "3"
      ]
     },
     "execution_count": 146,
     "metadata": {},
     "output_type": "execute_result"
    }
   ],
   "source": [
    "# ans[max(ans.keys())]\n",
    "ans[sorted(ans.keys())[-1]]\n",
    "\n"
   ]
  },
  {
   "cell_type": "code",
   "execution_count": 122,
   "metadata": {},
   "outputs": [
    {
     "data": {
      "text/plain": [
       "(1, 1)"
      ]
     },
     "execution_count": 122,
     "metadata": {},
     "output_type": "execute_result"
    }
   ],
   "source": [
    "que=deque([(1,1)])\n",
    "que.pop()"
   ]
  },
  {
   "cell_type": "code",
   "execution_count": 123,
   "metadata": {},
   "outputs": [
    {
     "data": {
      "text/plain": [
       "deque([(2, 2)])"
      ]
     },
     "execution_count": 123,
     "metadata": {},
     "output_type": "execute_result"
    }
   ],
   "source": [
    "que.append((2,2))\n",
    "que"
   ]
  },
  {
   "cell_type": "code",
   "execution_count": null,
   "metadata": {},
   "outputs": [],
   "source": []
  }
 ],
 "metadata": {
  "kernelspec": {
   "display_name": "Python 3",
   "language": "python",
   "name": "python3"
  },
  "language_info": {
   "codemirror_mode": {
    "name": "ipython",
    "version": 3
   },
   "file_extension": ".py",
   "mimetype": "text/x-python",
   "name": "python",
   "nbconvert_exporter": "python",
   "pygments_lexer": "ipython3",
   "version": "3.8.5"
  }
 },
 "nbformat": 4,
 "nbformat_minor": 4
}
