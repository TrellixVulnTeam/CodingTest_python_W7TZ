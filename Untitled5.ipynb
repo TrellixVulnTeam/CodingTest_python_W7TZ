{
 "cells": [
  {
   "cell_type": "code",
   "execution_count": 1,
   "metadata": {},
   "outputs": [
    {
     "data": {
      "text/plain": [
       "[1, 2, 3, 4, 5, 6]"
      ]
     },
     "execution_count": 1,
     "metadata": {},
     "output_type": "execute_result"
    }
   ],
   "source": [
    "a=[1,2,3,4]\n",
    "b=[5,6]\n",
    "a.extend([5,6])\n",
    "a"
   ]
  },
  {
   "cell_type": "code",
   "execution_count": 2,
   "metadata": {},
   "outputs": [
    {
     "data": {
      "text/plain": [
       "[[1, 2], [3, 4, 5]]"
      ]
     },
     "execution_count": 2,
     "metadata": {},
     "output_type": "execute_result"
    }
   ],
   "source": [
    "a=[1,2]\n",
    "b=[3,4,5]\n",
    "c=[a,b]\n",
    "c"
   ]
  },
  {
   "cell_type": "code",
   "execution_count": 6,
   "metadata": {},
   "outputs": [
    {
     "name": "stdout",
     "output_type": "stream",
     "text": [
      "5\n",
      "4\n",
      "3\n",
      "2\n",
      "1\n"
     ]
    }
   ],
   "source": [
    "sub = []\n",
    "a=[1,2,3,4,5]\n",
    "for i in a[::-1]:\n",
    "    print(i)"
   ]
  },
  {
   "cell_type": "code",
   "execution_count": 7,
   "metadata": {},
   "outputs": [],
   "source": [
    "k = []\n",
    "k.sort()"
   ]
  },
  {
   "cell_type": "code",
   "execution_count": null,
   "metadata": {},
   "outputs": [],
   "source": [
    "from collections import deque\n",
    "def solution(A, B):\n",
    "    answer = 0\n",
    "    A.sort()\n",
    "    B.sort()\n",
    "    \n",
    "    ans = deque([])\n",
    "    for i in A:\n",
    "        \n",
    "        sub_B = [x for x in B if i<x]\n",
    "        if sub_B:\n",
    "            num = sub_B[0]\n",
    "            ans.append(B.pop(B.index(num)))\n",
    "        else:\n",
    "            ans.append(B.pop(0))\n",
    "    \n",
    "    for i,j in zip(A,ans):\n",
    "        if j>i:\n",
    "            answer+=1\n",
    "    return answer"
   ]
  },
  {
   "cell_type": "code",
   "execution_count": null,
   "metadata": {},
   "outputs": [],
   "source": [
    "from collections import deque\n",
    "def solution(A, B):\n",
    "    answer = 0\n",
    "    A.sort(reverse=True)\n",
    "    B.sort(reverse=True)\n",
    "    \n",
    "\n",
    "    \n",
    "    ans = deque([])\n",
    "    for i in A:\n",
    "        \n",
    "        sub_B = [x for x in B if i<x]\n",
    "        if sub_B:\n",
    "            num = sub_B[-1]\n",
    "            del B[B.index(num)]\n",
    "            answer+=1            \n",
    "        \n",
    "    return answer"
   ]
  }
 ],
 "metadata": {
  "kernelspec": {
   "display_name": "Python 3",
   "language": "python",
   "name": "python3"
  },
  "language_info": {
   "codemirror_mode": {
    "name": "ipython",
    "version": 3
   },
   "file_extension": ".py",
   "mimetype": "text/x-python",
   "name": "python",
   "nbconvert_exporter": "python",
   "pygments_lexer": "ipython3",
   "version": "3.8.5"
  }
 },
 "nbformat": 4,
 "nbformat_minor": 4
}
