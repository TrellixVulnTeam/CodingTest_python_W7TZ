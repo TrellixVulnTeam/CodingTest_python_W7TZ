{
 "cells": [
  {
   "cell_type": "code",
   "execution_count": 13,
   "metadata": {},
   "outputs": [
    {
     "name": "stdout",
     "output_type": "stream",
     "text": [
      "8 3\n",
      "4 0\n",
      "sub :  13\n",
      "8 3\n",
      "4 0\n",
      "sub :  14\n",
      "8 3\n",
      "4 0\n",
      "sub :  15\n",
      "7 2\n",
      "4 0\n",
      "sub :  16\n"
     ]
    },
    {
     "data": {
      "text/plain": [
       "16"
      ]
     },
     "execution_count": 13,
     "metadata": {},
     "output_type": "execute_result"
    }
   ],
   "source": [
    "def solution(land):\n",
    "    answer = -1\n",
    "    \n",
    "    \n",
    "    for i,v in enumerate(land[0]):\n",
    "        sub=v\n",
    "        limit=i\n",
    "        col=1\n",
    "        while(col<len(land)):\n",
    "            max_val=-1\n",
    "            max_ind=-1\n",
    "            #print(col)\n",
    "            \n",
    "            for j,val in enumerate(land[col]):\n",
    "                if limit==j:\n",
    "                    continue\n",
    "                if max_val<val:\n",
    "                    max_ind=j\n",
    "                    max_val=val\n",
    "            print(max_val,max_ind)\n",
    "            sub+=max_val\n",
    "            limit=max_ind\n",
    "            col+=1\n",
    "        print('sub : ',sub)\n",
    "        if answer<sub:\n",
    "            answer=sub\n",
    "            \n",
    "                \n",
    "\n",
    "    return answer\n",
    "\n",
    "land=[[1,2,3,5],[5,6,7,8],[4,3,2,1]]\n",
    "#print(len(land))\n",
    "solution(land)"
   ]
  },
  {
   "cell_type": "code",
   "execution_count": null,
   "metadata": {},
   "outputs": [],
   "source": [
    "def solution(land):\n",
    "    answer = -1\n",
    "    \n",
    "    \n",
    "    for i,v in enumerate(land[0]):\n",
    "        sub=v\n",
    "        limit=i\n",
    "        col=1\n",
    "        while(col<len(land)):\n",
    "            max_val=-1\n",
    "            max_ind=-1\n",
    "            #print(col)\n",
    "            \n",
    "            \n",
    "            for j,val in enumerate(land[col]):\n",
    "            land[col][:j]+land[col][j+1:]\n",
    "            \n",
    "                if limit==j:\n",
    "                    continue\n",
    "                if max_val<val:\n",
    "                    max_ind=j\n",
    "                    max_val=val\n",
    "            print(max_val,max_ind)\n",
    "            sub+=max_val\n",
    "            limit=max_ind\n",
    "            col+=1\n",
    "        print('sub : ',sub)\n",
    "        if answer<sub:\n",
    "            answer=sub\n",
    "            \n",
    "                \n",
    "\n",
    "    return answer\n",
    "\n",
    "land=[[1,2,3,5],[5,6,7,8],[4,3,2,1]]\n",
    "#print(len(land))\n",
    "solution(land)"
   ]
  },
  {
   "cell_type": "code",
   "execution_count": 18,
   "metadata": {},
   "outputs": [
    {
     "data": {
      "text/plain": [
       "16"
      ]
     },
     "execution_count": 18,
     "metadata": {},
     "output_type": "execute_result"
    }
   ],
   "source": [
    "land=[[1,2,3,5],[5,6,7,8],[4,3,2,1]]\n",
    "def solution(land):\n",
    "    for i in range(1,len(land)):\n",
    "        for j in range(len(land[0])):\n",
    "            land[i][j]+=max(land[i-1][:j]+land[i-1][j+1:])\n",
    "#     land\n",
    "    return max(land[-1])\n",
    "\n",
    "solution(land)"
   ]
  },
  {
   "cell_type": "code",
   "execution_count": 19,
   "metadata": {},
   "outputs": [
    {
     "data": {
      "text/plain": [
       "[1, 2, 5]"
      ]
     },
     "execution_count": 19,
     "metadata": {},
     "output_type": "execute_result"
    }
   ],
   "source": [
    "land[0][:2]+land[0][3:]  # 2번째 인덱스를 제외한 리스트 "
   ]
  }
 ],
 "metadata": {
  "kernelspec": {
   "display_name": "Python 3",
   "language": "python",
   "name": "python3"
  },
  "language_info": {
   "codemirror_mode": {
    "name": "ipython",
    "version": 3
   },
   "file_extension": ".py",
   "mimetype": "text/x-python",
   "name": "python",
   "nbconvert_exporter": "python",
   "pygments_lexer": "ipython3",
   "version": "3.8.5"
  }
 },
 "nbformat": 4,
 "nbformat_minor": 4
}
