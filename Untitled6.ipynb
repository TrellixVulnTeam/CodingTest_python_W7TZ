{
 "cells": [
  {
   "cell_type": "code",
   "execution_count": 2,
   "metadata": {},
   "outputs": [
    {
     "name": "stdout",
     "output_type": "stream",
     "text": [
      "defaultdict(<class 'list'>, {0: [(1, 1), (2, 2)], 1: [(1, 0)], 2: [(2, 0), (1, 3)], 3: [(1, 2)]})\n",
      "[1, 1, 0, 0]\n",
      "[1, 1, 1, 1]\n",
      "[0, 0, 1, 1]\n",
      "[1, 1, 1, 1]\n"
     ]
    },
    {
     "data": {
      "text/plain": [
       "4"
      ]
     },
     "execution_count": 2,
     "metadata": {},
     "output_type": "execute_result"
    }
   ],
   "source": [
    "from collections import defaultdict\n",
    "import sys\n",
    "def solution(n, costs):\n",
    "    answer = sys.maxsize\n",
    "    d=defaultdict(list)\n",
    "    for i in costs:\n",
    "        n1,n2,c = i\n",
    "        d[n1]+=[(c,n2)]\n",
    "        d[n2]+=[(c,n1)]\n",
    "    print(d)\n",
    "    \n",
    "    for i in range(n):\n",
    "        visit=[0]*n\n",
    "        node = i\n",
    "        visit[node]=1\n",
    "        sub = 0\n",
    "        while(1):\n",
    "            if d.get(node):\n",
    "                d[node].sort(key = lambda x: x[0])\n",
    "                for p in d[node]:\n",
    "                    cos, nextnode = p[0], p[1]\n",
    "                    if visit[nextnode]==0:\n",
    "                        visit[nextnode]=1\n",
    "                        node = nextnode\n",
    "                        sub+=cos\n",
    "                        break\n",
    "                else:\n",
    "                    print(visit)\n",
    "                    if visit == [1]*n:\n",
    "                        break\n",
    "                    else:\n",
    "                        sub = answer\n",
    "                        break\n",
    "\n",
    "            else:\n",
    "                break\n",
    "                \n",
    "        answer = min(answer,sub)\n",
    "                    \n",
    "    return answer\n",
    "\n",
    "n=4\n",
    "costs = [[0,1,1],[0,2,2],[2,3,1]]\n",
    "solution(n,costs)"
   ]
  }
 ],
 "metadata": {
  "kernelspec": {
   "display_name": "Python 3",
   "language": "python",
   "name": "python3"
  },
  "language_info": {
   "codemirror_mode": {
    "name": "ipython",
    "version": 3
   },
   "file_extension": ".py",
   "mimetype": "text/x-python",
   "name": "python",
   "nbconvert_exporter": "python",
   "pygments_lexer": "ipython3",
   "version": "3.8.5"
  }
 },
 "nbformat": 4,
 "nbformat_minor": 4
}
