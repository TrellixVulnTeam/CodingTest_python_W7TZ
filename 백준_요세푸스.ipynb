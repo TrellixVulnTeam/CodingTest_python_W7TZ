{
 "cells": [
  {
   "cell_type": "code",
   "execution_count": 22,
   "metadata": {},
   "outputs": [
    {
     "name": "stdout",
     "output_type": "stream",
     "text": [
      "7 3\n",
      "< 3,6,2,7,5,1,4 >\n"
     ]
    }
   ],
   "source": [
    "\n",
    "\n",
    "a, b=input().split()\n",
    "a=int(a)\n",
    "b=int(b)\n",
    "\n",
    "ind=b-1\n",
    "\n",
    "stack=[x for x in range(1,a+1)]\n",
    "\n",
    "target=ind\n",
    "ans=[]\n",
    "cnt=b-1\n",
    "while(1):\n",
    "    #print('cnt : ',cnt,' ind : ',ind,' ans : ',ans)\n",
    "    if (stack[ind]!=0):\n",
    "        if cnt==target:\n",
    "            cnt=1\n",
    "            ans.append(stack[ind])\n",
    "            stack[ind]=0\n",
    "\n",
    "            target=b\n",
    "            if target>=len(stack):\n",
    "                target=target%len(stack)\n",
    "        else:\n",
    "            cnt+=1\n",
    "    \n",
    "    \n",
    "    ind+=1\n",
    "    if ind>=len(stack):\n",
    "        ind=0\n",
    "    \n",
    "    if len(ans)>=a:\n",
    "        break\n",
    "        \n",
    "ans=','.join([str(x) for x in ans])\n",
    "print('<',ans,'>')\n",
    "    \n",
    "    \n",
    "    "
   ]
  },
  {
   "cell_type": "code",
   "execution_count": 13,
   "metadata": {},
   "outputs": [
    {
     "data": {
      "text/plain": [
       "[3, 6, 2, 7, 5, 1, 4]"
      ]
     },
     "execution_count": 13,
     "metadata": {},
     "output_type": "execute_result"
    }
   ],
   "source": [
    "ans"
   ]
  },
  {
   "cell_type": "code",
   "execution_count": 56,
   "metadata": {},
   "outputs": [],
   "source": [
    "from sys import stdin\n",
    "n = stdin.readline().split()\n",
    "# a, b=int(stdin.readline()), int(stdin.readline())\n",
    "# a,b= list(map(int, stdin.readline().split()))"
   ]
  },
  {
   "cell_type": "code",
   "execution_count": 57,
   "metadata": {},
   "outputs": [],
   "source": [
    "import sys  \n",
    "a = list(map(int, sys.stdin.readline().split()))"
   ]
  },
  {
   "cell_type": "code",
   "execution_count": 54,
   "metadata": {},
   "outputs": [
    {
     "data": {
      "text/plain": [
       "''"
      ]
     },
     "execution_count": 54,
     "metadata": {},
     "output_type": "execute_result"
    }
   ],
   "source": [
    "n"
   ]
  },
  {
   "cell_type": "code",
   "execution_count": 59,
   "metadata": {},
   "outputs": [
    {
     "name": "stdout",
     "output_type": "stream",
     "text": [
      "7 3\n",
      "<3, 6, 2, 7, 5, 1, 4>"
     ]
    }
   ],
   "source": [
    "from sys import stdin\n",
    "\n",
    "a, b=input().split()\n",
    "a=int(a)\n",
    "b=int(b)\n",
    "\n",
    "arr=[x for x in range(1,a+1)]\n",
    "ans=[0]*a\n",
    "\n",
    "ind=0\n",
    "cnt=0\n",
    "\n",
    "answer=[]\n",
    "while(arr!=ans):\n",
    "    \n",
    "    if arr[ind]!=0:\n",
    "        cnt+=1\n",
    "    \n",
    "    if cnt==b:\n",
    "        answer.append(arr[ind])\n",
    "        arr[ind]=0\n",
    "        cnt=0\n",
    "    \n",
    "    ind+=1\n",
    "    if ind>=a:\n",
    "        ind=0\n",
    "        \n",
    "print('<',end='')\n",
    "for i in range(len(answer)):\n",
    "    if i==len(answer)-1:\n",
    "        print(answer[i],end='>')\n",
    "    else:\n",
    "        print(answer[i], end=', ')\n",
    "# print('>',end='')"
   ]
  },
  {
   "cell_type": "code",
   "execution_count": 40,
   "metadata": {},
   "outputs": [
    {
     "name": "stdout",
     "output_type": "stream",
     "text": [
      "<3, 6, 2, 7, 5, 1, 4>"
     ]
    }
   ],
   "source": [
    "print('<',end='')\n",
    "for i in range(len(answer)):\n",
    "    if i==len(answer)-1:\n",
    "        print(answer[i],end='')\n",
    "    else:\n",
    "        print(answer[i], end=', ')\n",
    "print('>',end='')\n"
   ]
  },
  {
   "cell_type": "code",
   "execution_count": 74,
   "metadata": {},
   "outputs": [
    {
     "name": "stdout",
     "output_type": "stream",
     "text": [
      "7 3\n",
      "<3, 6, 2, 7, 5, 1, 4>\n"
     ]
    }
   ],
   "source": [
    "n, k = map(int,input().split()) \n",
    "nl = [i for i in range(1,n+1)] \n",
    "answer = [] \n",
    "num = 0 \n",
    "while len(answer) != n: \n",
    "    \n",
    "    num=(num+k-1)%len(nl)\n",
    "    answer.append(nl.pop(num))\n",
    "\n",
    "answer\n",
    "print('<',', '.join(list(map(str,answer))),'>',sep='')"
   ]
  },
  {
   "cell_type": "code",
   "execution_count": 73,
   "metadata": {},
   "outputs": [
    {
     "data": {
      "text/plain": [
       "'3, 6, 2, 7, 5, 1, 4'"
      ]
     },
     "execution_count": 73,
     "metadata": {},
     "output_type": "execute_result"
    }
   ],
   "source": [
    "', '.join(list(map(str,answer)))"
   ]
  },
  {
   "cell_type": "code",
   "execution_count": null,
   "metadata": {},
   "outputs": [],
   "source": [
    "# nl : 1,2,3,4,5,6,7,8,9,10 4 // 4 8 3 7 num = (num + (k-1)) % len(nl) answer.append(nl.pop(num)) print(\"<%s>\" % (\", \".join(map(str,answer))))"
   ]
  }
 ],
 "metadata": {
  "kernelspec": {
   "display_name": "Python 3",
   "language": "python",
   "name": "python3"
  },
  "language_info": {
   "codemirror_mode": {
    "name": "ipython",
    "version": 3
   },
   "file_extension": ".py",
   "mimetype": "text/x-python",
   "name": "python",
   "nbconvert_exporter": "python",
   "pygments_lexer": "ipython3",
   "version": "3.8.5"
  }
 },
 "nbformat": 4,
 "nbformat_minor": 4
}
