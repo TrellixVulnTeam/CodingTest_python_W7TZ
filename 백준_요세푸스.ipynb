{
 "cells": [
  {
   "cell_type": "code",
   "execution_count": 22,
   "metadata": {},
   "outputs": [
    {
     "name": "stdout",
     "output_type": "stream",
     "text": [
      "7 3\n",
      "< 3,6,2,7,5,1,4 >\n"
     ]
    }
   ],
   "source": [
    "\n",
    "\n",
    "a, b=input().split()\n",
    "a=int(a)\n",
    "b=int(b)\n",
    "\n",
    "ind=b-1\n",
    "\n",
    "stack=[x for x in range(1,a+1)]\n",
    "\n",
    "target=ind\n",
    "ans=[]\n",
    "cnt=b-1\n",
    "while(1):\n",
    "    #print('cnt : ',cnt,' ind : ',ind,' ans : ',ans)\n",
    "    if (stack[ind]!=0):\n",
    "        if cnt==target:\n",
    "            cnt=1\n",
    "            ans.append(stack[ind])\n",
    "            stack[ind]=0\n",
    "\n",
    "            target=b\n",
    "            if target>=len(stack):\n",
    "                target=target%len(stack)\n",
    "        else:\n",
    "            cnt+=1\n",
    "    \n",
    "    \n",
    "    ind+=1\n",
    "    if ind>=len(stack):\n",
    "        ind=0\n",
    "    \n",
    "    if len(ans)>=a:\n",
    "        break\n",
    "        \n",
    "ans=','.join([str(x) for x in ans])\n",
    "print('<',ans,'>')\n",
    "    \n",
    "    \n",
    "    "
   ]
  },
  {
   "cell_type": "code",
   "execution_count": 13,
   "metadata": {},
   "outputs": [
    {
     "data": {
      "text/plain": [
       "[3, 6, 2, 7, 5, 1, 4]"
      ]
     },
     "execution_count": 13,
     "metadata": {},
     "output_type": "execute_result"
    }
   ],
   "source": [
    "ans"
   ]
  },
  {
   "cell_type": "code",
   "execution_count": null,
   "metadata": {},
   "outputs": [],
   "source": [
    "k=[1,2,3]"
   ]
  }
 ],
 "metadata": {
  "kernelspec": {
   "display_name": "Python 3",
   "language": "python",
   "name": "python3"
  },
  "language_info": {
   "codemirror_mode": {
    "name": "ipython",
    "version": 3
   },
   "file_extension": ".py",
   "mimetype": "text/x-python",
   "name": "python",
   "nbconvert_exporter": "python",
   "pygments_lexer": "ipython3",
   "version": "3.8.5"
  }
 },
 "nbformat": 4,
 "nbformat_minor": 4
}
