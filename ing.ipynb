{
 "cells": [
  {
   "cell_type": "code",
   "execution_count": 36,
   "metadata": {},
   "outputs": [
    {
     "name": "stdout",
     "output_type": "stream",
     "text": [
      "defaultdict(<class 'int'>, {1: 1, 2: 1, 3: 1, 4: 1, 5: 1})\n",
      "2 1\n",
      "defaultdict(<class 'int'>, {1: 1, 2: 2, 3: 1, 4: 1, 5: 1})\n",
      "5 2\n",
      "defaultdict(<class 'int'>, {1: 1, 2: 2, 3: 1, 4: 1, 5: 3})\n",
      "2 3\n",
      "defaultdict(<class 'int'>, {1: 1, 2: 3, 3: 1, 4: 1, 5: 3})\n",
      "2 4\n",
      "defaultdict(<class 'int'>, {1: 1, 2: 4, 3: 1, 4: 1, 5: 3})\n",
      "3 4\n",
      "defaultdict(<class 'int'>, {1: 1, 2: 4, 3: 2, 4: 1, 5: 3})\n"
     ]
    },
    {
     "data": {
      "text/plain": [
       "defaultdict(list, {1: [1, 4], 2: [3], 3: [5], 4: [2]})"
      ]
     },
     "execution_count": 36,
     "metadata": {},
     "output_type": "execute_result"
    }
   ],
   "source": [
    "from collections import defaultdict\n",
    "\n",
    "n=5\n",
    "results=[[4, 3], [4, 2], [3, 2], [1, 2], [2, 5]]\n",
    "\n",
    "results=[[1,2],[2,5],[3,2],[4,2],[4,3]]\n",
    "answer = 0\n",
    "fight=defaultdict(list)\n",
    "rank=defaultdict(list)  # key : 순위, value : 선수번호\n",
    "\n",
    "player=defaultdict(int)\n",
    "for i in range(1,n+1):\n",
    "    player[i]=1\n",
    "    \n",
    "print(player)\n",
    "\n",
    "# for i in results:\n",
    "#     fight[i[0]]+=[i[1]]\n",
    "\n",
    "while results:\n",
    "    a=results.pop(0)\n",
    "#     player[a[1]]+=1\n",
    "    print(a[1],a[0])\n",
    "    player[a[1]]+=player[a[0]]\n",
    "    print(player)\n",
    "player\n",
    "\n",
    "\n",
    "ans=defaultdict(list)\n",
    "for i,j in sorted([(y,x) for x,y in player.items()]):\n",
    "    ans[i]+=[j]\n",
    "ans"
   ]
  },
  {
   "cell_type": "code",
   "execution_count": 112,
   "metadata": {},
   "outputs": [
    {
     "data": {
      "text/plain": [
       "defaultdict(list, {4: [3, 2], 3: [2], 1: [2], 2: [5]})"
      ]
     },
     "execution_count": 112,
     "metadata": {},
     "output_type": "execute_result"
    }
   ],
   "source": [
    "from collections import defaultdict\n",
    "\n",
    "n=5\n",
    "results=[[4, 3], [4, 2], [3, 2], [1, 2], [2, 5]]\n",
    "# results=[[1,2],[2,5],[3,2],[4,2],[4,3]]\n",
    "# results=[[4,5],[3,4],[2,3],[1,2]]\n",
    "# results=[[1,2],[1,3],[3,4],[4,5]]\n",
    "answer = 0\n",
    "\n",
    "d=defaultdict(list)\n",
    "for i in results:\n",
    "    d[i[0]]+=[i[1]]\n",
    "d"
   ]
  },
  {
   "cell_type": "code",
   "execution_count": 113,
   "metadata": {},
   "outputs": [],
   "source": [
    "player=defaultdict(int)\n",
    "for i in range(1,n+1):\n",
    "    player[i]=1"
   ]
  },
  {
   "cell_type": "code",
   "execution_count": 114,
   "metadata": {},
   "outputs": [
    {
     "name": "stdout",
     "output_type": "stream",
     "text": [
      "4 3\n",
      "defaultdict(<class 'int'>, {1: 1, 2: 1, 3: 2, 4: 1, 5: 1})\n",
      "{(4, 3)}\n",
      "\n",
      "3 2\n",
      "defaultdict(<class 'int'>, {1: 1, 2: 3, 3: 2, 4: 1, 5: 1})\n",
      "{(3, 2), (4, 3)}\n",
      "\n",
      "2 5\n",
      "defaultdict(<class 'int'>, {1: 1, 2: 3, 3: 2, 4: 1, 5: 4})\n",
      "{(3, 2), (2, 5), (4, 3)}\n",
      "\n",
      "4 2\n",
      "defaultdict(<class 'int'>, {1: 1, 2: 4, 3: 2, 4: 1, 5: 4})\n",
      "{(3, 2), (2, 5), (4, 2), (4, 3)}\n",
      "\n",
      "2 5\n",
      "defaultdict(<class 'int'>, {1: 1, 2: 4, 3: 2, 4: 1, 5: 5})\n",
      "{(3, 2), (2, 5), (4, 2), (4, 3)}\n",
      "\n",
      "3 2\n",
      "1 2\n",
      "defaultdict(<class 'int'>, {1: 1, 2: 5, 3: 2, 4: 1, 5: 5})\n",
      "{(1, 2), (4, 3), (4, 2), (3, 2), (2, 5)}\n",
      "\n",
      "2 5\n",
      "defaultdict(<class 'int'>, {1: 1, 2: 5, 3: 2, 4: 1, 5: 6})\n",
      "{(1, 2), (4, 3), (4, 2), (3, 2), (2, 5)}\n",
      "\n",
      "2 5\n"
     ]
    }
   ],
   "source": [
    "memo=set()\n",
    "def dfs(a,b,flag=True):  # a : key, b : value\n",
    "    print(a,b)\n",
    "    \n",
    "    if (a,b) in memo:\n",
    "        if flag==True:\n",
    "            return \n",
    "        player[b]+=1\n",
    "    else:\n",
    "        player[b]+=player[a]\n",
    "        \n",
    "    memo.add((a,b))\n",
    "    print(player)\n",
    "    print(memo)\n",
    "    print()\n",
    "#     memo.add((a,b))\n",
    "    \n",
    "    if d.get(b) is None:\n",
    "        return\n",
    "    \n",
    "    for j in d[b]:\n",
    "        dfs(b,j,False)\n",
    "    \n",
    "#     for j in d[i]:\n",
    "#         player[j]+=1\n",
    "        \n",
    "#         if d.get(j) is None:\n",
    "#             continue\n",
    "        \n",
    "#         dfs(j,False)\n",
    "#     return\n",
    "    \n",
    "for i in results:\n",
    "    dfs(i[0],i[1])\n",
    "# for i in range(1,n+1):\n",
    "#     if d.get(i) is None:\n",
    "#         continue\n",
    "#     for p in d[i]:\n",
    "#         dfs(p)"
   ]
  },
  {
   "cell_type": "code",
   "execution_count": 116,
   "metadata": {},
   "outputs": [
    {
     "data": {
      "text/plain": [
       "defaultdict(int, {1: 1, 2: 5, 3: 2, 4: 1, 5: 6})"
      ]
     },
     "execution_count": 116,
     "metadata": {},
     "output_type": "execute_result"
    }
   ],
   "source": [
    "player"
   ]
  },
  {
   "cell_type": "code",
   "execution_count": 117,
   "metadata": {},
   "outputs": [
    {
     "data": {
      "text/plain": [
       "[(5, 6), (2, 5), (3, 2), (1, 1), (4, 1)]"
      ]
     },
     "execution_count": 117,
     "metadata": {},
     "output_type": "execute_result"
    }
   ],
   "source": [
    "answer=sorted(player.items(),key=lambda x:x[1],reverse=True)\n",
    "tmp=answer[0]\n",
    "i=answer[0][1]\n",
    "while i:\n",
    "    if i=\n",
    "    i-=1\n",
    "\n",
    "for i in tmp[1]:\n",
    "    "
   ]
  },
  {
   "cell_type": "code",
   "execution_count": 97,
   "metadata": {},
   "outputs": [
    {
     "data": {
      "text/plain": [
       "[(1, [1, 4]), (2, [3]), (5, [2]), (6, [5])]"
      ]
     },
     "execution_count": 97,
     "metadata": {},
     "output_type": "execute_result"
    }
   ],
   "source": [
    "ans=defaultdict(list)\n",
    "for i,j in player.items():\n",
    "    ans[j]+=[i]\n",
    "answer=sorted(ans.items())\n",
    "q=1\n",
    "for i in answer[::-1]:\n",
    "    \n",
    "while(1):\n",
    "    if ans.get(q) is None:\n",
    "        \n",
    "    q+=1"
   ]
  },
  {
   "cell_type": "code",
   "execution_count": 42,
   "metadata": {},
   "outputs": [
    {
     "name": "stdout",
     "output_type": "stream",
     "text": [
      "1\n"
     ]
    }
   ],
   "source": [
    "ex1=set()\n",
    "ex1.add((3,4))\n",
    "if (3,4) in ex1:\n",
    "    print(1)\n",
    "# c,d=ex1.pop()"
   ]
  },
  {
   "cell_type": "code",
   "execution_count": 29,
   "metadata": {},
   "outputs": [
    {
     "data": {
      "text/plain": [
       "defaultdict(int, {1: 1, 2: 9, 3: 3, 4: 1, 5: 11})"
      ]
     },
     "execution_count": 29,
     "metadata": {},
     "output_type": "execute_result"
    }
   ],
   "source": [
    "player"
   ]
  },
  {
   "cell_type": "code",
   "execution_count": 51,
   "metadata": {},
   "outputs": [
    {
     "name": "stdout",
     "output_type": "stream",
     "text": [
      "False\n",
      "True\n",
      "True\n"
     ]
    }
   ],
   "source": [
    "def ex2(i,flag=False):\n",
    "    print(flag)\n",
    "    if i==3:\n",
    "        return\n",
    "    ex2(i+1,True)\n",
    "    \n",
    "ex2(1)"
   ]
  },
  {
   "cell_type": "code",
   "execution_count": 119,
   "metadata": {},
   "outputs": [
    {
     "name": "stdout",
     "output_type": "stream",
     "text": [
      "{1: {2, 5}, 2: {5}, 3: {2, 5}, 4: {2, 3, 5}, 5: set()}\n",
      "{1: set(), 2: {1, 3, 4}, 3: {4}, 4: set(), 5: {1, 2, 3, 4}}\n"
     ]
    },
    {
     "data": {
      "text/plain": [
       "2"
      ]
     },
     "execution_count": 119,
     "metadata": {},
     "output_type": "execute_result"
    }
   ],
   "source": [
    "def solution(n, results):\n",
    "    # wins[key] = key가 이긴 사람들의 집합\n",
    "    # loses[key] = key가 이기지 못한 사람들의 집합\n",
    "    wins, loses = {}, {}\n",
    "    for i in range(1, n+1):\n",
    "        wins[i], loses[i] = set(), set()\n",
    "    \n",
    "    for i in range(1, n+1):\n",
    "        for battle in results:\n",
    "            if battle[0] == i: # i의 승리. i가 이긴 사람들\n",
    "                wins[i].add(battle[1])\n",
    "            if battle[1] == i: # i의 패배. i가 진 사람들\n",
    "                loses[i].add(battle[0])\n",
    "                \n",
    "        \n",
    "        # i를 이긴 사람들 (loses[i]) => i에게 진 사람(wins[i])은 반드시 이긴다\n",
    "        for winner in loses[i]:\n",
    "            wins[winner].update(wins[i])\n",
    "        # i에게 진 사람들 (wins[i]) => i를 이긴 사람들(loses[i])에게는 반드시 진다\n",
    "        for loser in wins[i]:\n",
    "            loses[loser].update(loses[i])\n",
    "            \n",
    "    cnt = 0\n",
    "    print(wins)\n",
    "    print(loses)\n",
    "    for i in range(1, n+1):\n",
    "        if len(wins[i]) + len(loses[i]) == n - 1:\n",
    "            cnt += 1\n",
    "    return cnt\n",
    "\n",
    "n=5\n",
    "results=[[4, 3], [4, 2], [3, 2], [1, 2], [2, 5]]\n",
    "solution(n,results)"
   ]
  },
  {
   "cell_type": "code",
   "execution_count": 120,
   "metadata": {},
   "outputs": [
    {
     "data": {
      "text/plain": [
       "defaultdict(list, {4: [3, 2], 3: [2], 1: [2], 2: [5]})"
      ]
     },
     "execution_count": 120,
     "metadata": {},
     "output_type": "execute_result"
    }
   ],
   "source": [
    "n=5\n",
    "results=[[4, 3], [4, 2], [3, 2], [1, 2], [2, 5]]\n",
    "\n",
    "d=defaultdict(list)\n",
    "for i in results:\n",
    "    d[i[0]]+=[i[1]]\n",
    "d\n",
    "# 자식찾기\n",
    "def myson(i,ans=[]:\n",
    "    \n",
    "    if d.get(i) is None:\n",
    "        return\n",
    "    for j in d[i]:\n",
    "        myson(j,ans+[i])\n",
    "        \n",
    "        \n",
    "        \n",
    "for i in range(1,n+1):\n",
    "    # 자식찾기\n",
    "    sub=set()\n",
    "    if d.get(i) is None:\n",
    "        continue\n",
    "    for j in d[i]:\n",
    "        sub.add(dfs(j))\n",
    "\n",
    "    \n",
    "    # 부모찾기\n",
    "    for j in \n"
   ]
  },
  {
   "cell_type": "code",
   "execution_count": 1,
   "metadata": {},
   "outputs": [
    {
     "data": {
      "text/plain": [
       "[1, 1, 2, 3, 1, 1]"
      ]
     },
     "execution_count": 1,
     "metadata": {},
     "output_type": "execute_result"
    }
   ],
   "source": [
    "# money=[1, 2, 3, 1]\n",
    "# rou=[money[-1]]+money+[money[0]]\n",
    "# sub\n",
    "\n",
    "# for i in range(1,len(rou)-1):\n",
    "#     if i==1:\n",
    "#         sub=rou[i]+rou[i+2:-1]\n",
    "#     else:\n",
    "#         sub=rou[i-2:i-1]+rou[i+2:-1]\n",
    "    "
   ]
  }
 ],
 "metadata": {
  "kernelspec": {
   "display_name": "Python 3",
   "language": "python",
   "name": "python3"
  },
  "language_info": {
   "codemirror_mode": {
    "name": "ipython",
    "version": 3
   },
   "file_extension": ".py",
   "mimetype": "text/x-python",
   "name": "python",
   "nbconvert_exporter": "python",
   "pygments_lexer": "ipython3",
   "version": "3.8.5"
  }
 },
 "nbformat": 4,
 "nbformat_minor": 4
}
