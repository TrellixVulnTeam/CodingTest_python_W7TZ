{
 "cells": [
  {
   "cell_type": "markdown",
   "metadata": {},
   "source": [
    "## Without Division and O(N) "
   ]
  },
  {
   "cell_type": "markdown",
   "metadata": {},
   "source": [
    "## 최종 답 :  "
   ]
  },
  {
   "cell_type": "code",
   "execution_count": null,
   "metadata": {},
   "outputs": [],
   "source": [
    "# from functools import reduce\n",
    "# def multiply(arr):\n",
    "#         return reduce(lambda x,y:x*y,arr)\n",
    "    \n",
    "class Solution(object):\n",
    "    def productExceptSelf(self, nums):\n",
    "        \n",
    "        sub=[1]*len(nums)\n",
    "        for i in range(len(nums)-1):\n",
    "            sub[i+1]=sub[i]*nums[i]\n",
    "                \n",
    "        sub2=[1]*len(nums)\n",
    "        for i in range(len(nums)-1,0,-1):\n",
    "            sub2[i-1]=nums[i]*sub2[i]\n",
    "        \n",
    "        ans=[i*j for i,j in zip(sub,sub2)]\n",
    "        return ans\n",
    "        "
   ]
  },
  {
   "cell_type": "code",
   "execution_count": 3,
   "metadata": {},
   "outputs": [],
   "source": [
    "from functools import reduce\n",
    "\n",
    "class Solution:\n",
    "    # def multiply(arr):\n",
    "    #     return reduce(lambda x, y: x * y, arr)\n",
    "    \n",
    "    def productExceptSelf(self, nums): \n",
    "        \n",
    "        ans=[]\n",
    "        for i in range(len(nums)):\n",
    "            num=nums[0:i]+nums[i+1:]\n",
    "            a=eval('*'.join([str(n) for n in num]))   # 숫자를 문자로 만들고 사이에 *문자를 넣어서 문자열로 만들고 eval\n",
    "            ans.append(a)\n",
    "            \n",
    "        return ans\n",
    "        "
   ]
  },
  {
   "cell_type": "code",
   "execution_count": null,
   "metadata": {},
   "outputs": [],
   "source": [
    "class Solution(object):\n",
    "    def productExceptSelf(self, nums):\n",
    "        sub=[0]*len(nums)\n",
    "        for i in range(len(nums)):\n",
    "            if i==0:\n",
    "                sub[i]=nums[i]*1\n",
    "            else:\n",
    "                sub[i]=nums[i-1]*nums[i]\n",
    "        \n",
    "        for i in range(len(nums)-1,0,-1):\n",
    "            if i==len(nums)-1:\n",
    "                sub[i]=sub[i]*1\n",
    "            else:\n",
    "                sub[i]=nums[i]*sub[]"
   ]
  },
  {
   "cell_type": "code",
   "execution_count": 3,
   "metadata": {},
   "outputs": [],
   "source": [
    "from functools import reduce\n",
    "nums=[1,2,3,4]\n",
    "\n",
    "def multiply(arr):\n",
    "    return reduce(lambda x,y:x*y,arr)\n",
    "\n",
    "ans=[]\n",
    "for i in range(len(nums)):\n",
    "    sub=nums[:i]+nums[i+1:]\n",
    "    ans.append(multiply(sub))"
   ]
  },
  {
   "cell_type": "code",
   "execution_count": 4,
   "metadata": {},
   "outputs": [
    {
     "data": {
      "text/plain": [
       "[24, 12, 8, 6]"
      ]
     },
     "execution_count": 4,
     "metadata": {},
     "output_type": "execute_result"
    }
   ],
   "source": [
    "ans"
   ]
  },
  {
   "cell_type": "code",
   "execution_count": 46,
   "metadata": {},
   "outputs": [
    {
     "name": "stdout",
     "output_type": "stream",
     "text": [
      "[24, 12, 8, 6]\n"
     ]
    }
   ],
   "source": [
    "from functools import reduce\n",
    "import collections\n",
    "\n",
    "nums=[1,2,3,4]\n",
    "ans=collections.deque()\n",
    "for i in range(len(nums)):\n",
    "    sub=nums[:i]+nums[i+1:]\n",
    "    ans.append(reduce(lambda x,y:x*y,sub))\n",
    "print(list(ans))"
   ]
  }
 ],
 "metadata": {
  "kernelspec": {
   "display_name": "Python 3",
   "language": "python",
   "name": "python3"
  },
  "language_info": {
   "codemirror_mode": {
    "name": "ipython",
    "version": 3
   },
   "file_extension": ".py",
   "mimetype": "text/x-python",
   "name": "python",
   "nbconvert_exporter": "python",
   "pygments_lexer": "ipython3",
   "version": "3.8.5"
  }
 },
 "nbformat": 4,
 "nbformat_minor": 4
}
