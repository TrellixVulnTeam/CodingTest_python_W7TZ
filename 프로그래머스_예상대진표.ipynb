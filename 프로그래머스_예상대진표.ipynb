{
 "cells": [
  {
   "cell_type": "markdown",
   "metadata": {},
   "source": [
    "## 내답 : "
   ]
  },
  {
   "cell_type": "code",
   "execution_count": null,
   "metadata": {},
   "outputs": [],
   "source": [
    "def solution(n,a,b):\n",
    "    answer = 1\n",
    "    \n",
    "    while(n!=2):\n",
    "        if ((a>=b and a%2==0 and a-1==b) or b>=a and b%2==0 and b-1==a):  # 종료조건\n",
    "            break\n",
    "            \n",
    "        answer+=1\n",
    "        \n",
    "        if a%2==0:\n",
    "            a=a//2\n",
    "        else:\n",
    "            a=(a+1)//2\n",
    "        \n",
    "        if b%2==0:\n",
    "            b=b//2\n",
    "        else:\n",
    "            b=(b+1)//2\n",
    "            \n",
    "        n=n//2\n",
    "        \n",
    "    #print(answer,a,b)\n",
    "    \n",
    "    return answer"
   ]
  }
 ],
 "metadata": {
  "kernelspec": {
   "display_name": "Python 3",
   "language": "python",
   "name": "python3"
  },
  "language_info": {
   "codemirror_mode": {
    "name": "ipython",
    "version": 3
   },
   "file_extension": ".py",
   "mimetype": "text/x-python",
   "name": "python",
   "nbconvert_exporter": "python",
   "pygments_lexer": "ipython3",
   "version": "3.7.9"
  }
 },
 "nbformat": 4,
 "nbformat_minor": 4
}
