{
 "cells": [
  {
   "cell_type": "code",
   "execution_count": 402,
   "metadata": {},
   "outputs": [],
   "source": [
    "class Solution(object):\n",
    "    import operator\n",
    "    def findItinerary(self, tickets):\n",
    "        \"\"\"\n",
    "        :type tickets: List[List[str]]\n",
    "        :rtype: List[str]\n",
    "        \"\"\"\n",
    "        d={}\n",
    "        for a,b in tickets:\n",
    "            if a not in d:\n",
    "                d[a]=[b]\n",
    "            else:\n",
    "                d[a]+=[b]\n",
    "\n",
    "        for k,v in d.items():\n",
    "            v.sort()\n",
    "\n",
    "        route=[]\n",
    "        def dfs(a):\n",
    "            while d.get(a):\n",
    "                dfs(d[a].pop(0))\n",
    "            route.append(a)\n",
    "            \n",
    "        dfs('JFK')\n",
    "        return route[::-1]\n",
    "                "
   ]
  },
  {
   "cell_type": "code",
   "execution_count": 399,
   "metadata": {},
   "outputs": [],
   "source": [
    "tickets=[[\"EZE\",\"TIA\"],[\"EZE\",\"HBA\"],[\"AXA\",\"TIA\"],[\"JFK\",\"AXA\"],[\"ANU\",\"JFK\"],[\"ADL\",\"ANU\"],[\"TIA\",\"AUA\"],[\"ANU\",\"AUA\"],[\"ADL\",\"EZE\"],[\"ADL\",\"EZE\"],[\"EZE\",\"ADL\"],[\"AXA\",\"EZE\"],[\"AUA\",\"AXA\"],[\"JFK\",\"AXA\"],[\"AXA\",\"AUA\"],[\"AUA\",\"ADL\"],[\"ANU\",\"EZE\"],[\"TIA\",\"ADL\"],[\"EZE\",\"ANU\"],[\"AUA\",\"ANU\"]]"
   ]
  },
  {
   "cell_type": "code",
   "execution_count": 400,
   "metadata": {},
   "outputs": [
    {
     "data": {
      "text/plain": [
       "{'EZE': ['ADL', 'ANU', 'HBA', 'TIA'],\n",
       " 'AXA': ['AUA', 'EZE', 'TIA'],\n",
       " 'JFK': ['AXA', 'AXA'],\n",
       " 'ANU': ['AUA', 'EZE', 'JFK'],\n",
       " 'ADL': ['ANU', 'EZE', 'EZE'],\n",
       " 'TIA': ['ADL', 'AUA'],\n",
       " 'AUA': ['ADL', 'ANU', 'AXA']}"
      ]
     },
     "execution_count": 400,
     "metadata": {},
     "output_type": "execute_result"
    }
   ],
   "source": [
    "d={}\n",
    "for a,b in tickets:\n",
    "    if a not in d:\n",
    "        d[a]=[b]\n",
    "    else:\n",
    "        d[a]+=[b]\n",
    "    \n",
    "for k,v in d.items():\n",
    "    v.sort()\n",
    "    \n",
    "d  "
   ]
  },
  {
   "cell_type": "code",
   "execution_count": 401,
   "metadata": {},
   "outputs": [
    {
     "name": "stdout",
     "output_type": "stream",
     "text": [
      "['HBA', 'EZE', 'ADL', 'TIA', 'AXA', 'AUA', 'TIA', 'EZE', 'AXA', 'JFK', 'ANU', 'EZE', 'ADL', 'EZE', 'ANU', 'AUA', 'ANU', 'ADL', 'AUA', 'AXA', 'JFK']\n",
      "['JFK', 'AXA', 'AUA', 'ADL', 'ANU', 'AUA', 'ANU', 'EZE', 'ADL', 'EZE', 'ANU', 'JFK', 'AXA', 'EZE', 'TIA', 'AUA', 'AXA', 'TIA', 'ADL', 'EZE', 'HBA']\n"
     ]
    }
   ],
   "source": [
    "route=[]\n",
    "def dfs(a):\n",
    "    while d.get(a):\n",
    "        dfs(d[a].pop(0))\n",
    "    route.append(a)\n",
    "    \n",
    "\n",
    "dfs('JFK')\n",
    "print(route)\n",
    "print(route[::-1])"
   ]
  },
  {
   "cell_type": "code",
   "execution_count": 390,
   "metadata": {},
   "outputs": [
    {
     "data": {
      "text/plain": [
       "defaultdict(list,\n",
       "            {'ADL': ['ANU', 'EZE', 'EZE'],\n",
       "             'ANU': ['AUA', 'EZE', 'JFK'],\n",
       "             'AUA': ['ADL', 'ANU', 'AXA'],\n",
       "             'AXA': ['AUA', 'EZE', 'TIA'],\n",
       "             'EZE': ['ADL', 'ANU', 'HBA', 'TIA'],\n",
       "             'JFK': ['AXA', 'AXA'],\n",
       "             'TIA': ['ADL', 'AUA']})"
      ]
     },
     "execution_count": 390,
     "metadata": {},
     "output_type": "execute_result"
    }
   ],
   "source": [
    "import collections\n",
    "graph=collections.defaultdict(list)\n",
    "graph\n",
    "tickets=[[\"EZE\",\"TIA\"],[\"EZE\",\"HBA\"],[\"AXA\",\"TIA\"],[\"JFK\",\"AXA\"],[\"ANU\",\"JFK\"],[\"ADL\",\"ANU\"],[\"TIA\",\"AUA\"],[\"ANU\",\"AUA\"],[\"ADL\",\"EZE\"],[\"ADL\",\"EZE\"],[\"EZE\",\"ADL\"],[\"AXA\",\"EZE\"],[\"AUA\",\"AXA\"],[\"JFK\",\"AXA\"],[\"AXA\",\"AUA\"],[\"AUA\",\"ADL\"],[\"ANU\",\"EZE\"],[\"TIA\",\"ADL\"],[\"EZE\",\"ANU\"],[\"AUA\",\"ANU\"]]\n",
    "for a,b in sorted(tickets):\n",
    "    graph[a].append(b)\n",
    "    \n",
    "graph\n"
   ]
  },
  {
   "cell_type": "code",
   "execution_count": 391,
   "metadata": {},
   "outputs": [
    {
     "data": {
      "text/plain": [
       "{'EZE': ['ADL', 'ANU', 'HBA', 'TIA'],\n",
       " 'AXA': ['AUA', 'EZE', 'TIA'],\n",
       " 'JFK': ['AXA', 'AXA'],\n",
       " 'ANU': ['AUA', 'EZE', 'JFK'],\n",
       " 'ADL': ['ANU', 'EZE', 'EZE'],\n",
       " 'TIA': ['ADL', 'AUA'],\n",
       " 'AUA': ['ADL', 'ANU', 'AXA']}"
      ]
     },
     "execution_count": 391,
     "metadata": {},
     "output_type": "execute_result"
    }
   ],
   "source": [
    "d"
   ]
  },
  {
   "cell_type": "code",
   "execution_count": 367,
   "metadata": {},
   "outputs": [
    {
     "name": "stdout",
     "output_type": "stream",
     "text": [
      "{'EZE': ['TIA', 'HBA', 'ADL', 'ANU'], 'AXA': ['TIA', 'EZE', 'AUA'], 'JFK': ['AXA', 'AXA'], 'ANU': ['JFK', 'AUA', 'EZE'], 'ADL': ['ANU', 'EZE', 'EZE'], 'TIA': ['AUA', 'ADL'], 'AUA': ['AXA', 'ADL', 'ANU']}\n",
      "\n",
      "{'EZE': ['ADL', 'ANU', 'HBA', 'TIA'], 'AXA': ['AUA', 'EZE', 'TIA'], 'JFK': ['AXA', 'AXA'], 'ANU': ['AUA', 'EZE', 'JFK'], 'ADL': ['ANU', 'EZE', 'EZE'], 'TIA': ['ADL', 'AUA'], 'AUA': ['ADL', 'ANU', 'AXA']}\n"
     ]
    }
   ],
   "source": [
    "d={}\n",
    "for a,b in tickets:\n",
    "    if a not in d:\n",
    "        d[a]=[b]\n",
    "    else:\n",
    "        d[a]+=[b]\n",
    "        \n",
    "print(d)\n",
    "print()\n",
    "\n",
    "for k,v in d.items():\n",
    "    v.sort()\n",
    "    \n",
    "print(d)"
   ]
  },
  {
   "cell_type": "code",
   "execution_count": 325,
   "metadata": {},
   "outputs": [],
   "source": [
    "# dict({i[0]:i[1]} for i in tickets}\n",
    "\n",
    "import operator\n",
    "#tickets=[[\"JFK\",\"SFO\"],[\"JFK\",\"ATL\"],[\"SFO\",\"ATL\"],[\"ATL\",\"JFK\"],[\"ATL\",\"SFO\"]]\n",
    "#tickets=[[\"MUC\", \"LHR\"], [\"JFK\", \"MUC\"], [\"SFO\", \"SJC\"], [\"LHR\", \"SFO\"]]\n",
    "tickets=[[\"JFK\",\"KUL\"],[\"JFK\",\"NRT\"],[\"NRT\",\"JFK\"]]\n",
    "#tickets=[[\"JFK\",\"SFO\"],[\"JFK\",\"ATL\"],[\"SFO\",\"ATL\"],[\"ATL\",\"JFK\"],[\"ATL\",\"SFO\"]]\n",
    "#tickets=[[\"JFK\",\"AAA\"],[\"AAA\",\"JFK\"],[\"JFK\",\"BBB\"],[\"JFK\",\"CCC\"],[\"CCC\",\"JFK\"]]\n",
    "tickets=[[\"EZE\",\"TIA\"],[\"EZE\",\"HBA\"],[\"AXA\",\"TIA\"],[\"JFK\",\"AXA\"],[\"ANU\",\"JFK\"],[\"ADL\",\"ANU\"],[\"TIA\",\"AUA\"],[\"ANU\",\"AUA\"],[\"ADL\",\"EZE\"],[\"ADL\",\"EZE\"],[\"EZE\",\"ADL\"],[\"AXA\",\"EZE\"],[\"AUA\",\"AXA\"],[\"JFK\",\"AXA\"],[\"AXA\",\"AUA\"],[\"AUA\",\"ADL\"],[\"ANU\",\"EZE\"],[\"TIA\",\"ADL\"],[\"EZE\",\"ANU\"],[\"AUA\",\"ANU\"]]\n",
    "\n",
    "d={}\n",
    "for i in tickets:\n",
    "    if i[0] not in d:\n",
    "        d[i[0]]=[i[1]]\n",
    "    else:\n",
    "        d[i[0]].append(i[1])\n",
    "# d=sorted(d.items(),key=operator.itemgetter(1))\n",
    "for i,v in d.items():\n",
    "    v.sort()"
   ]
  },
  {
   "cell_type": "code",
   "execution_count": 326,
   "metadata": {},
   "outputs": [
    {
     "data": {
      "text/plain": [
       "{'EZE': ['ADL', 'ANU', 'HBA', 'TIA'],\n",
       " 'AXA': ['AUA', 'EZE', 'TIA'],\n",
       " 'JFK': ['AXA', 'AXA'],\n",
       " 'ANU': ['AUA', 'EZE', 'JFK'],\n",
       " 'ADL': ['ANU', 'EZE', 'EZE'],\n",
       " 'TIA': ['ADL', 'AUA'],\n",
       " 'AUA': ['ADL', 'ANU', 'AXA']}"
      ]
     },
     "execution_count": 326,
     "metadata": {},
     "output_type": "execute_result"
    }
   ],
   "source": [
    "d"
   ]
  },
  {
   "cell_type": "code",
   "execution_count": 327,
   "metadata": {},
   "outputs": [
    {
     "ename": "TypeError",
     "evalue": "string indices must be integers",
     "output_type": "error",
     "traceback": [
      "\u001b[1;31m---------------------------------------------------------------------------\u001b[0m",
      "\u001b[1;31mTypeError\u001b[0m                                 Traceback (most recent call last)",
      "\u001b[1;32m<ipython-input-327-2cb6573df28b>\u001b[0m in \u001b[0;36m<module>\u001b[1;34m\u001b[0m\n\u001b[0;32m     32\u001b[0m \u001b[1;33m\u001b[0m\u001b[0m\n\u001b[0;32m     33\u001b[0m \u001b[1;33m\u001b[0m\u001b[0m\n\u001b[1;32m---> 34\u001b[1;33m \u001b[0mdfs\u001b[0m\u001b[1;33m(\u001b[0m\u001b[0md\u001b[0m\u001b[1;33m,\u001b[0m\u001b[0mans\u001b[0m\u001b[1;33m,\u001b[0m\u001b[0mtrip\u001b[0m\u001b[1;33m)\u001b[0m\u001b[1;33m\u001b[0m\u001b[1;33m\u001b[0m\u001b[0m\n\u001b[0m\u001b[0;32m     35\u001b[0m \u001b[1;33m\u001b[0m\u001b[0m\n",
      "\u001b[1;32m<ipython-input-327-2cb6573df28b>\u001b[0m in \u001b[0;36mdfs\u001b[1;34m(d, ans, trip)\u001b[0m\n\u001b[0;32m     13\u001b[0m         \u001b[1;32mif\u001b[0m \u001b[0md\u001b[0m\u001b[1;33m.\u001b[0m\u001b[0mget\u001b[0m\u001b[1;33m(\u001b[0m\u001b[0mi\u001b[0m\u001b[1;33m)\u001b[0m \u001b[1;32mand\u001b[0m \u001b[0mlen\u001b[0m\u001b[1;33m(\u001b[0m\u001b[0md\u001b[0m\u001b[1;33m[\u001b[0m\u001b[0mi\u001b[0m\u001b[1;33m]\u001b[0m\u001b[1;33m)\u001b[0m\u001b[1;33m>\u001b[0m\u001b[1;36m0\u001b[0m\u001b[1;33m:\u001b[0m\u001b[1;33m\u001b[0m\u001b[1;33m\u001b[0m\u001b[0m\n\u001b[0;32m     14\u001b[0m \u001b[1;31m#                 d[trip].pop(d[trip].index(i))\u001b[0m\u001b[1;33m\u001b[0m\u001b[1;33m\u001b[0m\u001b[1;33m\u001b[0m\u001b[0m\n\u001b[1;32m---> 15\u001b[1;33m             \u001b[0mdfs\u001b[0m\u001b[1;33m(\u001b[0m\u001b[0md\u001b[0m\u001b[1;33m[\u001b[0m\u001b[0mtrip\u001b[0m\u001b[1;33m]\u001b[0m\u001b[1;33m.\u001b[0m\u001b[0mpop\u001b[0m\u001b[1;33m(\u001b[0m\u001b[0md\u001b[0m\u001b[1;33m[\u001b[0m\u001b[0mtrip\u001b[0m\u001b[1;33m]\u001b[0m\u001b[1;33m.\u001b[0m\u001b[0mindex\u001b[0m\u001b[1;33m(\u001b[0m\u001b[0mi\u001b[0m\u001b[1;33m)\u001b[0m\u001b[1;33m)\u001b[0m\u001b[1;33m,\u001b[0m\u001b[0mans\u001b[0m\u001b[1;33m+\u001b[0m\u001b[1;33m[\u001b[0m\u001b[0mi\u001b[0m\u001b[1;33m]\u001b[0m\u001b[1;33m,\u001b[0m\u001b[0mi\u001b[0m\u001b[1;33m)\u001b[0m\u001b[1;33m\u001b[0m\u001b[1;33m\u001b[0m\u001b[0m\n\u001b[0m\u001b[0;32m     16\u001b[0m         \u001b[1;32melse\u001b[0m\u001b[1;33m:\u001b[0m\u001b[1;33m\u001b[0m\u001b[1;33m\u001b[0m\u001b[0m\n\u001b[0;32m     17\u001b[0m             \u001b[0manswer\u001b[0m\u001b[1;33m.\u001b[0m\u001b[0mappend\u001b[0m\u001b[1;33m(\u001b[0m\u001b[0mans\u001b[0m\u001b[1;33m+\u001b[0m\u001b[1;33m[\u001b[0m\u001b[0mi\u001b[0m\u001b[1;33m]\u001b[0m\u001b[1;33m)\u001b[0m\u001b[1;33m\u001b[0m\u001b[1;33m\u001b[0m\u001b[0m\n",
      "\u001b[1;32m<ipython-input-327-2cb6573df28b>\u001b[0m in \u001b[0;36mdfs\u001b[1;34m(d, ans, trip)\u001b[0m\n\u001b[0;32m     10\u001b[0m \u001b[1;31m#     if d.get(trip):\u001b[0m\u001b[1;33m\u001b[0m\u001b[1;33m\u001b[0m\u001b[1;33m\u001b[0m\u001b[0m\n\u001b[0;32m     11\u001b[0m \u001b[1;33m\u001b[0m\u001b[0m\n\u001b[1;32m---> 12\u001b[1;33m     \u001b[1;32mfor\u001b[0m \u001b[0mi\u001b[0m \u001b[1;32min\u001b[0m \u001b[0md\u001b[0m\u001b[1;33m[\u001b[0m\u001b[0mtrip\u001b[0m\u001b[1;33m]\u001b[0m\u001b[1;33m:\u001b[0m\u001b[1;33m\u001b[0m\u001b[1;33m\u001b[0m\u001b[0m\n\u001b[0m\u001b[0;32m     13\u001b[0m         \u001b[1;32mif\u001b[0m \u001b[0md\u001b[0m\u001b[1;33m.\u001b[0m\u001b[0mget\u001b[0m\u001b[1;33m(\u001b[0m\u001b[0mi\u001b[0m\u001b[1;33m)\u001b[0m \u001b[1;32mand\u001b[0m \u001b[0mlen\u001b[0m\u001b[1;33m(\u001b[0m\u001b[0md\u001b[0m\u001b[1;33m[\u001b[0m\u001b[0mi\u001b[0m\u001b[1;33m]\u001b[0m\u001b[1;33m)\u001b[0m\u001b[1;33m>\u001b[0m\u001b[1;36m0\u001b[0m\u001b[1;33m:\u001b[0m\u001b[1;33m\u001b[0m\u001b[1;33m\u001b[0m\u001b[0m\n\u001b[0;32m     14\u001b[0m \u001b[1;31m#                 d[trip].pop(d[trip].index(i))\u001b[0m\u001b[1;33m\u001b[0m\u001b[1;33m\u001b[0m\u001b[1;33m\u001b[0m\u001b[0m\n",
      "\u001b[1;31mTypeError\u001b[0m: string indices must be integers"
     ]
    }
   ],
   "source": [
    "answer=[]\n",
    "\n",
    "ans=['JFK']\n",
    "trip='JFK'\n",
    "def dfs(d,ans,trip):\n",
    "     \n",
    "#     if len(ans)>len(tickets):\n",
    "#         return\n",
    "    \n",
    "#     if d.get(trip):\n",
    "        \n",
    "    while d[trip]:\n",
    "#                 d[trip].pop(d[trip].index(i))\n",
    "            dfs(d[trip].pop(d[trip].index(i))                                      ,ans+[i],i)\n",
    "        else:\n",
    "            answer.append(ans+[i])\n",
    "            continue\n",
    "            \n",
    "#             if i not in d:\n",
    "#                 answer.append(ans+[i])\n",
    "#                 continue\n",
    "#             dfs(d,ans+[i],i)\n",
    "    \n",
    "        \n",
    "#     else:\n",
    "        \n",
    "    answer.append(ans)\n",
    "        \n",
    "    \n",
    "            \n",
    "    \n",
    "            \n",
    "dfs(d,ans,trip)      \n",
    "        \n"
   ]
  },
  {
   "cell_type": "code",
   "execution_count": 317,
   "metadata": {},
   "outputs": [],
   "source": [
    "answer=[]\n",
    "\n",
    "ans=['JFK']\n",
    "trip='JFK'\n",
    "def dfs(d,ans,trip):\n",
    "     \n",
    "#     if len(ans)>len(tickets):\n",
    "#         return\n",
    "    \n",
    "    if d.get(trip):\n",
    "        \n",
    "        for i in d[trip]: \n",
    "            if d.get(i) and len(d[i])>0:\n",
    "                d[trip].pop(d[trip].index(i))\n",
    "                dfs(d,ans+[i],i)\n",
    "            else:\n",
    "                answer.append(ans+[i])\n",
    "                continue\n",
    "            \n",
    "#             if i not in d:\n",
    "#                 answer.append(ans+[i])\n",
    "#                 continue\n",
    "#             dfs(d,ans+[i],i)\n",
    "    \n",
    "        \n",
    "    else:\n",
    "        answer.append(ans)\n",
    "    answer.append(ans)\n",
    "        \n",
    "    \n",
    "            \n",
    "    \n",
    "            \n",
    "dfs(d,ans,trip)      \n",
    "        \n"
   ]
  },
  {
   "cell_type": "code",
   "execution_count": 299,
   "metadata": {},
   "outputs": [
    {
     "name": "stdout",
     "output_type": "stream",
     "text": [
      "['JFK', 'AXA', 'AUA', 'ADL', 'ANU', 'AUA', 'ANU', 'EZE', 'ADL', 'EZE', 'ANU', 'JFK', 'AXA', 'EZE', 'TIA', 'ADL', 'EZE', 'HBA']\n",
      "['JFK', 'AXA', 'AUA', 'ADL', 'ANU', 'AUA', 'ANU', 'EZE', 'ADL', 'EZE', 'ANU', 'JFK', 'AXA', 'EZE', 'TIA', 'ADL', 'EZE']\n",
      "['JFK', 'AXA', 'AUA', 'ADL', 'ANU', 'AUA', 'ANU', 'EZE', 'ADL', 'EZE', 'ANU', 'JFK', 'AXA', 'EZE', 'TIA', 'ADL']\n",
      "['JFK', 'AXA', 'AUA', 'ADL', 'ANU', 'AUA', 'ANU', 'EZE', 'ADL', 'EZE', 'ANU', 'JFK', 'AXA', 'EZE', 'HBA']\n",
      "['JFK', 'AXA', 'AUA', 'ADL', 'ANU', 'AUA', 'ANU', 'EZE', 'ADL', 'EZE', 'ANU', 'JFK', 'AXA', 'EZE', 'TIA']\n",
      "['JFK', 'AXA', 'AUA', 'ADL', 'ANU', 'AUA', 'ANU', 'EZE', 'ADL', 'EZE', 'ANU', 'JFK', 'AXA', 'EZE']\n",
      "['JFK', 'AXA', 'AUA', 'ADL', 'ANU', 'AUA', 'ANU', 'EZE', 'ADL', 'EZE', 'ANU', 'JFK', 'AXA']\n",
      "['JFK', 'AXA', 'AUA', 'ADL', 'ANU', 'AUA', 'ANU', 'EZE', 'ADL', 'EZE', 'ANU', 'JFK']\n",
      "['JFK', 'AXA', 'AUA', 'ADL', 'ANU', 'AUA', 'ANU', 'EZE', 'ADL', 'EZE', 'ANU']\n",
      "['JFK', 'AXA', 'AUA', 'ADL', 'ANU', 'AUA', 'ANU', 'EZE', 'ADL', 'EZE']\n",
      "['JFK', 'AXA', 'AUA', 'ADL', 'ANU', 'AUA', 'ANU', 'EZE', 'ADL']\n",
      "['JFK', 'AXA', 'AUA', 'ADL', 'ANU', 'AUA', 'ANU', 'EZE']\n",
      "['JFK', 'AXA', 'AUA', 'ADL', 'ANU', 'AUA', 'ANU']\n",
      "['JFK', 'AXA', 'AUA', 'ADL', 'ANU', 'AUA']\n",
      "['JFK', 'AXA', 'AUA', 'ADL', 'ANU']\n",
      "['JFK', 'AXA', 'AUA', 'ADL']\n",
      "['JFK', 'AXA', 'AUA']\n",
      "['JFK', 'AXA']\n",
      "['JFK']\n"
     ]
    }
   ],
   "source": [
    "answer.sort(key=len,reverse=True)\n",
    "for i in answer:\n",
    "    print(i)"
   ]
  },
  {
   "cell_type": "code",
   "execution_count": 291,
   "metadata": {},
   "outputs": [
    {
     "data": {
      "text/plain": [
       "{'EZE': ['HBA'],\n",
       " 'AXA': ['TIA'],\n",
       " 'JFK': [],\n",
       " 'ANU': [],\n",
       " 'ADL': [],\n",
       " 'TIA': ['AUA'],\n",
       " 'AUA': ['AXA']}"
      ]
     },
     "execution_count": 291,
     "metadata": {},
     "output_type": "execute_result"
    }
   ],
   "source": [
    "d"
   ]
  },
  {
   "cell_type": "code",
   "execution_count": 141,
   "metadata": {},
   "outputs": [
    {
     "name": "stdout",
     "output_type": "stream",
     "text": [
      "AAA\n",
      "JFK\n",
      "BBB\n"
     ]
    },
    {
     "ename": "KeyError",
     "evalue": "'BBB'",
     "output_type": "error",
     "traceback": [
      "\u001b[1;31m---------------------------------------------------------------------------\u001b[0m",
      "\u001b[1;31mKeyError\u001b[0m                                  Traceback (most recent call last)",
      "\u001b[1;32m<ipython-input-141-c564d502a8c6>\u001b[0m in \u001b[0;36m<module>\u001b[1;34m\u001b[0m\n\u001b[0;32m     15\u001b[0m         \u001b[0manswer\u001b[0m\u001b[1;33m.\u001b[0m\u001b[0mappend\u001b[0m\u001b[1;33m(\u001b[0m\u001b[0mans\u001b[0m\u001b[1;33m)\u001b[0m\u001b[1;33m\u001b[0m\u001b[1;33m\u001b[0m\u001b[0m\n\u001b[0;32m     16\u001b[0m         \u001b[1;32mreturn\u001b[0m\u001b[1;33m\u001b[0m\u001b[1;33m\u001b[0m\u001b[0m\n\u001b[1;32m---> 17\u001b[1;33m \u001b[0mdfs\u001b[0m\u001b[1;33m(\u001b[0m\u001b[0md\u001b[0m\u001b[1;33m,\u001b[0m\u001b[0mans\u001b[0m\u001b[1;33m,\u001b[0m\u001b[0mtrip\u001b[0m\u001b[1;33m)\u001b[0m\u001b[1;33m\u001b[0m\u001b[1;33m\u001b[0m\u001b[0m\n\u001b[0m\u001b[0;32m     18\u001b[0m \u001b[1;33m\u001b[0m\u001b[0m\n",
      "\u001b[1;32m<ipython-input-141-c564d502a8c6>\u001b[0m in \u001b[0;36mdfs\u001b[1;34m(d, ans, trip)\u001b[0m\n\u001b[0;32m      8\u001b[0m             \u001b[0md\u001b[0m\u001b[1;33m[\u001b[0m\u001b[0mtrip\u001b[0m\u001b[1;33m]\u001b[0m\u001b[1;33m.\u001b[0m\u001b[0mpop\u001b[0m\u001b[1;33m(\u001b[0m\u001b[0md\u001b[0m\u001b[1;33m[\u001b[0m\u001b[0mtrip\u001b[0m\u001b[1;33m]\u001b[0m\u001b[1;33m.\u001b[0m\u001b[0mindex\u001b[0m\u001b[1;33m(\u001b[0m\u001b[0mi\u001b[0m\u001b[1;33m)\u001b[0m\u001b[1;33m)\u001b[0m\u001b[1;33m\u001b[0m\u001b[1;33m\u001b[0m\u001b[0m\n\u001b[0;32m      9\u001b[0m             \u001b[0mprint\u001b[0m\u001b[1;33m(\u001b[0m\u001b[0mi\u001b[0m\u001b[1;33m)\u001b[0m\u001b[1;33m\u001b[0m\u001b[1;33m\u001b[0m\u001b[0m\n\u001b[1;32m---> 10\u001b[1;33m             \u001b[0mdfs\u001b[0m\u001b[1;33m(\u001b[0m\u001b[0md\u001b[0m\u001b[1;33m,\u001b[0m\u001b[0mans\u001b[0m\u001b[1;33m+\u001b[0m\u001b[1;33m[\u001b[0m\u001b[0md\u001b[0m\u001b[1;33m[\u001b[0m\u001b[0mi\u001b[0m\u001b[1;33m]\u001b[0m\u001b[1;33m]\u001b[0m\u001b[1;33m,\u001b[0m\u001b[0mi\u001b[0m\u001b[1;33m)\u001b[0m\u001b[1;33m\u001b[0m\u001b[1;33m\u001b[0m\u001b[0m\n\u001b[0m\u001b[0;32m     11\u001b[0m \u001b[1;33m\u001b[0m\u001b[0m\n\u001b[0;32m     12\u001b[0m \u001b[1;33m\u001b[0m\u001b[0m\n",
      "\u001b[1;32m<ipython-input-141-c564d502a8c6>\u001b[0m in \u001b[0;36mdfs\u001b[1;34m(d, ans, trip)\u001b[0m\n\u001b[0;32m      8\u001b[0m             \u001b[0md\u001b[0m\u001b[1;33m[\u001b[0m\u001b[0mtrip\u001b[0m\u001b[1;33m]\u001b[0m\u001b[1;33m.\u001b[0m\u001b[0mpop\u001b[0m\u001b[1;33m(\u001b[0m\u001b[0md\u001b[0m\u001b[1;33m[\u001b[0m\u001b[0mtrip\u001b[0m\u001b[1;33m]\u001b[0m\u001b[1;33m.\u001b[0m\u001b[0mindex\u001b[0m\u001b[1;33m(\u001b[0m\u001b[0mi\u001b[0m\u001b[1;33m)\u001b[0m\u001b[1;33m)\u001b[0m\u001b[1;33m\u001b[0m\u001b[1;33m\u001b[0m\u001b[0m\n\u001b[0;32m      9\u001b[0m             \u001b[0mprint\u001b[0m\u001b[1;33m(\u001b[0m\u001b[0mi\u001b[0m\u001b[1;33m)\u001b[0m\u001b[1;33m\u001b[0m\u001b[1;33m\u001b[0m\u001b[0m\n\u001b[1;32m---> 10\u001b[1;33m             \u001b[0mdfs\u001b[0m\u001b[1;33m(\u001b[0m\u001b[0md\u001b[0m\u001b[1;33m,\u001b[0m\u001b[0mans\u001b[0m\u001b[1;33m+\u001b[0m\u001b[1;33m[\u001b[0m\u001b[0md\u001b[0m\u001b[1;33m[\u001b[0m\u001b[0mi\u001b[0m\u001b[1;33m]\u001b[0m\u001b[1;33m]\u001b[0m\u001b[1;33m,\u001b[0m\u001b[0mi\u001b[0m\u001b[1;33m)\u001b[0m\u001b[1;33m\u001b[0m\u001b[1;33m\u001b[0m\u001b[0m\n\u001b[0m\u001b[0;32m     11\u001b[0m \u001b[1;33m\u001b[0m\u001b[0m\n\u001b[0;32m     12\u001b[0m \u001b[1;33m\u001b[0m\u001b[0m\n",
      "\u001b[1;32m<ipython-input-141-c564d502a8c6>\u001b[0m in \u001b[0;36mdfs\u001b[1;34m(d, ans, trip)\u001b[0m\n\u001b[0;32m      8\u001b[0m             \u001b[0md\u001b[0m\u001b[1;33m[\u001b[0m\u001b[0mtrip\u001b[0m\u001b[1;33m]\u001b[0m\u001b[1;33m.\u001b[0m\u001b[0mpop\u001b[0m\u001b[1;33m(\u001b[0m\u001b[0md\u001b[0m\u001b[1;33m[\u001b[0m\u001b[0mtrip\u001b[0m\u001b[1;33m]\u001b[0m\u001b[1;33m.\u001b[0m\u001b[0mindex\u001b[0m\u001b[1;33m(\u001b[0m\u001b[0mi\u001b[0m\u001b[1;33m)\u001b[0m\u001b[1;33m)\u001b[0m\u001b[1;33m\u001b[0m\u001b[1;33m\u001b[0m\u001b[0m\n\u001b[0;32m      9\u001b[0m             \u001b[0mprint\u001b[0m\u001b[1;33m(\u001b[0m\u001b[0mi\u001b[0m\u001b[1;33m)\u001b[0m\u001b[1;33m\u001b[0m\u001b[1;33m\u001b[0m\u001b[0m\n\u001b[1;32m---> 10\u001b[1;33m             \u001b[0mdfs\u001b[0m\u001b[1;33m(\u001b[0m\u001b[0md\u001b[0m\u001b[1;33m,\u001b[0m\u001b[0mans\u001b[0m\u001b[1;33m+\u001b[0m\u001b[1;33m[\u001b[0m\u001b[0md\u001b[0m\u001b[1;33m[\u001b[0m\u001b[0mi\u001b[0m\u001b[1;33m]\u001b[0m\u001b[1;33m]\u001b[0m\u001b[1;33m,\u001b[0m\u001b[0mi\u001b[0m\u001b[1;33m)\u001b[0m\u001b[1;33m\u001b[0m\u001b[1;33m\u001b[0m\u001b[0m\n\u001b[0m\u001b[0;32m     11\u001b[0m \u001b[1;33m\u001b[0m\u001b[0m\n\u001b[0;32m     12\u001b[0m \u001b[1;33m\u001b[0m\u001b[0m\n",
      "\u001b[1;31mKeyError\u001b[0m: 'BBB'"
     ]
    }
   ],
   "source": [
    "answer=[]\n",
    "\n",
    "ans=['JFK']\n",
    "trip='JFK'\n",
    "def dfs(d,ans,trip):\n",
    "    if d.get(trip) and len(ans)<=len(tickets):\n",
    "        for i in d[trip]: \n",
    "            d[trip].pop(d[trip].index(i))\n",
    "            print(i)\n",
    "            dfs(d,ans+[d[i]],i)\n",
    "            \n",
    "\n",
    "            \n",
    "    else:\n",
    "        answer.append(ans)\n",
    "        return\n",
    "dfs(d,ans,trip)      \n",
    "        \n"
   ]
  },
  {
   "cell_type": "code",
   "execution_count": 142,
   "metadata": {},
   "outputs": [
    {
     "data": {
      "text/plain": [
       "[]"
      ]
     },
     "execution_count": 142,
     "metadata": {},
     "output_type": "execute_result"
    }
   ],
   "source": [
    "answer"
   ]
  },
  {
   "cell_type": "markdown",
   "metadata": {},
   "source": [
    "## 결국 재귀로.. "
   ]
  },
  {
   "cell_type": "code",
   "execution_count": 125,
   "metadata": {},
   "outputs": [
    {
     "name": "stdout",
     "output_type": "stream",
     "text": [
      "['JFK', 'AAA']\n",
      "['JFK', 'AAA', 'JFK']\n",
      "['JFK', 'AAA', 'JFK', 'BBB']\n",
      "['JFK', 'CCC']\n",
      "['JFK', 'CCC', 'JFK']\n",
      "['JFK', 'CCC', 'JFK', 'AAA']\n",
      "['JFK', 'CCC', 'JFK', 'AAA', 'JFK']\n",
      "['JFK', 'CCC', 'JFK', 'AAA', 'JFK', 'BBB']\n",
      "['JFK', 'CCC']\n",
      "['JFK', 'CCC', 'JFK']\n",
      "['JFK', 'CCC', 'JFK', 'AAA']\n",
      "['JFK', 'CCC', 'JFK', 'AAA', 'JFK']\n",
      "['JFK', 'CCC', 'JFK', 'AAA', 'JFK', 'BBB']\n"
     ]
    }
   ],
   "source": [
    "\n",
    "answer=[]\n",
    "\n",
    "\n",
    "while(1):\n",
    "    ans=['JFK']\n",
    "    trip='JFK'\n",
    "    while d.get(trip) and len(ans)<=len(tickets):\n",
    "        \n",
    "        x=d[trip][0]\n",
    "        ans.append(d[trip][0])\n",
    "        y=d[trip].pop(0)\n",
    "        d[trip].append(y)\n",
    "        trip=x\n",
    "        print(ans)\n",
    "    if ans not in answer:\n",
    "        answer.append(ans)\n",
    "    else:\n",
    "        break\n",
    "    "
   ]
  },
  {
   "cell_type": "code",
   "execution_count": 126,
   "metadata": {},
   "outputs": [
    {
     "data": {
      "text/plain": [
       "[['JFK', 'AAA', 'JFK', 'BBB'], ['JFK', 'CCC', 'JFK', 'AAA', 'JFK', 'BBB']]"
      ]
     },
     "execution_count": 126,
     "metadata": {},
     "output_type": "execute_result"
    }
   ],
   "source": [
    "answer"
   ]
  },
  {
   "cell_type": "code",
   "execution_count": 118,
   "metadata": {},
   "outputs": [
    {
     "name": "stdout",
     "output_type": "stream",
     "text": [
      "['JFK', 'ATL']\n",
      "['JFK', 'ATL', 'JFK']\n",
      "['JFK', 'ATL', 'JFK', 'SFO']\n",
      "['JFK', 'ATL', 'JFK', 'SFO', 'ATL']\n",
      "['JFK', 'ATL', 'JFK', 'SFO', 'ATL', 'SFO']\n",
      "['JFK', 'ATL']\n",
      "['JFK', 'ATL', 'JFK']\n",
      "['JFK', 'ATL', 'JFK', 'SFO']\n",
      "['JFK', 'ATL', 'JFK', 'SFO', 'ATL']\n",
      "['JFK', 'ATL', 'JFK', 'SFO', 'ATL', 'SFO']\n"
     ]
    }
   ],
   "source": [
    "\n",
    "answer=[]\n",
    "\n",
    "\n",
    "while(1):\n",
    "    ans=['JFK']\n",
    "    trip='JFK'\n",
    "    while d.get(trip) and len(ans)<=len(tickets):\n",
    "        x=d[trip][0]\n",
    "        ans.append(d[trip][0])\n",
    "        y=d[trip].pop(0)\n",
    "        d[trip].append(y)\n",
    "        trip=x\n",
    "        print(ans)\n",
    "    if ans not in answer:\n",
    "        answer.append(ans)\n",
    "    else:\n",
    "        break\n",
    "    "
   ]
  },
  {
   "cell_type": "code",
   "execution_count": 112,
   "metadata": {},
   "outputs": [
    {
     "data": {
      "text/plain": [
       "[['JFK', 'ATL', 'JFK', 'SFO', 'ATL', 'SFO', 'ATL']]"
      ]
     },
     "execution_count": 112,
     "metadata": {},
     "output_type": "execute_result"
    }
   ],
   "source": [
    "answer\n",
    "answer.sort(key=len,reverse=True)\n",
    "answer"
   ]
  }
 ],
 "metadata": {
  "kernelspec": {
   "display_name": "Python 3",
   "language": "python",
   "name": "python3"
  },
  "language_info": {
   "codemirror_mode": {
    "name": "ipython",
    "version": 3
   },
   "file_extension": ".py",
   "mimetype": "text/x-python",
   "name": "python",
   "nbconvert_exporter": "python",
   "pygments_lexer": "ipython3",
   "version": "3.8.5"
  }
 },
 "nbformat": 4,
 "nbformat_minor": 4
}
