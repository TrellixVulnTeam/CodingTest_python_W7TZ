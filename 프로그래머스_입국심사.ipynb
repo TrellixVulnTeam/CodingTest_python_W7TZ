{
 "cells": [
  {
   "cell_type": "code",
   "execution_count": null,
   "metadata": {},
   "outputs": [],
   "source": [
    "from collections import deque\n",
    "def solution(n, times):\n",
    "    lst = deque([])\n",
    "    times.sort()\n",
    "    o_times = [x for x in times]\n",
    "    cnt=0\n",
    "    val=0\n",
    "    while(cnt<n):\n",
    "        cnt+=1\n",
    "        t = times.index(min(times))\n",
    "        val = times[t]\n",
    "        times[t]+=o_times[t]\n",
    "        \n",
    "    return val\n",
    "#     o_n=n\n",
    "#     o_times = [x for x in times]\n",
    "#     times.sort()\n",
    "#     res = deque([])\n",
    "    \n",
    "#     while(n):\n",
    "#         tmp = [x for x in range(len(times)) if times[x] == min(times)]\n",
    "#         for i in tmp:\n",
    "#             res.append(times[i])\n",
    "#             times[i] += o_times[i]\n",
    "#         n-=1\n",
    "#         if len(res)==o_n:\n",
    "#             break\n",
    "#     return res[-1]"
   ]
  },
  {
   "cell_type": "code",
   "execution_count": 1,
   "metadata": {},
   "outputs": [
    {
     "name": "stdout",
     "output_type": "stream",
     "text": [
      "[1, 3, 7, 4]\n"
     ]
    }
   ],
   "source": [
    "import heapq\n",
    "heap = []\n",
    "heapq.heappush(heap, 4)\n",
    "heapq.heappush(heap, 1)\n",
    "heapq.heappush(heap, 7)\n",
    "heapq.heappush(heap, 3)\n",
    "print(heap)"
   ]
  },
  {
   "cell_type": "code",
   "execution_count": 17,
   "metadata": {},
   "outputs": [
    {
     "name": "stdout",
     "output_type": "stream",
     "text": [
      "[4, 1, 7]\n",
      "<class 'list'>\n",
      "[1, 4, 7]\n",
      "<class 'list'>\n"
     ]
    }
   ],
   "source": [
    "heap = []\n",
    "heap.append(4)\n",
    "heap.append(1)\n",
    "heap.append(7)\n",
    "print(heap)\n",
    "heapq.heapify(heap)\n",
    "print(heap)"
   ]
  },
  {
   "cell_type": "code",
   "execution_count": 25,
   "metadata": {},
   "outputs": [
    {
     "name": "stdout",
     "output_type": "stream",
     "text": [
      "[8, 10, 20, 16, 30, 24, 40, 32, 50, 40, 60, 48]\n",
      "[8, 10, 16, 20, 24, 30, 32, 40, 40, 48, 50, 60]\n"
     ]
    }
   ],
   "source": [
    "times = [10,8]\n",
    "cnt=1\n",
    "n=6\n",
    "lst2 = []\n",
    "heapq.heapify(lst2)\n",
    "while(cnt<=n):\n",
    "    for i in times:\n",
    "        heapq.heappush(lst2,i*cnt)\n",
    "    cnt+=1\n",
    "    \n",
    "print(lst2)"
   ]
  },
  {
   "cell_type": "code",
   "execution_count": 30,
   "metadata": {},
   "outputs": [
    {
     "name": "stdout",
     "output_type": "stream",
     "text": [
      "[7, 10, 14, 20, 21, 28, 30, 35, 40, 50]\n",
      "0\n"
     ]
    },
    {
     "data": {
      "text/plain": [
       "0"
      ]
     },
     "execution_count": 30,
     "metadata": {},
     "output_type": "execute_result"
    }
   ],
   "source": [
    "import heapq\n",
    "import bisect\n",
    "def solution(n, times):\n",
    "    lst = []\n",
    "    mul = 1\n",
    "    \n",
    "    while(mul<(n)):\n",
    "        for i in times:\n",
    "            lst.append(i*mul)\n",
    "        mul+=1\n",
    "    print(sorted(lst))\n",
    "    print(bisect.bisect(sorted(lst),n))\n",
    "    return 0\n",
    "\n",
    "\n",
    "n=6\n",
    "times = [7,10]\n",
    "solution(n,times)"
   ]
  },
  {
   "cell_type": "code",
   "execution_count": 27,
   "metadata": {},
   "outputs": [
    {
     "name": "stdout",
     "output_type": "stream",
     "text": [
      "3\n"
     ]
    }
   ],
   "source": [
    "import bisect\n",
    "mylist = [1, 2, 3, 7, 9, 11, 33]\n",
    "print(bisect.bisect(mylist, 3))"
   ]
  },
  {
   "cell_type": "code",
   "execution_count": 36,
   "metadata": {},
   "outputs": [
    {
     "name": "stdout",
     "output_type": "stream",
     "text": [
      "[7, 10, 14, 20, 21, 28, 30, 35, 40, 42, 50, 60]\n"
     ]
    },
    {
     "data": {
      "text/plain": [
       "28"
      ]
     },
     "execution_count": 36,
     "metadata": {},
     "output_type": "execute_result"
    }
   ],
   "source": [
    "import bisect\n",
    "def solution(n, times):\n",
    "    lst = []\n",
    "    \n",
    "    mul = 1\n",
    "    while(mul<=n):\n",
    "        for i in times:\n",
    "            bisect.insort_left(lst,i*mul)\n",
    "        mul+=1\n",
    "        \n",
    "    \n",
    "    print(lst)\n",
    "    \n",
    "    return lst[n-1]\n",
    "\n",
    "n=6\n",
    "times = [7,10]\n",
    "solution(n,times)"
   ]
  },
  {
   "cell_type": "code",
   "execution_count": 37,
   "metadata": {},
   "outputs": [
    {
     "data": {
      "text/plain": [
       "28"
      ]
     },
     "execution_count": 37,
     "metadata": {},
     "output_type": "execute_result"
    }
   ],
   "source": [
    "def solution(n, times):\n",
    "    standard = max(times)*n\n",
    "    left = 0\n",
    "    right = standard\n",
    "    \n",
    "    while(left<right):\n",
    "        mid = (left+right)//2\n",
    "        \n",
    "        sub = []\n",
    "        for i in times:\n",
    "            sub.append(mid//i)\n",
    "            \n",
    "        if sum(sub)>=n:\n",
    "            right = mid\n",
    "            \n",
    "        else:\n",
    "            left = mid +1\n",
    "    answer = left\n",
    "    return answer\n",
    "\n",
    "\n",
    "n=6\n",
    "times = [7,10]\n",
    "solution(n,times)"
   ]
  },
  {
   "cell_type": "code",
   "execution_count": 39,
   "metadata": {},
   "outputs": [
    {
     "data": {
      "text/plain": [
       "4"
      ]
     },
     "execution_count": 39,
     "metadata": {},
     "output_type": "execute_result"
    }
   ],
   "source": [
    "\n",
    "def search(nums, target):\n",
    "    \n",
    "    left = 0\n",
    "    right = len(nums)\n",
    "    \n",
    "    while(left<=right):\n",
    "        mid = (left+right)//2\n",
    "        \n",
    "        if nums[mid]>target:\n",
    "            right = mid-1\n",
    "            \n",
    "        elif nums[mid] < target:\n",
    "            left = mid+1\n",
    "            \n",
    "        else:\n",
    "            return mid\n",
    "\n",
    "    return -1\n",
    "\n",
    "nums = [-1,0,3,5,9,12]\n",
    "target = 9\n",
    "search(nums,target)"
   ]
  },
  {
   "cell_type": "code",
   "execution_count": 43,
   "metadata": {},
   "outputs": [
    {
     "name": "stdout",
     "output_type": "stream",
     "text": [
      "1 1 2\n"
     ]
    }
   ],
   "source": [
    "nums = [3,1]\n",
    "target=3\n",
    "\n",
    "f = nums.index(min(nums))\n",
    "nums.sort()\n",
    "left = 0\n",
    "right = len(nums)-1\n",
    "while(left<=right):\n",
    "    mid = (left+right)//2\n",
    "    if nums[mid]>target:\n",
    "        right = mid-1\n",
    "    elif nums[mid]< target:\n",
    "        left = mid+1\n",
    "    else:\n",
    "        print(mid,f,mid+f)\n",
    "        break\n",
    "\n"
   ]
  }
 ],
 "metadata": {
  "kernelspec": {
   "display_name": "Python 3",
   "language": "python",
   "name": "python3"
  },
  "language_info": {
   "codemirror_mode": {
    "name": "ipython",
    "version": 3
   },
   "file_extension": ".py",
   "mimetype": "text/x-python",
   "name": "python",
   "nbconvert_exporter": "python",
   "pygments_lexer": "ipython3",
   "version": "3.7.9"
  }
 },
 "nbformat": 4,
 "nbformat_minor": 4
}
