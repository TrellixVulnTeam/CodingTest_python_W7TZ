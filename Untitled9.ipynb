{
 "cells": [
  {
   "cell_type": "code",
   "execution_count": 45,
   "metadata": {},
   "outputs": [
    {
     "name": "stdout",
     "output_type": "stream",
     "text": [
      "['100', '200', '300', '500', '20']\n",
      "['-', '*', '-', '+']\n"
     ]
    },
    {
     "data": {
      "text/plain": [
       "['100', '-', '200', '*', '300', '-', '500', '+', '20']"
      ]
     },
     "execution_count": 45,
     "metadata": {},
     "output_type": "execute_result"
    }
   ],
   "source": [
    "import re\n",
    "expression = \"100-200*300-500+20\"\n",
    "#expression = \"50*6-3*2\"\n",
    "\n",
    "p=re.compile('[0-9]+')\n",
    "p2 = re.compile('[^0-9]+')\n",
    "res = p.findall(expression)\n",
    "\n",
    "\n",
    "res2 = p2.findall(expression)\n",
    "print(res)\n",
    "print(res2)\n",
    "\n",
    "new_expression = []\n",
    "for i,j in zip(res[:-1],res2):\n",
    "    new_expression.append(i)\n",
    "    new_expression.append(j)\n",
    "    \n",
    "new_expression.append(res[-1])\n",
    "new_expression"
   ]
  },
  {
   "cell_type": "code",
   "execution_count": 47,
   "metadata": {},
   "outputs": [
    {
     "name": "stdout",
     "output_type": "stream",
     "text": [
      "('-', '+', '*')\n",
      "['100']\n",
      "['-100', '*']\n",
      "['-100', '*', '300']\n",
      "['-100', '*', '-200', '+']\n",
      "['-100', '*', '-200', '+', '20']\n",
      "['-100']\n",
      "['-100', '*']\n",
      "['-100', '*', '-200']\n",
      "['-100']\n",
      "['18000']\n",
      "18000\n",
      "\n",
      "('-', '*', '+')\n",
      "['100']\n",
      "['-100', '*']\n",
      "['-100', '*', '300']\n",
      "['-100', '*', '-200', '+']\n",
      "['-100', '*', '-200', '+', '20']\n",
      "['-100']\n",
      "['20000', '+']\n",
      "['20000', '+', '20']\n",
      "['20000']\n",
      "['20020']\n",
      "20020\n",
      "\n",
      "('+', '-', '*')\n",
      "['100']\n",
      "['100', '-']\n",
      "['100', '-', '200']\n",
      "['100', '-', '200', '*']\n",
      "['100', '-', '200', '*', '300']\n",
      "['100', '-', '200', '*', '300', '-']\n",
      "['100', '-', '200', '*', '300', '-', '500']\n",
      "['100']\n",
      "['-100', '*']\n",
      "['-100', '*', '300']\n",
      "['-100']\n",
      "['22000']\n",
      "22000\n",
      "\n",
      "('+', '*', '-')\n",
      "['100']\n",
      "['100', '-']\n",
      "['100', '-', '200']\n",
      "['100', '-', '200', '*']\n",
      "['100', '-', '200', '*', '300']\n",
      "['100', '-', '200', '*', '300', '-']\n",
      "['100', '-', '200', '*', '300', '-', '500']\n",
      "['100']\n",
      "['100', '-']\n",
      "['100', '-', '200']\n",
      "['100', '-', '60000', '-']\n",
      "['100', '-', '60000', '-', '520']\n",
      "['100']\n",
      "['-60420']\n",
      "60420\n",
      "\n",
      "('*', '-', '+')\n",
      "['100']\n",
      "['100', '-']\n",
      "['100', '-', '200']\n",
      "['100', '-', '60000', '-']\n",
      "['100', '-', '60000', '-', '500']\n",
      "['100', '-', '60000', '-', '500', '+']\n",
      "['100', '-', '60000', '-', '500', '+', '20']\n",
      "['100']\n",
      "['-60400', '+']\n",
      "['-60400', '+', '20']\n",
      "['-60400']\n",
      "['-60380']\n",
      "60420\n",
      "\n",
      "('*', '+', '-')\n",
      "['100']\n",
      "['100', '-']\n",
      "['100', '-', '200']\n",
      "['100', '-', '60000', '-']\n",
      "['100', '-', '60000', '-', '500']\n",
      "['100', '-', '60000', '-', '500', '+']\n",
      "['100', '-', '60000', '-', '500', '+', '20']\n",
      "['100']\n",
      "['100', '-']\n",
      "['100', '-', '60000']\n",
      "['100', '-', '60000', '-']\n",
      "['100', '-', '60000', '-', '500']\n",
      "['100']\n",
      "['-60420']\n",
      "60420\n",
      "\n"
     ]
    }
   ],
   "source": [
    "sub = list(permutations(['-','+','*'],3))\n",
    "maxval = 0\n",
    "\n",
    "\n",
    "\n",
    "for i in sub:\n",
    "    print(i)\n",
    "    exp = new_expression\n",
    "    for j in i:\n",
    "        stack = []\n",
    "        flag=False\n",
    "        sub = -1\n",
    "        d=''\n",
    "        \n",
    "        \n",
    "        for e in range(len(exp)):\n",
    "            if exp[e] != j:\n",
    "                if flag:\n",
    "                    tmp = str(eval(sub+d+exp[e]))\n",
    "                    flag=False\n",
    "                    stack.append(tmp)\n",
    "                    \n",
    "                else:\n",
    "                    stack.append(exp[e])\n",
    "                    print(stack)\n",
    "                \n",
    "            else:\n",
    "                sub = stack.pop(-1)\n",
    "                flag=True\n",
    "                d=j\n",
    "                \n",
    "        exp = [x for x in stack]\n",
    "                \n",
    "    print(stack)\n",
    "    #print(''.join(stack))\n",
    "    maxval = max(maxval,abs(eval(''.join(stack))))\n",
    "    print(maxval)\n",
    "\n",
    "    print()\n",
    "    #minval = abs()\n",
    "            "
   ]
  },
  {
   "cell_type": "code",
   "execution_count": 13,
   "metadata": {},
   "outputs": [
    {
     "name": "stdout",
     "output_type": "stream",
     "text": [
      "[('-', '+', '*'), ('-', '*', '+'), ('+', '-', '*'), ('+', '*', '-'), ('*', '-', '+'), ('*', '+', '-')]\n"
     ]
    }
   ],
   "source": [
    "sub = list(permutations(['-','+','*'],3))\n",
    "print(sub)\n",
    "for i in sub:\n",
    "    tmp = ''\n",
    "     for j in i:\n",
    "        for k in range(len(res2)):\n",
    "            if res2[k]==j:\n",
    "                tmp='('+res[k]+j+res[k+1]+')'\n",
    "                eval(tmp)\n",
    "                \n",
    "        \n",
    "        "
   ]
  },
  {
   "cell_type": "code",
   "execution_count": 7,
   "metadata": {},
   "outputs": [
    {
     "data": {
      "text/plain": [
       "[('+', '-', '*'),\n",
       " ('+', '*', '-'),\n",
       " ('-', '+', '*'),\n",
       " ('-', '*', '+'),\n",
       " ('*', '+', '-'),\n",
       " ('*', '-', '+')]"
      ]
     },
     "execution_count": 7,
     "metadata": {},
     "output_type": "execute_result"
    }
   ],
   "source": [
    "from itertools import permutations\n",
    "lst = ['+','-','*']\n",
    "a=list(permutations(lst,3))\n",
    "a"
   ]
  },
  {
   "cell_type": "code",
   "execution_count": 67,
   "metadata": {},
   "outputs": [
    {
     "name": "stdout",
     "output_type": "stream",
     "text": [
      "-2\n",
      "-2\n"
     ]
    }
   ],
   "source": [
    "a=[1,2]\n",
    "b=[3,4]\n",
    "for i,j in zip(a,b):\n",
    "    print(i-j)\n",
    "    \n",
    "    "
   ]
  },
  {
   "cell_type": "code",
   "execution_count": 94,
   "metadata": {},
   "outputs": [],
   "source": [
    "def solution(numbers, hand):\n",
    "    answer = ''\n",
    "    \n",
    "    d={'l':'*','r':'#'}\n",
    "    phone = [[1,2,3],[4,5,6],[7,8,9],['*',0,'#']]\n",
    "    phoneindex = {1:[0,0],2:[0,1],3:[0,2],4:[1,0],5:[1,1],6:[1,2],7:[2,0],8:[2,1],9:[2,2],'*':[3,0],0:[3,1],'#':[3,2]}\n",
    "    \n",
    "    \n",
    "    for i in numbers:\n",
    "        if i in [1,4,7]:\n",
    "            answer+='L'\n",
    "            d['l']=i\n",
    "            \n",
    "        elif i in [3,6,9]:\n",
    "            answer+='R'\n",
    "            d['r']=i\n",
    "            \n",
    "        else:\n",
    "            dist_left = 0\n",
    "            dist_right = 0\n",
    "            \n",
    "            print(phoneindex[i])\n",
    "            print(phoneindex[d['l']])\n",
    "            \n",
    "            print(d['r'])\n",
    "            print(phoneindex[d['r']])\n",
    "            for a,b in zip(phoneindex[i], phoneindex[d['l']]):\n",
    "                dist_left+=abs(a-b)\n",
    "                \n",
    "\n",
    "            \n",
    "            for a,b in zip(phoneindex[i], phoneindex[d['r']]):\n",
    "                dist_right+=abs(a-b)\n",
    "                \n",
    "            if dist_left > dist_right:\n",
    "                d['r']=i\n",
    "                answer+='R'\n",
    "                \n",
    "            elif dist_left < dist_right:\n",
    "                d['l']=i\n",
    "                answer+='L'\n",
    "                \n",
    "            else:\n",
    "                if hand=='right':\n",
    "                    d['r']=i\n",
    "                    answer+='R'\n",
    "                else:\n",
    "                    d['l']=i\n",
    "                    answer+='L'\n",
    "            \n",
    "    \n",
    "    return answer"
   ]
  },
  {
   "cell_type": "code",
   "execution_count": 95,
   "metadata": {},
   "outputs": [
    {
     "name": "stdout",
     "output_type": "stream",
     "text": [
      "[3, 1]\n",
      "[2, 0]\n",
      "#\n",
      "[3, 2]\n",
      "[2, 1]\n",
      "[2, 0]\n",
      "0\n",
      "[3, 1]\n",
      "[0, 1]\n",
      "[2, 1]\n",
      "0\n",
      "[3, 1]\n",
      "[2, 1]\n",
      "[0, 1]\n",
      "0\n",
      "[3, 1]\n",
      "[1, 1]\n",
      "[0, 0]\n",
      "3\n",
      "[0, 2]\n",
      "[0, 1]\n",
      "[2, 0]\n",
      "6\n",
      "[1, 2]\n"
     ]
    },
    {
     "data": {
      "text/plain": [
       "'LRLLRRLLLRR'"
      ]
     },
     "execution_count": 95,
     "metadata": {},
     "output_type": "execute_result"
    }
   ],
   "source": [
    "numbers = [1, 3, 4, 5, 8, 2, 1, 4, 5, 9, 5]\n",
    "numbers = [7, 0, 8, 2, 8, 3, 1, 5, 7, 6, 2]\n",
    "hands = 'right'\n",
    "hands = 'left'\n",
    "solution(numbers,hands)"
   ]
  },
  {
   "cell_type": "code",
   "execution_count": 99,
   "metadata": {},
   "outputs": [
    {
     "data": {
      "text/plain": [
       "2"
      ]
     },
     "execution_count": 99,
     "metadata": {},
     "output_type": "execute_result"
    }
   ],
   "source": [
    "a=[1,5,8,2,5,5,8,8]\n",
    "a.index(8)"
   ]
  },
  {
   "cell_type": "code",
   "execution_count": 103,
   "metadata": {},
   "outputs": [
    {
     "data": {
      "text/plain": [
       "[('l', 3),\n",
       " ('o', 3),\n",
       " ('h', 1),\n",
       " ('e', 1),\n",
       " (' ', 1),\n",
       " ('w', 1),\n",
       " ('r', 1),\n",
       " ('d', 1)]"
      ]
     },
     "execution_count": 103,
     "metadata": {},
     "output_type": "execute_result"
    }
   ],
   "source": [
    "from collections import Counter\n",
    "\n",
    "Counter('helloo world').most_common() # [('l', 3), ('o', 2), ('h', 1), ('e', 1), (' ', 1), ('w', 1), ('r', 1), ('d', 1)]"
   ]
  }
 ],
 "metadata": {
  "kernelspec": {
   "display_name": "Python 3",
   "language": "python",
   "name": "python3"
  },
  "language_info": {
   "codemirror_mode": {
    "name": "ipython",
    "version": 3
   },
   "file_extension": ".py",
   "mimetype": "text/x-python",
   "name": "python",
   "nbconvert_exporter": "python",
   "pygments_lexer": "ipython3",
   "version": "3.8.5"
  }
 },
 "nbformat": 4,
 "nbformat_minor": 4
}
