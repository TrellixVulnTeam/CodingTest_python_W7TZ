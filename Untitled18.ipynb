{
 "cells": [
  {
   "cell_type": "code",
   "execution_count": 8,
   "metadata": {},
   "outputs": [
    {
     "name": "stdout",
     "output_type": "stream",
     "text": [
      "sub [['1101']]\n",
      "sub [['110100110', '111000110', '101100110', '100110110', '100111010', '100111100']]\n",
      "sub [['1100111110', '0110111110', '0111011110', '0111101110', '0111110110', '0111111010', '0111111100']]\n",
      "[['1101'], ['110100110', '111000110', '101100110', '100110110', '100111010', '100111100'], ['1100111110', '0110111110', '0111011110', '0111101110', '0111110110', '0111111010', '0111111100']]\n"
     ]
    }
   ],
   "source": [
    "def solution(s):\n",
    "    \n",
    "    answer = []\n",
    "    for nu in s:\n",
    "        sub = []\n",
    "        for j in range(len(nu)-2):\n",
    "            tmp = []\n",
    "            if nu[j:j+3]==\"110\":\n",
    "                str_new = nu[:j]+nu[j+3:]\n",
    "                \n",
    "                for k in range(len(str_new)):\n",
    "                    tmp.append(str_new[:k]+\"110\"+str_new[k:])               \n",
    "            if tmp:\n",
    "                sub.append(tmp)\n",
    "        \n",
    "        #sub.sort()\n",
    "        print(\"sub\",sub)\n",
    "        answer.append(sub[0])\n",
    "    \n",
    "    print(answer)\n",
    "    \n",
    "s = [\"1110\",\"100111100\",\"0111111010\"]\n",
    "solution(s)"
   ]
  }
 ],
 "metadata": {
  "kernelspec": {
   "display_name": "Python 3",
   "language": "python",
   "name": "python3"
  },
  "language_info": {
   "codemirror_mode": {
    "name": "ipython",
    "version": 3
   },
   "file_extension": ".py",
   "mimetype": "text/x-python",
   "name": "python",
   "nbconvert_exporter": "python",
   "pygments_lexer": "ipython3",
   "version": "3.7.9"
  }
 },
 "nbformat": 4,
 "nbformat_minor": 4
}
