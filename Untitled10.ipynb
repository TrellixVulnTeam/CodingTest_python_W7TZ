{
 "cells": [
  {
   "cell_type": "code",
   "execution_count": 38,
   "metadata": {},
   "outputs": [],
   "source": [
    "\n",
    "def multiply(lst):\n",
    "        ans = 1\n",
    "        for k in lst:\n",
    "            ans*=k\n",
    "        return ans\n",
    "    \n",
    "res= -1\n",
    "final = []\n",
    "def dfs(cnt,sub):\n",
    "    global res\n",
    "    global final\n",
    "    \n",
    "    if cnt==n:\n",
    "        if sum(sub)==s:\n",
    "            if res < multiply(sub):\n",
    "                res = multiply(sub)\n",
    "                final+=[sub]\n",
    "                return final\n",
    "        else:\n",
    "            return \n",
    "            \n",
    "    for i in range(1,s+1):\n",
    "        dfs(cnt+1,sub+[i])\n",
    "\n",
    "def solution(n, s):\n",
    "    global final\n",
    "    \n",
    "    answer = []\n",
    "    if n>s:\n",
    "        return [-1]\n",
    "    \n",
    "    \n",
    "    dfs(0,[])\n",
    "    print(final)\n",
    "    return "
   ]
  },
  {
   "cell_type": "code",
   "execution_count": null,
   "metadata": {},
   "outputs": [],
   "source": [
    "n=2\n",
    "s=9\n",
    "solution(n,s)"
   ]
  },
  {
   "cell_type": "code",
   "execution_count": 1,
   "metadata": {},
   "outputs": [
    {
     "data": {
      "text/plain": [
       "[1, 5, 2, 3]"
      ]
     },
     "execution_count": 1,
     "metadata": {},
     "output_type": "execute_result"
    }
   ],
   "source": [
    "lst = [1,2,3]\n",
    "lst.insert(1,5)\n",
    "lst"
   ]
  }
 ],
 "metadata": {
  "kernelspec": {
   "display_name": "Python 3",
   "language": "python",
   "name": "python3"
  },
  "language_info": {
   "codemirror_mode": {
    "name": "ipython",
    "version": 3
   },
   "file_extension": ".py",
   "mimetype": "text/x-python",
   "name": "python",
   "nbconvert_exporter": "python",
   "pygments_lexer": "ipython3",
   "version": "3.7.9"
  }
 },
 "nbformat": 4,
 "nbformat_minor": 4
}
