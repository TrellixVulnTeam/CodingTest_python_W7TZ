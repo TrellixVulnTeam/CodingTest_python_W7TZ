{
 "cells": [
  {
   "cell_type": "code",
   "execution_count": 4,
   "metadata": {},
   "outputs": [
    {
     "data": {
      "text/plain": [
       "3"
      ]
     },
     "execution_count": 4,
     "metadata": {},
     "output_type": "execute_result"
    }
   ],
   "source": [
    "from collections import Counter\n",
    "s=\"abcabcbb\"\n",
    "d=Counter(s)\n",
    "len(d.keys())"
   ]
  },
  {
   "cell_type": "code",
   "execution_count": 38,
   "metadata": {},
   "outputs": [
    {
     "name": "stdout",
     "output_type": "stream",
     "text": [
      "[]\n"
     ]
    }
   ],
   "source": [
    "s=\"pwwkew\"\n",
    "s=\"bbbbb\"\n",
    "s=\"abcabcbb\"\n",
    "s=\" \"\n",
    "if not s:\n",
    "    print(0)\n",
    "\n",
    "if len(s)==1:\n",
    "    print(1)\n",
    "    \n",
    "ans=set()\n",
    "for i in range(len(s)-1):\n",
    "    j=i\n",
    "    sub=s[j]\n",
    "    ans.add(sub)\n",
    "    \n",
    "    while j<len(s)-1 and s[j+1] not in list(sub):\n",
    "        sub+=s[j+1]\n",
    "        j+=1\n",
    "        \n",
    "    ans.add(sub)\n",
    "    \n",
    "ans=list(ans)\n",
    "print(ans)\n",
    "# ans.sort(key=len,reverse=True)\n",
    "# print(ans)\n",
    "\n",
    "# if not ans:\n",
    "#     print(0)\n",
    "#print(len(ans[0]))"
   ]
  },
  {
   "cell_type": "markdown",
   "metadata": {},
   "source": [
    "## 내답 :  "
   ]
  },
  {
   "cell_type": "code",
   "execution_count": 39,
   "metadata": {},
   "outputs": [],
   "source": [
    "class Solution(object):\n",
    "    def lengthOfLongestSubstring(self, s):\n",
    "        \"\"\"\n",
    "        :type s: str\n",
    "        :rtype: int\n",
    "        \"\"\"\n",
    "        if not s:\n",
    "            return 0\n",
    "        if len(s)==1:\n",
    "            return 1\n",
    "        \n",
    "        ans=set()\n",
    "        for i in range(len(s)-1):\n",
    "            j=i\n",
    "            sub=s[j]\n",
    "            ans.add(sub)\n",
    "            \n",
    "            while j<len(s)-1 and s[j+1] not in list(sub):\n",
    "                sub+=s[j+1]\n",
    "                j+=1\n",
    "            \n",
    "            ans.add(sub)\n",
    "        ans=list(ans)\n",
    "        if not ans:\n",
    "            return 0\n",
    "        ans.sort(key=len,reverse=True)\n",
    "        \n",
    "        return len(ans[0])\n",
    "        \n",
    "        \n",
    "                \n",
    "        "
   ]
  },
  {
   "cell_type": "code",
   "execution_count": 56,
   "metadata": {},
   "outputs": [
    {
     "name": "stdout",
     "output_type": "stream",
     "text": [
      "{'t': 0, 'm': 1} m 1 2\n",
      "{'t': 0, 'm': 2, 'z': 3, 'u': 4, 'x': 5} t 0 1\n",
      "4\n"
     ]
    }
   ],
   "source": [
    "s='bbbbb'\n",
    "s=\"tmmzuxt\"\n",
    "used={}                                                        # 사전에는 어떤 문자(key)의 나중에 등장한 인덱스값(value)이 들어감.\n",
    "max_length = start=0\n",
    "\n",
    "for index, char in enumerate(s):\n",
    "    \n",
    "    # start는 중복된 문자가 나타났을 때, 해당 문자의 인덱스를 가르키도록 하는 포인터역할 \n",
    "    if char in used and start<=used[char]:\n",
    "        start=used[char]+1\n",
    "        print(used,char,used[char],start)\n",
    "        \n",
    "        \n",
    "    else:\n",
    "        max_length=max(max_length, index-start+1)\n",
    "        \n",
    "    used[char]=index                                     # 사전에는 어떤 문자(key)의 나중에 등장한 인덱스값(value)이 들어감.\n",
    "    \n",
    "print(max_length)"
   ]
  },
  {
   "cell_type": "code",
   "execution_count": 42,
   "metadata": {},
   "outputs": [
    {
     "data": {
      "text/plain": [
       "{'a': 3, 'b': 7, 'c': 5}"
      ]
     },
     "execution_count": 42,
     "metadata": {},
     "output_type": "execute_result"
    }
   ],
   "source": [
    "used"
   ]
  }
 ],
 "metadata": {
  "kernelspec": {
   "display_name": "Python 3",
   "language": "python",
   "name": "python3"
  },
  "language_info": {
   "codemirror_mode": {
    "name": "ipython",
    "version": 3
   },
   "file_extension": ".py",
   "mimetype": "text/x-python",
   "name": "python",
   "nbconvert_exporter": "python",
   "pygments_lexer": "ipython3",
   "version": "3.8.5"
  }
 },
 "nbformat": 4,
 "nbformat_minor": 4
}
