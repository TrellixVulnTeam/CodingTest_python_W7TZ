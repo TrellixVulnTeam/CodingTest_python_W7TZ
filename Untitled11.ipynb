{
 "cells": [
  {
   "cell_type": "code",
   "execution_count": 14,
   "metadata": {},
   "outputs": [
    {
     "name": "stdout",
     "output_type": "stream",
     "text": [
      "[(7, 3), (6, 1), (5, 7), (4, 2), (3, 6), (2, 5), (1, 4)]\n",
      "[1, 2] [1, 7, 2, 6, 5, 4]\n",
      "[1, 2]\n"
     ]
    }
   ],
   "source": [
    "a=[(7,3),(6,1),(5,7),(4,2),(3,6),(2,5),(1,4)]\n",
    "a.sort(key=lambda x:-x[0])\n",
    "print(a)\n",
    "j=list(range(1,a[0][1]))\n",
    "i=[x[1] for x in a[1:]]\n",
    "print(j,i)\n",
    "res = [x for x in i if x in j]\n",
    "print(res)"
   ]
  }
 ],
 "metadata": {
  "kernelspec": {
   "display_name": "Python 3",
   "language": "python",
   "name": "python3"
  },
  "language_info": {
   "codemirror_mode": {
    "name": "ipython",
    "version": 3
   },
   "file_extension": ".py",
   "mimetype": "text/x-python",
   "name": "python",
   "nbconvert_exporter": "python",
   "pygments_lexer": "ipython3",
   "version": "3.8.5"
  }
 },
 "nbformat": 4,
 "nbformat_minor": 4
}
