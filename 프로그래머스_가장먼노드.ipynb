{
 "cells": [
  {
   "cell_type": "code",
   "execution_count": null,
   "metadata": {},
   "outputs": [],
   "source": [
    "from collections import defaultdict\n",
    "from collections import deque\n",
    "\n",
    "\n",
    "def solution(n, edge):\n",
    "    d = defaultdict(list)\n",
    "    memo = set()\n",
    "    ans = defaultdict(int)\n",
    "\n",
    "    for i in edge:\n",
    "        d[i[0]] += [i[1]]\n",
    "        d[i[1]] += [i[0]]\n",
    "\n",
    "    q = deque([(1, 1)])\n",
    "    while q:\n",
    "        node, cnt = q.popleft()\n",
    "        # print(node,cnt)\n",
    "\n",
    "        if node in memo:\n",
    "            continue\n",
    "        memo.add(node)\n",
    "        ans[cnt] += 1\n",
    "        cnt += 1\n",
    "        for j in d[node]:\n",
    "            if j in memo:\n",
    "                continue\n",
    "            q.append((j, cnt))\n",
    "\n",
    "    return ans[sorted(ans.keys())[-1]]\n",
    "\n",
    "n=6\n",
    "vertex=[[3, 6], [4, 3], [3, 2], [1, 3], [1, 2], [2, 4], [5, 2]]\n",
    "print(solution(n,vertex))"
   ]
  },
  {
   "cell_type": "code",
   "execution_count": null,
   "metadata": {},
   "outputs": [],
   "source": [
    "# def dfs(num,cnt):\n",
    "#     print(num,cnt)\n",
    "#     if num in memo:\n",
    "#         return\n",
    "#     memo.append(num)\n",
    "#     ans[cnt]+=1\n",
    "#     cnt+=1\n",
    "#     for j in d[num]:\n",
    "#         if j in memo:\n",
    "#             continue\n",
    "#         dfs(j,cnt)\n",
    "    \n",
    "# dfs(1,1)"
   ]
  }
 ],
 "metadata": {
  "kernelspec": {
   "display_name": "Python 3",
   "language": "python",
   "name": "python3"
  },
  "language_info": {
   "codemirror_mode": {
    "name": "ipython",
    "version": 3
   },
   "file_extension": ".py",
   "mimetype": "text/x-python",
   "name": "python",
   "nbconvert_exporter": "python",
   "pygments_lexer": "ipython3",
   "version": "3.8.5"
  }
 },
 "nbformat": 4,
 "nbformat_minor": 4
}
