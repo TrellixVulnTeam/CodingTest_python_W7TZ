{
 "cells": [
  {
   "cell_type": "code",
   "execution_count": 4,
   "metadata": {},
   "outputs": [],
   "source": [
    "from collections import defaultdict\n",
    "def solution(arrows):\n",
    "    answer = 0\n",
    "    move = {0:[-1,0],1:[-1,1],2:[0,1],3:[1,1],4:[1,0],5:[1,-1],6:[0,-1],7:[-1,-1]}\n",
    "    visit = {}\n",
    "    \n",
    "    x,y = 0,0\n",
    "    res=0\n",
    "    visit[(0,0)]=1\n",
    "    tmp=1\n",
    "    for i in arrows:\n",
    "        if (x+move[i][0], y+move[i][1]) not in visit:\n",
    "            visit[(x+move[i][0], y+move[i][1])]=1\n",
    "            tmp+=1\n",
    "            \n",
    "        elif visit[(x+move[i][0], y+move[i][1])]==1 and tmp>=2:\n",
    "            visit[(x+move[i][0], y+move[i][1])]+=1\n",
    "            tmp=1\n",
    "            res+=1\n",
    "            \n",
    "        x += move[i][0]\n",
    "        y += move[i][1]\n",
    "        \n",
    "    print(visit)\n",
    "        \n",
    "    return res"
   ]
  },
  {
   "cell_type": "code",
   "execution_count": 5,
   "metadata": {},
   "outputs": [
    {
     "name": "stdout",
     "output_type": "stream",
     "text": [
      "{(0, 0): 2, (0, -1): 2, (1, 0): 2, (1, -1): 2, (0, -2): 1, (1, -2): 1, (2, -1): 1, (2, 0): 1}\n"
     ]
    },
    {
     "data": {
      "text/plain": [
       "4"
      ]
     },
     "execution_count": 5,
     "metadata": {},
     "output_type": "execute_result"
    }
   ],
   "source": [
    "arrows = [6, 2, 4, 0, 5, 0, 6, 4, 2, 4, 2, 0]\n",
    "solution(arrows)"
   ]
  },
  {
   "cell_type": "code",
   "execution_count": null,
   "metadata": {},
   "outputs": [],
   "source": []
  }
 ],
 "metadata": {
  "kernelspec": {
   "display_name": "Python 3",
   "language": "python",
   "name": "python3"
  },
  "language_info": {
   "codemirror_mode": {
    "name": "ipython",
    "version": 3
   },
   "file_extension": ".py",
   "mimetype": "text/x-python",
   "name": "python",
   "nbconvert_exporter": "python",
   "pygments_lexer": "ipython3",
   "version": "3.8.5"
  }
 },
 "nbformat": 4,
 "nbformat_minor": 4
}
