{
 "cells": [
  {
   "cell_type": "code",
   "execution_count": 26,
   "metadata": {},
   "outputs": [],
   "source": [
    "from collections import Counter\n",
    "import heapq"
   ]
  },
  {
   "cell_type": "code",
   "execution_count": 27,
   "metadata": {},
   "outputs": [],
   "source": [
    "nums = [1,1,1,2,2,3]\n",
    "k = 2"
   ]
  },
  {
   "cell_type": "code",
   "execution_count": 28,
   "metadata": {},
   "outputs": [],
   "source": [
    "class Solution(object):\n",
    "    def topKFrequent(self, nums, k):\n",
    "        #K번이상 등장하는 요소를 추출하라\n",
    "        \"\"\"\n",
    "        :type nums: List[int]\n",
    "        :type k: int\n",
    "        :rtype: List[int]\n",
    "        \"\"\"\n",
    "        d=Counter(nums).most_common(k)  # most_common(k)  데이터의 개수가 많은 순으로 정렬된 배열(k개)을 리턴\n",
    "        ans=[]\n",
    "        for i in d:\n",
    "            ans.append(i[0])\n",
    "            \n",
    "        return ans"
   ]
  },
  {
   "cell_type": "code",
   "execution_count": 31,
   "metadata": {},
   "outputs": [
    {
     "name": "stdout",
     "output_type": "stream",
     "text": [
      "[(-3, 1), (-2, 2), (-1, 3)]\n",
      "[1, 2]\n"
     ]
    }
   ],
   "source": [
    "d=Counter(nums)\n",
    "\n",
    "freqs_heap=[]\n",
    "\n",
    "for i in d:\n",
    "    heapq.heappush(freqs_heap, (-d[i],i))  # -빈도수를 key로, 요소값을 value로 해서 힙큐(freqs_heap)에 넣어줌  (heapq가 최소힙이므로 가장 작은 값이 head에 옴)\n",
    "    \n",
    "print(freqs_heap)\n",
    "\n",
    "topk=list()\n",
    "for _ in range(k):    \n",
    "    topk.append(heapq.heappop(freqs_heap)[1]) # 요소값만 리스트에 넣어서 리턴\n",
    "    \n",
    "print(topk)"
   ]
  },
  {
   "cell_type": "code",
   "execution_count": 32,
   "metadata": {},
   "outputs": [],
   "source": [
    "class Solution(object):\n",
    "    def topKFrequent(self, nums, k):\n",
    "        #K번이상 등장하는 요소를 추출하라\n",
    "        \"\"\"\n",
    "        :type nums: List[int]\n",
    "        :type k: int\n",
    "        :rtype: List[int]\n",
    "        \"\"\"\n",
    "        d=Counter(nums)\n",
    "        freqs_heap=[]\n",
    "        \n",
    "        for i in d:\n",
    "            heapq.heappush(freqs_heap,(-d[i],i))\n",
    "            \n",
    "        topk=list()\n",
    "        for _ in range(k):\n",
    "            topk.append(heapq.heappop(freqs_heap)[1])\n",
    "            \n",
    "        return topk\n",
    "        "
   ]
  },
  {
   "cell_type": "code",
   "execution_count": 39,
   "metadata": {},
   "outputs": [
    {
     "name": "stdout",
     "output_type": "stream",
     "text": [
      "[(1, 3), (2, 2), (3, 1)]\n",
      "[(1, 3), (2, 2)]\n",
      "[((1, 3),), ((2, 2),)]\n",
      "[(1, 2), (3, 2)]\n"
     ]
    }
   ],
   "source": [
    "print(Counter(nums).most_common())\n",
    "\n",
    "print(Counter(nums).most_common(k))  # value값이 가장 큰 k개의 데이터를 출력\n",
    "\n",
    "print(list(zip(Counter(nums).most_common(k)))) \n",
    "\n",
    "print(list(zip(*Counter(nums).most_common(k))))  # (1,3)과 (2,2)로 나눠서 zip -> (1,2), (3,2)"
   ]
  }
 ],
 "metadata": {
  "kernelspec": {
   "display_name": "Python 3",
   "language": "python",
   "name": "python3"
  },
  "language_info": {
   "codemirror_mode": {
    "name": "ipython",
    "version": 3
   },
   "file_extension": ".py",
   "mimetype": "text/x-python",
   "name": "python",
   "nbconvert_exporter": "python",
   "pygments_lexer": "ipython3",
   "version": "3.8.5"
  }
 },
 "nbformat": 4,
 "nbformat_minor": 4
}
