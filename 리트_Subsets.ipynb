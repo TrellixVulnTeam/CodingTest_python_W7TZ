{
 "cells": [
  {
   "cell_type": "code",
   "execution_count": 11,
   "metadata": {},
   "outputs": [],
   "source": [
    "# 순열\n",
    "answer=[]\n",
    "nums=[1,2,3]\n",
    "        \n",
    "def dfs(lst,nums):\n",
    "    answer.append(lst)\n",
    "    for i in range(len(nums)):\n",
    "        dfs(lst+[nums[i]],nums[:i]+nums[i+1:])\n",
    "        \n",
    "\n",
    "    return \n",
    "\n",
    "dfs([],nums)"
   ]
  },
  {
   "cell_type": "markdown",
   "metadata": {},
   "source": [
    "### 내 답 :  "
   ]
  },
  {
   "cell_type": "code",
   "execution_count": 14,
   "metadata": {},
   "outputs": [],
   "source": [
    "# 조합\n",
    "\n",
    "answer=[]\n",
    "nums=[1,2,3]\n",
    "        \n",
    "def dfs(lst,nums):\n",
    "    answer.append(lst)\n",
    "    for i in range(len(nums)):\n",
    "        dfs(lst+[nums[i]],nums[i+1:])\n",
    "        \n",
    "    return \n",
    "\n",
    "dfs([],nums)"
   ]
  },
  {
   "cell_type": "code",
   "execution_count": 15,
   "metadata": {},
   "outputs": [
    {
     "data": {
      "text/plain": [
       "[[], [1], [1, 2], [1, 2, 3], [1, 3], [2], [2, 3], [3]]"
      ]
     },
     "execution_count": 15,
     "metadata": {},
     "output_type": "execute_result"
    }
   ],
   "source": [
    "answer"
   ]
  },
  {
   "cell_type": "code",
   "execution_count": null,
   "metadata": {},
   "outputs": [],
   "source": []
  }
 ],
 "metadata": {
  "kernelspec": {
   "display_name": "Python 3",
   "language": "python",
   "name": "python3"
  },
  "language_info": {
   "codemirror_mode": {
    "name": "ipython",
    "version": 3
   },
   "file_extension": ".py",
   "mimetype": "text/x-python",
   "name": "python",
   "nbconvert_exporter": "python",
   "pygments_lexer": "ipython3",
   "version": "3.8.5"
  }
 },
 "nbformat": 4,
 "nbformat_minor": 4
}
