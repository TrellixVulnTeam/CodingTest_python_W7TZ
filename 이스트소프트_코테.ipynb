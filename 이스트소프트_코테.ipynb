{
 "cells": [
  {
   "cell_type": "code",
   "execution_count": 55,
   "metadata": {},
   "outputs": [
    {
     "name": "stdout",
     "output_type": "stream",
     "text": [
      "3285376499342453\n",
      "38 42\n",
      "\n",
      "3285376499342459\n",
      "44 42\n",
      "\n"
     ]
    },
    {
     "data": {
      "text/plain": [
       "[1, 1, 0, 0, 0, 0]"
      ]
     },
     "execution_count": 55,
     "metadata": {},
     "output_type": "execute_result"
    }
   ],
   "source": [
    "def solution(card_numbers):\n",
    "    answer = []\n",
    "    for i in card_numbers:\n",
    "        even = 0\n",
    "        odd = 0\n",
    "        \n",
    "        if i.count('-')==3 and i[4]=='-' and i[9]=='-' and i[14]=='-' and len(''.join(i.split('-')))==16:\n",
    "            st = ''.join(i.split('-'))\n",
    "            for j in range(-len(st),0):\n",
    "                \n",
    "                if j%2==0:\n",
    "                    if int(st[j])>4:\n",
    "                        t = list(str(int(st[j])*2))\n",
    "                        tmp_s = 0\n",
    "                        for x in t:\n",
    "                            tmp_s+=int(x)\n",
    "                        \n",
    "                        even+=tmp_s\n",
    "                    else:\n",
    "                        even+=int(st[j])*2\n",
    "                        \n",
    "                else:   \n",
    "                    odd+=int(st[j])\n",
    "                    \n",
    "            if (odd+even)%10==0:\n",
    "                answer.append(1)\n",
    "            else:\n",
    "                answer.append(0)\n",
    "                        \n",
    "                        \n",
    "        elif i.count('-')==0 and len(i)==16:\n",
    "            st = i\n",
    "            for j in range(-len(st),0):\n",
    "                \n",
    "                if j%2==0:\n",
    "                    if int(st[j])>4:\n",
    "                        t = list(str(int(st[j])*2))\n",
    "                        tmp_s = 0\n",
    "                        for x in t:\n",
    "                            tmp_s+=int(x)\n",
    "                        \n",
    "                        even+=tmp_s\n",
    "                    else:\n",
    "                        even+=int(st[j])*2\n",
    "                        \n",
    "                else:   \n",
    "                    odd+=int(st[j])\n",
    "                    \n",
    "            print(i)\n",
    "            print(odd,even)\n",
    "            print()\n",
    "            if (odd+even)%10==0:\n",
    "                answer.append(1)\n",
    "            else:\n",
    "                answer.append(0)\n",
    "            \n",
    "            \n",
    "        else:\n",
    "            answer.append(0)\n",
    "\n",
    "            \n",
    "    return answer\n",
    "\n",
    "card_num = [\"3285-3764-9934-2453\"]\n",
    "card_num = [\"3285-3764-9934-2453\", \"3285376499342453\", \"3285-3764-99342453\", \"328537649934245\", \"3285376499342459\", \"3285-3764-9934-2452\"]\n",
    "#card_num = [\"3285376499342459\"]\n",
    "solution(card_num)"
   ]
  },
  {
   "cell_type": "code",
   "execution_count": null,
   "metadata": {},
   "outputs": [],
   "source": []
  }
 ],
 "metadata": {
  "kernelspec": {
   "display_name": "Python 3",
   "language": "python",
   "name": "python3"
  },
  "language_info": {
   "codemirror_mode": {
    "name": "ipython",
    "version": 3
   },
   "file_extension": ".py",
   "mimetype": "text/x-python",
   "name": "python",
   "nbconvert_exporter": "python",
   "pygments_lexer": "ipython3",
   "version": "3.8.5"
  }
 },
 "nbformat": 4,
 "nbformat_minor": 4
}
