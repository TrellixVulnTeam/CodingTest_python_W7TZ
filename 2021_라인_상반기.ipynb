{
 "cells": [
  {
   "cell_type": "code",
   "execution_count": 10,
   "metadata": {},
   "outputs": [
    {
     "data": {
      "text/plain": [
       "{'SI': defaultdict(int,\n",
       "             {'JAVA': 5, 'JAVASCRIPT': 4, 'SQL': 3, 'PYTHON': 2, 'C#': 1}),\n",
       " 'CONTENTS': defaultdict(int,\n",
       "             {'JAVASCRIPT': 5, 'JAVA': 4, 'PYTHON': 3, 'SQL': 2, 'C++': 1}),\n",
       " 'HARDWARE': defaultdict(int,\n",
       "             {'C': 5, 'C++': 4, 'PYTHON': 3, 'JAVA': 2, 'JAVASCRIPT': 1}),\n",
       " 'PORTAL': defaultdict(int,\n",
       "             {'JAVA': 5, 'JAVASCRIPT': 4, 'PYTHON': 3, 'KOTLIN': 2, 'PHP': 1}),\n",
       " 'GAME': defaultdict(int,\n",
       "             {'C++': 5, 'C#': 4, 'JAVASCRIPT': 3, 'C': 2, 'JAVA': 1})}"
      ]
     },
     "execution_count": 10,
     "metadata": {},
     "output_type": "execute_result"
    }
   ],
   "source": [
    "from collections import defaultdict\n",
    "table=[\"SI JAVA JAVASCRIPT SQL PYTHON C#\", \"CONTENTS JAVASCRIPT JAVA PYTHON SQL C++\", \"HARDWARE C C++ PYTHON JAVA JAVASCRIPT\", \"PORTAL JAVA JAVASCRIPT PYTHON KOTLIN PHP\", \"GAME C++ C# JAVASCRIPT C JAVA\"]\n",
    "table_dict={}\n",
    "for i in table:\n",
    "    j=i.split()\n",
    "    tmp=defaultdict(int)\n",
    "    for lan,score in zip(j[1:],range(5,0,-1)):\n",
    "        tmp[lan]=score\n",
    "\n",
    "    table_dict[j[0]]=tmp\n",
    "table_dict\n"
   ]
  },
  {
   "cell_type": "code",
   "execution_count": 2,
   "metadata": {},
   "outputs": [
    {
     "name": "stdout",
     "output_type": "stream",
     "text": [
      "5\n",
      "4\n",
      "3\n",
      "2\n",
      "1\n"
     ]
    }
   ],
   "source": [
    "for i in range(5,0,-1):\n",
    "    print(i)"
   ]
  },
  {
   "cell_type": "code",
   "execution_count": 9,
   "metadata": {},
   "outputs": [
    {
     "data": {
      "text/plain": [
       "defaultdict(None, {'java': 1})"
      ]
     },
     "execution_count": 9,
     "metadata": {},
     "output_type": "execute_result"
    }
   ],
   "source": [
    "a=defaultdict()\n",
    "a['java']=1\n",
    "a"
   ]
  },
  {
   "cell_type": "code",
   "execution_count": 23,
   "metadata": {},
   "outputs": [
    {
     "name": "stdout",
     "output_type": "stream",
     "text": [
      "A\n",
      "a\n",
      "T\n",
      "a\n",
      "+\n",
      "[2]\n",
      "1 1 0 0\n"
     ]
    }
   ],
   "source": [
    "inp_str=\"AaTa+!12-3\"\n",
    "\n",
    "up=low=dig=sp=0\n",
    "answer=[]\n",
    "for i in inp_str:\n",
    "    print(i)\n",
    "    if i.isupper():\n",
    "        if up==0:\n",
    "            up+=1\n",
    "        continue\n",
    "\n",
    "    elif i.islower():\n",
    "        if low==0:\n",
    "            low+=1\n",
    "        continue\n",
    "\n",
    "    elif i.isdigit():\n",
    "        if dig==0:\n",
    "            dig+=1\n",
    "        continue\n",
    "\n",
    "    elif i in list('~!@#$%^&*'):\n",
    "        \n",
    "        if sp==0:\n",
    "            sp+=1\n",
    "        continue\n",
    "\n",
    "    else:\n",
    "        answer.append(2)\n",
    "        flag=-\n",
    "        \n",
    "        \n",
    "print(answer)\n",
    "print(up,low,dig,sp)\n",
    "          "
   ]
  },
  {
   "cell_type": "code",
   "execution_count": 19,
   "metadata": {},
   "outputs": [
    {
     "data": {
      "text/plain": [
       "['~', '!', '@', '#', '$', '%', '^', '&', '*']"
      ]
     },
     "execution_count": 19,
     "metadata": {},
     "output_type": "execute_result"
    }
   ],
   "source": [
    "list('~!@#$%^&*')"
   ]
  },
  {
   "cell_type": "code",
   "execution_count": 33,
   "metadata": {},
   "outputs": [
    {
     "data": {
      "text/plain": [
       "defaultdict(list, {1: [4], 4: [1]})"
      ]
     },
     "execution_count": 33,
     "metadata": {},
     "output_type": "execute_result"
    }
   ],
   "source": [
    "enter= [1,3,2]\n",
    "d=defaultdict(list)\n",
    "lst=[1,4]\n",
    "for i in range(len(lst)):\n",
    "    d[lst[i]]+=lst[:i]+lst[i+1:]\n",
    "    \n",
    "d"
   ]
  },
  {
   "cell_type": "code",
   "execution_count": 40,
   "metadata": {},
   "outputs": [
    {
     "name": "stdout",
     "output_type": "stream",
     "text": [
      "defaultdict(<class 'list'>, {1: []})\n",
      "defaultdict(<class 'list'>, {1: [4], 4: [1]})\n",
      "defaultdict(<class 'list'>, {1: [4, 4, 2], 4: [1, 1, 2], 2: [1, 4]})\n",
      "defaultdict(<class 'list'>, {1: [4, 4, 2, 4, 3], 4: [1, 1, 2, 1, 3], 2: 2, 3: [1, 4]})\n"
     ]
    },
    {
     "ename": "IndexError",
     "evalue": "list index out of range",
     "output_type": "error",
     "traceback": [
      "\u001b[1;31m---------------------------------------------------------------------------\u001b[0m",
      "\u001b[1;31mIndexError\u001b[0m                                Traceback (most recent call last)",
      "\u001b[1;32m<ipython-input-40-309fd2020e65>\u001b[0m in \u001b[0;36m<module>\u001b[1;34m\u001b[0m\n\u001b[0;32m      9\u001b[0m \u001b[1;33m\u001b[0m\u001b[0m\n\u001b[0;32m     10\u001b[0m \u001b[1;32mwhile\u001b[0m\u001b[1;33m(\u001b[0m\u001b[0mleave\u001b[0m\u001b[1;33m)\u001b[0m\u001b[1;33m:\u001b[0m\u001b[1;33m\u001b[0m\u001b[1;33m\u001b[0m\u001b[0m\n\u001b[1;32m---> 11\u001b[1;33m     \u001b[0mlst\u001b[0m\u001b[1;33m.\u001b[0m\u001b[0mappend\u001b[0m\u001b[1;33m(\u001b[0m\u001b[0menter\u001b[0m\u001b[1;33m[\u001b[0m\u001b[0me\u001b[0m\u001b[1;33m]\u001b[0m\u001b[1;33m)\u001b[0m\u001b[1;33m\u001b[0m\u001b[1;33m\u001b[0m\u001b[0m\n\u001b[0m\u001b[0;32m     12\u001b[0m     \u001b[1;32mfor\u001b[0m \u001b[0mi\u001b[0m \u001b[1;32min\u001b[0m \u001b[0mrange\u001b[0m\u001b[1;33m(\u001b[0m\u001b[0mlen\u001b[0m\u001b[1;33m(\u001b[0m\u001b[0mlst\u001b[0m\u001b[1;33m)\u001b[0m\u001b[1;33m)\u001b[0m\u001b[1;33m:\u001b[0m\u001b[1;33m\u001b[0m\u001b[1;33m\u001b[0m\u001b[0m\n\u001b[0;32m     13\u001b[0m         \u001b[0md\u001b[0m\u001b[1;33m[\u001b[0m\u001b[0mlst\u001b[0m\u001b[1;33m[\u001b[0m\u001b[0mi\u001b[0m\u001b[1;33m]\u001b[0m\u001b[1;33m]\u001b[0m\u001b[1;33m.\u001b[0m\u001b[0mextend\u001b[0m\u001b[1;33m(\u001b[0m\u001b[0mlst\u001b[0m\u001b[1;33m[\u001b[0m\u001b[1;33m:\u001b[0m\u001b[0mi\u001b[0m\u001b[1;33m]\u001b[0m\u001b[1;33m+\u001b[0m\u001b[0mlst\u001b[0m\u001b[1;33m[\u001b[0m\u001b[0mi\u001b[0m\u001b[1;33m+\u001b[0m\u001b[1;36m1\u001b[0m\u001b[1;33m:\u001b[0m\u001b[1;33m]\u001b[0m\u001b[1;33m)\u001b[0m\u001b[1;33m\u001b[0m\u001b[1;33m\u001b[0m\u001b[0m\n",
      "\u001b[1;31mIndexError\u001b[0m: list index out of range"
     ]
    }
   ],
   "source": [
    "enter = [1,4,2,3]\n",
    "leave = [2,1,3,4]\n",
    "answer = []\n",
    "e=0\n",
    "l=0\n",
    "#d={x:[] for x in range(1,(len(enter)+1))}  # 리스트를 0으로 바꿀수도 \n",
    "d=defaultdict(list)\n",
    "lst = []\n",
    "\n",
    "while(leave):\n",
    "    lst.append(enter[e])\n",
    "    for i in range(len(lst)):\n",
    "        d[lst[i]].extend(lst[:i]+lst[i+1:])\n",
    "\n",
    "    e+=1\n",
    "    print(d)\n",
    "\n",
    "    if lst[-1]==leave[l]:\n",
    "        d[lst[-1]]=len(lst[:-1])\n",
    "        lst.pop(-1)\n",
    "        l+=1\n",
    "            "
   ]
  },
  {
   "cell_type": "markdown",
   "metadata": {},
   "source": [
    "###  3번"
   ]
  },
  {
   "cell_type": "code",
   "execution_count": 72,
   "metadata": {},
   "outputs": [
    {
     "name": "stdout",
     "output_type": "stream",
     "text": [
      "{1: [], 2: [3], 3: [2]}\n"
     ]
    },
    {
     "data": {
      "text/plain": [
       "[0, 1, 1]"
      ]
     },
     "execution_count": 72,
     "metadata": {},
     "output_type": "execute_result"
    }
   ],
   "source": [
    "answer = []\n",
    "enter = [1,4,2,3]\n",
    "leave = [2,1,3,4]\n",
    "enter = [1,3,2]\n",
    "leave = [1,2,3]\n",
    "\n",
    "d=defaultdict(list)\n",
    "d={x:[] for x in range(1,len(enter)+1)}\n",
    "for i in leave:\n",
    "    t=enter[:enter.index(i)+1]\n",
    "    #print(i,t)\n",
    "    enter.pop(enter.index(i))\n",
    "    \n",
    "    if [i]==t:\n",
    "        continue\n",
    "    for x in range(len(t)):\n",
    "        d[t[x]]+=t[:x]+t[x+1:]\n",
    "        \n",
    "print(d)\n",
    "\n",
    "dt = sorted(d.items(), key = lambda x:x[0])\n",
    "res = []\n",
    "for v in dt:\n",
    "    res.append(len(v[1]))\n",
    "\n",
    "res"
   ]
  },
  {
   "cell_type": "code",
   "execution_count": 74,
   "metadata": {},
   "outputs": [
    {
     "data": {
      "text/plain": [
       "True"
      ]
     },
     "execution_count": 74,
     "metadata": {},
     "output_type": "execute_result"
    }
   ],
   "source": [
    "'100'.isdigit()"
   ]
  },
  {
   "cell_type": "code",
   "execution_count": 78,
   "metadata": {},
   "outputs": [
    {
     "data": {
      "text/plain": [
       "defaultdict(None, {'-days': 'NUMBERS', '-dest': 'STRING'})"
      ]
     },
     "execution_count": 78,
     "metadata": {},
     "output_type": "execute_result"
    }
   ],
   "source": [
    "from collections import defaultdict\n",
    "flag_rules = [\"-days NUMBERS\", \"-dest STRING\"]\n",
    "dict_flag_rules = defaultdict()\n",
    "for i in flag_rules:\n",
    "        rule = i.split()\n",
    "        dict_flag_rules[rule[0]]=rule[1]   # rule의 0번재는 -소문자, 1번재는 NULL OR NUMBER OR STRING\n",
    "        \n",
    "dict_flag_rules"
   ]
  },
  {
   "cell_type": "code",
   "execution_count": null,
   "metadata": {},
   "outputs": [],
   "source": [
    "from collections import defaultdict\n",
    "def solution(program, flag_rules, commands):\n",
    "    answer = []\n",
    "    signal = True\n",
    "    dict_flag_rules=defaultdict()    \n",
    "    \n",
    "    for i in flag_rules:\n",
    "        rule = i.split()\n",
    "        dict_flag_rules[rule[0]]=rule[1]   # rule의 0번재는 -소문자, 1번재는 NULL OR NUMBER OR STRING\n",
    "        \n",
    "    for command in commands:\n",
    "        c = command.split()\n",
    "        if c[0]==program:\n",
    "            comm_remain = c[1:] # program명 을 제외한 뒤에 나머지 문자열\n",
    "            \n",
    "            index=0\n",
    "            while(index<len(comm_remain)):  # flag_rule에 따라 조건 처리 (조건을 위배하면, signal = False로 변환)\n",
    "                if (comm_remain[index] == '-e'):  \n",
    "                    index+=1\n",
    "                elif (comm_remain[index] == '-n' and comm_remain[index+1].isdigit()) or (comm_remain[index] == '-s' and comm_remain[index+1].isalpha()):\n",
    "                     index+=2\n",
    "                else:\n",
    "                    signal=False\n",
    "                    break\n",
    "                    \n",
    "        else:\n",
    "            signal = False\n",
    "            answer.append(False)\n",
    "            continue\n",
    "            \n",
    "        if signal:\n",
    "            answer.append(True)\n",
    "        else:\n",
    "            answer.append(False)\n",
    "            \n",
    "    return answer"
   ]
  },
  {
   "cell_type": "code",
   "execution_count": 106,
   "metadata": {},
   "outputs": [],
   "source": [
    "from collections import defaultdict\n",
    "def solution(program, flag_rules, commands):\n",
    "    answer = []\n",
    "    signal = True\n",
    "    dict_flag_rules=defaultdict()    \n",
    "    \n",
    "    for i in flag_rules:\n",
    "        rule = i.split()\n",
    "        dict_flag_rules[rule[0]]=rule[1]   # rule의 0번재는 -소문자, 1번재는 NULL OR NUMBER OR STRING\n",
    "        \n",
    "    for command in commands:\n",
    "        c = command.split()\n",
    "        if c[0]==program:\n",
    "            comm_remain = c[1:] # program명 을 제외한 뒤에 나머지 문자열\n",
    "            \n",
    "            index=0\n",
    "            while(index<len(comm_remain)):  # flag_rule에 따라 조건 처리 (조건을 위배하면, signal = False로 변환)\n",
    "                #print(comm_remain[index])\n",
    "                if (dict_flag_rules.get(comm_remain[index])):  \n",
    "                    if dict_flag_rules[comm_remain[index]] == 'NULL':\n",
    "                        print(comm_remain[index])\n",
    "                        index+=1\n",
    "                        continue\n",
    "                        \n",
    "                    elif dict_flag_rules[comm_remain[index]] == 'NUMBER':\n",
    "                        print(comm_remain[index])\n",
    "                        if comm_remain[index+1].isdigit():\n",
    "                            index+=2\n",
    "                            continue    \n",
    "                            \n",
    "                        else:\n",
    "                            signal = False\n",
    "                        \n",
    "                    elif dict_flag_rules[comm_remain[index]] == 'STRING':\n",
    "                        print(comm_remain[index])\n",
    "                        if comm_remain[index+1].isalpha():\n",
    "                            \n",
    "                            index+=2\n",
    "                            continue\n",
    "\n",
    "                        else:\n",
    "                            signal = False\n",
    "                    \n",
    "                    \n",
    "                else:\n",
    "                    signal = False\n",
    "                index+=1\n",
    "                    \n",
    "                    \n",
    "                \n",
    "                    \n",
    "        else:\n",
    "            signal = False\n",
    "            answer.append(False)\n",
    "            continue\n",
    "            \n",
    "        if signal:\n",
    "            answer.append(True)\n",
    "        else:\n",
    "            answer.append(False)\n",
    "            \n",
    "    return answer"
   ]
  },
  {
   "cell_type": "code",
   "execution_count": 107,
   "metadata": {},
   "outputs": [
    {
     "name": "stdout",
     "output_type": "stream",
     "text": [
      "-n\n",
      "-s\n",
      "-e\n"
     ]
    },
    {
     "data": {
      "text/plain": [
       "[True, False]"
      ]
     },
     "execution_count": 107,
     "metadata": {},
     "output_type": "execute_result"
    }
   ],
   "source": [
    "program = \"line\"\n",
    "\n",
    "flag_rules = [\"-s STRING\", \"-n NUMBER\", \"-e NULL\"]\n",
    "\n",
    "commands = [\"line -n 100 -s hi -e\", \"lien -s Bye\"]\n",
    "solution(program, flag_rules, commands)"
   ]
  },
  {
   "cell_type": "markdown",
   "metadata": {},
   "source": [
    "## 2\n"
   ]
  },
  {
   "cell_type": "code",
   "execution_count": 141,
   "metadata": {},
   "outputs": [],
   "source": [
    "from collections import defaultdict\n",
    "def solution(program, flag_rules, commands):\n",
    "    answer = []\n",
    "    signal = True\n",
    "    dict_flag_rules=defaultdict()    \n",
    "    \n",
    "    for i in flag_rules:\n",
    "        rule = i.split()\n",
    "        dict_flag_rules[rule[0]]=rule[1]   # rule의 0번재는 -소문자, 1번재는 NULL OR NUMBER OR STRING\n",
    "        \n",
    "    print(dict_flag_rules)\n",
    "    for command in commands:\n",
    "        signal = True\n",
    "        c = command.split()\n",
    "        if c[0]==program:\n",
    "            comm_remain = c[1:] # program명 을 제외한 뒤에 나머지 문자열\n",
    "            \n",
    "            index=0\n",
    "            while(index<len(comm_remain)):  # flag_rule에 따라 조건 처리 (조건을 위배하면, signal: True => False로 변환)\n",
    "                if (dict_flag_rules.get(comm_remain[index])):  \n",
    "                    if dict_flag_rules[comm_remain[index]] == 'NULL':\n",
    "                        index+=1\n",
    "                        continue\n",
    "                        \n",
    "                    elif dict_flag_rules[comm_remain[index]] == 'NUMBER':\n",
    "                        if comm_remain[index+1].isdigit():\n",
    "                            index+=2\n",
    "                            continue    \n",
    "                            \n",
    "                        else:\n",
    "                            signal = False\n",
    "                            \n",
    "                    elif dict_flag_rules[comm_remain[index]] == 'NUMBERS':\n",
    "                        signal_number = True\n",
    "                        index+=1\n",
    "                        while(index<len(comm_remain)):\n",
    "                            #print(comm_remain[index])\n",
    "                            if comm_remain[index].isdigit():\n",
    "                                print(1,comm_remain[index])\n",
    "                                index+=1\n",
    "                                \n",
    "                            elif dict_flag_rules.get(comm_remain[index]):\n",
    "                                print(2,comm_remain[index])\n",
    "                                signal_number = False\n",
    "                                break\n",
    "                                \n",
    "                            else:\n",
    "                                print(3,comm_remain[index])\n",
    "                                signal = False\n",
    "                                break\n",
    "                        \n",
    "                        print(signal)\n",
    "                        if signal_number == False:\n",
    "                            continue   \n",
    "                                \n",
    "                            \n",
    "                        \n",
    "                    elif dict_flag_rules[comm_remain[index]] == 'STRING':\n",
    "                        if comm_remain[index+1].isalpha():\n",
    "                            index+=2\n",
    "                            continue\n",
    "\n",
    "                        else:\n",
    "                            signal = False\n",
    "                            \n",
    "                    elif dict_flag_rules[comm_remain[index]] == 'STRINGS':\n",
    "                        string_lst = []\n",
    "                        signal_string = True\n",
    "                        index+=1\n",
    "                        while(index<len(comm_remain)):\n",
    "                            #print(comm_remain[index])\n",
    "                            if comm_remain[index].isalpha():\n",
    "                                string_lst.append(comm_remain[index])\n",
    "                                index+=1\n",
    "                                \n",
    "                            elif dict_flag_rules.get(comm_remain[index]):\n",
    "                                signal_string = False\n",
    "                                break\n",
    "                                \n",
    "                            else:\n",
    "                                signal = False\n",
    "                                break\n",
    "                        print(number_lst, signal)       \n",
    "                        if signal_string == False:\n",
    "                            continue  \n",
    "                    \n",
    "                    \n",
    "                else:\n",
    "                    signal = False\n",
    "                index+=1\n",
    "                     \n",
    "        else:\n",
    "            signal = False\n",
    "            answer.append(False)\n",
    "            continue\n",
    "            \n",
    "        if signal:\n",
    "            answer.append(True)\n",
    "        else:\n",
    "            answer.append(False)\n",
    "            \n",
    "    return answer"
   ]
  },
  {
   "cell_type": "code",
   "execution_count": 142,
   "metadata": {},
   "outputs": [
    {
     "name": "stdout",
     "output_type": "stream",
     "text": [
      "defaultdict(None, {'-days': 'NUMBERS', '-dest': 'STRING'})\n",
      "1 15\n",
      "1 10\n",
      "2 -dest\n",
      "True\n",
      "1 10\n",
      "2 -dest\n",
      "True\n"
     ]
    },
    {
     "data": {
      "text/plain": [
       "[False, True]"
      ]
     },
     "execution_count": 142,
     "metadata": {},
     "output_type": "execute_result"
    }
   ],
   "source": [
    "program = 'trip'\n",
    "flag_rules = [\"-days NUMBERS\", \"-dest STRING\"]\n",
    "\n",
    "commands = [\"trip -days 15 10 -dest Seoul Paris\", \"trip -days 10 -dest Seoul\"]\n",
    "solution(program, flag_rules, commands)"
   ]
  },
  {
   "cell_type": "code",
   "execution_count": 168,
   "metadata": {},
   "outputs": [],
   "source": [
    "from collections import defaultdict\n",
    "def solution(program, flag_rules, commands):\n",
    "    answer = []\n",
    "    dict_flag_rules=defaultdict()    \n",
    "    \n",
    "    alis = []\n",
    "    for i in flag_rules:\n",
    "        rule = i.split()\n",
    "        if len(rule)==3:\n",
    "            alis.append(rule)\n",
    "        else:\n",
    "            dict_flag_rules[rule[0]]=rule[1]   # rule의 0번재는 -소문자, 1번재는 NULL OR NUMBER OR STRING\n",
    "    \n",
    "    twin_alis = []\n",
    "    for i in alis:\n",
    "        a,b = i[0], i[2]\n",
    "        twin_alis.append((a,b))\n",
    "        if dict_flag_rules.get(a):\n",
    "            dict_flag_rules[b]=dict_flag_rules[a]\n",
    "        elif dict_flag_rules.get(b):\n",
    "            dict_flag_rules[a]=dict_flag_rules[b]\n",
    "    print(dict_flag_rules)\n",
    "    \n",
    "    check_dict_flag = {x:0 for x in list(dict_flag_rules.keys())}\n",
    "    \n",
    "    for command in commands:\n",
    "        signal = True\n",
    "        c = command.split()\n",
    "        if c[0]==program:\n",
    "            comm_remain = c[1:] # program명 을 제외한 뒤에 나머지 문자열\n",
    "            \n",
    "            index=0\n",
    "            while(index<len(comm_remain)):  # flag_rule에 따라 조건 처리 (조건을 위배하면, signal: True => False로 변환)\n",
    "                print(comm_remain[index])\n",
    "                check_dict_flag[comm_remain[index]]+=1\n",
    "                if (dict_flag_rules.get(comm_remain[index])):  \n",
    "                    if dict_flag_rules[comm_remain[index]] == 'NULL':\n",
    "                        index+=1\n",
    "                        continue\n",
    "                        \n",
    "                    elif dict_flag_rules[comm_remain[index]] == 'NUMBER':\n",
    "                        if comm_remain[index+1].isdigit():\n",
    "                            index+=2\n",
    "                            continue    \n",
    "                            \n",
    "                        else:\n",
    "                            signal = False\n",
    "                            \n",
    "                    elif dict_flag_rules[comm_remain[index]] == 'NUMBERS':\n",
    "                        signal_number = True\n",
    "                        index+=1\n",
    "                        while(index<len(comm_remain)):\n",
    "                            if comm_remain[index].isdigit():\n",
    "                                index+=1\n",
    "                                \n",
    "                            elif dict_flag_rules.get(comm_remain[index]):\n",
    "                                signal_number = False\n",
    "                                break\n",
    "                                \n",
    "                            else:\n",
    "                                signal = False\n",
    "                                break\n",
    "                                \n",
    "                        if signal_number == False:\n",
    "                            continue   \n",
    "                                \n",
    "                            \n",
    "                        \n",
    "                    elif dict_flag_rules[comm_remain[index]] == 'STRING':\n",
    "                        if comm_remain[index+1].isalpha():\n",
    "                            index+=2\n",
    "                            continue\n",
    "\n",
    "                        else:\n",
    "                            signal = False\n",
    "                            \n",
    "                    elif dict_flag_rules[comm_remain[index]] == 'STRINGS':\n",
    "                        signal_string = True\n",
    "                        index+=1\n",
    "                        while(index<len(comm_remain)):\n",
    "                            if comm_remain[index].isalpha():\n",
    "                                index+=1\n",
    "                                \n",
    "                            elif dict_flag_rules.get(comm_remain[index]):\n",
    "                                signal_string = False\n",
    "                                break\n",
    "                                \n",
    "                            else:\n",
    "                                signal = False\n",
    "                                break\n",
    "                                \n",
    "                        if signal_string == False:\n",
    "                            continue  \n",
    "                    \n",
    "                    \n",
    "                else:\n",
    "                    signal = False\n",
    "                index+=1\n",
    "                     \n",
    "        else:\n",
    "            signal = False\n",
    "            answer.append(False)\n",
    "            continue\n",
    "        \n",
    "        for a,b in twin_alis:\n",
    "            if check_dict_flag[a]>0 and check_dict_flag[b]>0:\n",
    "                signal = False\n",
    "        \n",
    "        if signal:\n",
    "            answer.append(True)\n",
    "        else:\n",
    "            answer.append(False)\n",
    "            \n",
    "    return answer"
   ]
  },
  {
   "cell_type": "code",
   "execution_count": 170,
   "metadata": {},
   "outputs": [
    {
     "name": "stdout",
     "output_type": "stream",
     "text": [
      "defaultdict(None, {'-send': 'STRING', '-amount': 'NUMBERS', '-a': 'NUMBERS'})\n",
      "-send\n",
      "-amount\n",
      "-a\n",
      "-send\n",
      "-a\n"
     ]
    },
    {
     "data": {
      "text/plain": [
       "[False, False]"
      ]
     },
     "execution_count": 170,
     "metadata": {},
     "output_type": "execute_result"
    }
   ],
   "source": [
    "program = 'line'\n",
    "flag_rules = [\"-s STRING\", \"-num NUMBER\", \"-e NULL\", \"-n ALIAS -num\"]\n",
    "\n",
    "commands = [\"line -n 100 -s hi -e\", \"line -n 100 -e -num 150\"]\n",
    "\n",
    "\n",
    "program = 'bank'\n",
    "flag_rules = [\"-send STRING\", \"-a ALIAS -amount\", \"-amount NUMBERS\"]\n",
    "commands = [\"bank -send abc -amount 500 200 -a 400\", \"bank -send abc -a hey\"]\n",
    "\n",
    "solution(program, flag_rules, commands)"
   ]
  },
  {
   "cell_type": "code",
   "execution_count": null,
   "metadata": {},
   "outputs": [],
   "source": []
  }
 ],
 "metadata": {
  "kernelspec": {
   "display_name": "Python 3",
   "language": "python",
   "name": "python3"
  },
  "language_info": {
   "codemirror_mode": {
    "name": "ipython",
    "version": 3
   },
   "file_extension": ".py",
   "mimetype": "text/x-python",
   "name": "python",
   "nbconvert_exporter": "python",
   "pygments_lexer": "ipython3",
   "version": "3.8.5"
  }
 },
 "nbformat": 4,
 "nbformat_minor": 4
}
