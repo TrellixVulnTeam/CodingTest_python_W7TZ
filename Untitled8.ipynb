{
 "cells": [
  {
   "cell_type": "code",
   "execution_count": 5,
   "metadata": {},
   "outputs": [
    {
     "name": "stdout",
     "output_type": "stream",
     "text": [
      "[{1, 2, 3, 4}]\n"
     ]
    }
   ],
   "source": [
    "ans = []\n",
    "\n",
    "tmp = set([1,3,2,4])\n",
    "ans.append(tmp)\n",
    "print(ans)"
   ]
  },
  {
   "cell_type": "code",
   "execution_count": 9,
   "metadata": {},
   "outputs": [
    {
     "data": {
      "text/plain": [
       "0"
      ]
     },
     "execution_count": 9,
     "metadata": {},
     "output_type": "execute_result"
    }
   ],
   "source": [
    "1//2"
   ]
  },
  {
   "cell_type": "code",
   "execution_count": 8,
   "metadata": {},
   "outputs": [],
   "source": [
    "for i in range(1,1//2+1):\n",
    "    print(i)"
   ]
  },
  {
   "cell_type": "code",
   "execution_count": null,
   "metadata": {},
   "outputs": [],
   "source": [
    "from itertools import combinations\n",
    "\n",
    "def solution(n, s):\n",
    "    answer = []\n",
    "    \n",
    "    # 예외 사항\n",
    "    if n > s:\n",
    "        return [-1]\n",
    "    if n==1 and s==1:\n",
    "        return [1]\n",
    "    \n",
    "    # DFS로 모든 경우의 수 찾기 \n",
    "    def dfs(cnt,tmp):\n",
    "        if cnt == n:\n",
    "            if sum(tmp) == s:\n",
    "                mul = 1\n",
    "                for t in tmp:\n",
    "                    mul*=t\n",
    "                    \n",
    "                tmp.sort()\n",
    "                tmp += [mul]\n",
    "                if tmp not in answer:\n",
    "                    answer.append(tmp) \n",
    "            return\n",
    "            \n",
    "        sum_tmp = sum(tmp)\n",
    "        for j in range(1,s-sum_tmp+1):\n",
    "            dfs(cnt+1,tmp+[j])\n",
    "    \n",
    "    for i in range(1, s//2+1):\n",
    "        dfs(1,[i])\n",
    "        \n",
    "    if answer == []:\n",
    "        return [-1]\n",
    "    \n",
    "    answer.sort(key = lambda x: -x[-1])\n",
    "    \n",
    "    res = answer[0][:-1]\n",
    "    return sorted(res)"
   ]
  },
  {
   "cell_type": "code",
   "execution_count": 24,
   "metadata": {},
   "outputs": [
    {
     "data": {
      "text/plain": [
       "[('A', 'B'), ('A', 'C'), ('B', 'C')]"
      ]
     },
     "execution_count": 24,
     "metadata": {},
     "output_type": "execute_result"
    }
   ],
   "source": [
    "a= 'ABC'\n",
    "\n",
    "\n",
    "from itertools import combinations\n",
    "\n",
    "list(combinations(list(a),2))"
   ]
  },
  {
   "cell_type": "code",
   "execution_count": 38,
   "metadata": {},
   "outputs": [
    {
     "data": {
      "text/plain": [
       "['ACD', 'AD', 'ADE', 'CD', 'XYZ']"
      ]
     },
     "execution_count": 38,
     "metadata": {},
     "output_type": "execute_result"
    }
   ],
   "source": [
    "b={2: ['AD', 'CD'], 3: ['ACD', 'ADE', 'XYZ']}\n",
    "\n",
    "tmp = []\n",
    "for x in b.values():\n",
    "    for e in x:\n",
    "        tmp += [e]\n",
    "        \n",
    "tmp.sort()\n",
    "tmp"
   ]
  },
  {
   "cell_type": "code",
   "execution_count": 41,
   "metadata": {},
   "outputs": [
    {
     "data": {
      "text/plain": [
       "['B', 'C']"
      ]
     },
     "execution_count": 41,
     "metadata": {},
     "output_type": "execute_result"
    }
   ],
   "source": [
    "a='BC'\n",
    "b=sorted(list(a))\n",
    "b\n"
   ]
  }
 ],
 "metadata": {
  "kernelspec": {
   "display_name": "Python 3",
   "language": "python",
   "name": "python3"
  },
  "language_info": {
   "codemirror_mode": {
    "name": "ipython",
    "version": 3
   },
   "file_extension": ".py",
   "mimetype": "text/x-python",
   "name": "python",
   "nbconvert_exporter": "python",
   "pygments_lexer": "ipython3",
   "version": "3.8.5"
  }
 },
 "nbformat": 4,
 "nbformat_minor": 4
}
