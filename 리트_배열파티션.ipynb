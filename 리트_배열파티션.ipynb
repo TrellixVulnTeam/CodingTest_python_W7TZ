{
 "cells": [
  {
   "cell_type": "code",
   "execution_count": 14,
   "metadata": {},
   "outputs": [],
   "source": [
    "class Solution(object):\n",
    "    def arrayPairSum(self, nums):\n",
    "        nums.sort()\n",
    "        \n",
    "        sub=[]\n",
    "        tot=0\n",
    "        for i in range(len(nums)):\n",
    "            if i%2!=0:                   \n",
    "                tot+=min(sub)\n",
    "                sub=[]\n",
    "            else:\n",
    "                sub.append(nums[i])  # sort했을 때, 어차피 짝수번째의 값이 2개의 수중 최소값이므로 짝수값만 sub리스트에 넣어준다. \n",
    "                \n",
    "        return tot"
   ]
  },
  {
   "cell_type": "code",
   "execution_count": 15,
   "metadata": {},
   "outputs": [],
   "source": [
    "class Solution(object):\n",
    "    def arrayPairSum(self, nums):\n",
    "        \n",
    "        return sum(sorted(nums)[::2])"
   ]
  },
  {
   "cell_type": "markdown",
   "metadata": {},
   "source": [
    "## 내 답 :  "
   ]
  },
  {
   "cell_type": "code",
   "execution_count": 16,
   "metadata": {},
   "outputs": [],
   "source": [
    "class Solution(object):\n",
    "    def arrayPairSum(self, nums):\n",
    "        \n",
    "        # 리스트를 n개씩 쪼갠 리스트로 만들기 (yield 제너레이터 활용)\n",
    "        def split_list(lst:List[int],n:int) -> List[int]:\n",
    "            for i in range(0,len(lst),n):\n",
    "                yield lst[i:i + n]\n",
    "                \n",
    "        nums.sort()\n",
    "        lst=list(split_list(nums,2))\n",
    "\n",
    "        answer=0\n",
    "        for i in lst:\n",
    "            answer+=min(i)\n",
    "\n",
    "        return answer"
   ]
  }
 ],
 "metadata": {
  "kernelspec": {
   "display_name": "Python 3",
   "language": "python",
   "name": "python3"
  },
  "language_info": {
   "codemirror_mode": {
    "name": "ipython",
    "version": 3
   },
   "file_extension": ".py",
   "mimetype": "text/x-python",
   "name": "python",
   "nbconvert_exporter": "python",
   "pygments_lexer": "ipython3",
   "version": "3.8.5"
  }
 },
 "nbformat": 4,
 "nbformat_minor": 4
}
