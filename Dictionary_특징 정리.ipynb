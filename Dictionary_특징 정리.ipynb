{
 "cells": [
  {
   "cell_type": "code",
   "execution_count": 1,
   "metadata": {},
   "outputs": [
    {
     "name": "stdout",
     "output_type": "stream",
     "text": [
      "defaultdict(<class 'list'>, {0: [1], 1: [2], 2: [3]})\n"
     ]
    }
   ],
   "source": [
    "from collections import defaultdict\n",
    "import heapq\n",
    "\n",
    "\n",
    "d=defaultdict(list)\n",
    "d[0]+=[1]\n",
    "d[1]+=[2]\n",
    "d[2]+=[3]\n",
    "print(d)\n",
    "for i in d[4]:     # d.get(i)안하고 바로 포문 돌려도 오류 안남  ㅅㄱ     \n",
    "    print(i)"
   ]
  },
  {
   "cell_type": "code",
   "execution_count": 3,
   "metadata": {},
   "outputs": [
    {
     "ename": "TypeError",
     "evalue": "'int' object is not iterable",
     "output_type": "error",
     "traceback": [
      "\u001b[1;31m---------------------------------------------------------------------------\u001b[0m",
      "\u001b[1;31mTypeError\u001b[0m                                 Traceback (most recent call last)",
      "\u001b[1;32m<ipython-input-3-450293b8922e>\u001b[0m in \u001b[0;36m<module>\u001b[1;34m\u001b[0m\n\u001b[0;32m      1\u001b[0m \u001b[0md2\u001b[0m\u001b[1;33m=\u001b[0m\u001b[0mdefaultdict\u001b[0m\u001b[1;33m(\u001b[0m\u001b[0mint\u001b[0m\u001b[1;33m)\u001b[0m\u001b[1;33m\u001b[0m\u001b[1;33m\u001b[0m\u001b[0m\n\u001b[1;32m----> 2\u001b[1;33m \u001b[0md\u001b[0m\u001b[1;33m[\u001b[0m\u001b[1;36m0\u001b[0m\u001b[1;33m]\u001b[0m\u001b[1;33m+=\u001b[0m\u001b[1;36m1\u001b[0m\u001b[1;33m\u001b[0m\u001b[1;33m\u001b[0m\u001b[0m\n\u001b[0m\u001b[0;32m      3\u001b[0m \u001b[0md\u001b[0m\u001b[1;33m\u001b[0m\u001b[1;33m\u001b[0m\u001b[0m\n",
      "\u001b[1;31mTypeError\u001b[0m: 'int' object is not iterable"
     ]
    }
   ],
   "source": [
    "d2=defaultdict(int)\n",
    "d[0]+=1\n",
    "d"
   ]
  },
  {
   "cell_type": "code",
   "execution_count": 9,
   "metadata": {},
   "outputs": [
    {
     "name": "stdout",
     "output_type": "stream",
     "text": [
      "[[9, 2, 3], [4, 5, 6]]\n",
      "[[9, 2, 3], [4, 5, 6]]\n"
     ]
    }
   ],
   "source": [
    "a=[[1,2,3],[4,5,6]]\n",
    "b=[x for x in a]\n",
    "b[0][0]=9\n",
    "print(a)\n",
    "print(b)"
   ]
  },
  {
   "cell_type": "code",
   "execution_count": 18,
   "metadata": {},
   "outputs": [
    {
     "name": "stdout",
     "output_type": "stream",
     "text": [
      "88\n"
     ]
    }
   ],
   "source": [
    "d_test=defaultdict(int)\n",
    "if d_test.values():\n",
    "    print(99)\n",
    "    \n",
    "else:\n",
    "    print(88)"
   ]
  },
  {
   "cell_type": "markdown",
   "metadata": {},
   "source": [
    "d.get(i)  # 만약 i가 d에 없는 키라면 None을 반환 \n",
    "\n",
    "while d.get(i) 면 i가 사전에 없는 경우 + i가 사전에 있더라도 value가 [] 이거나 0이면 작동 안함"
   ]
  },
  {
   "cell_type": "code",
   "execution_count": 22,
   "metadata": {},
   "outputs": [
    {
     "data": {
      "text/plain": [
       "[[1, 2, 3, 4, 5], [6, 7, 8, 9, 10]]"
      ]
     },
     "execution_count": 22,
     "metadata": {},
     "output_type": "execute_result"
    }
   ],
   "source": [
    "a=[[1,2,3,4,5],[6,7,8,9,10]]\n",
    "b=[]\n",
    "b.extend(a)\n",
    "b"
   ]
  },
  {
   "cell_type": "code",
   "execution_count": 35,
   "metadata": {},
   "outputs": [
    {
     "name": "stdout",
     "output_type": "stream",
     "text": [
      "1 2 3 4\n",
      "5 6 7 8\n"
     ]
    }
   ],
   "source": [
    "c=[[1,2,3,4],[5,6,7,8]]\n",
    "\n",
    "for a1,a2,a3,a4 in c:\n",
    "    print(a1,a2,a3,a4)\n",
    "\n",
    "# k=[[1,2,3,4]]\n",
    "# result=[x for x in c if x not in k]\n",
    "# result"
   ]
  },
  {
   "cell_type": "code",
   "execution_count": 38,
   "metadata": {},
   "outputs": [
    {
     "name": "stdout",
     "output_type": "stream",
     "text": [
      "[[0, 3, 7, 1, 6], [0, 0, 5, 2, 2]]\n",
      "[1, 2, 5, 2, 2]\n",
      "[1, 3, 7, 1, 6]\n"
     ]
    }
   ],
   "source": [
    "lst=[[0, 0, [[0, 3, 7, 1, 6],[0, 0, 5, 2, 2]],0], [0, 0, [1, 2, 5, 2, 2], [1, 3, 7, 1, 6]], [0, 0, 0, 0], [0, 0, 0, 0]]\n",
    "\n",
    "for i in range(4):\n",
    "    for j in range(4):\n",
    "        if lst[i][j]!=0:\n",
    "            print(lst[i][j])"
   ]
  },
  {
   "cell_type": "code",
   "execution_count": 56,
   "metadata": {},
   "outputs": [
    {
     "data": {
      "text/plain": [
       "[[1, 2, 3, 4, 5], [6, 7, 8, 9, 10]]"
      ]
     },
     "execution_count": 56,
     "metadata": {},
     "output_type": "execute_result"
    }
   ],
   "source": [
    "a=[[1,2,3,4,5]]\n",
    "a.append([6,7,8,9,10])\n",
    "\n",
    "    \n",
    "a\n",
    "# a.append([6,7,8,9,10])\n",
    "# a"
   ]
  },
  {
   "cell_type": "code",
   "execution_count": null,
   "metadata": {},
   "outputs": [],
   "source": [
    "for x,y,z,k,u in a:\n",
    "    x=x-1\n",
    "    y=y-1\n"
   ]
  },
  {
   "cell_type": "code",
   "execution_count": 59,
   "metadata": {},
   "outputs": [
    {
     "data": {
      "text/plain": [
       "[[[1, 2, 3, 4, 5], 0, 0, 0, 0],\n",
       " [0, 0, 0, 0, 0],\n",
       " [0, 0, 0, 0, 0],\n",
       " [0, 0, 0, 0, 0],\n",
       " [0, 0, 0, 0, 0]]"
      ]
     },
     "execution_count": 59,
     "metadata": {},
     "output_type": "execute_result"
    }
   ],
   "source": [
    "N=5\n",
    "a=[[0]*5 for _ in range(N)]\n",
    "\n",
    "a[0][0]=[1,2,3,4,5]\n",
    "a"
   ]
  },
  {
   "cell_type": "code",
   "execution_count": 84,
   "metadata": {},
   "outputs": [
    {
     "name": "stdout",
     "output_type": "stream",
     "text": [
      "[0, 0, 5, 2, 2]\n",
      "[0, 3, 7, 1, 6]\n",
      "[1, 2, 5, 2, 2]\n",
      "[1, 3, 7, 1, 6]\n"
     ]
    }
   ],
   "source": [
    "lst=[[[0, 0, 5, 2, 2], 0, 0, [0, 3, 7, 1, 6]], [0, 0, [1, 2, 5, 2, 2], [1, 3, 7, 1, 6]], [0, 0, 0, 0], [0, 0, 0, 0]]\n",
    "N=4\n",
    "for i in range(N):\n",
    "    for j in range(N):\n",
    "        if lst[i][j]!=0 and len(lst[i][j])>=2:\n",
    "            print(lst[i][j])\n",
    "            \n",
    "#             for lst_elem in lst[i][j]:\n",
    "#                 print(lst_elem)\n",
    "#                 x, y, m, s, d = lst_elem[0],lst_elem[1],lst_elem[2],lst_elem[3],lst_elem[4]\n"
   ]
  },
  {
   "cell_type": "code",
   "execution_count": 70,
   "metadata": {},
   "outputs": [
    {
     "name": "stdout",
     "output_type": "stream",
     "text": [
      "1 2 3 4 5\n",
      "6 7 8 9 10\n"
     ]
    }
   ],
   "source": [
    "a=[[1,2,3,4,5],[6,7,8,9,10]]\n",
    "for elem in a:\n",
    "    x,y,z,k,m = elem[0],elem[1],elem[2],elem[3],elem[4]\n",
    "    print(x,y,z,k,m)"
   ]
  },
  {
   "cell_type": "code",
   "execution_count": 85,
   "metadata": {},
   "outputs": [
    {
     "name": "stdout",
     "output_type": "stream",
     "text": [
      "[[0, 0, 5, 2, 2]]\n",
      "0\n",
      "0\n",
      "[[0, 3, 7, 1, 6]]\n",
      "0\n",
      "0\n",
      "0\n",
      "0\n",
      "0\n",
      "0\n",
      "0\n",
      "0\n",
      "0\n",
      "0\n",
      "0\n",
      "0\n"
     ]
    }
   ],
   "source": [
    "lst=[[[[0, 0, 5, 2, 2]], 0, 0, [[0, 3, 7, 1, 6]]], [0, 0, 0, 0], [0, 0, 0, 0], [0, 0, 0, 0]]\n",
    "for i in range(4):\n",
    "    for j in range(4):\n",
    "        if lst[i][j]!=0:\n",
    "            \n",
    "        print(lst[i][j])"
   ]
  },
  {
   "cell_type": "code",
   "execution_count": 90,
   "metadata": {},
   "outputs": [
    {
     "name": "stdout",
     "output_type": "stream",
     "text": [
      "[1, 2, 3, 4, 5] []\n"
     ]
    }
   ],
   "source": [
    "a=[]\n",
    "b=[1,2,3,4,5]\n",
    "a=b\n",
    "b=[]\n",
    "print(a,b)"
   ]
  },
  {
   "cell_type": "code",
   "execution_count": 107,
   "metadata": {},
   "outputs": [
    {
     "ename": "TypeError",
     "evalue": "'list' object cannot be interpreted as an integer",
     "output_type": "error",
     "traceback": [
      "\u001b[1;31m---------------------------------------------------------------------------\u001b[0m",
      "\u001b[1;31mTypeError\u001b[0m                                 Traceback (most recent call last)",
      "\u001b[1;32m<ipython-input-107-5fb37aa16463>\u001b[0m in \u001b[0;36m<module>\u001b[1;34m\u001b[0m\n\u001b[0;32m      3\u001b[0m \u001b[1;32mfor\u001b[0m \u001b[0mk\u001b[0m \u001b[1;32min\u001b[0m \u001b[0md\u001b[0m\u001b[1;33m.\u001b[0m\u001b[0mkeys\u001b[0m\u001b[1;33m(\u001b[0m\u001b[1;33m)\u001b[0m\u001b[1;33m:\u001b[0m\u001b[1;33m\u001b[0m\u001b[1;33m\u001b[0m\u001b[0m\n\u001b[0;32m      4\u001b[0m     \u001b[1;32mfor\u001b[0m \u001b[0mv\u001b[0m \u001b[1;32min\u001b[0m \u001b[0md\u001b[0m\u001b[1;33m[\u001b[0m\u001b[0mk\u001b[0m\u001b[1;33m]\u001b[0m\u001b[1;33m:\u001b[0m\u001b[1;33m\u001b[0m\u001b[1;33m\u001b[0m\u001b[0m\n\u001b[1;32m----> 5\u001b[1;33m         \u001b[0md\u001b[0m\u001b[1;33m[\u001b[0m\u001b[0mk\u001b[0m\u001b[1;33m]\u001b[0m\u001b[1;33m.\u001b[0m\u001b[0mpop\u001b[0m\u001b[1;33m(\u001b[0m\u001b[1;33m[\u001b[0m\u001b[1;36m0\u001b[0m\u001b[1;33m,\u001b[0m\u001b[1;36m3\u001b[0m\u001b[1;33m,\u001b[0m\u001b[1;36m7\u001b[0m\u001b[1;33m,\u001b[0m\u001b[1;36m1\u001b[0m\u001b[1;33m,\u001b[0m\u001b[1;36m6\u001b[0m\u001b[1;33m]\u001b[0m\u001b[1;33m)\u001b[0m\u001b[1;33m\u001b[0m\u001b[1;33m\u001b[0m\u001b[0m\n\u001b[0m\u001b[0;32m      6\u001b[0m \u001b[0md\u001b[0m\u001b[1;33m\u001b[0m\u001b[1;33m\u001b[0m\u001b[0m\n",
      "\u001b[1;31mTypeError\u001b[0m: 'list' object cannot be interpreted as an integer"
     ]
    }
   ],
   "source": [
    "d={(0, 3): [[0, 3, 7, 1, 6],[1,2,3,4,5]], (0, 0): [[0, 0, 5, 2, 2]]}\n",
    "\n",
    "for k in d.keys():\n",
    "    for v in d[k]:\n",
    "        d[k].pop([0,3,7,1,6])\n",
    "d"
   ]
  },
  {
   "cell_type": "code",
   "execution_count": 123,
   "metadata": {},
   "outputs": [
    {
     "data": {
      "text/plain": [
       "defaultdict(list, {(1, 0): [[1, 2, 3, 4], [4, 5, 6, 7]]})"
      ]
     },
     "execution_count": 123,
     "metadata": {},
     "output_type": "execute_result"
    }
   ],
   "source": [
    "from collections import defaultdict\n",
    "d=defaultdict(list)\n",
    "d[(1,0)]+=[[1,2,3,4]]\n",
    "d[(1,0)]+=[[4,5,6,7]]\n",
    "d\n",
    "\n",
    "# it=list(d.items())\n",
    "# print(it)\n",
    "# while it:\n",
    "#     k,v=it.pop()\n",
    "#     print(k,v)\n",
    "#     print(k[0], k[1])"
   ]
  },
  {
   "cell_type": "code",
   "execution_count": 126,
   "metadata": {},
   "outputs": [
    {
     "data": {
      "text/plain": [
       "{(1, 0): [[1, 2, 3, 4], [4, 5, 6, 7]]}"
      ]
     },
     "execution_count": 126,
     "metadata": {},
     "output_type": "execute_result"
    }
   ],
   "source": [
    "d2=defaultdict(list)\n",
    "d2[1]+=[[1,2,3,4,5]]\n",
    "d2={k:v for k,v in d.items()}\n",
    "d2"
   ]
  },
  {
   "cell_type": "code",
   "execution_count": 127,
   "metadata": {},
   "outputs": [
    {
     "data": {
      "text/plain": [
       "2"
      ]
     },
     "execution_count": 127,
     "metadata": {},
     "output_type": "execute_result"
    }
   ],
   "source": [
    "-7%3"
   ]
  }
 ],
 "metadata": {
  "kernelspec": {
   "display_name": "Python 3",
   "language": "python",
   "name": "python3"
  },
  "language_info": {
   "codemirror_mode": {
    "name": "ipython",
    "version": 3
   },
   "file_extension": ".py",
   "mimetype": "text/x-python",
   "name": "python",
   "nbconvert_exporter": "python",
   "pygments_lexer": "ipython3",
   "version": "3.8.5"
  }
 },
 "nbformat": 4,
 "nbformat_minor": 4
}
