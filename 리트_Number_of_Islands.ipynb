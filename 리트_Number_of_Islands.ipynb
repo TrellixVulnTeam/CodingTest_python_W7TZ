{
 "cells": [
  {
   "cell_type": "code",
   "execution_count": 20,
   "metadata": {},
   "outputs": [],
   "source": [
    "grid = [\n",
    "[\"1\",\"1\",\"1\",\"1\",\"0\"],\n",
    "[\"1\",\"1\",\"0\",\"1\",\"0\"],\n",
    "[\"1\",\"1\",\"0\",\"0\",\"0\"],\n",
    "[\"0\",\"0\",\"0\",\"0\",\"0\"]\n",
    "]\n",
    "\n",
    "# grid = [\n",
    "#   [\"1\",\"1\",\"0\",\"0\",\"0\"],\n",
    "#   [\"1\",\"1\",\"0\",\"0\",\"0\"],\n",
    "#   [\"0\",\"0\",\"1\",\"0\",\"0\"],\n",
    "#   [\"0\",\"0\",\"0\",\"1\",\"1\"]\n",
    "# ]\n"
   ]
  },
  {
   "cell_type": "markdown",
   "metadata": {},
   "source": [
    "### BFS "
   ]
  },
  {
   "cell_type": "code",
   "execution_count": 17,
   "metadata": {},
   "outputs": [
    {
     "name": "stdout",
     "output_type": "stream",
     "text": [
      "3\n"
     ]
    }
   ],
   "source": [
    "visit=[['0']*len(grid[0]) for _ in range(len(grid))] # 방문여부 : 0(방문X), 1(방문O)\n",
    "direction=[(-1,0),(0,1),(1,0),(0,-1)]    # 상,동,하,좌\n",
    "\n",
    "que=[]\n",
    "ans=0\n",
    "for i in range(len(grid)):\n",
    "    for j in range(len(grid[0])):\n",
    "        if visit[i][j]=='0' and grid[i][j]=='1':\n",
    "            que.append((i,j))\n",
    "            while que:\n",
    "                elem=que.pop(0)\n",
    "                x,y=elem[0], elem[1]\n",
    "\n",
    "                for d in direction:\n",
    "                    new_x=x+d[0]\n",
    "                    new_y=y+d[1]\n",
    "                    if new_x>=0 and new_x<len(grid) and new_y>=0 and new_y<len(grid[0]):\n",
    "                        if visit[new_x][new_y]=='0' and grid[new_x][new_y]=='1':\n",
    "                            visit[new_x][new_y]='1'\n",
    "                            que.append((new_x,new_y))\n",
    "\n",
    "\n",
    "            ans+=1\n",
    "\n",
    "        else:\n",
    "            continue\n",
    "            \n",
    "print(ans)"
   ]
  },
  {
   "cell_type": "markdown",
   "metadata": {},
   "source": [
    "### DFS "
   ]
  },
  {
   "cell_type": "code",
   "execution_count": 21,
   "metadata": {},
   "outputs": [
    {
     "name": "stdout",
     "output_type": "stream",
     "text": [
      "1\n"
     ]
    }
   ],
   "source": [
    "def dfs(grid, i,j):\n",
    "    if i<0 or i>=len(grid) or j<0 or j>=len(grid[0]) or grid[i][j]!='1':\n",
    "        return \n",
    "    \n",
    "    grid[i][j]='0'   # 방문한 섬(1)은 물(0)로 바꾸어 준다. (이러면, 방문배열을 사용할 필요가 없어지고 공간복잡도도 해결됨)\n",
    "    \n",
    "    dfs(grid,i+1,j) # 상\n",
    "    dfs(grid,i-1,j)  # 하\n",
    "    dfs(grid,i,j-1)  # 좌\n",
    "    dfs(grid,i,j+1)  # 우\n",
    "\n",
    "\n",
    "# if not grid:\n",
    "#     return 0\n",
    "\n",
    "count=0\n",
    "for i in range(len(grid)):\n",
    "    for j in range(len(grid[0])):\n",
    "        if grid[i][j] == '1':\n",
    "            dfs(grid,i,j)\n",
    "            count+=1\n",
    "            \n",
    "print(count)"
   ]
  }
 ],
 "metadata": {
  "kernelspec": {
   "display_name": "Python 3",
   "language": "python",
   "name": "python3"
  },
  "language_info": {
   "codemirror_mode": {
    "name": "ipython",
    "version": 3
   },
   "file_extension": ".py",
   "mimetype": "text/x-python",
   "name": "python",
   "nbconvert_exporter": "python",
   "pygments_lexer": "ipython3",
   "version": "3.8.5"
  }
 },
 "nbformat": 4,
 "nbformat_minor": 4
}
