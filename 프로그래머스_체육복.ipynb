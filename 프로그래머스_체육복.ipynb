{
 "cells": [
  {
   "cell_type": "markdown",
   "metadata": {},
   "source": [
    "##  "
   ]
  },
  {
   "cell_type": "code",
   "execution_count": 74,
   "metadata": {},
   "outputs": [
    {
     "name": "stdout",
     "output_type": "stream",
     "text": [
      "defaultdict(<class 'list'>, {2: [1, 3], 4: [3, 5]})\n",
      "defaultdict(<class 'int'>, {1: 0, 2: 0, 3: 0, 4: 0, 5: 0, 6: 0, 7: 0, 8: 0, 9: 0, 10: 0})\n"
     ]
    },
    {
     "data": {
      "text/plain": [
       "10"
      ]
     },
     "execution_count": 74,
     "metadata": {},
     "output_type": "execute_result"
    }
   ],
   "source": [
    "from collections import defaultdict\n",
    "def solution(n, lost, reserve):\n",
    "    d = defaultdict(list)\n",
    "    los = defaultdict(int)\n",
    "    \n",
    "    for x in range(1,n+1):\n",
    "        if x in lost and x not in reserve:\n",
    "            los[x]+=1\n",
    "        else:\n",
    "            los[x]=0\n",
    "            \n",
    "    for i in reserve:\n",
    "        if i not in lost:\n",
    "            if (i-1)>=1:\n",
    "                d[i]+=[i-1]\n",
    "\n",
    "            if (i+1)<=n:\n",
    "                d[i]+=[i+1]\n",
    "        \n",
    "    #print(d)\n",
    "    for x,y in d.items():\n",
    "        for elem in y:\n",
    "            if elem in lost and los[elem]>0:\n",
    "                los[elem]-=1\n",
    "                break\n",
    "                \n",
    "    #print(los)\n",
    "    ans = [x for x,y in los.items() if y==0]\n",
    "    return len(ans)\n",
    "\n",
    "n=5\n",
    "lost = [2,4]\n",
    "reserve = [1,3,5]\n",
    "#reserve = [3]\n",
    "\n",
    "n=10\n",
    "lost = [1,5]\n",
    "reserve = [2,4]\n",
    "# n=3\n",
    "# lost = [3]\n",
    "# reserve=[1]\n",
    "\n",
    "# n=10\n",
    "# lost = [2,4,6]\n",
    "# reserve=[8]\n",
    "\n",
    "# n=12\n",
    "# lost = [1,3,5]\n",
    "# reserve = [2,4]\n",
    "\n",
    "\n",
    "solution(n,lost,reserve)"
   ]
  },
  {
   "cell_type": "code",
   "execution_count": 1,
   "metadata": {},
   "outputs": [
    {
     "name": "stdout",
     "output_type": "stream",
     "text": [
      "[3, 4]\n"
     ]
    }
   ],
   "source": [
    "a=set()\n",
    "a.add(3)\n",
    "a.add(4)\n",
    "print(list(a))"
   ]
  },
  {
   "cell_type": "code",
   "execution_count": 2,
   "metadata": {},
   "outputs": [
    {
     "data": {
      "text/plain": [
       "3"
      ]
     },
     "execution_count": 2,
     "metadata": {},
     "output_type": "execute_result"
    }
   ],
   "source": [
    "len([1,2,3])"
   ]
  },
  {
   "cell_type": "code",
   "execution_count": null,
   "metadata": {},
   "outputs": [],
   "source": [
    "# answer = n-len(lost)    \n",
    "#     visit=[0]*n\n",
    "    \n",
    "#     for i in range(1,n+1):\n",
    "#         if i not in lost:\n",
    "#             visit[i-1]=1\n",
    "            \n",
    "#     for i in reserve:\n",
    "#         if i in lost:\n",
    "#             continue\n",
    "            \n",
    "#         if 1<i<n:\n",
    "#             if i-1 in lost and visit[i-2]==0:\n",
    "#                 visit[i-2]=1\n",
    "#                 answer+=1\n",
    "    \n",
    "#             elif i+1 in lost and visit[i]==0:\n",
    "#                 visit[i]=1\n",
    "#                 answer+=1\n",
    "                \n",
    "#         elif i==1:\n",
    "#             if i+1 in lost and visit[i]==0:\n",
    "#                 visit[i]=1\n",
    "#                 answer+=1\n",
    "                \n",
    "#         elif i==n:\n",
    "#             if i-1 in lost and visit[i-2]==0:\n",
    "#                 visit[i-2]=1\n",
    "#                 answer+=1"
   ]
  }
 ],
 "metadata": {
  "kernelspec": {
   "display_name": "Python 3",
   "language": "python",
   "name": "python3"
  },
  "language_info": {
   "codemirror_mode": {
    "name": "ipython",
    "version": 3
   },
   "file_extension": ".py",
   "mimetype": "text/x-python",
   "name": "python",
   "nbconvert_exporter": "python",
   "pygments_lexer": "ipython3",
   "version": "3.7.9"
  }
 },
 "nbformat": 4,
 "nbformat_minor": 4
}
