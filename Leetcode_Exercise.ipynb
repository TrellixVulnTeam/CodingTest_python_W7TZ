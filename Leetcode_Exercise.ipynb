{
 "cells": [
  {
   "cell_type": "code",
   "execution_count": 54,
   "metadata": {},
   "outputs": [
    {
     "name": "stdout",
     "output_type": "stream",
     "text": [
      "aba\n",
      "aba\n"
     ]
    },
    {
     "data": {
      "text/plain": [
       "True"
      ]
     },
     "execution_count": 54,
     "metadata": {},
     "output_type": "execute_result"
    }
   ],
   "source": [
    "import re\n",
    "\n",
    "a='A man, a plan, a canal: Panama'\n",
    "#a='race a car'\n",
    "a='ab_a'\n",
    "a=a.lower()\n",
    "a=re.sub('[^a-z0-9]','',a)\n",
    "print(a)\n",
    "print(a[::-1])\n",
    "a==a[::-1]"
   ]
  },
  {
   "cell_type": "code",
   "execution_count": 78,
   "metadata": {},
   "outputs": [],
   "source": [
    "logs=['dig1 8 1 5 1','let1 art can','dig2 3 6','let2 own kit dig','let3 art zero']\n",
    "\n",
    "digits=[]\n",
    "letters=[]\n",
    "for i in logs:\n",
    "    if i.split()[1].isdigit():\n",
    "        digits.append(i)\n",
    "\n",
    "    else:\n",
    "        letters.append(i)\n",
    "    "
   ]
  },
  {
   "cell_type": "code",
   "execution_count": 64,
   "metadata": {},
   "outputs": [
    {
     "data": {
      "text/plain": [
       "['dig1 8 1 5 1', 'dig2 3 6']"
      ]
     },
     "execution_count": 64,
     "metadata": {},
     "output_type": "execute_result"
    }
   ],
   "source": [
    "digits"
   ]
  },
  {
   "cell_type": "code",
   "execution_count": 76,
   "metadata": {},
   "outputs": [
    {
     "data": {
      "text/plain": [
       "True"
      ]
     },
     "execution_count": 76,
     "metadata": {},
     "output_type": "execute_result"
    }
   ],
   "source": [
    "ex='1'\n",
    "ex.isdigit()"
   ]
  },
  {
   "cell_type": "code",
   "execution_count": 69,
   "metadata": {},
   "outputs": [
    {
     "name": "stdout",
     "output_type": "stream",
     "text": [
      "['let1 art can', 'let3 art zero', 'let2 own kit dig']\n",
      "['let1 art can', 'let3 art zero', 'let2 own kit dig', 'dig1 8 1 5 1', 'dig2 3 6']\n"
     ]
    }
   ],
   "source": [
    "letters\n",
    "letters.sort(key=lambda x : (x.split()[1:], x.split()[0]))  # split후 1부터의 키로 정렬하고, 동일하다면 식별자순으로 \n",
    "print(letters)\n",
    "ans=letters+digits\n",
    "print(ans)"
   ]
  },
  {
   "cell_type": "code",
   "execution_count": 61,
   "metadata": {},
   "outputs": [
    {
     "data": {
      "text/plain": [
       "'dig1'"
      ]
     },
     "execution_count": 61,
     "metadata": {},
     "output_type": "execute_result"
    }
   ],
   "source": [
    "ex='dig1 8 1 5 1'\n",
    "ex=ex.split()\n",
    "ex[0]"
   ]
  },
  {
   "cell_type": "code",
   "execution_count": 83,
   "metadata": {},
   "outputs": [
    {
     "data": {
      "text/plain": [
       "['1 A', '2 A', '1 B', '4 C']"
      ]
     },
     "execution_count": 83,
     "metadata": {},
     "output_type": "execute_result"
    }
   ],
   "source": [
    "s=['2 A','1 B','4 C','1 A']\n",
    "s.sort(key=lambda x:(x.split()[1],x.split()[0]))\n",
    "s"
   ]
  },
  {
   "cell_type": "code",
   "execution_count": 5,
   "metadata": {},
   "outputs": [
    {
     "name": "stdout",
     "output_type": "stream",
     "text": [
      "7\n",
      "1234567\n",
      "1234567\n",
      "1234567\n",
      "1234567\n",
      "1234567\n",
      "1234567\n",
      "1234567\n"
     ]
    }
   ],
   "source": [
    "\n",
    "\n",
    "N=int(input())\n",
    "\n",
    "more=[list(map(int,input())) for _ in range(N)]\n",
    "\n",
    "\n",
    "mid=N//2\n"
   ]
  },
  {
   "cell_type": "code",
   "execution_count": 6,
   "metadata": {},
   "outputs": [
    {
     "data": {
      "text/plain": [
       "3"
      ]
     },
     "execution_count": 6,
     "metadata": {},
     "output_type": "execute_result"
    }
   ],
   "source": [
    "# mid,mid부터 이동\n",
    "\n",
    "# 왼-하-우-상\n",
    "d=1   # 1씩 증가\n",
    "direction=[(0,-1),(1,0),(0,1),(-1,0)]\n",
    "\n",
    "posi=[(mid,mid)]\n",
    "dir_ind=0\n",
    "\n",
    "sand_out=0\n",
    "\n",
    "while(1):\n",
    "    kan=posi.pop(0)\n",
    "    x=kan[0]\n",
    "    y=kan[1]\n",
    "    if (x==0) & (y==0):\n",
    "        break\n",
    "    \n",
    "    \n",
    "    for i in d:\n",
    "        new_x=x+direction[dir_ind][0]\n",
    "        new_y=y+direction[dir_ind][1]\n",
    "        \n",
    "        # sand양 계싼\n",
    "        \n",
    "        \n",
    "        \n",
    "    d+=1\n",
    "    \n",
    "    \n",
    "    "
   ]
  },
  {
   "cell_type": "code",
   "execution_count": 19,
   "metadata": {},
   "outputs": [
    {
     "name": "stdout",
     "output_type": "stream",
     "text": [
      "deque([0]) 74\n",
      "deque([1]) 75\n",
      "deque([2, 3, 4]) 72\n",
      "deque([2, 3]) 72\n",
      "deque([2, 5]) 76\n",
      "deque([2]) 76\n"
     ]
    },
    {
     "data": {
      "text/plain": [
       "[1, 1, 4, 2, 1, 1, 0, 0]"
      ]
     },
     "execution_count": 19,
     "metadata": {},
     "output_type": "execute_result"
    }
   ],
   "source": [
    "import collections\n",
    "\n",
    "T=[73,74,75,71,69,72,76,73]\n",
    "\n",
    "result = [0] * len(T)\n",
    "stack = collections.deque()\n",
    "\n",
    "\n",
    "for i, t in enumerate(T):\n",
    "    while stack and T[stack[-1]] < t:\n",
    "        print(stack,t)\n",
    "        result[stack[-1]] = i - stack[-1]\n",
    "        stack.pop()\n",
    "    stack.append(i)\n",
    "    \n",
    "result"
   ]
  },
  {
   "cell_type": "code",
   "execution_count": 24,
   "metadata": {},
   "outputs": [
    {
     "name": "stdout",
     "output_type": "stream",
     "text": [
      "['h', 'e', 'l', 'l', 'o']\n",
      "['o', 'l', 'l', 'e', 'h']\n"
     ]
    }
   ],
   "source": [
    "a='hello'\n",
    "b=list(a)\n",
    "print(b)\n",
    "c=b[::-1]\n",
    "print(c)"
   ]
  },
  {
   "cell_type": "code",
   "execution_count": 29,
   "metadata": {},
   "outputs": [
    {
     "name": "stdout",
     "output_type": "stream",
     "text": [
      "['o', 'l', 'l', 'e', 'h']\n"
     ]
    }
   ],
   "source": [
    "s=[\"h\",\"e\",\"l\",\"l\",\"o\"]\n",
    "print(s[::-1])"
   ]
  },
  {
   "cell_type": "code",
   "execution_count": 52,
   "metadata": {},
   "outputs": [
    {
     "data": {
      "text/plain": [
       "3"
      ]
     },
     "execution_count": 52,
     "metadata": {},
     "output_type": "execute_result"
    }
   ],
   "source": [
    "def fib(n):\n",
    "    \"\"\"\n",
    "    :type n: int\n",
    "    :rtype: int\n",
    "    \"\"\"\n",
    "    if n==0:\n",
    "        return 0\n",
    "    if n==1:\n",
    "        return 1\n",
    "    return fib(n-1)+fib(n-2)\n",
    "fib(4)"
   ]
  },
  {
   "cell_type": "code",
   "execution_count": 105,
   "metadata": {},
   "outputs": [
    {
     "name": "stdout",
     "output_type": "stream",
     "text": [
      "ball\n"
     ]
    }
   ],
   "source": [
    "import re\n",
    "banned=['hit']\n",
    "paragraph='Bob hit a ball, the hit BALL flew far after it was hit.'\n",
    "paragraph=paragraph.lower()\n",
    "\n",
    "paragraph=re.sub('[^a-z]',' ',paragraph)\n",
    "paragraph\n",
    "s=paragraph.split()\n",
    "from collections import Counter\n",
    "s=Counter(s)\n",
    "s.most_common()\n",
    "for i in s.most_common():\n",
    "    if i[0] in banned:\n",
    "        continue\n",
    "    else:\n",
    "        print(i[0])\n",
    "        break"
   ]
  },
  {
   "cell_type": "code",
   "execution_count": 139,
   "metadata": {},
   "outputs": [
    {
     "data": {
      "text/plain": [
       "{'aet': ['eat', 'tea', 'ate'], 'ant': ['tan', 'nat'], 'abt': ['bat']}"
      ]
     },
     "execution_count": 139,
     "metadata": {},
     "output_type": "execute_result"
    }
   ],
   "source": [
    "strs = [\"eat\",\"tea\",\"tan\",\"ate\",\"nat\",\"bat\"]\n",
    "\n",
    "new_strs=[]\n",
    "for i in strs:\n",
    "    i=list(i)\n",
    "    i.sort()\n",
    "    new_strs.append(i)\n",
    "    \n",
    "\n",
    "d={}\n",
    "for i,j in zip(strs,new_strs):\n",
    "    j=''.join(j)\n",
    "    if j not in d:\n",
    "        d[j]=[i]\n",
    "    else:\n",
    "        d[j].append(i)\n",
    "    \n",
    "d"
   ]
  },
  {
   "cell_type": "code",
   "execution_count": 138,
   "metadata": {},
   "outputs": [
    {
     "data": {
      "text/plain": [
       "defaultdict(list,\n",
       "            {'a e t': ['eat', 'tea', 'ate'],\n",
       "             'a n t': ['tan', 'nat'],\n",
       "             'a b t': ['bat']})"
      ]
     },
     "execution_count": 138,
     "metadata": {},
     "output_type": "execute_result"
    }
   ],
   "source": [
    "import collections\n",
    "\n",
    "strs = [\"eat\",\"tea\",\"tan\",\"ate\",\"nat\",\"bat\"]\n",
    "anagrams=collections.defaultdict(list)  # 초깃값을 list형태로 설정\n",
    "\n",
    "for word in strs:\n",
    "    anagrams[' '.join(sorted(word))].append(word)\n",
    "    \n",
    "anagrams\n"
   ]
  },
  {
   "cell_type": "code",
   "execution_count": 136,
   "metadata": {},
   "outputs": [
    {
     "name": "stdout",
     "output_type": "stream",
     "text": [
      "['a', 'e', 't']\n",
      "eat\n"
     ]
    }
   ],
   "source": [
    "print(sorted(strs[0]))\n",
    "print(strs[0])"
   ]
  },
  {
   "cell_type": "code",
   "execution_count": 140,
   "metadata": {},
   "outputs": [
    {
     "name": "stdout",
     "output_type": "stream",
     "text": [
      "['abc', 'cfc', 'cde']\n"
     ]
    }
   ],
   "source": [
    "a=['cde','cfc','abc']\n",
    "\n",
    "def fn(s):\n",
    "    return s[0],s[-1]   # 첫 문자열을 기준으로, 그리고 마지막 문자열을 기준으로 정렬 \n",
    "\n",
    "print(sorted(a,key=fn))"
   ]
  },
  {
   "cell_type": "code",
   "execution_count": 141,
   "metadata": {},
   "outputs": [
    {
     "data": {
      "text/plain": [
       "['abc', 'cfc', 'cde']"
      ]
     },
     "execution_count": 141,
     "metadata": {},
     "output_type": "execute_result"
    }
   ],
   "source": [
    "sorted(a,key=lambda s:(s[0],s[-1]))"
   ]
  },
  {
   "cell_type": "code",
   "execution_count": 178,
   "metadata": {},
   "outputs": [],
   "source": [
    "s2='babad'\n",
    "s2='cbbd'\n",
    "s2='cbbbb'\n",
    "# s[::-1]\n",
    "# s2='fkcbaabcba'\n",
    "# s2[::-1]\n",
    "\n",
    "\n",
    "lst=[]\n",
    "for i in range(len(s2)):\n",
    "    sub=s2[i]\n",
    "    sub2=s2[i]\n",
    "    \n",
    "    start=i\n",
    "    for j in range(i+1,len(s2)):\n",
    "        end=j\n",
    "        if (i==0) | (len(s2)%2==0):\n",
    "            if s2[j]==s2[i]:\n",
    "                sub2+=s2[i]\n",
    "                print(sub2)\n",
    "            else:\n",
    "                lst.append(sub2)\n",
    "                break\n",
    "                \n",
    "        else:\n",
    "            start=start-1\n",
    "            if start>0:\n",
    "                if s2[end]==s2[start]:\n",
    "                    sub=s2[start]+sub+s2[end]\n",
    "                    start=start-1\n",
    "                \n",
    "                else:\n",
    "                    lst.append(sub)\n",
    "                    break\n",
    "\n",
    "    else:\n",
    "        lst.append(sub)\n",
    "    "
   ]
  },
  {
   "cell_type": "code",
   "execution_count": 179,
   "metadata": {},
   "outputs": [
    {
     "data": {
      "text/plain": [
       "['c', 'b', 'bbb', 'bbb', 'b']"
      ]
     },
     "execution_count": 179,
     "metadata": {},
     "output_type": "execute_result"
    }
   ],
   "source": [
    "lst"
   ]
  },
  {
   "cell_type": "code",
   "execution_count": 150,
   "metadata": {},
   "outputs": [
    {
     "data": {
      "text/plain": [
       "'acb'"
      ]
     },
     "execution_count": 150,
     "metadata": {},
     "output_type": "execute_result"
    }
   ],
   "source": [
    "a='c'\n",
    "a='a'+a+'b'\n",
    "ab"
   ]
  },
  {
   "cell_type": "code",
   "execution_count": 181,
   "metadata": {},
   "outputs": [
    {
     "data": {
      "text/plain": [
       "'bbbb'"
      ]
     },
     "execution_count": 181,
     "metadata": {},
     "output_type": "execute_result"
    }
   ],
   "source": [
    "\n",
    "\n",
    "def expand(left,right):\n",
    "    while left >= 0 and right <=len(s) and s[left]==s[right-1]:\n",
    "        left-=1\n",
    "        right+=1\n",
    "        \n",
    "    return s[left+1:right-1]\n",
    "\n",
    "\n",
    "def solution(s):\n",
    "    if len(s)<2 or s==s[::-1]:\n",
    "        print(s)\n",
    "        return s\n",
    "\n",
    "    result=''\n",
    "    for i in range(len(s)-1):\n",
    "        result=max(result,expand(i,i+1),expand(i,i+2),key=len)  # expand(i,i+1)이 홀수 투 포인터  /  expand(i,i+2)이 짝수 투 포인터\n",
    "    return result\n",
    "    \n",
    "s='cbbbb'\n",
    "solution(s)"
   ]
  },
  {
   "cell_type": "code",
   "execution_count": null,
   "metadata": {},
   "outputs": [],
   "source": [
    "s2='babad'\n",
    "s2='cbbd'\n",
    "s2='cbbbb'\n",
    "s[::-1]\n",
    "s2='fkcbaabcba'\n",
    "s2[::-1]"
   ]
  },
  {
   "cell_type": "code",
   "execution_count": 206,
   "metadata": {},
   "outputs": [
    {
     "ename": "NameError",
     "evalue": "name 'List' is not defined",
     "output_type": "error",
     "traceback": [
      "\u001b[1;31m---------------------------------------------------------------------------\u001b[0m",
      "\u001b[1;31mNameError\u001b[0m                                 Traceback (most recent call last)",
      "\u001b[1;32m<ipython-input-206-fd91eb695f23>\u001b[0m in \u001b[0;36m<module>\u001b[1;34m\u001b[0m\n\u001b[1;32m----> 1\u001b[1;33m \u001b[1;32mclass\u001b[0m \u001b[0msol2\u001b[0m\u001b[1;33m:\u001b[0m\u001b[1;33m\u001b[0m\u001b[1;33m\u001b[0m\u001b[0m\n\u001b[0m\u001b[0;32m      2\u001b[0m     \u001b[1;32mdef\u001b[0m \u001b[0mtwoSum\u001b[0m\u001b[1;33m(\u001b[0m\u001b[0mself\u001b[0m\u001b[1;33m,\u001b[0m \u001b[0mnums\u001b[0m\u001b[1;33m:\u001b[0m \u001b[0mList\u001b[0m\u001b[1;33m[\u001b[0m\u001b[0mint\u001b[0m\u001b[1;33m]\u001b[0m\u001b[1;33m,\u001b[0m \u001b[0mtarget\u001b[0m\u001b[1;33m:\u001b[0m \u001b[0mint\u001b[0m\u001b[1;33m)\u001b[0m \u001b[1;33m->\u001b[0m \u001b[0mList\u001b[0m\u001b[1;33m[\u001b[0m\u001b[0mint\u001b[0m\u001b[1;33m]\u001b[0m\u001b[1;33m:\u001b[0m\u001b[1;33m\u001b[0m\u001b[1;33m\u001b[0m\u001b[0m\n\u001b[0;32m      3\u001b[0m \u001b[1;33m\u001b[0m\u001b[0m\n\u001b[0;32m      4\u001b[0m         \u001b[1;32mfor\u001b[0m \u001b[0mi\u001b[0m\u001b[1;33m,\u001b[0m\u001b[0mv\u001b[0m \u001b[1;32min\u001b[0m \u001b[0menumerate\u001b[0m\u001b[1;33m(\u001b[0m\u001b[0mnums\u001b[0m\u001b[1;33m)\u001b[0m\u001b[1;33m:\u001b[0m\u001b[1;33m\u001b[0m\u001b[1;33m\u001b[0m\u001b[0m\n\u001b[0;32m      5\u001b[0m             \u001b[0mcomp\u001b[0m\u001b[1;33m=\u001b[0m\u001b[0mtarget\u001b[0m\u001b[1;33m-\u001b[0m\u001b[0mv\u001b[0m\u001b[1;33m\u001b[0m\u001b[1;33m\u001b[0m\u001b[0m\n",
      "\u001b[1;32m<ipython-input-206-fd91eb695f23>\u001b[0m in \u001b[0;36msol2\u001b[1;34m()\u001b[0m\n\u001b[0;32m      1\u001b[0m \u001b[1;32mclass\u001b[0m \u001b[0msol2\u001b[0m\u001b[1;33m:\u001b[0m\u001b[1;33m\u001b[0m\u001b[1;33m\u001b[0m\u001b[0m\n\u001b[1;32m----> 2\u001b[1;33m     \u001b[1;32mdef\u001b[0m \u001b[0mtwoSum\u001b[0m\u001b[1;33m(\u001b[0m\u001b[0mself\u001b[0m\u001b[1;33m,\u001b[0m \u001b[0mnums\u001b[0m\u001b[1;33m:\u001b[0m \u001b[0mList\u001b[0m\u001b[1;33m[\u001b[0m\u001b[0mint\u001b[0m\u001b[1;33m]\u001b[0m\u001b[1;33m,\u001b[0m \u001b[0mtarget\u001b[0m\u001b[1;33m:\u001b[0m \u001b[0mint\u001b[0m\u001b[1;33m)\u001b[0m \u001b[1;33m->\u001b[0m \u001b[0mList\u001b[0m\u001b[1;33m[\u001b[0m\u001b[0mint\u001b[0m\u001b[1;33m]\u001b[0m\u001b[1;33m:\u001b[0m\u001b[1;33m\u001b[0m\u001b[1;33m\u001b[0m\u001b[0m\n\u001b[0m\u001b[0;32m      3\u001b[0m \u001b[1;33m\u001b[0m\u001b[0m\n\u001b[0;32m      4\u001b[0m         \u001b[1;32mfor\u001b[0m \u001b[0mi\u001b[0m\u001b[1;33m,\u001b[0m\u001b[0mv\u001b[0m \u001b[1;32min\u001b[0m \u001b[0menumerate\u001b[0m\u001b[1;33m(\u001b[0m\u001b[0mnums\u001b[0m\u001b[1;33m)\u001b[0m\u001b[1;33m:\u001b[0m\u001b[1;33m\u001b[0m\u001b[1;33m\u001b[0m\u001b[0m\n\u001b[0;32m      5\u001b[0m             \u001b[0mcomp\u001b[0m\u001b[1;33m=\u001b[0m\u001b[0mtarget\u001b[0m\u001b[1;33m-\u001b[0m\u001b[0mv\u001b[0m\u001b[1;33m\u001b[0m\u001b[1;33m\u001b[0m\u001b[0m\n",
      "\u001b[1;31mNameError\u001b[0m: name 'List' is not defined"
     ]
    }
   ],
   "source": [
    "class sol2:\n",
    "    def twoSum(self, nums: List[int], target: int) -> List[int]:\n",
    "        \n",
    "        for i,v in enumerate(nums):\n",
    "            comp=target-v\n",
    "            \n",
    "            if comp in nums[i+1:]:\n",
    "                return [i,nums[i+1:].index(comp)+i+1]\n"
   ]
  },
  {
   "cell_type": "code",
   "execution_count": 190,
   "metadata": {},
   "outputs": [
    {
     "ename": "IndentationError",
     "evalue": "unexpected indent (<ipython-input-190-b6260579ffe4>, line 3)",
     "output_type": "error",
     "traceback": [
      "\u001b[1;36m  File \u001b[1;32m\"<ipython-input-190-b6260579ffe4>\"\u001b[1;36m, line \u001b[1;32m3\u001b[0m\n\u001b[1;33m    for i in range(len(nums)):\u001b[0m\n\u001b[1;37m    ^\u001b[0m\n\u001b[1;31mIndentationError\u001b[0m\u001b[1;31m:\u001b[0m unexpected indent\n"
     ]
    }
   ],
   "source": [
    "ans=[]\n",
    "\n",
    "for i in range(len(nums)):\n",
    "    for j in range(i+1,len(nums)):\n",
    "        #print(nums[i],nums[j])\n",
    "        if nums[i]+nums[j]==target:\n",
    "            print(i,j)\n",
    "            ans=[i,j]\n",
    "            return ans\n"
   ]
  },
  {
   "cell_type": "code",
   "execution_count": 209,
   "metadata": {},
   "outputs": [
    {
     "name": "stdout",
     "output_type": "stream",
     "text": [
      "{3: 1}\n"
     ]
    },
    {
     "data": {
      "text/plain": [
       "[0, 1]"
      ]
     },
     "execution_count": 209,
     "metadata": {},
     "output_type": "execute_result"
    }
   ],
   "source": [
    "def sol3():\n",
    "    nums=[3,2,4]\n",
    "    nums=[2,7,11,15]\n",
    "    nums=[3,3]\n",
    "    target=6\n",
    "    lst=[]\n",
    "\n",
    "    num_d={}\n",
    "    for i,v in enumerate(nums):\n",
    "        num_d[v]=i\n",
    "        \n",
    "    print(num_d)\n",
    "    \n",
    "    for i,k in enumerate(nums):\n",
    "        #print(k,v)\n",
    "        if target-k in num_d and i !=num_d[target-k]:\n",
    "            return [nums.index(k), num_d[target-k]]\n",
    "        \n",
    "sol3()"
   ]
  },
  {
   "cell_type": "code",
   "execution_count": 216,
   "metadata": {},
   "outputs": [
    {
     "data": {
      "text/plain": [
       "'dcba'"
      ]
     },
     "execution_count": 216,
     "metadata": {},
     "output_type": "execute_result"
    }
   ],
   "source": [
    "a='abcd'\n",
    "''.join(reversed(a))"
   ]
  },
  {
   "cell_type": "code",
   "execution_count": 238,
   "metadata": {},
   "outputs": [],
   "source": [
    "def twopointer_sol():\n",
    "    target=9\n",
    "    nums=[2,7,11,15]\n",
    "    nums.sort()\n",
    "\n",
    "    left, right = 0, len(nums)-1\n",
    "\n",
    "    while not left ==right:\n",
    "        if nums[left] + nums[right] < target:  # left를 오른쪽으로 갈수록 값이 커지기 때문에 left+=1\n",
    "            left+=1\n",
    "\n",
    "        elif nums[left] + nums[right] > target:  # right를 왼쪽으로 갈수록 값이 작아지기 때문에 right-=1 \n",
    "            right-=1\n",
    "\n",
    "        else:\n",
    "            return left, right    "
   ]
  },
  {
   "cell_type": "code",
   "execution_count": 239,
   "metadata": {},
   "outputs": [
    {
     "data": {
      "text/plain": [
       "(0, 1)"
      ]
     },
     "execution_count": 239,
     "metadata": {},
     "output_type": "execute_result"
    }
   ],
   "source": [
    "twopointer_sol()"
   ]
  },
  {
   "cell_type": "code",
   "execution_count": null,
   "metadata": {},
   "outputs": [],
   "source": []
  }
 ],
 "metadata": {
  "kernelspec": {
   "display_name": "Python 3",
   "language": "python",
   "name": "python3"
  },
  "language_info": {
   "codemirror_mode": {
    "name": "ipython",
    "version": 3
   },
   "file_extension": ".py",
   "mimetype": "text/x-python",
   "name": "python",
   "nbconvert_exporter": "python",
   "pygments_lexer": "ipython3",
   "version": "3.8.5"
  }
 },
 "nbformat": 4,
 "nbformat_minor": 4
}
