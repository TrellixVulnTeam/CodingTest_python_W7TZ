{
 "cells": [
  {
   "cell_type": "code",
   "execution_count": 39,
   "metadata": {},
   "outputs": [
    {
     "name": "stdout",
     "output_type": "stream",
     "text": [
      "4 [4] [4]\n",
      "4 [4] [2, 2]\n",
      "8 [4, 4] [2, 2, 2, 2]\n",
      "2 [2] [2]\n",
      "6 [4, 2] [2, 2, 2]\n",
      "2 [2] [2]\n",
      "4 [2, 2] [2, 2]\n",
      "2 [2] [2]\n"
     ]
    },
    {
     "data": {
      "text/plain": [
       "8"
      ]
     },
     "execution_count": 39,
     "metadata": {},
     "output_type": "execute_result"
    }
   ],
   "source": [
    "def solution(cookie):\n",
    "    answer = 0\n",
    "    \n",
    "    cookie.sort(reverse=True)\n",
    "    \n",
    "    for i in range(len(cookie)):\n",
    "        left = i\n",
    "        right = i+1\n",
    "        flag=True\n",
    "        \n",
    "        while(1):\n",
    "            if left<0 or right>=len(cookie):\n",
    "                break\n",
    "            \n",
    "            if sum(cookie[left:i+1]) == sum(cookie[i+1:right+1]):\n",
    "                print(sum(cookie[left:i+1]), cookie[left:i+1],cookie[i+1:right+1])\n",
    "                #cookie_cnt = max(cookie_cnt,cookie[left:i+1])\n",
    "                answer = max(answer,sum(cookie[left:i+1]))\n",
    "                left-=1\n",
    "                right+=1\n",
    "                \n",
    "            elif sum(cookie[left:i+1]) > sum(cookie[i+1:right+1]):\n",
    "                right+=1\n",
    "            elif sum(cookie[left:i+1]) < sum(cookie[i+1:right+1]):\n",
    "                left-=1\n",
    "            \n",
    "        \n",
    "    \n",
    "    return answer\n",
    "\n",
    "cookie = [1,2,4,5]\n",
    "cookie = [1,1,2,3]\n",
    "cookie = [1,2]\n",
    "cookie = [4,4,2,2,2,2]\n",
    "\n",
    "\n",
    "solution(cookie)"
   ]
  },
  {
   "cell_type": "code",
   "execution_count": 22,
   "metadata": {},
   "outputs": [
    {
     "data": {
      "text/plain": [
       "[1, 2, 3, 4]"
      ]
     },
     "execution_count": 22,
     "metadata": {},
     "output_type": "execute_result"
    }
   ],
   "source": [
    "# 해설 : https://deok2kim.tistory.com/125 \n",
    "def solution(cookie):\n",
    "    answer = 0\n",
    "    \n",
    "    for i in range(len(cookie)-1):\n",
    "        left = i\n",
    "        right = i+1\n",
    "        left_res = cookie[i]\n",
    "        right_res = cookie[i+1]\n",
    "        \n",
    "        while(1):\n",
    "            if left_res == right_res:\n",
    "                if answer < left_res:\n",
    "                    answer = left_res\n",
    "                \n",
    "            elif right < (len(cookie)-1) and left_res >= right_res:\n",
    "                right+=1\n",
    "                right_res += cookie[right]\n",
    "            elif left > 0 and left_res <= right_res:\n",
    "                left-=1\n",
    "                left_res+=cookie[left]\n",
    "                \n",
    "            else:\n",
    "                break\n",
    "        \n",
    "    \n",
    "    return answer"
   ]
  }
 ],
 "metadata": {
  "kernelspec": {
   "display_name": "Python 3",
   "language": "python",
   "name": "python3"
  },
  "language_info": {
   "codemirror_mode": {
    "name": "ipython",
    "version": 3
   },
   "file_extension": ".py",
   "mimetype": "text/x-python",
   "name": "python",
   "nbconvert_exporter": "python",
   "pygments_lexer": "ipython3",
   "version": "3.7.9"
  }
 },
 "nbformat": 4,
 "nbformat_minor": 4
}
