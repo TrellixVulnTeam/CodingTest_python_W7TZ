{
 "cells": [
  {
   "cell_type": "code",
   "execution_count": 4,
   "metadata": {},
   "outputs": [
    {
     "data": {
      "text/plain": [
       "[['a', 'b', 'c'], ['d', 'e', 'f'], ['g', 'h', 'i'], ['j', 'k']]"
      ]
     },
     "execution_count": 4,
     "metadata": {},
     "output_type": "execute_result"
    }
   ],
   "source": [
    "lst = ['a', 'b', 'c', 'd', 'e', 'f', 'g', 'h', 'i', 'j', 'k']\n",
    "\n",
    "# lst를 n개식 자르고 싶다\n",
    "n=3\n",
    "\n",
    "def list_chunk(lst,n):\n",
    "    return [lst[i:i+n] for i in range(0,len(lst),n)]\n",
    "        \n",
    "list_chunk(lst,n)"
   ]
  },
  {
   "cell_type": "code",
   "execution_count": 137,
   "metadata": {},
   "outputs": [],
   "source": [
    "genres=['classic', 'pop', 'classic', 'classic', 'pop']\n",
    "plays=[500, 600, 150, 800, 2500]"
   ]
  },
  {
   "cell_type": "code",
   "execution_count": 138,
   "metadata": {},
   "outputs": [],
   "source": [
    "# genres=['classic']\n",
    "# plays=[100]"
   ]
  },
  {
   "cell_type": "code",
   "execution_count": 139,
   "metadata": {},
   "outputs": [
    {
     "data": {
      "text/plain": [
       "[4, 1, 3, 0]"
      ]
     },
     "execution_count": 139,
     "metadata": {},
     "output_type": "execute_result"
    }
   ],
   "source": [
    "from collections import defaultdict\n",
    "import operator\n",
    "def solution(genres, plays):\n",
    "    answer = []\n",
    "    d=defaultdict(int)    # 장르별, 총 재생수\n",
    "    d2=defaultdict(int)  # 곡별, 재생 수\n",
    "    d3=defaultdict(list)  # 장르별, 곡 \n",
    "    d4=defaultdict(list)\n",
    "\n",
    "    for i in range(len(plays)):\n",
    "        d2[i]+=plays[i]                       # 곡별 재생수 사전 만들기\n",
    "\n",
    "    for i,j in zip(genres,range(len(plays))):  \n",
    "        d[i]+=plays[j]                          # 장르별, 총 재생수 사전 만들기\n",
    "        d3[i]+=[j]                                 # 장르별 곡 사전 만들기\n",
    "\n",
    "    for k in d3.keys():                       \n",
    "        d4[k]+=[d[k]]                           # 장르별, 총재생수먼저 넣어준다\n",
    "        lst=[]\n",
    "        for v in d3[k]:                          # 장르별 곡과 그 곡별 재생수를 리스트에 넣는다\n",
    "            lst.append((v,d2[v]))\n",
    "\n",
    "        lst.sort(key=lambda x: (-x[1],x[0]))  # 리스트를 곡별 재생수 내림차순, 곡 고유번호순으로 정렬한다\n",
    "        d4[k]+=[lst]                                        # 정렬한 리스트를 d4사전에 넣는다\n",
    "    \n",
    "    answer=sorted(d4.items(), key = lambda x:-x[1][0])      # d4사전의 총 재생수 내림차순으로 정렬한다 \n",
    "    \n",
    "    \n",
    "    ans={}                        # 해당 장르에 있는 곡들이 이미 정렬된 상태이므로 곡에서 고유번호만 뺀다 (장르별 2번 한정)\n",
    "    for k,v in answer:\n",
    "        ans[k]=[]\n",
    "        cnt=0\n",
    "        for value in v[1]:\n",
    "            ans[k]+=[value[0]]\n",
    "\n",
    "            cnt+=1\n",
    "            if cnt==2:\n",
    "                break\n",
    "\n",
    "    ret=[]                                     # 바로 위에서 만든 사전에서 value만 뽑아 리스트로 만든다 \n",
    "    for k, v in ans.items():\n",
    "        #print(v)\n",
    "        ret.extend(v)\n",
    "    return ret\n",
    "\n",
    "    \n",
    "    \n",
    "    \n",
    "    \n",
    "#     g2={}\n",
    "#     for i in range(len(genres)):\n",
    "#         if genres[i] not in g2:\n",
    "#             g2[genres[i]]=plays[i]\n",
    "#         else:\n",
    "#             g2[genres[i]]+=plays[i]\n",
    "            \n",
    "#     g2=sorted(g2.items(),key=operator.itemgetter(1),reverse=True)\n",
    "    \n",
    "#     #\n",
    "#     g={}\n",
    "    \n",
    "#     for i in set(genres):\n",
    "#         g[i]=[]\n",
    "#     for i in range(len(genres)):\n",
    "#         g[genres[i]].append([plays[i],i])\n",
    "#         g[genres[i]].sort(key=lambda x:(-x[0],x[1]))\n",
    "\n",
    "    \n",
    "#     for i in g2:\n",
    "#         cnt=0\n",
    "#         for j in g[i[0]]:\n",
    "#             answer.append(j[1])\n",
    "#             cnt+=1\n",
    "#             if cnt==2:\n",
    "#                 break\n",
    "    \n",
    "        \n",
    "    \n",
    "solution(genres,plays)\n"
   ]
  },
  {
   "cell_type": "code",
   "execution_count": 130,
   "metadata": {},
   "outputs": [
    {
     "name": "stdout",
     "output_type": "stream",
     "text": [
      "defaultdict(<class 'int'>, {'classic': 1450, 'pop': 3100})\n",
      "defaultdict(<class 'list'>, {'classic': [0, 2, 3], 'pop': [1, 4]})\n",
      "defaultdict(<class 'int'>, {0: 500, 1: 600, 2: 150, 3: 800, 4: 2500})\n",
      "lst :  [(3, 800), (0, 500), (2, 150)]\n",
      "lst :  [(4, 2500), (1, 600)]\n",
      "defaultdict(<class 'list'>, {'classic': [1450, [(3, 800), (0, 500), (2, 150)]], 'pop': [3100, [(4, 2500), (1, 600)]]})\n"
     ]
    },
    {
     "data": {
      "text/plain": [
       "[('pop', [3100, [(4, 2500), (1, 600)]]),\n",
       " ('classic', [1450, [(3, 800), (0, 500), (2, 150)]])]"
      ]
     },
     "execution_count": 130,
     "metadata": {},
     "output_type": "execute_result"
    }
   ],
   "source": [
    "from collections import defaultdict\n",
    "answer = []\n",
    "d=defaultdict(int)\n",
    "d2=defaultdict(int)\n",
    "num=0\n",
    "d4=defaultdict(list)\n",
    "\n",
    "\n",
    "for i in range(len(plays)):\n",
    "    d2[i]+=plays[i]\n",
    "\n",
    "\n",
    "for i,j in zip(genres,range(len(plays))):\n",
    "    \n",
    "    d[i]+=plays[j]\n",
    "    d4[i]+=[j]\n",
    "    \n",
    "    \n",
    "\n",
    "\n",
    "print(d)\n",
    "print(d4)\n",
    "print(d2)\n",
    "\n",
    "\n",
    "\n",
    "d5=defaultdict(list)\n",
    "\n",
    "for k in d4.keys():\n",
    "    d5[k]+=[d[k]]\n",
    "    lst=[]\n",
    "    for v in d4[k]:\n",
    "        \n",
    "        lst.append((v,d2[v]))\n",
    "        \n",
    "    lst.sort(key=lambda x: (-x[1],x[0]))\n",
    "    print('lst : ',lst)\n",
    "    d5[k]+=[lst]\n",
    "d5\n",
    "print(d5)\n",
    "\n",
    "answer=sorted(d5.items(), key = lambda x:-x[1][0])\n",
    "answer\n"
   ]
  },
  {
   "cell_type": "code",
   "execution_count": 131,
   "metadata": {},
   "outputs": [
    {
     "name": "stdout",
     "output_type": "stream",
     "text": [
      "[(4, 2500), (1, 600)]\n",
      "[(3, 800), (0, 500), (2, 150)]\n"
     ]
    },
    {
     "data": {
      "text/plain": [
       "{'pop': [4, 1], 'classic': [3, 0]}"
      ]
     },
     "execution_count": 131,
     "metadata": {},
     "output_type": "execute_result"
    }
   ],
   "source": [
    "ans={}\n",
    "for k,v in answer:\n",
    "    #print(v)\n",
    "    print(v[1])\n",
    "    ans[k]=[]\n",
    "    cnt=0\n",
    "    for value in v[1]:\n",
    "        ans[k]+=[value[0]]\n",
    "        \n",
    "        cnt+=1\n",
    "        if cnt==2:\n",
    "            break\n",
    "    \n",
    "ans\n",
    "    \n",
    "        #ans[k]+=[value]\n",
    "#         ans[k]=[]\n",
    "#         ans[k].append(v[1][0][0])\n",
    "#     ans[k].append(v[1][1][0])\n",
    "    \n",
    "\n",
    "\n"
   ]
  },
  {
   "cell_type": "code",
   "execution_count": 132,
   "metadata": {},
   "outputs": [
    {
     "name": "stdout",
     "output_type": "stream",
     "text": [
      "[4, 1]\n",
      "[3, 0]\n"
     ]
    },
    {
     "data": {
      "text/plain": [
       "[4, 1, 3, 0]"
      ]
     },
     "execution_count": 132,
     "metadata": {},
     "output_type": "execute_result"
    }
   ],
   "source": [
    "ret=[]\n",
    "for k, v in ans.items():\n",
    "    print(v)\n",
    "    ret.extend(v)\n",
    "    #ret.append(v)\n",
    "ret"
   ]
  },
  {
   "cell_type": "code",
   "execution_count": 133,
   "metadata": {},
   "outputs": [
    {
     "data": {
      "text/plain": [
       "[('pop', [3100, [(4, 2500), (1, 600)]]),\n",
       " ('classic', [1450, [(3, 800), (0, 500), (2, 150)]])]"
      ]
     },
     "execution_count": 133,
     "metadata": {},
     "output_type": "execute_result"
    }
   ],
   "source": [
    "sorted(d5.items(), key = lambda x: (-x[1][0],-x[1][1][1][1]))"
   ]
  },
  {
   "cell_type": "code",
   "execution_count": 134,
   "metadata": {},
   "outputs": [
    {
     "name": "stdout",
     "output_type": "stream",
     "text": [
      "defaultdict(<class 'int'>, {'classic': 1450, 'pop': 3100})\n",
      "defaultdict(<class 'int'>, {0: 500, 1: 600, 2: 150, 3: 800, 4: 2500})\n"
     ]
    }
   ],
   "source": [
    "print(d)\n",
    "print(d2)\n",
    "d3=defaultdict(list)\n",
    "for k,v in d.items():\n",
    "    d3[k]+=[v,d2]\n"
   ]
  },
  {
   "cell_type": "code",
   "execution_count": 135,
   "metadata": {},
   "outputs": [
    {
     "name": "stdout",
     "output_type": "stream",
     "text": [
      "[('pop', [3100, defaultdict(<class 'int'>, {0: 500, 1: 600, 2: 150, 3: 800, 4: 2500})]), ('classic', [1450, defaultdict(<class 'int'>, {0: 500, 1: 600, 2: 150, 3: 800, 4: 2500})])]\n"
     ]
    },
    {
     "data": {
      "text/plain": [
       "[0, 1, 2, 3, 4, 0, 1, 2, 3, 4]"
      ]
     },
     "execution_count": 135,
     "metadata": {},
     "output_type": "execute_result"
    }
   ],
   "source": [
    "print(sorted(d3.items(), key=lambda x:(-x[1][0],x[1][1][0])))\n",
    "#print(d3.sort(key=lambda x:(x[1][0],x[1][1][0])))\n",
    "a=sorted(d3.items(), key=lambda x:(-x[1][0],x[1][1][0]))\n",
    "\n",
    "answer=[]\n",
    "for i in a:\n",
    "    answer.extend(i[1][1])\n",
    "    \n",
    "answer"
   ]
  },
  {
   "cell_type": "code",
   "execution_count": 141,
   "metadata": {},
   "outputs": [
    {
     "data": {
      "text/plain": [
       "[]"
      ]
     },
     "execution_count": 141,
     "metadata": {},
     "output_type": "execute_result"
    }
   ],
   "source": [
    "lst=[]\n",
    "lst.sort(key= lambda x:(x[0],x[1],x[2])) \n",
    "lst"
   ]
  },
  {
   "cell_type": "code",
   "execution_count": 152,
   "metadata": {},
   "outputs": [
    {
     "data": {
      "text/plain": [
       "[[0, 0, 0], [0, 2, 0], [0, 0, 0]]"
      ]
     },
     "execution_count": 152,
     "metadata": {},
     "output_type": "execute_result"
    }
   ],
   "source": [
    "N=3\n",
    "visit=[[0]*N for _ in range(N)]\n",
    "visit[1][1]=2\n",
    "comp_lst=[visit[i] for i in range(N)]\n",
    "comp_lst"
   ]
  },
  {
   "cell_type": "code",
   "execution_count": 155,
   "metadata": {},
   "outputs": [
    {
     "name": "stdout",
     "output_type": "stream",
     "text": [
      "0 0 1\n",
      "0 1 0\n",
      "0 0 0\n",
      "[[0, 0, -1], [0, -1, 0], [0, 0, 0]]\n"
     ]
    }
   ],
   "source": [
    "lst2 = []\n",
    "for _ in range(N):\n",
    "    lst2.append(list(map(int, input().split())))\n",
    "\n",
    "lst = [[0]*N for _ in range(N)]\n",
    "for i in range(N):\n",
    "    for j in range(N):\n",
    "        lst[i][j] = -lst2[i][j]\n",
    "        \n",
    "print(lst)"
   ]
  }
 ],
 "metadata": {
  "kernelspec": {
   "display_name": "Python 3",
   "language": "python",
   "name": "python3"
  },
  "language_info": {
   "codemirror_mode": {
    "name": "ipython",
    "version": 3
   },
   "file_extension": ".py",
   "mimetype": "text/x-python",
   "name": "python",
   "nbconvert_exporter": "python",
   "pygments_lexer": "ipython3",
   "version": "3.8.5"
  }
 },
 "nbformat": 4,
 "nbformat_minor": 4
}
