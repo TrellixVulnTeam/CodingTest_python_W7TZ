{
 "cells": [
  {
   "cell_type": "code",
   "execution_count": 1,
   "metadata": {},
   "outputs": [],
   "source": [
    "d={1:[]}\n",
    "if d.get(1):\n",
    "    print(22)"
   ]
  },
  {
   "cell_type": "code",
   "execution_count": 7,
   "metadata": {},
   "outputs": [
    {
     "data": {
      "text/plain": [
       "1"
      ]
     },
     "execution_count": 7,
     "metadata": {},
     "output_type": "execute_result"
    }
   ],
   "source": [
    "from collections import defaultdict\n",
    "def solution(n, computers):\n",
    "    answer = 0\n",
    "    d=defaultdict(list)\n",
    "    \n",
    "    for i in range(len(computers)):\n",
    "        for j in range(len(computers[0])):\n",
    "            if computers[i][j]==1 and i!=j:\n",
    "                d[i]+=[j]\n",
    "                d[j]+=[i]\n",
    "    \n",
    "    cnt=0\n",
    "    visit=[0]*n\n",
    "    \n",
    "    \n",
    "    def dfs(i):\n",
    "        if d.get(i):\n",
    "            for j in d[i]:\n",
    "                if visit[j]==0:\n",
    "                    visit[j]=1\n",
    "                    dfs(j)\n",
    "        \n",
    "    \n",
    "    for i in range(n):\n",
    "        if visit[i]==1:\n",
    "            continue\n",
    "        dfs(i)\n",
    "        cnt+=1\n",
    "    \n",
    "    return cnt\n",
    "\n",
    "n=3\n",
    "computers=[[1, 1, 0], [1, 1, 0], [0, 0, 1]]\n",
    "computers=[[1, 1, 0], [1, 1, 1], [0, 1, 1]]\n",
    "solution(n,computers)"
   ]
  }
 ],
 "metadata": {
  "kernelspec": {
   "display_name": "Python 3",
   "language": "python",
   "name": "python3"
  },
  "language_info": {
   "codemirror_mode": {
    "name": "ipython",
    "version": 3
   },
   "file_extension": ".py",
   "mimetype": "text/x-python",
   "name": "python",
   "nbconvert_exporter": "python",
   "pygments_lexer": "ipython3",
   "version": "3.8.5"
  }
 },
 "nbformat": 4,
 "nbformat_minor": 4
}
