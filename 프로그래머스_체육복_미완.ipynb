{
 "cells": [
  {
   "cell_type": "code",
   "execution_count": 9,
   "metadata": {},
   "outputs": [
    {
     "name": "stdout",
     "output_type": "stream",
     "text": [
      "[1, 1, 0]\n",
      "2\n"
     ]
    },
    {
     "data": {
      "text/plain": [
       "2"
      ]
     },
     "execution_count": 9,
     "metadata": {},
     "output_type": "execute_result"
    }
   ],
   "source": [
    "def solution(n, lost, reserve):\n",
    "    answer = n-len(lost)    \n",
    "    visit=[0]*n\n",
    "    \n",
    "    for i in range(1,n+1):\n",
    "        if i not in lost:\n",
    "            visit[i-1]=1\n",
    "            \n",
    "    for i in reserve:\n",
    "        if i in lost:\n",
    "            continue\n",
    "            \n",
    "        if 1<i<n:\n",
    "            if i-1 in lost and visit[i-2]==0:\n",
    "                visit[i-2]=1\n",
    "                answer+=1\n",
    "    \n",
    "            elif i+1 in lost and visit[i]==0:\n",
    "                visit[i]=1\n",
    "                answer+=1\n",
    "                \n",
    "        elif i==1:\n",
    "            if i+1 in lost and visit[i]==0:\n",
    "                visit[i]=1\n",
    "                answer+=1\n",
    "                \n",
    "        elif i==n:\n",
    "            if i-1 in lost and visit[i-2]==0:\n",
    "                visit[i-2]=1\n",
    "                answer+=1\n",
    "            \n",
    "            \n",
    "    print(visit)\n",
    "    ret=visit.count(1)\n",
    "    print(ret)\n",
    "    return ret\n",
    "            \n",
    "    \n",
    "    \n",
    "    \n",
    "    \n",
    "#     reserve=sorted(reserve,reverse=True)\n",
    "#     lost=sorted(lost,reverse=True)\n",
    "    \n",
    "#     for i in reserve:\n",
    "#         if i not in lost:\n",
    "#             if ((i-1) in lost) | ((i+1) in lost): \n",
    "#                 answer+=1        \n",
    "            \n",
    "#     if(answer>n):\n",
    "#         answer=n\n",
    "        \n",
    "        \n",
    "#     return answer\n",
    "\n",
    "lost=[2, 4]\n",
    "lost=[3]\n",
    "reserve=[1,3,5]\n",
    "reserve=[1]\n",
    "\n",
    "n=5\n",
    "n=3\n",
    "\n",
    "solution(n,lost, reserve)"
   ]
  },
  {
   "cell_type": "code",
   "execution_count": 13,
   "metadata": {},
   "outputs": [
    {
     "data": {
      "text/plain": [
       "4"
      ]
     },
     "execution_count": 13,
     "metadata": {},
     "output_type": "execute_result"
    }
   ],
   "source": [
    "eval(str(1)+'+'+str(3))\n"
   ]
  },
  {
   "cell_type": "code",
   "execution_count": 19,
   "metadata": {},
   "outputs": [
    {
     "name": "stdout",
     "output_type": "stream",
     "text": [
      "5\n",
      "2\n",
      "-2\n"
     ]
    }
   ],
   "source": [
    "n=-5\n",
    "n=-n\n",
    "print(n)\n",
    "a=eval(str(n)+'//'+'2')\n",
    "print(a)\n",
    "print(-a)"
   ]
  },
  {
   "cell_type": "code",
   "execution_count": 21,
   "metadata": {},
   "outputs": [
    {
     "data": {
      "text/plain": [
       "-3"
      ]
     },
     "execution_count": 21,
     "metadata": {},
     "output_type": "execute_result"
    }
   ],
   "source": [
    "a=-10\n",
    "-(eval(str(-(a))+'//'+'3'))"
   ]
  }
 ],
 "metadata": {
  "kernelspec": {
   "display_name": "Python 3",
   "language": "python",
   "name": "python3"
  },
  "language_info": {
   "codemirror_mode": {
    "name": "ipython",
    "version": 3
   },
   "file_extension": ".py",
   "mimetype": "text/x-python",
   "name": "python",
   "nbconvert_exporter": "python",
   "pygments_lexer": "ipython3",
   "version": "3.8.5"
  }
 },
 "nbformat": 4,
 "nbformat_minor": 4
}
