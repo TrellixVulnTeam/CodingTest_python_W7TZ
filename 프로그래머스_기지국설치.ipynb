{
 "cells": [
  {
   "cell_type": "markdown",
   "metadata": {},
   "source": [
    "정답 : (맨위에 것) \n",
    "\n",
    "https://programmers.co.kr/learn/courses/30/lessons/12979"
   ]
  },
  {
   "cell_type": "code",
   "execution_count": 98,
   "metadata": {},
   "outputs": [],
   "source": [
    "from collections import deque\n",
    "import math\n",
    "def solution(n, stations, w):\n",
    "    answer = 0\n",
    "\n",
    "    ap = n\n",
    "    lr_lst = deque([])\n",
    "    \n",
    "    for i in stations:\n",
    "        left=i-w\n",
    "        right=i+w\n",
    "        if left<=0:\n",
    "            left=1\n",
    "        if right>n:\n",
    "            right=n\n",
    "            \n",
    "        ap-=right-left+1\n",
    "        lr_lst.append([left-1,right+1])\n",
    "        \n",
    "\n",
    "    sub_q=deque([1])\n",
    "    while lr_lst:\n",
    "        left, right = lr_lst.popleft()\n",
    "        sub = sub_q.popleft()\n",
    "        answer += math.ceil((left-sub+1)/(1+w*2))\n",
    "        ap-=left-sub+1\n",
    "        sub_q.append(right)\n",
    "       \n",
    "    if ap==0:\n",
    "        return answer\n",
    "    \n",
    "    else:\n",
    "        answer+=math.ceil((ap)/(1+w*2))\n",
    "        return answer"
   ]
  },
  {
   "cell_type": "code",
   "execution_count": 101,
   "metadata": {},
   "outputs": [
    {
     "name": "stdout",
     "output_type": "stream",
     "text": [
      "2 1\n",
      "ap2 :  0\n",
      "4 6\n",
      "ap2 :  1\n",
      "6 8\n",
      "ap2 :  2\n",
      "final ap :  2\n"
     ]
    },
    {
     "data": {
      "text/plain": [
       "2"
      ]
     },
     "execution_count": 101,
     "metadata": {},
     "output_type": "execute_result"
    }
   ],
   "source": [
    "n=11\n",
    "stations=[4,6,8]\n",
    "w=1\n",
    "solution(n,stations,w)\n",
    "\n",
    "n=11\n",
    "stations=[4,11]\n",
    "w=1\n",
    "\n",
    "n=16\n",
    "stations=[9]\n",
    "w=2\n",
    "solution(n,stations,w)"
   ]
  },
  {
   "cell_type": "code",
   "execution_count": 102,
   "metadata": {},
   "outputs": [],
   "source": [
    "# 시간초과 \n",
    "\n",
    "import math\n",
    "def solution(n, stations, w):\n",
    "    answer = 0\n",
    "\n",
    "    ap = [0]*(n+1)\n",
    "    lr_lst = []\n",
    "    for i in stations:\n",
    "        ap[i]=1\n",
    "        left=i\n",
    "        right=i\n",
    "        sub=1\n",
    "        while sub<=w:\n",
    "            left=i-sub\n",
    "            right=i+sub\n",
    "            if left>0:\n",
    "                ap[left]=1\n",
    "                \n",
    "            if right<=n:\n",
    "                ap[right]=1\n",
    "            sub+=1\n",
    "        lr_lst.append([left-1,right+1])\n",
    "    print('ap : ',ap)\n",
    "    print('lr_lst : ',lr_lst)\n",
    "    \n",
    "    while lr_lst:\n",
    "        left, right = lr_lst.pop(0)\n",
    "        l_sub=0\n",
    "        while 0<left and ap[left]==0:\n",
    "            ap[left]=1\n",
    "            left-=1\n",
    "            l_sub+=1\n",
    "            \n",
    "        r_sub=0\n",
    "        while right<=n and ap[right]==0:\n",
    "            ap[right]=1\n",
    "            right+=1\n",
    "            r_sub+=1\n",
    "            \n",
    "        answer+=math.ceil(l_sub/(1+2*w))\n",
    "        answer+=math.ceil(r_sub/(1+2*w))\n",
    "        \n",
    "        \n",
    "    return answer"
   ]
  },
  {
   "cell_type": "code",
   "execution_count": 103,
   "metadata": {},
   "outputs": [],
   "source": [
    "# 시간초과 \n",
    "from collections import deque\n",
    "import math\n",
    "def solution(n, stations, w):\n",
    "    answer = 0\n",
    "\n",
    "    ap = [0]*(n+1)\n",
    "    lr_lst = deque([])\n",
    "    for i in stations:\n",
    "        ap[i]=1\n",
    "        left=right=0\n",
    "        sub=1\n",
    "        while sub<=w:\n",
    "            left=i-sub\n",
    "            right=i+sub\n",
    "            if left>0:\n",
    "                ap[left]=1\n",
    "            if right<=n:\n",
    "                ap[right]=1\n",
    "            sub+=1\n",
    "        lr_lst.append([left-1,right+1])\n",
    "    #print('ap : ',ap)\n",
    "    #print('lr_lst : ',lr_lst)\n",
    "    \n",
    "    if 0 in ap[1:]:  \n",
    "        while lr_lst:\n",
    "            left, right = lr_lst.popleft()\n",
    "            l_sub=0\n",
    "            while 0<left and ap[left]==0:\n",
    "                ap[left]=1\n",
    "                left-=1\n",
    "                l_sub+=1\n",
    "\n",
    "            r_sub=0\n",
    "            while right<=n and ap[right]==0:\n",
    "                ap[right]=1\n",
    "                right+=1\n",
    "                r_sub+=1\n",
    "            \n",
    "            answer+=math.ceil(l_sub/(1+2*w))+math.ceil(r_sub/(1+2*w))\n",
    "    \n",
    "    return answer"
   ]
  }
 ],
 "metadata": {
  "kernelspec": {
   "display_name": "Python 3",
   "language": "python",
   "name": "python3"
  },
  "language_info": {
   "codemirror_mode": {
    "name": "ipython",
    "version": 3
   },
   "file_extension": ".py",
   "mimetype": "text/x-python",
   "name": "python",
   "nbconvert_exporter": "python",
   "pygments_lexer": "ipython3",
   "version": "3.8.5"
  }
 },
 "nbformat": 4,
 "nbformat_minor": 4
}
