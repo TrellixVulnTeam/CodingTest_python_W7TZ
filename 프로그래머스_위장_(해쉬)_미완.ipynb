{
 "cells": [
  {
   "cell_type": "code",
   "execution_count": 15,
   "metadata": {},
   "outputs": [
    {
     "name": "stdout",
     "output_type": "stream",
     "text": [
      "defaultdict(<class 'list'>, {'face': ['crow_mask', 'blue_sunglasses', 'smoky_makeup']})\n",
      "3 3\n"
     ]
    }
   ],
   "source": [
    "from itertools import combinations\n",
    "from collections import defaultdict\n",
    "clothes = [['yellow_hat', 'headgear'], ['blue_sunglasses', 'eyewear'], ['green_turban', 'headgear']]\n",
    "clothes = [[\"crow_mask\", \"face\"], [\"blue_sunglasses\", \"face\"], [\"smoky_makeup\", \"face\"]]\n",
    "answer = 1\n",
    "d=defaultdict(list)\n",
    "\n",
    "for i in clothes:\n",
    "    d[i[1]]+=[i[0]]\n",
    "\n",
    "print(d)\n",
    "num1=0   # 1개 짜리\n",
    "nums=1\n",
    "\n",
    "for k,v in d.items():\n",
    "    nums*=len(v)\n",
    "    num1+=len(v)\n",
    "print(num1,nums)\n",
    "            \n",
    "        \n",
    "    \n",
    "#     d={}\n",
    "    \n",
    "#     for i in clothes:\n",
    "#         if i[1] not in d:\n",
    "#             d[i[1]]=[i[0]]\n",
    "#         else:\n",
    "#             d[i[1]].append(i[0])\n",
    "        \n",
    "        \n",
    "#     for i in d.items():\n",
    "#         count=len(i[1])+1\n",
    "#         answer*=count\n",
    "    \n",
    "        \n",
    "# return answer-1"
   ]
  },
  {
   "cell_type": "code",
   "execution_count": 18,
   "metadata": {},
   "outputs": [
    {
     "data": {
      "text/plain": [
       "[('a', 'b'), ('a', 'c'), ('b', 'c')]"
      ]
     },
     "execution_count": 18,
     "metadata": {},
     "output_type": "execute_result"
    }
   ],
   "source": [
    "lst=['a','b','c']\n",
    "list(combinations(lst,2))"
   ]
  },
  {
   "cell_type": "code",
   "execution_count": null,
   "metadata": {},
   "outputs": [],
   "source": [
    "'a'"
   ]
  }
 ],
 "metadata": {
  "kernelspec": {
   "display_name": "Python 3",
   "language": "python",
   "name": "python3"
  },
  "language_info": {
   "codemirror_mode": {
    "name": "ipython",
    "version": 3
   },
   "file_extension": ".py",
   "mimetype": "text/x-python",
   "name": "python",
   "nbconvert_exporter": "python",
   "pygments_lexer": "ipython3",
   "version": "3.8.5"
  }
 },
 "nbformat": 4,
 "nbformat_minor": 4
}
