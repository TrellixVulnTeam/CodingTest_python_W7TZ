{
 "cells": [
  {
   "cell_type": "code",
   "execution_count": 23,
   "metadata": {},
   "outputs": [
    {
     "name": "stdout",
     "output_type": "stream",
     "text": [
      "defaultdict(<class 'list'>, {'U': (0, 1), 'D': (0, -1), 'R': (1, 0), 'L': (-1, 0)})\n",
      "remem :  [(0, 0), (-1, 0), (-1, 1), (-2, 1), (-3, 1), (-4, 1), (-5, 1), (-5, 2)]\n"
     ]
    },
    {
     "data": {
      "text/plain": [
       "8"
      ]
     },
     "execution_count": 23,
     "metadata": {},
     "output_type": "execute_result"
    }
   ],
   "source": [
    "from collections import defaultdict\n",
    "def solution(dirs):\n",
    "    answer = 1\n",
    "    x, y = 0, 0\n",
    "    d=defaultdict(list)\n",
    "    d['U']=(0,1)\n",
    "    d['D']=(0,-1)\n",
    "    d['R']=(1,0)\n",
    "    d['L']=(-1,0)\n",
    "    print(d)\n",
    "    \n",
    "    #print(d)\n",
    "    #print(d['U'][0],d['U'][1])\n",
    "    remem=[(0,0)]\n",
    "    for order in dirs:\n",
    "        \n",
    "        if (x+d[order][0] < -5) or (x+d[order][0]>5) or (y+d[order][1]<-5) or (y+d[order][1]>5):\n",
    "            continue\n",
    "        x+=d[order][0]\n",
    "        y+=d[order][1]\n",
    "            \n",
    "        if (x,y) not in remem:\n",
    "            remem.append((x,y))\n",
    "            answer+=1\n",
    "        \n",
    "    print('remem : ',remem)\n",
    "    return answer\n",
    "\n",
    "dirs='ULURRDLLU'\n",
    "dirs=\"LULLLLLLU\"\n",
    "solution(dirs)"
   ]
  },
  {
   "cell_type": "code",
   "execution_count": null,
   "metadata": {},
   "outputs": [],
   "source": []
  }
 ],
 "metadata": {
  "kernelspec": {
   "display_name": "Python 3",
   "language": "python",
   "name": "python3"
  },
  "language_info": {
   "codemirror_mode": {
    "name": "ipython",
    "version": 3
   },
   "file_extension": ".py",
   "mimetype": "text/x-python",
   "name": "python",
   "nbconvert_exporter": "python",
   "pygments_lexer": "ipython3",
   "version": "3.8.5"
  }
 },
 "nbformat": 4,
 "nbformat_minor": 4
}
