{
 "cells": [
  {
   "cell_type": "code",
   "execution_count": null,
   "metadata": {},
   "outputs": [],
   "source": [
    "# Definition for singly-linked list.\n",
    "# class ListNode:\n",
    "#     def __init__(self, val=0, next=None):\n",
    "#         self.val = val\n",
    "#         self.next = next\n",
    "class Solution:\n",
    "    def isPalindrome(self, head: ListNode) -> bool:\n",
    "        \n",
    "        q=[]\n",
    "        if not head:\n",
    "            return True\n",
    "        \n",
    "        node=head\n",
    "        while node is not None:\n",
    "            q.append(node.val)\n",
    "            node=node.next\n",
    "            \n",
    "        while len(q)>1:\n",
    "            if q.pop(0)!=q.pop():\n",
    "                return False\n",
    "            \n",
    "        return True\n",
    "        "
   ]
  },
  {
   "cell_type": "markdown",
   "metadata": {},
   "source": [
    "##\n",
    "동적배열로 이루어진 리스트는 맨 앞의 아이템을 가져오기에 적합한 자료형이 아님. \n",
    "첫번째 값을 꺼내면, 모든 값이 한칸씩 shifting이 되고, 시간복잡도 O(N)이 발생하기 때문.\n",
    "반면, deque(데크)는 이중 연결리스트 구조로, 양쪽 방향 모두 추출하는데 시간복잡도 O(1)에 실행됨. "
   ]
  },
  {
   "cell_type": "code",
   "execution_count": null,
   "metadata": {},
   "outputs": [],
   "source": [
    "# Definition for singly-linked list.\n",
    "# class ListNode:\n",
    "#     def __init__(self, val=0, next=None):\n",
    "#         self.val = val\n",
    "#         self.next = next\n",
    "\n",
    "import collections\n",
    "class Solution:\n",
    "    def isPalindrome(self, head: ListNode) -> bool:\n",
    "        \n",
    "        q=collections.deque()\n",
    "        if not head:\n",
    "            return True\n",
    "        \n",
    "        node=head\n",
    "        while node is not None:\n",
    "            q.append(node.val)\n",
    "            node=node.next\n",
    "            \n",
    "        while len(q)>1:\n",
    "            if q.popleft() !=q.pop():\n",
    "                return False\n",
    "            \n",
    "        return True\n",
    "        "
   ]
  }
 ],
 "metadata": {
  "kernelspec": {
   "display_name": "Python 3",
   "language": "python",
   "name": "python3"
  },
  "language_info": {
   "codemirror_mode": {
    "name": "ipython",
    "version": 3
   },
   "file_extension": ".py",
   "mimetype": "text/x-python",
   "name": "python",
   "nbconvert_exporter": "python",
   "pygments_lexer": "ipython3",
   "version": "3.8.5"
  }
 },
 "nbformat": 4,
 "nbformat_minor": 4
}
