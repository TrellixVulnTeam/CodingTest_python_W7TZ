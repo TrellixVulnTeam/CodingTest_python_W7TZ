{
 "cells": [
  {
   "cell_type": "code",
   "execution_count": 21,
   "metadata": {},
   "outputs": [
    {
     "name": "stdout",
     "output_type": "stream",
     "text": [
      "10 5\n",
      "1 2 3 4 2 5 3 1 1 2\n",
      "3\n"
     ]
    }
   ],
   "source": [
    "N,M=map(int,input().split())\n",
    "\n",
    "a=input().split()\n",
    "lst=list(map(int,a))\n",
    "answer=0\n",
    "\n",
    "for i in range(len(lst)):\n",
    "    for j in range(i,len(lst)):\n",
    "        # print('i, j : ',i,j)\n",
    "        # print(sum(lst[i:j+1]))\n",
    "        if sum(lst[i:j+1])<M:\n",
    "            continue\n",
    "        elif sum(lst[i:j+1])==M:\n",
    "            answer+=1\n",
    "            break\n",
    "        else:\n",
    "            break\n",
    "            \n",
    "print(answer)"
   ]
  },
  {
   "cell_type": "code",
   "execution_count": 20,
   "metadata": {},
   "outputs": [
    {
     "data": {
      "text/plain": [
       "3"
      ]
     },
     "execution_count": 20,
     "metadata": {},
     "output_type": "execute_result"
    }
   ],
   "source": [
    "answer"
   ]
  },
  {
   "cell_type": "code",
   "execution_count": 26,
   "metadata": {},
   "outputs": [
    {
     "name": "stdout",
     "output_type": "stream",
     "text": [
      "10 5\n",
      "1 2 3 4 2 5 3 1 1 2\n",
      "3\n"
     ]
    }
   ],
   "source": [
    "N,M=map(int,input().split())\n",
    "\n",
    "a=input().split()\n",
    "lst=list(map(int,a))\n",
    "answer=0\n",
    "\n",
    "left=0\n",
    "right=0\n",
    "\n",
    "while right<len(lst) and left<=right and left<len(lst):\n",
    "    #print(left, right)\n",
    "    if sum(lst[left:right+1])<M:\n",
    "        right+=1\n",
    "        \n",
    "    elif sum(lst[left:right+1])==M:\n",
    "        left+=1\n",
    "        right=left\n",
    "        answer+=1\n",
    "    else:\n",
    "        left+=1\n",
    "        right=left\n",
    "    \n",
    "\n",
    "            \n",
    "print(answer)"
   ]
  }
 ],
 "metadata": {
  "kernelspec": {
   "display_name": "Python 3",
   "language": "python",
   "name": "python3"
  },
  "language_info": {
   "codemirror_mode": {
    "name": "ipython",
    "version": 3
   },
   "file_extension": ".py",
   "mimetype": "text/x-python",
   "name": "python",
   "nbconvert_exporter": "python",
   "pygments_lexer": "ipython3",
   "version": "3.8.5"
  }
 },
 "nbformat": 4,
 "nbformat_minor": 4
}
