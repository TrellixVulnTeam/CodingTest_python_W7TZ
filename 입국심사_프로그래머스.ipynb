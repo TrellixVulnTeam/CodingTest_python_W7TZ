{
 "cells": [
  {
   "cell_type": "code",
   "execution_count": 4,
   "metadata": {},
   "outputs": [
    {
     "name": "stdout",
     "output_type": "stream",
     "text": [
      "[1, 1, 1, 1, 1, 2, 2, 2, 2, 2]\n"
     ]
    }
   ],
   "source": [
    "from collections import defaultdict\n",
    "import sys\n",
    "n=6\n",
    "times =[7,10] \n",
    "n=10\n",
    "times = [1,1,1,1,1]\n",
    "lst = []\n",
    "k=1\n",
    "while(len(lst)<=(n*2)):\n",
    "    tmp = [x*k for x in times]\n",
    "    lst+=tmp\n",
    "    k+=1\n",
    "    \n",
    "lst.sort()\n",
    "lst = lst[:n]\n",
    "print(lst)\n",
    "        \n",
    "\n",
    "        \n",
    "    "
   ]
  },
  {
   "cell_type": "code",
   "execution_count": 8,
   "metadata": {},
   "outputs": [
    {
     "data": {
      "text/plain": [
       "[0, 1]"
      ]
     },
     "execution_count": 8,
     "metadata": {},
     "output_type": "execute_result"
    }
   ],
   "source": [
    "a=[3,3,1000]\n",
    "tmp = [x for x in range(len(a)) if a[x] == min(a)]\n",
    "tmp"
   ]
  },
  {
   "cell_type": "code",
   "execution_count": 87,
   "metadata": {},
   "outputs": [
    {
     "name": "stdout",
     "output_type": "stream",
     "text": [
      "[1, 1, 1, 1, 1]   10\n",
      "[2, 2, 2, 2, 2]   5\n",
      "[3, 3, 3, 3, 3]   0\n",
      "deque([1, 1, 1, 1, 1, 2, 2, 2, 2, 2])\n"
     ]
    },
    {
     "data": {
      "text/plain": [
       "2"
      ]
     },
     "execution_count": 87,
     "metadata": {},
     "output_type": "execute_result"
    }
   ],
   "source": [
    "from collections import deque\n",
    "n=6\n",
    "times =[7,10] \n",
    "\n",
    "n=6\n",
    "times = [1,3,1000]\n",
    "\n",
    "n=10\n",
    "times = [1,1,1,1,1]\n",
    "\n",
    "\n",
    "times.sort()\n",
    "res = deque([])    \n",
    "o_times = [x for x in times]\n",
    "print(times,' ',n)\n",
    "while(n):\n",
    "    tmp = [x for x in range(len(times)) if times[x] == min(times)]\n",
    "    for i in tmp:\n",
    "        res.append(times[i])\n",
    "        times[i] += o_times[i]\n",
    "        n-=1\n",
    "    print(times,' ',n)\n",
    "    \n",
    "print(res)\n",
    "res[-1]\n",
    "    "
   ]
  },
  {
   "cell_type": "code",
   "execution_count": 88,
   "metadata": {},
   "outputs": [
    {
     "data": {
      "text/plain": [
       "0"
      ]
     },
     "execution_count": 88,
     "metadata": {},
     "output_type": "execute_result"
    }
   ],
   "source": [
    "a=[1,2,3,4]\n",
    "a.index(min(a))"
   ]
  },
  {
   "cell_type": "code",
   "execution_count": 98,
   "metadata": {},
   "outputs": [
    {
     "name": "stdout",
     "output_type": "stream",
     "text": [
      "[3, 3, 6, 6, 9, 9]\n"
     ]
    }
   ],
   "source": [
    "n=6\n",
    "times = [7,10]\n",
    "\n",
    "n=10\n",
    "times = [1,1,1,1,1]\n",
    "\n",
    "n=6\n",
    "times = [3,3,10]\n",
    "lst = []\n",
    "times.sort()\n",
    "o_times = [x for x in times]\n",
    "\n",
    "while(len(lst)<n):\n",
    "    lst.append(min(times))\n",
    "    t = times.index(min(times))\n",
    "    times[t]+=o_times[t]\n",
    "    \n",
    "print(lst)    \n",
    "lst[-1]"
   ]
  },
  {
   "cell_type": "code",
   "execution_count": 109,
   "metadata": {},
   "outputs": [],
   "source": [
    "from collections import deque\n",
    "def solution(n, times):\n",
    "    lst = deque([])\n",
    "    times.sort()\n",
    "    o_times = [x for x in times]\n",
    "    cnt=0\n",
    "    val = 0\n",
    "    while(cnt<n):\n",
    "        #lst.append(min(times))\n",
    "        cnt+=1\n",
    "        t = times.index(min(times))\n",
    "        val = times[t]\n",
    "        times[t]+=o_times[t]\n",
    "        print(times)\n",
    "    print(val)\n",
    "    return []\n",
    "#     o_n=n\n",
    "#     o_times = [x for x in times]\n",
    "#     times.sort()\n",
    "#     res = deque([])\n",
    "    \n",
    "#     while(n):\n",
    "#         tmp = [x for x in range(len(times)) if times[x] == min(times)]\n",
    "#         for i in tmp:\n",
    "#             res.append(times[i])\n",
    "#             times[i] += o_times[i]\n",
    "#         n-=1\n",
    "#         if len(res)==o_n:\n",
    "#             break\n",
    "#     return res[-1]"
   ]
  },
  {
   "cell_type": "code",
   "execution_count": 110,
   "metadata": {},
   "outputs": [
    {
     "name": "stdout",
     "output_type": "stream",
     "text": [
      "[14, 10]\n",
      "[14, 20]\n",
      "[21, 20]\n",
      "[21, 30]\n",
      "[28, 30]\n",
      "[35, 30]\n",
      "28\n"
     ]
    },
    {
     "data": {
      "text/plain": [
       "[]"
      ]
     },
     "execution_count": 110,
     "metadata": {},
     "output_type": "execute_result"
    }
   ],
   "source": [
    "n=6\n",
    "times = [7,10]\n",
    "solution(n,times)"
   ]
  },
  {
   "cell_type": "code",
   "execution_count": null,
   "metadata": {},
   "outputs": [],
   "source": []
  }
 ],
 "metadata": {
  "kernelspec": {
   "display_name": "Python 3",
   "language": "python",
   "name": "python3"
  },
  "language_info": {
   "codemirror_mode": {
    "name": "ipython",
    "version": 3
   },
   "file_extension": ".py",
   "mimetype": "text/x-python",
   "name": "python",
   "nbconvert_exporter": "python",
   "pygments_lexer": "ipython3",
   "version": "3.8.5"
  }
 },
 "nbformat": 4,
 "nbformat_minor": 4
}
