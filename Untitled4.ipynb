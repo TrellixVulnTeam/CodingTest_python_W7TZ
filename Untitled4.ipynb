{
 "cells": [
  {
   "cell_type": "code",
   "execution_count": 2,
   "metadata": {},
   "outputs": [
    {
     "data": {
      "text/plain": [
       "'13'"
      ]
     },
     "execution_count": 2,
     "metadata": {},
     "output_type": "execute_result"
    }
   ],
   "source": [
    "a='123'\n",
    "i=1\n",
    "b=a[:i]+a[i+1:]\n",
    "b"
   ]
  },
  {
   "cell_type": "code",
   "execution_count": null,
   "metadata": {},
   "outputs": [],
   "source": [
    "def bfs(target,words,answer,lst):\n",
    "    while(lst):\n",
    "        a=lst[0][1]    \n",
    "        answer=lst[0][0]\n",
    "        if a==target:\n",
    "            return answer\n",
    "        lst.pop(0)\n",
    "        len_a=len(a)\n",
    "        \n",
    "        for i in words:\n",
    "            cnt=0\n",
    "            ans=answer\n",
    "            for j in range(len(i)):\n",
    "                if i[j]==a[j]:\n",
    "                    cnt+=1\n",
    "            \n",
    "            if cnt==len_a-1:\n",
    "                ans+=1\n",
    "                lst.append([ans,i])\n",
    "            \n",
    "            \n",
    "                    \n",
    "\n",
    "def solution(begin, target, words):\n",
    "    answer = 0\n",
    "    \n",
    "    if target not in words:\n",
    "        return 0\n",
    "    \n",
    "    lst=[[0,begin]]\n",
    "    answer=bfs(target,words,answer,lst)\n",
    "    \n",
    "    return answer"
   ]
  }
 ],
 "metadata": {
  "kernelspec": {
   "display_name": "Python 3",
   "language": "python",
   "name": "python3"
  },
  "language_info": {
   "codemirror_mode": {
    "name": "ipython",
    "version": 3
   },
   "file_extension": ".py",
   "mimetype": "text/x-python",
   "name": "python",
   "nbconvert_exporter": "python",
   "pygments_lexer": "ipython3",
   "version": "3.8.5"
  }
 },
 "nbformat": 4,
 "nbformat_minor": 4
}
