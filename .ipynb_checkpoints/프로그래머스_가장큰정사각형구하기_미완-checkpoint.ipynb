{
 "cells": [
  {
   "cell_type": "code",
   "execution_count": 1,
   "metadata": {},
   "outputs": [
    {
     "name": "stdout",
     "output_type": "stream",
     "text": [
      "1\n",
      "1\n",
      "1\n",
      "1\n",
      "1\n",
      "2\n",
      "1\n",
      "1\n",
      "1\n",
      "1\n"
     ]
    },
    {
     "data": {
      "text/plain": [
       "4"
      ]
     },
     "execution_count": 1,
     "metadata": {},
     "output_type": "execute_result"
    }
   ],
   "source": [
    "def solution(board):\n",
    "    answer = 1234\n",
    "    direc = [(-1,-1),(-1,0),(-1,1),(0,-1),(0,1),(1,-1),(1,0),(1,1)]\n",
    "    direc4 = [(0,1),(1,0),(1,1)]\n",
    "    # start = (1,1) \n",
    "    # end = (len(board)-2,len(board[0])-2)\n",
    "    \n",
    "    max_val = 1\n",
    "    for i in range(0,len(board)):\n",
    "        for j in range(0,len(board[0])-1):\n",
    "            if board[i][j] == 1:\n",
    "                # 넓이가 4인지 우선 확인\n",
    "                sub = 1\n",
    "                for d in direc4:\n",
    "                    x = i+d[0]\n",
    "                    y = j+d[1]\n",
    "                    if x>=0 and x<len(board) and y>=0 and y<len(board[0]) and board[x][y]==1:\n",
    "                        sub+=1\n",
    "                # print('sub : ',sub)\n",
    "                if sub == 4:\n",
    "                    max_val = 4\n",
    "                \n",
    "                lengt = 0\n",
    "                flag=True\n",
    "                while(flag):\n",
    "                    lengt += 1\n",
    "                    for d in direc:\n",
    "                        ni = i + d[0]*lengt\n",
    "                        nj = j + d[1]*lengt\n",
    "                        if ni>=0 and ni<len(board) and nj>=0 and nj<len(board[0]) and board[ni][nj]==1:\n",
    "                            continue\n",
    "                            \n",
    "                        else:\n",
    "                            flag = False\n",
    "                            break\n",
    "                            \n",
    "                    # print(lengt)\n",
    "                    if flag:\n",
    "                        max_val = (lengt*2+1)*(lengt*2+1)\n",
    "                            \n",
    "    return max_val"
   ]
  },
  {
   "cell_type": "code",
   "execution_count": 4,
   "metadata": {},
   "outputs": [
    {
     "data": {
      "text/plain": [
       "[[3, 4, 5], [1, 2]]"
      ]
     },
     "execution_count": 4,
     "metadata": {},
     "output_type": "execute_result"
    }
   ],
   "source": []
  }
 ],
 "metadata": {
  "kernelspec": {
   "display_name": "Python 3",
   "language": "python",
   "name": "python3"
  },
  "language_info": {
   "codemirror_mode": {
    "name": "ipython",
    "version": 3
   },
   "file_extension": ".py",
   "mimetype": "text/x-python",
   "name": "python",
   "nbconvert_exporter": "python",
   "pygments_lexer": "ipython3",
   "version": "3.7.9"
  }
 },
 "nbformat": 4,
 "nbformat_minor": 4
}
