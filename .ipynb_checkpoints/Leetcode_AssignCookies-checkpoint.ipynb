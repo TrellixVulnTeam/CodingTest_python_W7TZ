{
 "cells": [
  {
   "cell_type": "markdown",
   "metadata": {},
   "source": [
    "https://leetcode.com/problems/assign-cookies/submissions/"
   ]
  },
  {
   "cell_type": "markdown",
   "metadata": {},
   "source": [
    "### 내답 : 1300ms "
   ]
  },
  {
   "cell_type": "code",
   "execution_count": 35,
   "metadata": {},
   "outputs": [
    {
     "data": {
      "text/plain": [
       "4"
      ]
     },
     "execution_count": 35,
     "metadata": {},
     "output_type": "execute_result"
    }
   ],
   "source": [
    "from collections import defaultdict\n",
    "def findContentChildren(g, s):\n",
    "    \"\"\"\n",
    "    :type g: List[int]\n",
    "    :type s: List[int]\n",
    "    :rtype: int\n",
    "    \"\"\"\n",
    "    g.sort()\n",
    "    s.sort()\n",
    "    d=[-1]*len(g)\n",
    "    \n",
    "    for i in range(len(g)):\n",
    "        sub=-30001\n",
    "        for a,b in enumerate(s):\n",
    "            if b>=g[i]:\n",
    "                d[i]=a\n",
    "                s.pop(a)\n",
    "                break\n",
    "            \n",
    "    tmp = [i for i,k in enumerate(d) if k>=0]\n",
    "    return len(tmp)\n",
    "\n",
    "\n",
    "g=[1,2,3]\n",
    "s=[1,1]\n",
    "\n",
    "# g=[10,9,8,7]\n",
    "# s=[5,6,7,8]\n",
    "\n",
    "g=[10,9,8,7,10,9,8,7]\n",
    "s=[10,9,8,7]\n",
    "findContentChildren(g,s)"
   ]
  },
  {
   "cell_type": "markdown",
   "metadata": {},
   "source": [
    "### 교재 : 136ms "
   ]
  },
  {
   "cell_type": "code",
   "execution_count": 38,
   "metadata": {},
   "outputs": [
    {
     "name": "stdout",
     "output_type": "stream",
     "text": [
      "[7, 8, 9, 10]\n",
      "[5, 6, 7, 8]\n",
      "\n",
      "2\n"
     ]
    }
   ],
   "source": [
    "g=[10,9,8,7,10,9,8,7]    # child\n",
    "s=[10,9,8,7]                  # cookie\n",
    "\n",
    "g=[10,9,8,7]\n",
    "s=[5,6,7,8]\n",
    "\n",
    "g.sort()\n",
    "s.sort()\n",
    "\n",
    "print(g)\n",
    "print(s)\n",
    "print()\n",
    "child_i=cookie_j=0\n",
    "while child_i < len(g) and cookie_j<len(s):\n",
    "    if s[cookie_j]>=g[child_i]:\n",
    "        child_i+=1\n",
    "    cookie_j+=1\n",
    "    \n",
    "print(child_i)"
   ]
  },
  {
   "cell_type": "markdown",
   "metadata": {},
   "source": [
    "----------------------------------------------------------------------------------------------------------------------------------- "
   ]
  },
  {
   "cell_type": "code",
   "execution_count": 19,
   "metadata": {},
   "outputs": [
    {
     "name": "stdout",
     "output_type": "stream",
     "text": [
      "[7, 8, 9, 10] [5, 6, 7, 8]\n",
      "0\n"
     ]
    }
   ],
   "source": [
    "a=[1,2,3] # child\n",
    "b=[3,4,5,6] # cookie\n",
    "\n",
    "a=[1,2,3]\n",
    "b=[1,1]\n",
    "\n",
    "a=[1,4,7]\n",
    "b=[1,2]\n",
    "\n",
    "a=[10,9,8,7]\n",
    "b=[5,6,7,8]\n",
    "# a=[1,2]\n",
    "# b=[1,2,3]\n",
    "\n",
    "a.sort()\n",
    "b.sort()\n",
    "if len(a)>len(b):\n",
    "    while(len(b)<len(a)):\n",
    "        b+=[0]\n",
    "    \n",
    "elif len(a)<len(b):\n",
    "    while(len(a)<len(b)):\n",
    "        a+=[0]\n",
    "a.sort()\n",
    "print(a,b)\n",
    "cnt=0\n",
    "for i,j in zip(a,b):\n",
    "    if j-i>=0 and j!=0 and i!=0:\n",
    "        cnt+=1\n",
    "print(cnt)\n"
   ]
  }
 ],
 "metadata": {
  "kernelspec": {
   "display_name": "Python 3",
   "language": "python",
   "name": "python3"
  },
  "language_info": {
   "codemirror_mode": {
    "name": "ipython",
    "version": 3
   },
   "file_extension": ".py",
   "mimetype": "text/x-python",
   "name": "python",
   "nbconvert_exporter": "python",
   "pygments_lexer": "ipython3",
   "version": "3.8.5"
  }
 },
 "nbformat": 4,
 "nbformat_minor": 4
}
