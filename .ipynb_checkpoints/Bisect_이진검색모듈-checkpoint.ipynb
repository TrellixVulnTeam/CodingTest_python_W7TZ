{
 "cells": [
  {
   "cell_type": "code",
   "execution_count": 12,
   "metadata": {},
   "outputs": [
    {
     "name": "stdout",
     "output_type": "stream",
     "text": [
      "1\n",
      "2\n"
     ]
    }
   ],
   "source": [
    "import bisect\n",
    "sequence = [1,3,4,5]\n",
    "print(bisect.bisect(sequence,2))   # sequence : 오름차순으로 정렬된 배열, bisect는 sequence에서 2가 들어갈 위치(인덱스는 0부터 시작)를 리턴함 \n",
    "print(bisect.bisect_right(sequence,3))  # bisect_right : 3과 동일한 값이 시퀀스에 존재할 때는, 3과 동일한 값 바로 뒤의 위치를 리턴 \n",
    "\n",
    "a=sequence\n",
    "x=2\n",
    "\n",
    "bisect.insort(a,x,lo=0,hi=len(a)) # a라는 오름차순 정렬된 시퀀스에 x값을 삽입, lo와 hi를 통해 검색하는 시퀀스의 영역을 늘이거나 줄일 수 있다. "
   ]
  },
  {
   "cell_type": "code",
   "execution_count": 16,
   "metadata": {},
   "outputs": [
    {
     "data": {
      "text/plain": [
       "5"
      ]
     },
     "execution_count": 16,
     "metadata": {},
     "output_type": "execute_result"
    }
   ],
   "source": [
    "seq=[1,2,3,5,7]\n",
    "x=9\n",
    "bisect.bisect_left(seq,x)\n"
   ]
  },
  {
   "cell_type": "code",
   "execution_count": 27,
   "metadata": {},
   "outputs": [
    {
     "name": "stdout",
     "output_type": "stream",
     "text": [
      "1\n",
      "2\n",
      "3\n",
      "4\n",
      "5\n"
     ]
    }
   ],
   "source": [
    "k=1\n",
    "ans=0\n",
    "lst=[[0,1],[2,3],[4,5]]\n",
    "def ex(k,lst):\n",
    "    print(k)\n",
    "    global ans\n",
    "    if k==5:\n",
    "        ans+=k\n",
    "        return\n",
    "    if k<3:\n",
    "        lst[0][0]=k\n",
    "        ex(k+1,lst)    \n",
    "    else:\n",
    "        lst[0][1]=k*3\n",
    "        ex(k+1,lst)\n",
    "ex(k,lst)"
   ]
  },
  {
   "cell_type": "code",
   "execution_count": 28,
   "metadata": {},
   "outputs": [
    {
     "data": {
      "text/plain": [
       "[[2, 12], [2, 3], [4, 5]]"
      ]
     },
     "execution_count": 28,
     "metadata": {},
     "output_type": "execute_result"
    }
   ],
   "source": [
    "lst"
   ]
  },
  {
   "cell_type": "code",
   "execution_count": 23,
   "metadata": {},
   "outputs": [
    {
     "name": "stdout",
     "output_type": "stream",
     "text": [
      "3\n"
     ]
    }
   ],
   "source": [
    "print(ans)"
   ]
  }
 ],
 "metadata": {
  "kernelspec": {
   "display_name": "Python 3",
   "language": "python",
   "name": "python3"
  },
  "language_info": {
   "codemirror_mode": {
    "name": "ipython",
    "version": 3
   },
   "file_extension": ".py",
   "mimetype": "text/x-python",
   "name": "python",
   "nbconvert_exporter": "python",
   "pygments_lexer": "ipython3",
   "version": "3.8.5"
  }
 },
 "nbformat": 4,
 "nbformat_minor": 4
}
