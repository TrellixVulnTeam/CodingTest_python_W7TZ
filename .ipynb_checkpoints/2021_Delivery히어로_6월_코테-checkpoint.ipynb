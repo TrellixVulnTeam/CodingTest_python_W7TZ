{
 "cells": [
  {
   "cell_type": "markdown",
   "metadata": {},
   "source": [
    "코테 셤 후기 \n",
    "난이도 : 쉬움\n",
    "코테 환경 : 코딜리티 \n",
    "영어로 문제가 되어 있어서 약간 짜증나긴 햇음 ㅋㅋ"
   ]
  },
  {
   "cell_type": "code",
   "execution_count": 34,
   "metadata": {},
   "outputs": [
    {
     "data": {
      "text/plain": [
       "'John Doe <doe_john@example.com>; Peter Benjamin Parker <parker_peter@example.com>; Mary Jane Watson-Parker <watsonparker_mary@example.com>; John Elvis Doe <doe_john2@example.com>; John Evan Doe <doe_john3@example.com>; Jane Doe <doe_jane@example.com>; Peter Brian Parker <parker_peter2@example.com>'"
      ]
     },
     "execution_count": 34,
     "metadata": {},
     "output_type": "execute_result"
    }
   ],
   "source": [
    "S = 'John Doe; Peter Benjamin Parker; Mary Jane Watson-Parker; John Elvis Doe; John Evan Doe; Jane Doe; Peter Brian Parker'\n",
    "C = 'Example'\n",
    "\n",
    "def solution(S, C):\n",
    "    # write your code in Python 3.6\n",
    "    lst = S.split('; ')\n",
    "    C=C.lower()\n",
    "    ans = []\n",
    "    answer = []\n",
    "    \n",
    "    for i in lst:\n",
    "        tx = i.split()\n",
    "        fst = tx[0]\n",
    "        last = tx[-1]\n",
    "        last = last.replace('-','')\n",
    "        fst = fst.lower()\n",
    "        last = last.lower()\n",
    "        res = last+'_'+fst\n",
    "        res2 = last+'_'+fst\n",
    "        if res in ans:\n",
    "            res2+=str(ans.count(res)+1)\n",
    "\n",
    "        ans.append(res)\n",
    "        res2+='@'+C+'.com'\n",
    "        final = i+' '+'<'+res2+'>; '\n",
    "        answer.append(final)\n",
    "        \n",
    "    result = ''.join(answer)\n",
    "    result = result[:-2]\n",
    "\n",
    "    return result\n",
    "\n",
    "solution(S,C)"
   ]
  },
  {
   "cell_type": "code",
   "execution_count": 32,
   "metadata": {},
   "outputs": [
    {
     "data": {
      "text/plain": [
       "'3'"
      ]
     },
     "execution_count": 32,
     "metadata": {},
     "output_type": "execute_result"
    }
   ],
   "source": [
    "S = '1988-08-29        956 system.zip\\n1976-09-16     126976 old-photos.tgz\\n1987-02-03     118784 logs.rar\\n1961-12-04  703594496 very-long-filename.rar\\n1980-08-03          2 DELETE-THIS.TXT\\n2014-08-23        138 important.rar\\n2001-08-26     595968 MOONLIGHT-SONATA.FLAC\\n1967-11-30     245760 archive.rar\\n1995-10-13        731 file.tgz'\n",
    "\n",
    "def solution(S):\n",
    "    # write your code in Python 3.6\n",
    "    lst = S.split('\\n')\n",
    "    answer = 0\n",
    "    for i in lst:\n",
    "        col_date = i[:10]\n",
    "        col_date = int(col_date.replace('-',''))\n",
    "        col_size = i[10:21]\n",
    "        col_size = int(col_size.strip())\n",
    "        col_name = i[21:]\n",
    "        \n",
    "        if col_name[-3:] in ['zip','rar','tgz'] and col_size<240000 and col_date<19951013:\n",
    "            answer+=1\n",
    "            \n",
    "    return str(answer)\n",
    "\n",
    "solution(S)\n"
   ]
  },
  {
   "cell_type": "code",
   "execution_count": 2,
   "metadata": {},
   "outputs": [
    {
     "data": {
      "text/plain": [
       "4"
      ]
     },
     "execution_count": 2,
     "metadata": {},
     "output_type": "execute_result"
    }
   ],
   "source": [
    "from collections import deque\n",
    "\n",
    "def solution(A):\n",
    "    # write your code in Python 3.6\n",
    "    e1=A.pop(0)\n",
    "    e2=A.pop(0)\n",
    "    sub = deque([e1,e2])\n",
    "    max_len = 2\n",
    "    for i in A:\n",
    "        if i not in sub:\n",
    "            if len(sub) > max_len:\n",
    "                max_len = len(sub)\n",
    "            #max_len = max(max_len,len(sub))\n",
    "            sub.popleft()\n",
    "        \n",
    "        sub.append(i)\n",
    "\n",
    "    max_len = max(max_len,len(sub))\n",
    "    return max_len\n",
    "\n",
    "A = [4,2,2,4,2]\n",
    "A=[0,5,4,4,5,12]\n",
    "solution(A)"
   ]
  }
 ],
 "metadata": {
  "kernelspec": {
   "display_name": "Python 3",
   "language": "python",
   "name": "python3"
  },
  "language_info": {
   "codemirror_mode": {
    "name": "ipython",
    "version": 3
   },
   "file_extension": ".py",
   "mimetype": "text/x-python",
   "name": "python",
   "nbconvert_exporter": "python",
   "pygments_lexer": "ipython3",
   "version": "3.7.9"
  }
 },
 "nbformat": 4,
 "nbformat_minor": 4
}
