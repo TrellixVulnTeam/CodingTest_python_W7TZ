{
 "cells": [
  {
   "cell_type": "markdown",
   "metadata": {},
   "source": [
    "## https://programmers.co.kr/learn/courses/30/lessons/1844"
   ]
  },
  {
   "cell_type": "code",
   "execution_count": 9,
   "metadata": {},
   "outputs": [
    {
     "name": "stdout",
     "output_type": "stream",
     "text": [
      "0 0\n",
      "1 0\n",
      "1 0\n",
      "2 0\n",
      "2 0\n",
      "3 0\n",
      "3 0\n",
      "3 1\n",
      "3 1\n",
      "3 2\n",
      "3 2\n",
      "2 2\n",
      "2 2\n",
      "1 2\n",
      "2 3\n",
      "1 2\n",
      "0 2\n",
      "2 3\n",
      "2 4\n",
      "0 2\n",
      "0 3\n",
      "2 4\n",
      "3 4\n",
      "1 4\n",
      "0 3\n",
      "0 4\n",
      "3 4\n",
      "4 4\n",
      "1 4\n",
      "0 4\n",
      "4 4\n"
     ]
    },
    {
     "data": {
      "text/plain": [
       "11"
      ]
     },
     "execution_count": 9,
     "metadata": {},
     "output_type": "execute_result"
    }
   ],
   "source": [
    "# bfs? \n",
    "def solution(maps):\n",
    "    answer = 0\n",
    "    direc = [(1,0),(-1,0),(0,1),(0,-1)]\n",
    "    \n",
    "    def bfs(sx,sy,ex,ey):\n",
    "        visit = [[0]*len(maps[0]) for _ in range(len(maps))]\n",
    "        kan = 1\n",
    "        q = [(sx,sy,kan)]\n",
    "        sub = []\n",
    "        \n",
    "        while(q):\n",
    "            x,y,k = q.pop(0)\n",
    "            print(x,y)\n",
    "            if x==ex and y==ey:\n",
    "                sub.append(k)\n",
    "                continue\n",
    "                \n",
    "                \n",
    "            visit[x][y]=1\n",
    "            for d in direc:\n",
    "                nx = x+d[0]\n",
    "                ny = y+d[1]\n",
    "                \n",
    "                if nx>=0 and nx<=ex and ny>=0 and ny<=ey and visit[nx][ny]==0 and maps[nx][ny]==1:\n",
    "                    q.append((nx,ny,k+1))\n",
    "                    visit[nx][ny]=1\n",
    "                    print(nx,ny)\n",
    "                    \n",
    "        \n",
    "        return sub\n",
    "        \n",
    "    \n",
    "    ans = bfs(0,0,len(maps)-1,len(maps[0])-1)\n",
    "    #print(ans)\n",
    "    if ans:\n",
    "        return sorted(ans)[0]\n",
    "    else:\n",
    "        return -1\n",
    "    \n",
    "maps = [[1,0,1,1,1],[1,0,1,0,1],[1,0,1,1,1],[1,1,1,0,1],[0,0,0,0,1]]\n",
    "solution(maps)"
   ]
  },
  {
   "cell_type": "code",
   "execution_count": null,
   "metadata": {},
   "outputs": [],
   "source": []
  }
 ],
 "metadata": {
  "kernelspec": {
   "display_name": "Python 3",
   "language": "python",
   "name": "python3"
  },
  "language_info": {
   "codemirror_mode": {
    "name": "ipython",
    "version": 3
   },
   "file_extension": ".py",
   "mimetype": "text/x-python",
   "name": "python",
   "nbconvert_exporter": "python",
   "pygments_lexer": "ipython3",
   "version": "3.7.9"
  }
 },
 "nbformat": 4,
 "nbformat_minor": 4
}
