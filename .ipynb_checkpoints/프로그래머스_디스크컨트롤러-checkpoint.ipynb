{
 "cells": [
  {
   "cell_type": "markdown",
   "metadata": {},
   "source": [
    "## 내 답 : \n"
   ]
  },
  {
   "cell_type": "code",
   "execution_count": 166,
   "metadata": {},
   "outputs": [
    {
     "name": "stdout",
     "output_type": "stream",
     "text": [
      "[17, 51, 52, 57, 67, 87, 109, 148, 191, 238]\n",
      "[2, 36, 26, 20, 43, 44, 62, 120, 156, 218]\n",
      "[[15, 2], [15, 34], [26, 1], [37, 5], [24, 10], [43, 20], [47, 22], [28, 39], [35, 43], [20, 47]]\n"
     ]
    },
    {
     "data": {
      "text/plain": [
       "72"
      ]
     },
     "execution_count": 166,
     "metadata": {},
     "output_type": "execute_result"
    }
   ],
   "source": [
    "import heapq\n",
    "def solution(jobs):\n",
    "    \n",
    "    ending = []\n",
    "    answer = []\n",
    "    sub2 = []\n",
    "    \n",
    "    end = 0\n",
    "    heapq.heapify(jobs)\n",
    "    s,e = heapq.heappop(jobs)\n",
    "    \n",
    "    end+=s+e\n",
    "    \n",
    "    ending.append(end)\n",
    "    answer.append(end-s)\n",
    "    sub2.append([s,e])\n",
    "    \n",
    "    while(jobs):\n",
    "        sub = [x for x in jobs if x[0] <= end]\n",
    "        if sub: \n",
    "            sub.sort(key = lambda x:(x[1],x[0]))\n",
    "            s,e = sub.pop(0)\n",
    "            end+=e \n",
    "            ending.append(end)\n",
    "            answer.append(end-s)\n",
    "            sub2.append([s,e])\n",
    "            jobs.remove([s,e])\n",
    "            \n",
    "        else:\n",
    "            heapq.heapify(jobs)\n",
    "            s,e = heapq.heappop(jobs)\n",
    "            end=s+e\n",
    "            ending.append(end)\n",
    "            sub2.append([s,e])\n",
    "            answer.append(end-s)\n",
    "    \n",
    "#     print(ending)\n",
    "#     print(answer)\n",
    "#     print(sub2)\n",
    "    return int(sum(answer)/len(answer))\n",
    "\n",
    "\n",
    "\n",
    "jobs = [[0, 3], [1, 9], [1, 6],[1,11],[100,11],[101,12]]\n",
    "jobs = [[0,7],[3,5],[4,5],[100,11]]\n",
    "jobs = [[0,3],[5,5],[4,11],[6,5]]\n",
    "jobs = [[0,3],[0,8],[0,11]]\n",
    "jobs = [[0, 3], [1, 9], [2, 6]]\n",
    "jobs = [[0,3],[100,11],[101,12]]\n",
    "jobs = [[0, 3], [1, 9], [500, 6]]\n",
    "jobs = [[0, 9], [1, 1], [1, 1], [1, 1], [1, 1]]\n",
    "jobs = [[0,11],[0,3],[0,5]]\n",
    "jobs = [[0,4], [0,3], [0,2], [0,1]]\n",
    "jobs = [[0, 3], [0, 2], [1, 9], [2, 6]]\n",
    "jobs = [[0, 10], [2,10], [9,10], [15,2]]\n",
    "jobs = [[0, 10], [2,10], [25,10], [25,2]]\n",
    "jobs = [[0,20],[3,4],[3,5],[17,2]]\n",
    "jobs = [[0,19],[0,15],[0,13]]\n",
    "jobs = [[0, 10], [4, 10], [15, 2], [5, 11]]\n",
    "jobs = [[2, 10], [25, 10], [25, 2],[0, 10],[25,1000]]\n",
    "jobs = [[0, 5], [2, 10], [100000000000, 2]]\n",
    "jobs = [[0, 10], [4, 10], [15, 2],[5, 11]]\n",
    "jobs = [[24, 10], [28, 39], [43, 20], [37, 5], [47, 22], [20, 47], [15, 34], [15, 2], [35, 43], [26, 1]]\n",
    "\n",
    "solution(jobs)"
   ]
  },
  {
   "cell_type": "markdown",
   "metadata": {},
   "source": [
    "### ------------------------------------------------------------------------------------------------------------------------------------"
   ]
  },
  {
   "cell_type": "code",
   "execution_count": 135,
   "metadata": {},
   "outputs": [
    {
     "name": "stdout",
     "output_type": "stream",
     "text": [
      "[3, 5, 11, 20]\n",
      "[3, 5, 9, 19]\n",
      "[[0, 2], [2, 6], [1, 9]]\n"
     ]
    },
    {
     "data": {
      "text/plain": [
       "9"
      ]
     },
     "execution_count": 135,
     "metadata": {},
     "output_type": "execute_result"
    }
   ],
   "source": [
    "import heapq\n",
    "def solution(jobs):\n",
    "    \n",
    "    ending = []\n",
    "    answer = []\n",
    "    sub2 = []\n",
    "    #heapq.heapify(jobs)\n",
    "    end = 0\n",
    "    \n",
    "    s,e = heapq.heappop(jobs)\n",
    "    end+=e\n",
    "    ending.append(end)\n",
    "    answer.append(end-s)\n",
    "    sub2.append()\n",
    "    \n",
    "    while(jobs):\n",
    "        sub = [x for x in jobs if end>=x[0]]\n",
    "        if sub: \n",
    "            sub.sort(key = lambda x:(x[1],x[0]))\n",
    "            s,e = sub[0]\n",
    "            end+=e \n",
    "            ending.append(end)\n",
    "            answer.append(end-s)\n",
    "            sub2.append([s,e])\n",
    "            jobs.remove([s,e])\n",
    "            \n",
    "        else:\n",
    "            s,e = heapq.heappop(jobs)\n",
    "            end=s+e\n",
    "            ending.append(end)\n",
    "            sub2.append([s,e])\n",
    "            answer.append(end-s)\n",
    "    \n",
    "    print(ending)\n",
    "    print(answer)\n",
    "    print(sub2)\n",
    "    return int(sum(answer)/len(answer))\n",
    "    \n",
    "    \n",
    "#     answer = [end-start]\n",
    "    \n",
    "#     while(jobs):\n",
    "#         a,b = heapq.heappop(jobs)\n",
    "#         print(a,b)\n",
    "        \n",
    "jobs = [[0, 3], [1, 9], [1, 6],[1,11],[100,11],[101,12]]\n",
    "jobs = [[0,7],[3,5],[4,5],[100,11]]\n",
    "\n",
    "jobs = [[0,3],[5,5],[4,5]]\n",
    "jobs = [[0, 3], [0, 2], [1, 9], [2, 6]]\n",
    "# jobs = [[0,3],[0,8],[0,11]]\n",
    "#jobs = [[0, 3], [1, 9], [2, 6]]\n",
    "#jobs = [[0,3],[100,11],[101,12]]\n",
    "solution(jobs)\n"
   ]
  },
  {
   "cell_type": "code",
   "execution_count": 38,
   "metadata": {},
   "outputs": [
    {
     "ename": "TypeError",
     "evalue": "'<=' not supported between instances of 'list' and 'int'",
     "output_type": "error",
     "traceback": [
      "\u001b[1;31m---------------------------------------------------------------------------\u001b[0m",
      "\u001b[1;31mTypeError\u001b[0m                                 Traceback (most recent call last)",
      "\u001b[1;32m<ipython-input-38-b6e7bd15e254>\u001b[0m in \u001b[0;36m<module>\u001b[1;34m\u001b[0m\n\u001b[0;32m      4\u001b[0m \u001b[0mstart\u001b[0m\u001b[1;33m,\u001b[0m\u001b[0mend\u001b[0m \u001b[1;33m=\u001b[0m \u001b[0mheapq\u001b[0m\u001b[1;33m.\u001b[0m\u001b[0mheappop\u001b[0m\u001b[1;33m(\u001b[0m\u001b[0mjobs\u001b[0m\u001b[1;33m)\u001b[0m\u001b[1;33m\u001b[0m\u001b[1;33m\u001b[0m\u001b[0m\n\u001b[0;32m      5\u001b[0m \u001b[1;33m\u001b[0m\u001b[0m\n\u001b[1;32m----> 6\u001b[1;33m \u001b[0mjobs\u001b[0m\u001b[1;33m.\u001b[0m\u001b[0msort\u001b[0m\u001b[1;33m(\u001b[0m\u001b[0mkey\u001b[0m \u001b[1;33m=\u001b[0m \u001b[1;32mlambda\u001b[0m \u001b[0mx\u001b[0m\u001b[1;33m:\u001b[0m\u001b[0mx\u001b[0m\u001b[1;33m<=\u001b[0m\u001b[0mend\u001b[0m\u001b[1;33m)\u001b[0m\u001b[1;33m\u001b[0m\u001b[1;33m\u001b[0m\u001b[0m\n\u001b[0m\u001b[0;32m      7\u001b[0m \u001b[1;31m# heapq.heapify(jobs)\u001b[0m\u001b[1;33m\u001b[0m\u001b[1;33m\u001b[0m\u001b[1;33m\u001b[0m\u001b[0m\n\u001b[0;32m      8\u001b[0m \u001b[1;31m# a=heapq.heappop(jobs)\u001b[0m\u001b[1;33m\u001b[0m\u001b[1;33m\u001b[0m\u001b[1;33m\u001b[0m\u001b[0m\n",
      "\u001b[1;32m<ipython-input-38-b6e7bd15e254>\u001b[0m in \u001b[0;36m<lambda>\u001b[1;34m(x)\u001b[0m\n\u001b[0;32m      4\u001b[0m \u001b[0mstart\u001b[0m\u001b[1;33m,\u001b[0m\u001b[0mend\u001b[0m \u001b[1;33m=\u001b[0m \u001b[0mheapq\u001b[0m\u001b[1;33m.\u001b[0m\u001b[0mheappop\u001b[0m\u001b[1;33m(\u001b[0m\u001b[0mjobs\u001b[0m\u001b[1;33m)\u001b[0m\u001b[1;33m\u001b[0m\u001b[1;33m\u001b[0m\u001b[0m\n\u001b[0;32m      5\u001b[0m \u001b[1;33m\u001b[0m\u001b[0m\n\u001b[1;32m----> 6\u001b[1;33m \u001b[0mjobs\u001b[0m\u001b[1;33m.\u001b[0m\u001b[0msort\u001b[0m\u001b[1;33m(\u001b[0m\u001b[0mkey\u001b[0m \u001b[1;33m=\u001b[0m \u001b[1;32mlambda\u001b[0m \u001b[0mx\u001b[0m\u001b[1;33m:\u001b[0m\u001b[0mx\u001b[0m\u001b[1;33m<=\u001b[0m\u001b[0mend\u001b[0m\u001b[1;33m)\u001b[0m\u001b[1;33m\u001b[0m\u001b[1;33m\u001b[0m\u001b[0m\n\u001b[0m\u001b[0;32m      7\u001b[0m \u001b[1;31m# heapq.heapify(jobs)\u001b[0m\u001b[1;33m\u001b[0m\u001b[1;33m\u001b[0m\u001b[1;33m\u001b[0m\u001b[0m\n\u001b[0;32m      8\u001b[0m \u001b[1;31m# a=heapq.heappop(jobs)\u001b[0m\u001b[1;33m\u001b[0m\u001b[1;33m\u001b[0m\u001b[1;33m\u001b[0m\u001b[0m\n",
      "\u001b[1;31mTypeError\u001b[0m: '<=' not supported between instances of 'list' and 'int'"
     ]
    }
   ],
   "source": [
    "import heapq\n",
    "jobs = [[1, 9], [2, 6],[1,2]]\n",
    "heapq.heapify(jobs)\n",
    "start,end = heapq.heappop(jobs)\n",
    "\n",
    "jobs.sort(key = lambda x:x<=end)\n",
    "# heapq.heapify(jobs)\n",
    "# a=heapq.heappop(jobs)\n",
    "# print(a)\n",
    "# print(jobs)"
   ]
  },
  {
   "cell_type": "code",
   "execution_count": 109,
   "metadata": {},
   "outputs": [
    {
     "name": "stdout",
     "output_type": "stream",
     "text": [
      "[0, 3]\n",
      "[1, 6]\n",
      "[1, 9]\n",
      "[1, 11]\n",
      "[100, 11]\n",
      "[101, 12]\n"
     ]
    }
   ],
   "source": [
    "jobs = [[0,3],[5,5],[4,5]]\n",
    "jobs =  [[0, 3], [1, 9], [1, 6],[1,11],[100,11],[101,12]]\n",
    "\n",
    "# jobs = [(x,y) for x,y in jobs]\n",
    "while(jobs):\n",
    "    a=heapq.heappop(jobs)\n",
    "    print(a)\n",
    "#print(jobs)"
   ]
  },
  {
   "cell_type": "code",
   "execution_count": 155,
   "metadata": {},
   "outputs": [
    {
     "name": "stdout",
     "output_type": "stream",
     "text": [
      "[[3, 5], [10, 10], [3, 10], [25, 10], [100, 2]]\n",
      "[3, 5]\n",
      "[3, 10]\n",
      "[10, 10]\n",
      "[25, 10]\n",
      "[100, 2]\n"
     ]
    }
   ],
   "source": [
    "job = [[25, 10], [10, 10], [3, 10],[3,5], [100, 2]]\n",
    "heapq.heapify(job)\n",
    "print(job)\n",
    "while(job):\n",
    "    a=heapq.heappop(job)\n",
    "    print(a)"
   ]
  }
 ],
 "metadata": {
  "kernelspec": {
   "display_name": "Python 3",
   "language": "python",
   "name": "python3"
  },
  "language_info": {
   "codemirror_mode": {
    "name": "ipython",
    "version": 3
   },
   "file_extension": ".py",
   "mimetype": "text/x-python",
   "name": "python",
   "nbconvert_exporter": "python",
   "pygments_lexer": "ipython3",
   "version": "3.7.9"
  }
 },
 "nbformat": 4,
 "nbformat_minor": 4
}
