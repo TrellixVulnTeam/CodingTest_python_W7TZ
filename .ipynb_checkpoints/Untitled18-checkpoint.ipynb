{
 "cells": [
  {
   "cell_type": "code",
   "execution_count": null,
   "metadata": {},
   "outputs": [],
   "source": [
    "def solution(s):\n",
    "    \n",
    "    answer = []\n",
    "    for nu in s:\n",
    "        sub = []\n",
    "        for j in range(len(nu)-2):\n",
    "            if nu[j:j+3]==\"110\":\n",
    "                str_new = nu[:j]+nu[j+3]\n",
    "                \n",
    "                for k in range(len(str_new)):\n",
    "                    sub.append(str_new[:k]+\"110\"+str_new[k:])               \n",
    "                \n",
    "        sub.sort()\n",
    "        answer.append(sub[0])"
   ]
  }
 ],
 "metadata": {
  "kernelspec": {
   "display_name": "Python 3",
   "language": "python",
   "name": "python3"
  },
  "language_info": {
   "codemirror_mode": {
    "name": "ipython",
    "version": 3
   },
   "file_extension": ".py",
   "mimetype": "text/x-python",
   "name": "python",
   "nbconvert_exporter": "python",
   "pygments_lexer": "ipython3",
   "version": "3.7.9"
  }
 },
 "nbformat": 4,
 "nbformat_minor": 4
}
