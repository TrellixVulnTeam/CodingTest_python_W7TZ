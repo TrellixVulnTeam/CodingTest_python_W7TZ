{
 "cells": [
  {
   "cell_type": "code",
   "execution_count": 66,
   "metadata": {},
   "outputs": [
    {
     "data": {
      "text/plain": [
       "[1, 1, 1, 1, 2, 4]"
      ]
     },
     "execution_count": 66,
     "metadata": {},
     "output_type": "execute_result"
    }
   ],
   "source": [
    "# 문자열, 해시? \n",
    "from bisect import bisect_left\n",
    "def solution(info, query):\n",
    "    answer = []\n",
    "#     food = {'chicken':[],'pizza':[],'-':[]}\n",
    "    \n",
    "#     career = {'junior':{'chicken':[],'pizza':[],'-':[]},'senior':{'chicken':[],'pizza':[],'-':[]},'-':{'chicken':[],'pizza':[],'-':[]}}\n",
    "    \n",
    "#     occupation = {'backend':{'junior':{'chicken':[],'pizza':[],'-':[]},'senior':{'chicken':[],'pizza':[],'-':[]},'-':{'chicken':[],'pizza':[],'-':[]}},'frontend':{'junior':{'chicken':[],'pizza':[],'-':[]},'senior':{'chicken':[],'pizza':[],'-':[]},'-':{'chicken':[],'pizza':[],'-':[]}},'-':{'junior':{'chicken':[],'pizza':[],'-':[]},'senior':{'chicken':[],'pizza':[],'-':[]},'-':{'chicken':[],'pizza':[],'-':[]}}}\n",
    "    \n",
    "    cote = {'cpp':{'backend':{'junior':{'chicken':[],'pizza':[],'-':[]},'senior':{'chicken':[],'pizza':[],'-':[]},'-':{'chicken':[],'pizza':[],'-':[]}},'frontend':{'junior':{'chicken':[],'pizza':[],'-':[]},'senior':{'chicken':[],'pizza':[],'-':[]},'-':{'chicken':[],'pizza':[],'-':[]}},'-':{'junior':{'chicken':[],'pizza':[],'-':[]},'senior':{'chicken':[],'pizza':[],'-':[]},'-':{'chicken':[],'pizza':[],'-':[]}}},'java':{'backend':{'junior':{'chicken':[],'pizza':[],'-':[]},'senior':{'chicken':[],'pizza':[],'-':[]},'-':{'chicken':[],'pizza':[],'-':[]}},'frontend':{'junior':{'chicken':[],'pizza':[],'-':[]},'senior':{'chicken':[],'pizza':[],'-':[]},'-':{'chicken':[],'pizza':[],'-':[]}},'-':{'junior':{'chicken':[],'pizza':[],'-':[]},'senior':{'chicken':[],'pizza':[],'-':[]},'-':{'chicken':[],'pizza':[],'-':[]}}},'python':{'backend':{'junior':{'chicken':[],'pizza':[],'-':[]},'senior':{'chicken':[],'pizza':[],'-':[]},'-':{'chicken':[],'pizza':[],'-':[]}},'frontend':{'junior':{'chicken':[],'pizza':[],'-':[]},'senior':{'chicken':[],'pizza':[],'-':[]},'-':{'chicken':[],'pizza':[],'-':[]}},'-':{'junior':{'chicken':[],'pizza':[],'-':[]},'senior':{'chicken':[],'pizza':[],'-':[]},'-':{'chicken':[],'pizza':[],'-':[]}}},'-':{'backend':{'junior':{'chicken':[],'pizza':[],'-':[]},'senior':{'chicken':[],'pizza':[],'-':[]},'-':{'chicken':[],'pizza':[],'-':[]}},'frontend':{'junior':{'chicken':[],'pizza':[],'-':[]},'senior':{'chicken':[],'pizza':[],'-':[]},'-':{'chicken':[],'pizza':[],'-':[]}},'-':{'junior':{'chicken':[],'pizza':[],'-':[]},'senior':{'chicken':[],'pizza':[],'-':[]},'-':{'chicken':[],'pizza':[],'-':[]}}}}\n",
    "    \n",
    "    \n",
    "    for i in info:\n",
    "        lang, occu, care, fo, score=i.split()\n",
    "        score = int(score)\n",
    "        \n",
    "        # 1\n",
    "        cote[lang][occu][care][fo].append(score)\n",
    "        \n",
    "        # 4\n",
    "        cote['-'][occu][care][fo].append(score)\n",
    "        cote[lang]['-'][care][fo].append(score)\n",
    "        cote[lang][occu]['-'][fo].append(score)\n",
    "        cote[lang][occu][care]['-'].append(score)\n",
    "        \n",
    "        #6\n",
    "        cote['-']['-'][care][fo].append(score)\n",
    "        cote['-'][occu]['-'][fo].append(score)\n",
    "        cote['-'][occu][care]['-'].append(score)\n",
    "        cote[lang]['-']['-'][fo].append(score)\n",
    "        cote[lang]['-'][care]['-'].append(score)\n",
    "        cote[lang][occu]['-']['-'].append(score)\n",
    "        \n",
    "        # 4\n",
    "        cote['-']['-']['-'][fo].append(score)\n",
    "        cote['-']['-'][care]['-'].append(score)\n",
    "        cote['-'][occu]['-']['-'].append(score)\n",
    "        cote[lang]['-']['-']['-'].append(score)\n",
    "        \n",
    "        # 1\n",
    "        cote['-']['-']['-']['-'].append(score)\n",
    "    \n",
    "    for i in query:\n",
    "        lang,occu,care,foo = i.split(' and ')\n",
    "        fo, score = foo.split()  # lang,occu,care,fo,score\n",
    "        sub = [x for x in cote[lang][occu][care][fo]]\n",
    "        sub.sort()\n",
    "        answer.append(len(sub)-bisect_left(sub,int(score)))  # 이진탐색 이용해서, score값 보다 큰 점수를 받은 조건의 사람 수를 구함.\n",
    "        \n",
    "    return answer\n",
    "\n",
    "info = [\"java backend junior pizza 150\",\"python frontend senior chicken 210\",\"python frontend senior chicken 150\",\"cpp backend senior pizza 260\",\"java backend junior chicken 80\",\"python backend senior chicken 50\"]\n",
    "query = [\"java and backend and junior and pizza 100\",\"python and frontend and senior and chicken 200\",\"cpp and - and senior and pizza 250\",\"- and backend and senior and - 150\",\"- and - and - and chicken 100\",\"- and - and - and - 150\"]\n",
    "solution(info,query)"
   ]
  },
  {
   "cell_type": "code",
   "execution_count": 32,
   "metadata": {},
   "outputs": [
    {
     "name": "stdout",
     "output_type": "stream",
     "text": [
      "x 1 y 1 3 1\n"
     ]
    },
    {
     "data": {
      "text/plain": [
       "{'x': {'y': 3, 'z': 0}, 'k': {'y': 0, 'z': 0}}"
      ]
     },
     "execution_count": 32,
     "metadata": {},
     "output_type": "execute_result"
    }
   ],
   "source": [
    "d = {'x':{'y':0,'z':0},'k':{'y':0,'z':0}}\n",
    "\n",
    "a = 'x y 3'\n",
    "no1,no2,no3 = a.split()\n",
    "print(no1,len(no1),no2,len(no2),no3,len(no3))\n",
    "d[no1][no2]+=int(no3)\n",
    "d"
   ]
  },
  {
   "cell_type": "code",
   "execution_count": 56,
   "metadata": {},
   "outputs": [
    {
     "data": {
      "text/plain": [
       "0"
      ]
     },
     "execution_count": 56,
     "metadata": {},
     "output_type": "execute_result"
    }
   ],
   "source": [
    "from bisect import bisect_left,bisect_right\n",
    "temp = [1, 2, 3, 4, 5]\n",
    "\n",
    "std = bisect_left(temp, 6)\n",
    "len(temp)-std"
   ]
  },
  {
   "cell_type": "code",
   "execution_count": 64,
   "metadata": {},
   "outputs": [
    {
     "data": {
      "text/plain": [
       "deque([1, 5])"
      ]
     },
     "execution_count": 64,
     "metadata": {},
     "output_type": "execute_result"
    }
   ],
   "source": [
    "from collections import deque\n",
    "a=deque([])\n",
    "a.append(1)\n",
    "a.append(5)\n",
    "a.append(10)\n",
    "a.pop()\n",
    "a"
   ]
  }
 ],
 "metadata": {
  "kernelspec": {
   "display_name": "Python 3",
   "language": "python",
   "name": "python3"
  },
  "language_info": {
   "codemirror_mode": {
    "name": "ipython",
    "version": 3
   },
   "file_extension": ".py",
   "mimetype": "text/x-python",
   "name": "python",
   "nbconvert_exporter": "python",
   "pygments_lexer": "ipython3",
   "version": "3.7.9"
  }
 },
 "nbformat": 4,
 "nbformat_minor": 4
}
