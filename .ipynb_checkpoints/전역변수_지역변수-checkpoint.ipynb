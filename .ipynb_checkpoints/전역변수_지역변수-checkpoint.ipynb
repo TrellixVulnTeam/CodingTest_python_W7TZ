{
 "cells": [
  {
   "cell_type": "code",
   "execution_count": 2,
   "metadata": {},
   "outputs": [
    {
     "name": "stdout",
     "output_type": "stream",
     "text": [
      "3\n",
      "3\n",
      "2\n"
     ]
    }
   ],
   "source": [
    "def change1():\n",
    "    a=2\n",
    "\n",
    "def change2():\n",
    "    global a\n",
    "    a=2\n",
    "\n",
    "a=3     \n",
    "print(a)\n",
    "change1()  \n",
    "print(a)\n",
    "change2()\n",
    "print(a)"
   ]
  },
  {
   "cell_type": "code",
   "execution_count": 6,
   "metadata": {},
   "outputs": [
    {
     "name": "stdout",
     "output_type": "stream",
     "text": [
      "[1, 2, 3] 0\n",
      "[1, 4, 3] 0\n"
     ]
    }
   ],
   "source": [
    "def change(g_variable, lst):\n",
    "    g_variable=1\n",
    "    lst[1]=4\n",
    "\n",
    "g_variable = 0\n",
    "lst = [1,2,3]\n",
    "\n",
    "print(lst,g_variable)\n",
    "\n",
    "change(g_variable, lst)\n",
    "\n",
    "print(lst,g_variable)"
   ]
  },
  {
   "cell_type": "code",
   "execution_count": 24,
   "metadata": {},
   "outputs": [],
   "source": [
    "import copy\n",
    "lst=[1,2,3,4]\n",
    "def dfs(lst,i):\n",
    "    lst3 = copy.deepcopy(lst)\n",
    "    lst3[0]=-1\n",
    "dfs(lst,i=0)\n",
    "\n"
   ]
  },
  {
   "cell_type": "code",
   "execution_count": 25,
   "metadata": {},
   "outputs": [
    {
     "ename": "NameError",
     "evalue": "name 'lst3' is not defined",
     "output_type": "error",
     "traceback": [
      "\u001b[1;31m---------------------------------------------------------------------------\u001b[0m",
      "\u001b[1;31mNameError\u001b[0m                                 Traceback (most recent call last)",
      "\u001b[1;32m<ipython-input-25-4542efb256de>\u001b[0m in \u001b[0;36m<module>\u001b[1;34m\u001b[0m\n\u001b[1;32m----> 1\u001b[1;33m \u001b[0mlst3\u001b[0m\u001b[1;33m\u001b[0m\u001b[1;33m\u001b[0m\u001b[0m\n\u001b[0m",
      "\u001b[1;31mNameError\u001b[0m: name 'lst3' is not defined"
     ]
    }
   ],
   "source": []
  }
 ],
 "metadata": {
  "kernelspec": {
   "display_name": "Python 3",
   "language": "python",
   "name": "python3"
  },
  "language_info": {
   "codemirror_mode": {
    "name": "ipython",
    "version": 3
   },
   "file_extension": ".py",
   "mimetype": "text/x-python",
   "name": "python",
   "nbconvert_exporter": "python",
   "pygments_lexer": "ipython3",
   "version": "3.8.5"
  }
 },
 "nbformat": 4,
 "nbformat_minor": 4
}
