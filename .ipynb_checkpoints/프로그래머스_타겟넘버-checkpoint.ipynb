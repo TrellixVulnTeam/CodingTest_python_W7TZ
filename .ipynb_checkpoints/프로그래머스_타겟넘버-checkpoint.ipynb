{
 "cells": [
  {
   "cell_type": "code",
   "execution_count": 46,
   "metadata": {},
   "outputs": [
    {
     "data": {
      "text/plain": [
       "5"
      ]
     },
     "execution_count": 46,
     "metadata": {},
     "output_type": "execute_result"
    }
   ],
   "source": [
    "cnt=0\n",
    "def dfs(numbers,a,index,target):\n",
    "    global cnt\n",
    "    \n",
    "    if index>=len(numbers)-1:\n",
    "        if a==target:\n",
    "            \n",
    "            cnt+=1  \n",
    "        return\n",
    "    \n",
    "    dfs(numbers,a-numbers[index+1],index+1,target)\n",
    "    dfs(numbers,a+numbers[index+1],index+1,target)\n",
    "    \n",
    "    \n",
    "def solution(numbers, target):\n",
    "    global cnt\n",
    "    \n",
    "    dfs(numbers,numbers[0],0,target)\n",
    "    dfs(numbers,-numbers[0],0,target)\n",
    "    \n",
    "    #print('cnt2 : ',cnt2)\n",
    "    #print('cnt : ',cnt)    \n",
    "    return cnt\n",
    "\n",
    "numbers=[1, 1,1,1,1]\n",
    "target=3\n",
    "solution(numbers,target)"
   ]
  },
  {
   "cell_type": "code",
   "execution_count": 9,
   "metadata": {},
   "outputs": [
    {
     "name": "stdout",
     "output_type": "stream",
     "text": [
      "<class 'int'>\n"
     ]
    }
   ],
   "source": [
    "a=[1,2,3]\n"
   ]
  }
 ],
 "metadata": {
  "kernelspec": {
   "display_name": "Python 3",
   "language": "python",
   "name": "python3"
  },
  "language_info": {
   "codemirror_mode": {
    "name": "ipython",
    "version": 3
   },
   "file_extension": ".py",
   "mimetype": "text/x-python",
   "name": "python",
   "nbconvert_exporter": "python",
   "pygments_lexer": "ipython3",
   "version": "3.8.5"
  }
 },
 "nbformat": 4,
 "nbformat_minor": 4
}
