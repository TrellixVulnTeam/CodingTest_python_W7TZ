{
 "cells": [
  {
   "cell_type": "markdown",
   "metadata": {},
   "source": [
    "## 내답 : 효율성x, 정확성=100 "
   ]
  },
  {
   "cell_type": "code",
   "execution_count": 1,
   "metadata": {},
   "outputs": [
    {
     "name": "stdout",
     "output_type": "stream",
     "text": [
      "1\n",
      "1\n",
      "1\n",
      "1\n",
      "1\n",
      "2\n",
      "1\n",
      "1\n",
      "1\n",
      "1\n"
     ]
    },
    {
     "data": {
      "text/plain": [
       "4"
      ]
     },
     "execution_count": 1,
     "metadata": {},
     "output_type": "execute_result"
    }
   ],
   "source": [
    "def solution(board):\n",
    "    \n",
    "    answer = 0\n",
    "    def check(x,y,b):\n",
    "        ans = 1\n",
    "        cnt = 1\n",
    "        flag = True\n",
    "        \n",
    "        while(flag):    \n",
    "            cnt+=1\n",
    "            for q in range(x,x+cnt):\n",
    "                if q>=len(board):\n",
    "                    flag=False\n",
    "                    break\n",
    "                for w in range(y,y+cnt):\n",
    "                    if w>=len(board[0]) or b[q][w]==0:\n",
    "                        flag=False\n",
    "                        break\n",
    "                        \n",
    "                if flag==False:\n",
    "                    break\n",
    "\n",
    "        \n",
    "            if flag:    \n",
    "                ans = max(ans,cnt*cnt)\n",
    "        #print(ans)\n",
    "        return ans\n",
    "            \n",
    "    for i in range(len(board)):\n",
    "        for j in range(len(board[0])):\n",
    "            if board[i][j]==1:\n",
    "                answer = max(answer,check(i,j,board))\n",
    "                \n",
    "    return answer"
   ]
  },
  {
   "cell_type": "markdown",
   "metadata": {},
   "source": [
    "## 정답 : "
   ]
  },
  {
   "cell_type": "code",
   "execution_count": 2,
   "metadata": {},
   "outputs": [],
   "source": [
    "def solution(board):\n",
    "    \n",
    "    answer = 0\n",
    "    for i in range(len(board)):\n",
    "        for j in range(len(board[0])):\n",
    "            if i==0 or j==0:\n",
    "                continue\n",
    "            if board[i][j]==1:\n",
    "                board[i][j] = min(board[i-1][j-1],min(board[i-1][j],board[i][j-1]))+1\n",
    "                \n",
    "    \n",
    "    for i in range(len(board)):\n",
    "        answer = max(answer,max(board[i]))\n",
    "                \n",
    "    return answer*answer"
   ]
  },
  {
   "cell_type": "markdown",
   "metadata": {},
   "source": [
    "## Exercise :  "
   ]
  },
  {
   "cell_type": "code",
   "execution_count": null,
   "metadata": {},
   "outputs": [],
   "source": [
    "def solution(board):\n",
    "    answer = 1234\n",
    "    direc = [(-1,-1),(-1,0),(-1,1),(0,-1),(0,1),(1,-1),(1,0),(1,1)]\n",
    "    direc4 = [(0,1),(1,0),(1,1)]\n",
    "    # start = (1,1) \n",
    "    # end = (len(board)-2,len(board[0])-2)\n",
    "    \n",
    "    max_val = 1\n",
    "    for i in range(0,len(board)):\n",
    "        for j in range(0,len(board[0])-1):\n",
    "            if board[i][j] == 1:\n",
    "                # 넓이가 4인지 우선 확인\n",
    "                sub = 1\n",
    "                for d in direc4:\n",
    "                    x = i+d[0]\n",
    "                    y = j+d[1]\n",
    "                    if x>=0 and x<len(board) and y>=0 and y<len(board[0]) and board[x][y]==1:\n",
    "                        sub+=1\n",
    "                # print('sub : ',sub)\n",
    "                if sub == 4:\n",
    "                    max_val = 4\n",
    "                \n",
    "                lengt = 0\n",
    "                flag=True\n",
    "                while(flag):\n",
    "                    lengt += 1\n",
    "                    for d in direc:\n",
    "                        ni = i + d[0]*lengt\n",
    "                        nj = j + d[1]*lengt\n",
    "                        if ni>=0 and ni<len(board) and nj>=0 and nj<len(board[0]) and board[ni][nj]==1:\n",
    "                            continue\n",
    "                            \n",
    "                        else:\n",
    "                            flag = False\n",
    "                            break\n",
    "                            \n",
    "                    # print(lengt)\n",
    "                    if flag:\n",
    "                        max_val = (lengt*2+1)*(lengt*2+1)\n",
    "                            \n",
    "    return max_val"
   ]
  }
 ],
 "metadata": {
  "kernelspec": {
   "display_name": "Python 3",
   "language": "python",
   "name": "python3"
  },
  "language_info": {
   "codemirror_mode": {
    "name": "ipython",
    "version": 3
   },
   "file_extension": ".py",
   "mimetype": "text/x-python",
   "name": "python",
   "nbconvert_exporter": "python",
   "pygments_lexer": "ipython3",
   "version": "3.7.9"
  }
 },
 "nbformat": 4,
 "nbformat_minor": 4
}
