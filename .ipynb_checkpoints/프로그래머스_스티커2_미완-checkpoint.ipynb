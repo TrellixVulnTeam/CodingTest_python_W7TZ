{
 "cells": [
  {
   "cell_type": "code",
   "execution_count": null,
   "metadata": {},
   "outputs": [],
   "source": [
    "# python으로 원형큐 구현\n",
    "# import sys\n",
    "# sys.setrecursionlimit(100000)\n",
    "def solution(sticker):\n",
    "    answer = []\n",
    "    \n",
    "    def dp(lst,t,tmp):\n",
    "        \n",
    "        if t==[1]*(len(lst)):\n",
    "            #print(lst,t,tmp)\n",
    "            answer.append(tmp)\n",
    "            return \n",
    "        \n",
    "        \n",
    "        for x in range(len(lst)):\n",
    "            if t[x]==0:\n",
    "                new_d = [k for k in t]\n",
    "                new_d[x]=1\n",
    "                new_d[x+1]=1\n",
    "                new_d[x-1]=1\n",
    "                dp(lst,new_d,tmp+lst[x])\n",
    "        \n",
    "        \n",
    "    \n",
    "    for i in range(len(sticker)):\n",
    "        sub = sticker[i:]+sticker[:i]\n",
    "        d=[0]*len(sticker)\n",
    "        if len(sub)>=3:\n",
    "            d[0]=1\n",
    "            d[1]=1\n",
    "            d[len(sub)-1]=1\n",
    "            dp(sub,d,sub[0])  \n",
    "        else:\n",
    "            return max(sub)\n",
    "        \n",
    "    #print(sorted(answer))\n",
    "    return max(answer)\n",
    "            \n",
    "# sticker = [14, 6, 5, 11, 3, 9, 2, 10]\n",
    "# sticker = [2,1,3]\n",
    "# solution(sticker)"
   ]
  }
 ],
 "metadata": {
  "kernelspec": {
   "display_name": "Python 3",
   "language": "python",
   "name": "python3"
  },
  "language_info": {
   "codemirror_mode": {
    "name": "ipython",
    "version": 3
   },
   "file_extension": ".py",
   "mimetype": "text/x-python",
   "name": "python",
   "nbconvert_exporter": "python",
   "pygments_lexer": "ipython3",
   "version": "3.7.9"
  }
 },
 "nbformat": 4,
 "nbformat_minor": 4
}
