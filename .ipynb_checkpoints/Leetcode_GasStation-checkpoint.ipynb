{
 "cells": [
  {
   "cell_type": "markdown",
   "metadata": {},
   "source": [
    "https://leetcode.com/problems/gas-station/submissions/"
   ]
  },
  {
   "cell_type": "code",
   "execution_count": 93,
   "metadata": {},
   "outputs": [
    {
     "data": {
      "text/plain": [
       "4"
      ]
     },
     "execution_count": 93,
     "metadata": {},
     "output_type": "execute_result"
    }
   ],
   "source": [
    "def canCompleteCircuit(gas, cost):\n",
    "    g = {x:y for x,y in enumerate(gas)}\n",
    "    c = {x:y for x,y in enumerate(cost)}\n",
    "\n",
    "    tmp = list(range(0,len(gas)))\n",
    "    tmp\n",
    "\n",
    "    def dfs(fuel,lst,start):\n",
    "        if fuel<=0:\n",
    "            return\n",
    "\n",
    "    answer = []\n",
    "    for i in range(len(tmp)):\n",
    "        sub = tmp[i:]+tmp[:i]\n",
    "\n",
    "        fuel = 0\n",
    "        for x in sub:\n",
    "            fuel= fuel+g[x]-c[x]\n",
    "            if fuel<0:\n",
    "                break\n",
    "        else:\n",
    "            answer.append(sub)\n",
    "    if answer:\n",
    "        return answer[0][0]\n",
    "    else:\n",
    "        return -1\n",
    "\n",
    "gas = [1,2,3,4,5]\n",
    "cost = [3,4,5,1,2]    \n",
    "\n",
    "gas = [2,3,4]\n",
    "cost = [3,4,3]\n",
    "\n",
    "gas = [5,1,2,3,4]\n",
    "cost = [4,4,1,5,1]\n",
    "canCompleteCircuit(gas,cost) \n",
    "    "
   ]
  },
  {
   "cell_type": "code",
   "execution_count": 1,
   "metadata": {},
   "outputs": [
    {
     "name": "stdout",
     "output_type": "stream",
     "text": [
      "0 1\n",
      "1 2\n",
      "2 3\n",
      "3 4\n",
      "4 5\n"
     ]
    }
   ],
   "source": [
    "a=[1,2,3,4,5]\n",
    "for i,j in enumerate(a):\n",
    "    print(i,j)"
   ]
  },
  {
   "cell_type": "code",
   "execution_count": 46,
   "metadata": {},
   "outputs": [
    {
     "name": "stdout",
     "output_type": "stream",
     "text": [
      "lst :  [0, 4, 1, 2] fuel :  4 start :  3\n",
      "lst :  [0, 4, 2, 1] fuel :  3 start :  3\n",
      "lst :  [1, 4, 0, 2] fuel :  4 start :  3\n",
      "lst :  [1, 4, 2, 0] fuel :  2 start :  3\n",
      "lst :  [2, 4, 0, 1] fuel :  3 start :  3\n",
      "lst :  [2, 4, 1, 0] fuel :  2 start :  3\n",
      "lst :  [4, 0, 1, 2] fuel :  4 start :  3\n",
      "lst :  [4, 0, 2, 1] fuel :  3 start :  3\n",
      "lst :  [4, 1, 0, 2] fuel :  4 start :  3\n",
      "lst :  [4, 1, 2, 0] fuel :  2 start :  3\n",
      "lst :  [4, 2, 0, 1] fuel :  3 start :  3\n",
      "lst :  [4, 2, 1, 0] fuel :  2 start :  3\n",
      "lst :  [0, 3, 1, 2] fuel :  3 start :  4\n",
      "lst :  [0, 3, 2, 1] fuel :  2 start :  4\n",
      "lst :  [1, 3, 0, 2] fuel :  3 start :  4\n",
      "lst :  [1, 3, 2, 0] fuel :  1 start :  4\n",
      "lst :  [2, 3, 0, 1] fuel :  2 start :  4\n",
      "lst :  [2, 3, 1, 0] fuel :  1 start :  4\n",
      "lst :  [3, 0, 1, 2] fuel :  3 start :  4\n",
      "lst :  [3, 0, 2, 1] fuel :  2 start :  4\n",
      "lst :  [3, 1, 0, 2] fuel :  3 start :  4\n",
      "lst :  [3, 1, 2, 0] fuel :  1 start :  4\n",
      "lst :  [3, 2, 0, 1] fuel :  2 start :  4\n",
      "lst :  [3, 2, 1, 0] fuel :  1 start :  4\n"
     ]
    }
   ],
   "source": [
    "\n",
    "def canCompleteCircuit(gas, cost):\n",
    "    \"\"\"\n",
    "    :type gas: List[int]\n",
    "    :type cost: List[int]\n",
    "    :rtype: int\n",
    "    \"\"\"\n",
    "    g = {x:y for x,y in enumerate(gas)}\n",
    "    c = {x:y for x,y in enumerate(cost)}\n",
    "\n",
    "#     print(g)\n",
    "#     print(c)\n",
    "    ans = []\n",
    "    def dfs(fuel,lst,m,st):\n",
    "        \n",
    "        if fuel<0:\n",
    "            return\n",
    "        if len(lst) == (len(gas)-1) and st not in lst and fuel-c[st]>=0:\n",
    "            ans.append(lst[0])\n",
    "            print('lst : ',lst,'fuel : ',fuel-c[st],'start : ',st)\n",
    "            return\n",
    "\n",
    "        for a,b in c.items():\n",
    "            if fuel-c[m]>=0 and a not in lst:\n",
    "                dfs(fuel-c[m]+g[a],lst+[a],a,st)\n",
    "                \n",
    "        \n",
    "\n",
    "    for k,v in g.items():\n",
    "        dfs(v,[],k,k)\n",
    "        \n",
    "    \n",
    "    return \n",
    "            \n",
    "        \n",
    "            \n",
    "gas = [1,2,3,4,5]\n",
    "cost = [3,4,5,1,2]\n",
    "canCompleteCircuit(gas,cost)"
   ]
  },
  {
   "cell_type": "code",
   "execution_count": 82,
   "metadata": {},
   "outputs": [
    {
     "name": "stdout",
     "output_type": "stream",
     "text": [
      "{0: 1, 1: 2, 2: 3, 3: 4, 4: 5}\n",
      "{0: 3, 1: 4, 2: 5, 3: 1, 4: 2}\n",
      "\n",
      "lst :  [3, 0, 4, 1, 2] fuel :  0 전 fuel :  5\n",
      "lst :  [3, 0, 4, 2, 1] fuel :  0 전 fuel :  4\n",
      "lst :  [3, 1, 4, 0, 2] fuel :  0 전 fuel :  5\n",
      "lst :  [3, 1, 4, 2, 0] fuel :  0 전 fuel :  3\n",
      "lst :  [3, 2, 4, 0, 1] fuel :  0 전 fuel :  4\n",
      "lst :  [3, 2, 4, 1, 0] fuel :  0 전 fuel :  3\n",
      "lst :  [3, 4, 0, 1, 2] fuel :  0 전 fuel :  5\n",
      "lst :  [3, 4, 0, 2, 1] fuel :  0 전 fuel :  4\n",
      "lst :  [3, 4, 1, 0, 2] fuel :  0 전 fuel :  5\n",
      "lst :  [3, 4, 1, 2, 0] fuel :  0 전 fuel :  3\n",
      "lst :  [3, 4, 2, 0, 1] fuel :  0 전 fuel :  4\n",
      "lst :  [3, 4, 2, 1, 0] fuel :  0 전 fuel :  3\n",
      "lst :  [4, 0, 3, 1, 2] fuel :  0 전 fuel :  5\n",
      "lst :  [4, 0, 3, 2, 1] fuel :  0 전 fuel :  4\n",
      "lst :  [4, 1, 3, 0, 2] fuel :  0 전 fuel :  5\n",
      "lst :  [4, 1, 3, 2, 0] fuel :  0 전 fuel :  3\n",
      "lst :  [4, 2, 3, 0, 1] fuel :  0 전 fuel :  4\n",
      "lst :  [4, 2, 3, 1, 0] fuel :  0 전 fuel :  3\n",
      "lst :  [4, 3, 0, 1, 2] fuel :  0 전 fuel :  5\n",
      "lst :  [4, 3, 0, 2, 1] fuel :  0 전 fuel :  4\n",
      "lst :  [4, 3, 1, 0, 2] fuel :  0 전 fuel :  5\n",
      "lst :  [4, 3, 1, 2, 0] fuel :  0 전 fuel :  3\n",
      "lst :  [4, 3, 2, 0, 1] fuel :  0 전 fuel :  4\n",
      "lst :  [4, 3, 2, 1, 0] fuel :  0 전 fuel :  3\n",
      "{3, 4}\n"
     ]
    },
    {
     "data": {
      "text/plain": [
       "3"
      ]
     },
     "execution_count": 82,
     "metadata": {},
     "output_type": "execute_result"
    }
   ],
   "source": [
    "\n",
    "def canCompleteCircuit(gas, cost):\n",
    "    \"\"\"\n",
    "    :type gas: List[int]\n",
    "    :type cost: List[int]\n",
    "    :rtype: int\n",
    "    \"\"\"\n",
    "    g = {x:y for x,y in enumerate(gas)}\n",
    "    c = {x:y for x,y in enumerate(cost)}\n",
    "\n",
    "    print(g)\n",
    "    print(c)\n",
    "    print()\n",
    "    ans = set()\n",
    "    def dfs(fuel,lst,m,st):\n",
    "        \n",
    "        if fuel<=0:\n",
    "            return\n",
    "        \n",
    "        if len(lst) == len(gas) and fuel-c[m]>=0:\n",
    "            ans.add(lst[0])\n",
    "            print('lst : ',lst,'fuel : ',fuel-c[m],'전 fuel : ',fuel)\n",
    "            return\n",
    "\n",
    "        for a,b in c.items():\n",
    "            if fuel-c[m]>0 and a not in lst:\n",
    "                dfs(fuel-c[m]+g[a],lst+[a],a,st)\n",
    "                \n",
    "        \n",
    "\n",
    "    for k,v in g.items():\n",
    "        dfs(v,[k],k,k)\n",
    "    print(ans)\n",
    "    if ans:\n",
    "        \n",
    "        return list(ans)[0]\n",
    "    else:\n",
    "        return -1 \n",
    "\n",
    "\n",
    "        \n",
    "\n",
    "            \n",
    "        \n",
    "            \n",
    "gas = [1,2,3,4,5]\n",
    "cost = [3,4,5,1,2]\n",
    "# gas = [2,3,4]\n",
    "# cost = [3,4,3]\n",
    "# gas = [5,1,2,3,4]\n",
    "# cost = [4,4,1,5,1]\n",
    "canCompleteCircuit(gas,cost)"
   ]
  },
  {
   "cell_type": "code",
   "execution_count": 92,
   "metadata": {},
   "outputs": [
    {
     "data": {
      "text/plain": [
       "4"
      ]
     },
     "execution_count": 92,
     "metadata": {},
     "output_type": "execute_result"
    }
   ],
   "source": [
    "\n",
    "\n",
    "def canCompleteCircuit(gas, cost):\n",
    "    g = {x:y for x,y in enumerate(gas)}\n",
    "    c = {x:y for x,y in enumerate(cost)}\n",
    "\n",
    "    tmp = list(range(0,len(gas)))\n",
    "    tmp\n",
    "\n",
    "    def dfs(fuel,lst,start):\n",
    "        if fuel<=0:\n",
    "            return\n",
    "\n",
    "    answer = []\n",
    "    for i in range(len(tmp)):\n",
    "        sub = tmp[i:]+tmp[:i]\n",
    "\n",
    "        fuel = 0\n",
    "        for x in sub:\n",
    "            fuel= fuel+g[x]-c[x]\n",
    "            if fuel<0:\n",
    "                break\n",
    "        else:\n",
    "            answer.append(sub)\n",
    "    if answer:\n",
    "        return answer[0][0]\n",
    "    else:\n",
    "        return -1\n",
    "\n",
    "gas = [1,2,3,4,5]\n",
    "cost = [3,4,5,1,2]    \n",
    "\n",
    "gas = [2,3,4]\n",
    "cost = [3,4,3]\n",
    "\n",
    "gas = [5,1,2,3,4]\n",
    "cost = [4,4,1,5,1]\n",
    "canCompleteCircuit(gas,cost) \n",
    "    "
   ]
  },
  {
   "cell_type": "markdown",
   "metadata": {},
   "source": [
    "############################################################## "
   ]
  },
  {
   "cell_type": "code",
   "execution_count": 94,
   "metadata": {},
   "outputs": [
    {
     "name": "stdout",
     "output_type": "stream",
     "text": [
      "[0, 1, 2, 3, 4]\n",
      "[1, 2, 3, 4, 5]\n",
      "[2, 3, 4, 5, 6]\n",
      "[3, 4, 5, 6, 7]\n",
      "[4, 5, 6, 7, 8]\n"
     ]
    }
   ],
   "source": [
    "gas = [1,2,3,4,5]\n",
    "for start in range(len(gas)):\n",
    "    sub = [i for i in range(start, len(gas)+start)]\n",
    "    print(sub)\n"
   ]
  }
 ],
 "metadata": {
  "kernelspec": {
   "display_name": "Python 3",
   "language": "python",
   "name": "python3"
  },
  "language_info": {
   "codemirror_mode": {
    "name": "ipython",
    "version": 3
   },
   "file_extension": ".py",
   "mimetype": "text/x-python",
   "name": "python",
   "nbconvert_exporter": "python",
   "pygments_lexer": "ipython3",
   "version": "3.8.5"
  }
 },
 "nbformat": 4,
 "nbformat_minor": 4
}
