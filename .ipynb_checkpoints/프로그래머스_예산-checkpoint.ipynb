{
 "cells": [
  {
   "cell_type": "markdown",
   "metadata": {},
   "source": [
    "https://programmers.co.kr/learn/courses/30/lessons/12982"
   ]
  },
  {
   "cell_type": "code",
   "execution_count": 3,
   "metadata": {},
   "outputs": [
    {
     "name": "stdout",
     "output_type": "stream",
     "text": [
      "[(1,), (2,), (3,), (4,), (5,), (1, 2), (1, 3), (1, 4), (1, 5), (2, 3), (2, 4), (2, 5), (3, 4), (3, 5), (4, 5), (1, 2, 3), (1, 2, 4), (1, 2, 5), (1, 3, 4), (1, 3, 5), (1, 4, 5), (2, 3, 4), (2, 3, 5), (2, 4, 5), (3, 4, 5), (1, 2, 3, 4), (1, 2, 3, 5), (1, 2, 4, 5), (1, 3, 4, 5), (2, 3, 4, 5), (1, 2, 3, 4, 5)]\n",
      "3\n"
     ]
    },
    {
     "data": {
      "text/plain": [
       "3"
      ]
     },
     "execution_count": 3,
     "metadata": {},
     "output_type": "execute_result"
    }
   ],
   "source": [
    "from itertools import combinations\n",
    "def solution(d, budget):\n",
    "    \n",
    "    lst = []\n",
    "    dep = {k+1:v for k,v in enumerate(d)}\n",
    "    \n",
    "    for i in range(1,len(d)+1):\n",
    "        lst.extend(sorted(list(combinations(list(dep.keys()),i))))\n",
    "    \n",
    "    res = []\n",
    "    answer=0\n",
    "    for i in lst:\n",
    "        tmp = [dep[x] for x in i]\n",
    "        if sum(tmp)<=budget and answer<len(tmp):\n",
    "            answer=len(tmp)\n",
    "            \n",
    "\n",
    "    print(answer)\n",
    "    return answer\n",
    "\n",
    "d=[1,3,2,5,4]\n",
    "budget=9\n",
    "\n",
    "\n",
    "solution(d,budget)"
   ]
  }
 ],
 "metadata": {
  "kernelspec": {
   "display_name": "Python 3",
   "language": "python",
   "name": "python3"
  },
  "language_info": {
   "codemirror_mode": {
    "name": "ipython",
    "version": 3
   },
   "file_extension": ".py",
   "mimetype": "text/x-python",
   "name": "python",
   "nbconvert_exporter": "python",
   "pygments_lexer": "ipython3",
   "version": "3.8.5"
  }
 },
 "nbformat": 4,
 "nbformat_minor": 4
}
