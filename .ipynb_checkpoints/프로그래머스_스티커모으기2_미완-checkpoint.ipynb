{
 "cells": [
  {
   "cell_type": "code",
   "execution_count": 1,
   "metadata": {},
   "outputs": [
    {
     "name": "stdout",
     "output_type": "stream",
     "text": [
      "[14, 6, 5, 11, 3, 9, 2, 10]\n",
      "[6, 5, 11, 3, 9, 2, 10, 14]\n",
      "[5, 11, 3, 9, 2, 10, 14, 6]\n",
      "[11, 3, 9, 2, 10, 14, 6, 5]\n",
      "[3, 9, 2, 10, 14, 6, 5, 11]\n",
      "[9, 2, 10, 14, 6, 5, 11, 3]\n",
      "[2, 10, 14, 6, 5, 11, 3, 9]\n",
      "[10, 14, 6, 5, 11, 3, 9, 2]\n"
     ]
    }
   ],
   "source": [
    "sticker = [14, 6, 5, 11, 3, 9, 2, 10]\n",
    "for i in range(len(sticker)):\n",
    "    tmp = sticker[i:]+sticker[:i]\n",
    "    print(tmp)"
   ]
  },
  {
   "cell_type": "code",
   "execution_count": 3,
   "metadata": {},
   "outputs": [
    {
     "data": {
      "text/plain": [
       "[5, 11, 3, 9, 2]"
      ]
     },
     "execution_count": 3,
     "metadata": {},
     "output_type": "execute_result"
    }
   ],
   "source": [
    "sticker[2:-1]"
   ]
  },
  {
   "cell_type": "code",
   "execution_count": 29,
   "metadata": {},
   "outputs": [
    {
     "name": "stdout",
     "output_type": "stream",
     "text": [
      "0 ,  [14, 6, 5, 11, 3, 9, 2, 10] ,  [5, 11, 3, 9, 2]\n",
      "0 ,  [5, 11, 3, 9, 2] ,  [3, 9]\n",
      "1 ,  [5, 11, 3, 9, 2] ,  [9, 2]\n",
      "2 ,  [5, 11, 3, 9, 2] ,  [2, 5]\n",
      "3 ,  [5, 11, 3, 9, 2] ,  [5, 11]\n",
      "4 ,  [5, 11, 3, 9, 2] ,  [11, 3]\n",
      "0 ,  [6, 5, 11, 3, 9, 2, 10, 14] ,  [11, 3, 9, 2, 10]\n",
      "0 ,  [11, 3, 9, 2, 10] ,  [9, 2]\n",
      "1 ,  [11, 3, 9, 2, 10] ,  [2, 10]\n",
      "2 ,  [11, 3, 9, 2, 10] ,  [10, 11]\n",
      "3 ,  [11, 3, 9, 2, 10] ,  [11, 3]\n",
      "4 ,  [11, 3, 9, 2, 10] ,  [3, 9]\n",
      "0 ,  [5, 11, 3, 9, 2, 10, 14, 6] ,  [3, 9, 2, 10, 14]\n",
      "0 ,  [3, 9, 2, 10, 14] ,  [2, 10]\n",
      "1 ,  [3, 9, 2, 10, 14] ,  [10, 14]\n",
      "2 ,  [3, 9, 2, 10, 14] ,  [14, 3]\n",
      "3 ,  [3, 9, 2, 10, 14] ,  [3, 9]\n",
      "4 ,  [3, 9, 2, 10, 14] ,  [9, 2]\n",
      "0 ,  [11, 3, 9, 2, 10, 14, 6, 5] ,  [9, 2, 10, 14, 6]\n",
      "0 ,  [9, 2, 10, 14, 6] ,  [10, 14]\n",
      "1 ,  [9, 2, 10, 14, 6] ,  [14, 6]\n",
      "2 ,  [9, 2, 10, 14, 6] ,  [6, 9]\n",
      "3 ,  [9, 2, 10, 14, 6] ,  [9, 2]\n",
      "4 ,  [9, 2, 10, 14, 6] ,  [2, 10]\n",
      "0 ,  [3, 9, 2, 10, 14, 6, 5, 11] ,  [2, 10, 14, 6, 5]\n",
      "0 ,  [2, 10, 14, 6, 5] ,  [14, 6]\n",
      "1 ,  [2, 10, 14, 6, 5] ,  [6, 5]\n",
      "2 ,  [2, 10, 14, 6, 5] ,  [5, 2]\n",
      "3 ,  [2, 10, 14, 6, 5] ,  [2, 10]\n",
      "4 ,  [2, 10, 14, 6, 5] ,  [10, 14]\n",
      "0 ,  [9, 2, 10, 14, 6, 5, 11, 3] ,  [10, 14, 6, 5, 11]\n",
      "0 ,  [10, 14, 6, 5, 11] ,  [6, 5]\n",
      "1 ,  [10, 14, 6, 5, 11] ,  [5, 11]\n",
      "2 ,  [10, 14, 6, 5, 11] ,  [11, 10]\n",
      "3 ,  [10, 14, 6, 5, 11] ,  [10, 14]\n",
      "4 ,  [10, 14, 6, 5, 11] ,  [14, 6]\n",
      "0 ,  [2, 10, 14, 6, 5, 11, 3, 9] ,  [14, 6, 5, 11, 3]\n",
      "0 ,  [14, 6, 5, 11, 3] ,  [5, 11]\n",
      "1 ,  [14, 6, 5, 11, 3] ,  [11, 3]\n",
      "2 ,  [14, 6, 5, 11, 3] ,  [3, 14]\n",
      "3 ,  [14, 6, 5, 11, 3] ,  [14, 6]\n",
      "4 ,  [14, 6, 5, 11, 3] ,  [6, 5]\n",
      "0 ,  [10, 14, 6, 5, 11, 3, 9, 2] ,  [6, 5, 11, 3, 9]\n",
      "0 ,  [6, 5, 11, 3, 9] ,  [11, 3]\n",
      "1 ,  [6, 5, 11, 3, 9] ,  [3, 9]\n",
      "2 ,  [6, 5, 11, 3, 9] ,  [9, 6]\n",
      "3 ,  [6, 5, 11, 3, 9] ,  [6, 5]\n",
      "4 ,  [6, 5, 11, 3, 9] ,  [5, 11]\n",
      "answer :  [12, 13, 13, 13, 13, 14, 14, 15, 16, 16, 17, 17, 20, 20, 21, 21, 21, 21, 21, 21, 21, 21, 21, 21, 22, 22, 22, 22, 22, 22, 22, 23, 23, 23, 24, 24, 24, 24, 24, 24, 24, 24, 24, 24, 24, 24, 25, 25, 25, 25, 25, 25, 25, 26, 27, 27, 27, 27, 27, 27, 28, 28, 28, 28, 28, 28, 29, 29, 29, 29, 29, 29, 29, 29, 30, 30, 30, 30, 30, 30, 30, 30, 30, 30, 31, 31, 31, 32, 32, 32, 32, 32, 33, 33, 33, 33, 33, 33, 33, 33, 33, 33, 33, 34, 34, 34, 35, 35, 35, 35, 35, 35, 35, 36, 36, 36, 36, 36, 36, 36, 36, 36, 36, 36, 36, 36, 37, 37, 37, 37, 37, 38, 38, 38, 38, 38, 38, 38, 39, 39, 39, 39, 39, 39, 40, 40, 40, 41, 41, 41, 42, 42, 43, 43, 44, 44, 45, 45, 48, 48]\n"
     ]
    }
   ],
   "source": [
    "# python으로 원형큐 구현\n",
    "import sys\n",
    "sys.setrecursionlimit(100000)\n",
    "def solution(sticker):\n",
    "    answer = []\n",
    "    def dp(lst,ans,x):\n",
    "        \n",
    "        if len(lst)<=2:\n",
    "            answer.append(ans+lst[0])\n",
    "            answer.append(ans+lst[1])\n",
    "            return\n",
    "        \n",
    "        \n",
    "        tmp = lst[]\n",
    "#         if x==0:\n",
    "#             tmp = lst[2:-1]\n",
    "            \n",
    "#         elif x==len(lst)-1:\n",
    "#             tmp = lst[1:-2]\n",
    "            \n",
    "#         else:\n",
    "#             tmp = lst[x+2:]+lst[:x-1]\n",
    "            \n",
    "        print(x,', ',lst ,', ',tmp)\n",
    "#         if t==2:\n",
    "#             print()\n",
    "#             return\n",
    "        for j in range(len(tmp)):\n",
    "            dp(tmp,ans+tmp[j],j)\n",
    "        \n",
    "        \n",
    "        \n",
    "    for i in range(len(sticker)):\n",
    "        sub = sticker[i:]+sticker[:i]  # 리스트 원소 오른쪽으로 shift\n",
    "        sub = sub[2:-1]\n",
    "        dp(sub,sub[0],0) \n",
    "        \n",
    "        \n",
    "    print('answer : ',sorted(answer))\n",
    "#     print(max(answer))\n",
    "            \n",
    "        \n",
    "sticker = [14, 6, 5, 11, 3, 9, 2, 10]\n",
    "solution(sticker)"
   ]
  },
  {
   "cell_type": "code",
   "execution_count": 18,
   "metadata": {},
   "outputs": [
    {
     "name": "stdout",
     "output_type": "stream",
     "text": [
      "5 [3, 9]\n",
      "11 [9, 2]\n",
      "3 [2, 5]\n",
      "9 [5, 11]\n",
      "2 [11, 3]\n"
     ]
    }
   ],
   "source": [
    "a=[5,11,3,9,2]\n",
    "for i in range(len(a)):\n",
    "    if i==0:\n",
    "        b=a[2:-1]\n",
    "    \n",
    "    elif i==len(a)-1:\n",
    "        b=a[1:-2]\n",
    "    else:\n",
    "        b=a[i+2:]+a[:i-1]\n",
    "    print(a[i],b)"
   ]
  },
  {
   "cell_type": "code",
   "execution_count": 31,
   "metadata": {},
   "outputs": [
    {
     "name": "stdout",
     "output_type": "stream",
     "text": [
      "{1: 3, 2: 4, 3: 5} {1: 3, 2: 4, 3: 5, 4: 1}\n"
     ]
    }
   ],
   "source": [
    "# dictionary 복사?\n",
    "d={1:3,2:4,3:5}\n",
    "new_d={x:y for x,y in d.items()}\n",
    "new_d[4]=1\n",
    "print(d,new_d)\n"
   ]
  },
  {
   "cell_type": "code",
   "execution_count": 79,
   "metadata": {},
   "outputs": [
    {
     "data": {
      "text/plain": [
       "2"
      ]
     },
     "execution_count": 79,
     "metadata": {},
     "output_type": "execute_result"
    }
   ],
   "source": [
    "# python으로 원형큐 구현\n",
    "# import sys\n",
    "# sys.setrecursionlimit(100000)\n",
    "def solution(sticker):\n",
    "    answer = []\n",
    "    \n",
    "    def dp(lst,t,tmp):\n",
    "        \n",
    "        if list(t.values())==[1]*(len(lst)):\n",
    "            print(lst,t,tmp)\n",
    "            answer.append(tmp)\n",
    "            return\n",
    "        \n",
    "        new_d = {x:y for x,y in t.items()}\n",
    "        for x in range(len(lst)):\n",
    "            if t[x]==0:\n",
    "                new_d = {a:b for a,b in t.items()}\n",
    "                new_d[x]=1\n",
    "                new_d[x+1]=1\n",
    "                new_d[x-1]=1\n",
    "                dp(lst,new_d,tmp+lst[x])\n",
    "        \n",
    "        \n",
    "    ind = [i for i in range(0,len(sticker))]\n",
    "    for i in range(len(sticker)):\n",
    "        sub = sticker[i:]+sticker[:i]\n",
    "        d={x:y for x,y in zip(ind,[0]*len(sticker))}\n",
    "        d=[]\n",
    "        if len(sub)>=3:\n",
    "            d[0]=1\n",
    "            d[1]=1\n",
    "            d[len(sub)-1]=1\n",
    "            dp(sub,d,sub[0])  \n",
    "        else:\n",
    "            return max(sub)\n",
    "        \n",
    "    print(sorted(answer))\n",
    "    return max(answer)\n",
    "            \n",
    "sticker = [14, 6, 5, 11, 3, 9, 2, 10]\n",
    "sticker = [2,1,3]\n",
    "\n",
    "solution(sticker)"
   ]
  },
  {
   "cell_type": "code",
   "execution_count": 88,
   "metadata": {},
   "outputs": [
    {
     "data": {
      "text/plain": [
       "3"
      ]
     },
     "execution_count": 88,
     "metadata": {},
     "output_type": "execute_result"
    }
   ],
   "source": [
    "# python으로 원형큐 구현\n",
    "# import sys\n",
    "# sys.setrecursionlimit(100000)\n",
    "def solution(sticker):\n",
    "    answer = []\n",
    "    \n",
    "    def dp(lst,t,tmp):\n",
    "        \n",
    "        if t==[1]*(len(lst)):\n",
    "            #print(lst,t,tmp)\n",
    "            answer.append(tmp)\n",
    "            return \n",
    "        \n",
    "        \n",
    "        for x in range(len(lst)):\n",
    "            if t[x]==0:\n",
    "                new_d = [k for k in t]\n",
    "                new_d[x]=1\n",
    "                new_d[x+1]=1\n",
    "                new_d[x-1]=1\n",
    "                dp(lst,new_d,tmp+lst[x])\n",
    "        \n",
    "        \n",
    "    \n",
    "    for i in range(len(sticker)):\n",
    "        sub = sticker[i:]+sticker[:i]\n",
    "        d=[0]*len(sticker)\n",
    "        if len(sub)>=3:\n",
    "            d[0]=1\n",
    "            d[1]=1\n",
    "            d[len(sub)-1]=1\n",
    "            dp(sub,d,sub[0])  \n",
    "        else:\n",
    "            return max(sub)\n",
    "        \n",
    "    #print(sorted(answer))\n",
    "    return max(answer)\n",
    "            \n",
    "sticker = [14, 6, 5, 11, 3, 9, 2, 10]\n",
    "sticker = [2,1,3]\n",
    "\n",
    "solution(sticker)"
   ]
  },
  {
   "cell_type": "markdown",
   "metadata": {},
   "source": [
    "제출답 : (틀림)"
   ]
  },
  {
   "cell_type": "code",
   "execution_count": 94,
   "metadata": {},
   "outputs": [
    {
     "data": {
      "text/plain": [
       "36"
      ]
     },
     "execution_count": 94,
     "metadata": {},
     "output_type": "execute_result"
    }
   ],
   "source": [
    "# python으로 원형큐 구현\n",
    "# import sys\n",
    "# sys.setrecursionlimit(100000)\n",
    "from collections import deque\n",
    "def solution(sticker):\n",
    "    answer = deque([])\n",
    "    \n",
    "    def dp(lst,t,tmp):\n",
    "        \n",
    "        if t==[1]*(len(lst)):\n",
    "            #print(lst,t,tmp)\n",
    "            answer.append(tmp)\n",
    "            return \n",
    "        \n",
    "        \n",
    "        for x in range(len(lst)):\n",
    "            if t[x]==0:\n",
    "                new_d = [k for k in t]\n",
    "                new_d[x]=1\n",
    "                new_d[x+1]=1\n",
    "                new_d[x-1]=1\n",
    "                dp(lst,new_d,tmp+lst[x])\n",
    "        \n",
    "        \n",
    "    \n",
    "    for i in range(len(sticker)):\n",
    "        sub = sticker[i:]+sticker[:i]\n",
    "        d=[0]*len(sticker)\n",
    "        if len(sub)>=3:\n",
    "            d[0]=1\n",
    "            d[1]=1\n",
    "            d[len(sub)-1]=1\n",
    "            dp(sub,d,sub[0])  \n",
    "        else:\n",
    "            return max(sub)\n",
    "        \n",
    "    #print(sorted(answer))\n",
    "    return max(answer)\n",
    "            \n",
    "sticker = [14, 6, 5, 11, 3, 9, 2, 10]\n",
    "# sticker = [2,1,3]\n",
    "solution(sticker)"
   ]
  },
  {
   "cell_type": "code",
   "execution_count": null,
   "metadata": {},
   "outputs": [],
   "source": []
  }
 ],
 "metadata": {
  "kernelspec": {
   "display_name": "Python 3",
   "language": "python",
   "name": "python3"
  },
  "language_info": {
   "codemirror_mode": {
    "name": "ipython",
    "version": 3
   },
   "file_extension": ".py",
   "mimetype": "text/x-python",
   "name": "python",
   "nbconvert_exporter": "python",
   "pygments_lexer": "ipython3",
   "version": "3.8.5"
  }
 },
 "nbformat": 4,
 "nbformat_minor": 4
}
