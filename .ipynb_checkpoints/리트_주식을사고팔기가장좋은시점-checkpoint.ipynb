{
 "cells": [
  {
   "cell_type": "markdown",
   "metadata": {},
   "source": [
    "##\n",
    "import sys\n",
    "최댓값을 구하기위한 default : -sys.maxsize\n",
    "최소값을 구하기위한 default : sys.maxsize"
   ]
  },
  {
   "cell_type": "code",
   "execution_count": 4,
   "metadata": {},
   "outputs": [
    {
     "data": {
      "text/plain": [
       "0"
      ]
     },
     "execution_count": 4,
     "metadata": {},
     "output_type": "execute_result"
    }
   ],
   "source": [
    "import sys\n",
    "prices= [7,1,5,3,6,4]\n",
    "prices=[7,6,4,3,1]\n",
    "\n",
    "profit=0\n",
    "min_price=sys.maxsize\n",
    "\n",
    "for i in prices:\n",
    "    min_price=min(min_price,i)\n",
    "    profit=max(profit,i-min_price)\n",
    "    \n",
    "profit"
   ]
  },
  {
   "cell_type": "code",
   "execution_count": null,
   "metadata": {},
   "outputs": [],
   "source": [
    "import sys\n",
    "from typing import List\n",
    "\n",
    "\n",
    "class Solution:\n",
    "    def maxProfit(self, prices: List[int]) -> int:\n",
    "        profit = 0\n",
    "        min_price = sys.maxsize\n",
    "        # 만일, 어떤 최대값을 구하고 싶으면 -sys.maxsize하면 됌\n",
    "        # 최소값과 최대값 계속 갱신\n",
    "        for price in prices:\n",
    "            min_price = min(min_price, price)\n",
    "            profit = max(profit, price - min_price)\n",
    "\n",
    "        return profit"
   ]
  }
 ],
 "metadata": {
  "kernelspec": {
   "display_name": "Python 3",
   "language": "python",
   "name": "python3"
  },
  "language_info": {
   "codemirror_mode": {
    "name": "ipython",
    "version": 3
   },
   "file_extension": ".py",
   "mimetype": "text/x-python",
   "name": "python",
   "nbconvert_exporter": "python",
   "pygments_lexer": "ipython3",
   "version": "3.8.5"
  }
 },
 "nbformat": 4,
 "nbformat_minor": 4
}
