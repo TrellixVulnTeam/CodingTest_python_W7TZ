{
 "cells": [
  {
   "cell_type": "markdown",
   "metadata": {},
   "source": [
    "## 내 답 : 다익스트라 응용 "
   ]
  },
  {
   "cell_type": "code",
   "execution_count": 258,
   "metadata": {},
   "outputs": [],
   "source": [
    "class Solution(object):\n",
    "    from collections import defaultdict\n",
    "    import heapq\n",
    "    def findCheapestPrice(self, n, flights, src, dst, K):\n",
    "        # src -> dst \n",
    "        \n",
    "        d=defaultdict(list)\n",
    "        for u,v,w in flights:\n",
    "            d[u].append((v,w))   # key : 출발지, value : (도착지, 비용)\n",
    "        \n",
    "        Q=[(0,src,0)]  # 비용, 출발지, 경유지카운트 수 : 초깃값 \n",
    "        heapq.heapify(Q)\n",
    "        dist=defaultdict(int)\n",
    "        answer=sys.maxsize\n",
    "        \n",
    "        while Q:\n",
    "            cost, next_dst, over = heapq.heappop(Q)\n",
    "            if next_dst==dst:\n",
    "                answer=min(answer,cost)\n",
    "                break\n",
    "        \n",
    "            for v, w in d[next_dst]:\n",
    "                if over>K:\n",
    "                    continue\n",
    "                alt=cost+w\n",
    "                overs=over+1\n",
    "                heapq.heappush(Q,(alt,v,overs))\n",
    "                    \n",
    "        if answer==sys.maxsize:\n",
    "            return -1\n",
    "        return answer\n",
    "                    \n",
    "            "
   ]
  },
  {
   "cell_type": "markdown",
   "metadata": {},
   "source": [
    "## 연습 : "
   ]
  },
  {
   "cell_type": "code",
   "execution_count": 69,
   "metadata": {},
   "outputs": [
    {
     "data": {
      "text/plain": [
       "defaultdict(list, {2: [(1, 1), (3, 1)], 3: [(4, 1)]})"
      ]
     },
     "execution_count": 69,
     "metadata": {},
     "output_type": "execute_result"
    }
   ],
   "source": [
    "from collections import defaultdict\n",
    "times = [[2,1,1],[2,3,1],[3,4,1]]\n",
    "n = 4\n",
    "k = 2\n",
    "\n",
    "d=defaultdict(list)\n",
    "d2=defaultdict(list)\n",
    "for i in times:\n",
    "    d[i[0]].append((i[1],i[2]))   # key : 각 노드, value : (다음 노드, 비용)\n",
    "    d2[i[0]].append(i[1])\n",
    "d"
   ]
  },
  {
   "cell_type": "code",
   "execution_count": 40,
   "metadata": {},
   "outputs": [
    {
     "data": {
      "text/plain": [
       "defaultdict(list, {2: [1, 3], 3: [4]})"
      ]
     },
     "execution_count": 40,
     "metadata": {},
     "output_type": "execute_result"
    }
   ],
   "source": [
    "d2"
   ]
  },
  {
   "cell_type": "code",
   "execution_count": 74,
   "metadata": {},
   "outputs": [
    {
     "data": {
      "text/plain": [
       "[(1, 1), (3, 1)]"
      ]
     },
     "execution_count": 74,
     "metadata": {},
     "output_type": "execute_result"
    }
   ],
   "source": [
    "answer=0\n",
    "visit=[0]*(n+1)\n",
    "visit[0]=1\n",
    "\n",
    "\n",
    "# if d.get(k) is None:\n",
    "# return -1\n",
    "\n",
    "q=[i for i in d[2]]\n",
    "    \n",
    "q"
   ]
  },
  {
   "cell_type": "code",
   "execution_count": 75,
   "metadata": {},
   "outputs": [
    {
     "data": {
      "text/plain": [
       "[1, 0, 0, 0, 0]"
      ]
     },
     "execution_count": 75,
     "metadata": {},
     "output_type": "execute_result"
    }
   ],
   "source": [
    "visit"
   ]
  },
  {
   "cell_type": "code",
   "execution_count": 77,
   "metadata": {},
   "outputs": [],
   "source": [
    "while q:\n",
    "\n",
    "    node, cost = q.pop(0)\n",
    "    \n",
    "    if visit[node]!=0:\n",
    "        visit[node]=cost\n",
    "    else:\n",
    "        continue\n",
    "        \n",
    "    \n",
    "    ans=0\n",
    "   \n",
    "    for j in d[node]: \n",
    "        ans=max(ans,j[1])   # 한 노드에 연결된 다음 노드중, 더 비용이 큰 값을 기억\n",
    "    answer+=ans\n",
    "    \n",
    "    \n",
    "#     if d.get(node) is None:\n",
    "#             continue\n",
    "#     tmp=d[node]\n",
    "\n",
    "#     while tmp:\n",
    "#         val=tmp.pop(0)\n",
    "#         print(val)\n",
    "#         for j in d[node]:\n",
    "#             q.append((d[j[0]],answer))\n",
    "\n"
   ]
  },
  {
   "cell_type": "code",
   "execution_count": 48,
   "metadata": {},
   "outputs": [
    {
     "name": "stdout",
     "output_type": "stream",
     "text": [
      "1\n",
      "1\n"
     ]
    }
   ],
   "source": [
    "d[2]\n",
    "for i in d[2]:\n",
    "    d[i[0]]"
   ]
  },
  {
   "cell_type": "code",
   "execution_count": 49,
   "metadata": {},
   "outputs": [
    {
     "data": {
      "text/plain": [
       "[(4, 1)]"
      ]
     },
     "execution_count": 49,
     "metadata": {},
     "output_type": "execute_result"
    }
   ],
   "source": [
    "d[3]"
   ]
  },
  {
   "cell_type": "code",
   "execution_count": null,
   "metadata": {},
   "outputs": [],
   "source": [
    "while q:\n",
    "    \n",
    "    for i in d[node]:\n",
    "        \n",
    "        \n",
    "        \n",
    "\n",
    "        \n",
    "\n",
    "        \n",
    "\n",
    "    print(answer)\n",
    "\n",
    "#bfs(k)"
   ]
  },
  {
   "cell_type": "code",
   "execution_count": 125,
   "metadata": {},
   "outputs": [
    {
     "data": {
      "text/plain": [
       "[(0, 3)]"
      ]
     },
     "execution_count": 125,
     "metadata": {},
     "output_type": "execute_result"
    }
   ],
   "source": [
    "from collections import defaultdict\n",
    "import heapq\n",
    "\n",
    "times=[[2,1,1],[2,3,1],[3,4,1]]\n",
    "N, K = 4, 2\n",
    "\n",
    "times=[[3,1,5],[3,2,2],[2,1,2],[3,4,1],[4,5,1],[5,6,1],[6,7,1],[7,8,1],[8,1,1]]\n",
    "N=8\n",
    "K=3\n",
    "graph=defaultdict(list)\n",
    "for u,v,w in times:\n",
    "    graph[u].append((v,w))  # u -> v를 가는데 w만큼 소요 \n",
    "\n",
    "# 우선순위 큐를 위한 큐 변수\n",
    "Q=[(0,K)]   # (소요시간, 다음 정점)   \n",
    "dist=defaultdict(int)\n",
    "heapq.heapify(Q)\n",
    "Q"
   ]
  },
  {
   "cell_type": "code",
   "execution_count": 126,
   "metadata": {},
   "outputs": [
    {
     "data": {
      "text/plain": [
       "defaultdict(list,\n",
       "            {3: [(1, 5), (2, 2), (4, 1)],\n",
       "             2: [(1, 2)],\n",
       "             4: [(5, 1)],\n",
       "             5: [(6, 1)],\n",
       "             6: [(7, 1)],\n",
       "             7: [(8, 1)],\n",
       "             8: [(1, 1)]})"
      ]
     },
     "execution_count": 126,
     "metadata": {},
     "output_type": "execute_result"
    }
   ],
   "source": [
    "graph"
   ]
  },
  {
   "cell_type": "code",
   "execution_count": 127,
   "metadata": {},
   "outputs": [
    {
     "name": "stdout",
     "output_type": "stream",
     "text": [
      "0 3\n",
      "defaultdict(<class 'int'>, {3: 0})\n",
      "5 1\n",
      "2 2\n",
      "1 4\n",
      "1 4\n",
      "defaultdict(<class 'int'>, {3: 0, 4: 1})\n",
      "2 5\n",
      "2 2\n",
      "defaultdict(<class 'int'>, {3: 0, 4: 1, 2: 2})\n",
      "4 1\n",
      "2 5\n",
      "defaultdict(<class 'int'>, {3: 0, 4: 1, 2: 2, 5: 2})\n",
      "3 6\n",
      "3 6\n",
      "defaultdict(<class 'int'>, {3: 0, 4: 1, 2: 2, 5: 2, 6: 3})\n",
      "4 7\n",
      "4 1\n",
      "defaultdict(<class 'int'>, {3: 0, 4: 1, 2: 2, 5: 2, 6: 3, 1: 4})\n",
      "4 7\n",
      "defaultdict(<class 'int'>, {3: 0, 4: 1, 2: 2, 5: 2, 6: 3, 1: 4, 7: 4})\n",
      "5 8\n",
      "5 8\n",
      "defaultdict(<class 'int'>, {3: 0, 4: 1, 2: 2, 5: 2, 6: 3, 1: 4, 7: 4, 8: 5})\n",
      "6 1\n"
     ]
    }
   ],
   "source": [
    "while Q:\n",
    "    time, node = heapq.heappop(Q)   # 최소힙 (time이 작은 순으로 pop됨)\n",
    "    if node not in dist:\n",
    "        print(time,node)\n",
    "        dist[node] = time\n",
    "        print(dist)\n",
    "\n",
    "        for v, w in graph[node]:\n",
    "\n",
    "            alt = time + w\n",
    "            print(alt,v)\n",
    "            heapq.heappush(Q,(alt,v))"
   ]
  },
  {
   "cell_type": "code",
   "execution_count": 99,
   "metadata": {},
   "outputs": [
    {
     "data": {
      "text/plain": [
       "defaultdict(int, {3: 0, 4: 1, 2: 2, 5: 2, 6: 3, 1: 6, 7: 4, 8: 5})"
      ]
     },
     "execution_count": 99,
     "metadata": {},
     "output_type": "execute_result"
    }
   ],
   "source": [
    "dist"
   ]
  },
  {
   "cell_type": "code",
   "execution_count": 101,
   "metadata": {},
   "outputs": [
    {
     "name": "stdout",
     "output_type": "stream",
     "text": [
      "6\n"
     ]
    }
   ],
   "source": [
    "if len(dist)==N:\n",
    "    print(max(dist.values()))\n"
   ]
  },
  {
   "cell_type": "code",
   "execution_count": 106,
   "metadata": {},
   "outputs": [
    {
     "name": "stdout",
     "output_type": "stream",
     "text": [
      "defaultdict(<class 'list'>, {1: [1, 5], 2: [4]})\n"
     ]
    },
    {
     "data": {
      "text/plain": [
       "[4]"
      ]
     },
     "execution_count": 106,
     "metadata": {},
     "output_type": "execute_result"
    }
   ],
   "source": [
    "d3=defaultdict(list)\n",
    "d3[1].append(1)\n",
    "d3[1].append(5)\n",
    "d3[2].append(4)\n",
    "print(d3)\n",
    "\n",
    "max(d3.values())"
   ]
  },
  {
   "cell_type": "code",
   "execution_count": 95,
   "metadata": {},
   "outputs": [
    {
     "name": "stdout",
     "output_type": "stream",
     "text": [
      "1\n",
      "2\n",
      "5\n"
     ]
    }
   ],
   "source": [
    "test1=[5,1,2]\n",
    "heapq.heapify(test1)\n",
    "while test1:\n",
    "    a=heapq.heappop(test1)\n",
    "    print(a)"
   ]
  },
  {
   "cell_type": "code",
   "execution_count": 254,
   "metadata": {},
   "outputs": [],
   "source": [
    "import sys\n",
    "n = 3\n",
    "flights = [[0,1,100],[1,2,100],[0,2,500]]\n",
    "flights = [[0,1,100],[1,2,100],[0,2,500]]\n",
    "src = 0\n",
    "dst = 2\n",
    "k = 1\n",
    "answer=sys.maxsize"
   ]
  },
  {
   "cell_type": "code",
   "execution_count": 251,
   "metadata": {},
   "outputs": [],
   "source": [
    "import sys\n",
    "n = 3\n",
    "flights = [[0,1,100],[1,2,100],[0,2,500]]\n",
    "flights = [[0,1,100],[1,2,100],[0,2,500]]\n",
    "src = 0\n",
    "dst = 2\n",
    "k = 0\n",
    "answer=sys.maxsize"
   ]
  },
  {
   "cell_type": "code",
   "execution_count": 248,
   "metadata": {},
   "outputs": [],
   "source": [
    "n=4\n",
    "flights=[[0,1,1],[0,2,5],[1,2,1],[2,3,1]]\n",
    "src=0\n",
    "dst=3\n",
    "k=1\n",
    "answer=sys.maxsize"
   ]
  },
  {
   "cell_type": "code",
   "execution_count": 255,
   "metadata": {},
   "outputs": [
    {
     "name": "stdout",
     "output_type": "stream",
     "text": [
      "d :  defaultdict(<class 'list'>, {0: [(1, 100), (2, 500)], 1: [(2, 100)]})\n",
      "[(0, 0, 0)]\n",
      "[(100, 1, 1), (500, 2, 1)]\n",
      "[(200, 2, 2), (500, 2, 1)]\n"
     ]
    }
   ],
   "source": [
    "\n",
    "d=defaultdict(list)\n",
    "for u,v,w in flights:\n",
    "    d[u].append((v,w))   # key : 출발지, value : (도착지, 비용)\n",
    "\n",
    "print('d : ',d)\n",
    "Q=[(0,src,0)]  # 비용, 출발지, 경유지카운트 수 : 초깃값 \n",
    "heapq.heapify(Q)\n",
    "dist=defaultdict(int)\n",
    "\n",
    "while Q:\n",
    "    print(Q)\n",
    "    cost, next_dst, over = heapq.heappop(Q)\n",
    "    \n",
    "    if next_dst==dst:\n",
    "        answer=min(answer,cost)\n",
    "        break\n",
    "\n",
    "    for v, w in d[next_dst]:\n",
    "        if over>k:\n",
    "            continue\n",
    "            \n",
    "        alt=cost+w\n",
    "        overs=over+1\n",
    "        heapq.heappush(Q,(alt,v,overs))\n",
    "            \n"
   ]
  },
  {
   "cell_type": "code",
   "execution_count": 256,
   "metadata": {},
   "outputs": [
    {
     "name": "stdout",
     "output_type": "stream",
     "text": [
      "200\n"
     ]
    }
   ],
   "source": [
    "print(answer)"
   ]
  },
  {
   "cell_type": "code",
   "execution_count": 259,
   "metadata": {},
   "outputs": [
    {
     "name": "stdout",
     "output_type": "stream",
     "text": [
      "[(2, 3), (3, 4), (5, 6)] [(2, 3), (3, 4)]\n"
     ]
    }
   ],
   "source": [
    "a=[(0,1),(2,3),(3,4)]\n",
    "b=a.pop(0)\n",
    "c=a[:]\n",
    "a.append((5,6))\n",
    "print(a,c)"
   ]
  },
  {
   "cell_type": "code",
   "execution_count": 260,
   "metadata": {},
   "outputs": [],
   "source": [
    "txt=[-1,-1,-1]\n",
    "if all(txt)==\n",
    "    print(99)"
   ]
  }
 ],
 "metadata": {
  "kernelspec": {
   "display_name": "Python 3",
   "language": "python",
   "name": "python3"
  },
  "language_info": {
   "codemirror_mode": {
    "name": "ipython",
    "version": 3
   },
   "file_extension": ".py",
   "mimetype": "text/x-python",
   "name": "python",
   "nbconvert_exporter": "python",
   "pygments_lexer": "ipython3",
   "version": "3.8.5"
  }
 },
 "nbformat": 4,
 "nbformat_minor": 4
}
