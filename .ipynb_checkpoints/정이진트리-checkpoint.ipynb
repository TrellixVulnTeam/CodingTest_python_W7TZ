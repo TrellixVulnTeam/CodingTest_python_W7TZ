{
 "cells": [
  {
   "cell_type": "code",
   "execution_count": 46,
   "metadata": {},
   "outputs": [],
   "source": [
    " from collections import deque\n",
    "root=[3,9,20,None,None,15,7]"
   ]
  },
  {
   "cell_type": "code",
   "execution_count": 47,
   "metadata": {},
   "outputs": [],
   "source": [
    "class TreeNode(object):\n",
    "    def __init__(self, val=0, left=None, right=None):\n",
    "        self.val = val\n",
    "        self.left = left\n",
    "        self.right = right\n",
    "        \n",
    "        \n",
    "root=TreeNode(root)"
   ]
  },
  {
   "cell_type": "code",
   "execution_count": 48,
   "metadata": {},
   "outputs": [
    {
     "data": {
      "text/plain": [
       "deque([<__main__.TreeNode at 0x1ab7c6f9700>])"
      ]
     },
     "execution_count": 48,
     "metadata": {},
     "output_type": "execute_result"
    }
   ],
   "source": [
    "queue=deque([root])\n",
    "queue"
   ]
  },
  {
   "cell_type": "code",
   "execution_count": 49,
   "metadata": {},
   "outputs": [
    {
     "name": "stdout",
     "output_type": "stream",
     "text": [
      "1\n"
     ]
    }
   ],
   "source": [
    "print(len(queue))"
   ]
  },
  {
   "cell_type": "code",
   "execution_count": 45,
   "metadata": {},
   "outputs": [
    {
     "name": "stdout",
     "output_type": "stream",
     "text": [
      "None\n",
      "None\n"
     ]
    }
   ],
   "source": [
    "depth+=1\n",
    "a=queue.popleft()\n",
    "print(a.left)\n",
    "print(a.right)\n",
    "if a.left:\n",
    "    queue.append(a.left)\n",
    "if a.right:\n",
    "    queue.append(a.right)"
   ]
  },
  {
   "cell_type": "code",
   "execution_count": 9,
   "metadata": {},
   "outputs": [],
   "source": [
    "depth=0\n",
    "while queue:\n",
    "    depth+=1\n",
    "    \n",
    "    for _ in range(len(queue)):\n",
    "        \n",
    "        cur_root=queue.popleft()\n",
    "        if cur_root.left:\n",
    "            queue.append(cur_root.left)\n",
    "        if cur_root.right:\n",
    "            queue.append(cur_root.right)"
   ]
  },
  {
   "cell_type": "code",
   "execution_count": 86,
   "metadata": {},
   "outputs": [
    {
     "name": "stdout",
     "output_type": "stream",
     "text": [
      "deque([<__main__.TreeNode object at 0x000001AB7C6F9AF0>])\n"
     ]
    }
   ],
   "source": [
    "class TreeNode(object):\n",
    "    def __init__(self, val=0, left=None, right=None):\n",
    "        self.val = val\n",
    "        self.left = left\n",
    "        self.right = right\n",
    "        \n",
    "root=[1,2,3,4,5]\n",
    "root=TreeNode(root)\n",
    "queue=deque([root])\n",
    "print(queue)"
   ]
  },
  {
   "cell_type": "code",
   "execution_count": 87,
   "metadata": {},
   "outputs": [],
   "source": [
    "# while queue:\n",
    "#     len_queue=len(queue)\n",
    "\n",
    "#     for _ in range(len_queue):\n",
    "#         cur_node=queue.popleft()\n",
    "#         print(cur_node.left, cur_node.right)\n",
    "#         if cur_node.left:\n",
    "#             queue.append(cur_node.left)\n",
    "#         if cur_node.right:\n",
    "#             queue.append(cur_node.right)\n"
   ]
  },
  {
   "cell_type": "code",
   "execution_count": 88,
   "metadata": {},
   "outputs": [],
   "source": [
    "depth=0\n",
    "while queue:\n",
    "    depth+=1\n",
    "    cnt=0\n",
    "    #print(len(queue))\n",
    "    len_queue=len(queue)\n",
    "    for _ in range(len_queue):   # 처음 부모노드만큼만 반복\n",
    "        cur_root=queue.popleft()\n",
    "        #print('cur_root : ',cur_root)\n",
    "        cnt+=1\n",
    "        if cur_root.left:\n",
    "            #print('left : ',cur_root.left)\n",
    "            queue.append(cur_root.left)\n",
    "        if cur_root.right:\n",
    "            #print('right : ',cur_root.right)\n",
    "            queue.append(cur_root.right)\n",
    "    #print('cnt : ',cnt)"
   ]
  },
  {
   "cell_type": "code",
   "execution_count": 90,
   "metadata": {},
   "outputs": [
    {
     "name": "stdout",
     "output_type": "stream",
     "text": [
      "1\n"
     ]
    }
   ],
   "source": [
    "print(depth)"
   ]
  },
  {
   "cell_type": "code",
   "execution_count": 112,
   "metadata": {},
   "outputs": [
    {
     "data": {
      "text/plain": [
       "[4, 1, 3, 2, 5, 6]"
      ]
     },
     "execution_count": 112,
     "metadata": {},
     "output_type": "execute_result"
    }
   ],
   "source": [
    "# 리스트를 이진트리로 만들자\n",
    "from collections import defaultdict\n",
    "lst=[1,2,3,4,5,6,7]\n",
    "lst=[4,1,3,2,5,6,None]\n",
    "\n",
    "lst2=[]\n",
    "for i in lst:\n",
    "    if i is not None:\n",
    "        lst2.append(i)\n",
    "lst2"
   ]
  },
  {
   "cell_type": "code",
   "execution_count": 113,
   "metadata": {},
   "outputs": [
    {
     "data": {
      "text/plain": [
       "defaultdict(int, {4: 0, 1: 4, 3: 4, 2: 1, 5: 1, 6: 3})"
      ]
     },
     "execution_count": 113,
     "metadata": {},
     "output_type": "execute_result"
    }
   ],
   "source": [
    "\n",
    "d=defaultdict(int)\n",
    "\n",
    "d[lst[0]]=0\n",
    "\n",
    "cnt=0\n",
    "value=1\n",
    "j=0\n",
    "for i in range(1,len(lst2)):\n",
    "    cnt+=1\n",
    "    if lst2[i]==-1:\n",
    "        continue\n",
    "    d[lst2[i]]=lst2[j]\n",
    "    \n",
    "    if cnt==2:\n",
    "        cnt=0\n",
    "        j+=1\n",
    "        \n",
    "d"
   ]
  },
  {
   "cell_type": "code",
   "execution_count": 115,
   "metadata": {},
   "outputs": [],
   "source": [
    "class Node(object):\n",
    "    \n",
    "    def __int__(self,data=0,left=None,right=None):  # val : 부모노드, left,right : 자식노드들\n",
    "        self.data=data\n",
    "        self.left=left\n",
    "        self.right=right\n",
    "          \n",
    "\n",
    "class BinarySearchTree(object):\n",
    "    \n",
    "    def __init__(self):\n",
    "        self.root=None\n",
    "        \n",
    "    # 삽입\n",
    "    def insert(self,data):\n",
    "        self.root=self._insert_value(self.root,data)\n",
    "        return self.root is not None\n",
    "    \n",
    "    \n",
    "    def _insert_value(self, node, data):\n",
    "        if node is None:\n",
    "            node=Node(data)\n",
    "        else:\n",
    "            if data<=node.data:\n",
    "                node.left=self._insert_value(node.left,data)\n",
    "                \n",
    "            else:\n",
    "                node.right=self._insert_value(node.right,data)\n",
    "                \n",
    "        return node\n",
    "    \n",
    "    \n",
    "    # 탐색\n",
    "    def find(self,key):\n",
    "        return self._find_value(self.root,key)\n",
    "    \n",
    "    def _find_value(self,root,key):\n",
    "        if root is None or root.data==key:\n",
    "            return root is not None\n",
    "        \n",
    "        elif key < root.data:\n",
    "            return self._find_value(root.left, key)\n",
    "        \n",
    "        else:\n",
    "            return self._find_value(root.right, key)\n",
    "        \n",
    "        \n",
    "    # 삭제\n",
    "    def delete(self, key):\n",
    "        self.root, deleted = self._delete_value(self.root, key)\n",
    "        return deleted\n",
    "\n",
    "    def _delete_value(self, node, key):\n",
    "        if node is None:\n",
    "            return node, False\n",
    "\n",
    "        deleted = False\n",
    "        if key == node.data:\n",
    "            deleted = True\n",
    "            if node.left and node.right:\n",
    "                # replace the node to the leftmost of node.right\n",
    "                parent, child = node, node.right\n",
    "                while child.left is not None:\n",
    "                    parent, child = child, child.left\n",
    "                child.left = node.left\n",
    "                if parent != node:\n",
    "                    parent.left = child.right\n",
    "                    child.right = node.right\n",
    "                node = child\n",
    "            elif node.left or node.right:\n",
    "                node = node.left or node.right\n",
    "            else:\n",
    "                node = None\n",
    "        elif key < node.data:\n",
    "            node.left, deleted = self._delete_value(node.left, key)\n",
    "        else:\n",
    "            node.right, deleted = self._delete_value(node.right, key)\n",
    "        return node, deleted"
   ]
  },
  {
   "cell_type": "code",
   "execution_count": 117,
   "metadata": {},
   "outputs": [
    {
     "ename": "TypeError",
     "evalue": "Node() takes no arguments",
     "output_type": "error",
     "traceback": [
      "\u001b[1;31m---------------------------------------------------------------------------\u001b[0m",
      "\u001b[1;31mTypeError\u001b[0m                                 Traceback (most recent call last)",
      "\u001b[1;32m<ipython-input-117-534e595f0a10>\u001b[0m in \u001b[0;36m<module>\u001b[1;34m\u001b[0m\n\u001b[0;32m      2\u001b[0m \u001b[0mbst\u001b[0m\u001b[1;33m=\u001b[0m\u001b[0mBinarySearchTree\u001b[0m\u001b[1;33m(\u001b[0m\u001b[1;33m)\u001b[0m\u001b[1;33m\u001b[0m\u001b[1;33m\u001b[0m\u001b[0m\n\u001b[0;32m      3\u001b[0m \u001b[1;32mfor\u001b[0m \u001b[0mx\u001b[0m \u001b[1;32min\u001b[0m \u001b[0marray\u001b[0m\u001b[1;33m:\u001b[0m\u001b[1;33m\u001b[0m\u001b[1;33m\u001b[0m\u001b[0m\n\u001b[1;32m----> 4\u001b[1;33m     \u001b[0mbst\u001b[0m\u001b[1;33m.\u001b[0m\u001b[0minsert\u001b[0m\u001b[1;33m(\u001b[0m\u001b[0mx\u001b[0m\u001b[1;33m)\u001b[0m\u001b[1;33m\u001b[0m\u001b[1;33m\u001b[0m\u001b[0m\n\u001b[0m\u001b[0;32m      5\u001b[0m \u001b[1;33m\u001b[0m\u001b[0m\n\u001b[0;32m      6\u001b[0m \u001b[1;33m\u001b[0m\u001b[0m\n",
      "\u001b[1;32m<ipython-input-115-60d27c40021b>\u001b[0m in \u001b[0;36minsert\u001b[1;34m(self, data)\u001b[0m\n\u001b[0;32m     14\u001b[0m     \u001b[1;31m# 삽입\u001b[0m\u001b[1;33m\u001b[0m\u001b[1;33m\u001b[0m\u001b[1;33m\u001b[0m\u001b[0m\n\u001b[0;32m     15\u001b[0m     \u001b[1;32mdef\u001b[0m \u001b[0minsert\u001b[0m\u001b[1;33m(\u001b[0m\u001b[0mself\u001b[0m\u001b[1;33m,\u001b[0m\u001b[0mdata\u001b[0m\u001b[1;33m)\u001b[0m\u001b[1;33m:\u001b[0m\u001b[1;33m\u001b[0m\u001b[1;33m\u001b[0m\u001b[0m\n\u001b[1;32m---> 16\u001b[1;33m         \u001b[0mself\u001b[0m\u001b[1;33m.\u001b[0m\u001b[0mroot\u001b[0m\u001b[1;33m=\u001b[0m\u001b[0mself\u001b[0m\u001b[1;33m.\u001b[0m\u001b[0m_insert_value\u001b[0m\u001b[1;33m(\u001b[0m\u001b[0mself\u001b[0m\u001b[1;33m.\u001b[0m\u001b[0mroot\u001b[0m\u001b[1;33m,\u001b[0m\u001b[0mdata\u001b[0m\u001b[1;33m)\u001b[0m\u001b[1;33m\u001b[0m\u001b[1;33m\u001b[0m\u001b[0m\n\u001b[0m\u001b[0;32m     17\u001b[0m         \u001b[1;32mreturn\u001b[0m \u001b[0mself\u001b[0m\u001b[1;33m.\u001b[0m\u001b[0mroot\u001b[0m \u001b[1;32mis\u001b[0m \u001b[1;32mnot\u001b[0m \u001b[1;32mNone\u001b[0m\u001b[1;33m\u001b[0m\u001b[1;33m\u001b[0m\u001b[0m\n\u001b[0;32m     18\u001b[0m \u001b[1;33m\u001b[0m\u001b[0m\n",
      "\u001b[1;32m<ipython-input-115-60d27c40021b>\u001b[0m in \u001b[0;36m_insert_value\u001b[1;34m(self, node, data)\u001b[0m\n\u001b[0;32m     20\u001b[0m     \u001b[1;32mdef\u001b[0m \u001b[0m_insert_value\u001b[0m\u001b[1;33m(\u001b[0m\u001b[0mself\u001b[0m\u001b[1;33m,\u001b[0m \u001b[0mnode\u001b[0m\u001b[1;33m,\u001b[0m \u001b[0mdata\u001b[0m\u001b[1;33m)\u001b[0m\u001b[1;33m:\u001b[0m\u001b[1;33m\u001b[0m\u001b[1;33m\u001b[0m\u001b[0m\n\u001b[0;32m     21\u001b[0m         \u001b[1;32mif\u001b[0m \u001b[0mnode\u001b[0m \u001b[1;32mis\u001b[0m \u001b[1;32mNone\u001b[0m\u001b[1;33m:\u001b[0m\u001b[1;33m\u001b[0m\u001b[1;33m\u001b[0m\u001b[0m\n\u001b[1;32m---> 22\u001b[1;33m             \u001b[0mnode\u001b[0m\u001b[1;33m=\u001b[0m\u001b[0mNode\u001b[0m\u001b[1;33m(\u001b[0m\u001b[0mdata\u001b[0m\u001b[1;33m)\u001b[0m\u001b[1;33m\u001b[0m\u001b[1;33m\u001b[0m\u001b[0m\n\u001b[0m\u001b[0;32m     23\u001b[0m         \u001b[1;32melse\u001b[0m\u001b[1;33m:\u001b[0m\u001b[1;33m\u001b[0m\u001b[1;33m\u001b[0m\u001b[0m\n\u001b[0;32m     24\u001b[0m             \u001b[1;32mif\u001b[0m \u001b[0mdata\u001b[0m\u001b[1;33m<=\u001b[0m\u001b[0mnode\u001b[0m\u001b[1;33m.\u001b[0m\u001b[0mdata\u001b[0m\u001b[1;33m:\u001b[0m\u001b[1;33m\u001b[0m\u001b[1;33m\u001b[0m\u001b[0m\n",
      "\u001b[1;31mTypeError\u001b[0m: Node() takes no arguments"
     ]
    }
   ],
   "source": [
    "array = [40, 4, 34, 45, 14, 55, 48, 13, 15, 49, 47]\n",
    "bst=BinarySearchTree()\n",
    "for x in array:\n",
    "    bst.insert(x)\n",
    "    \n",
    "\n",
    "# Find\n",
    "print(bst.find(15)) # True\n",
    "print(bst.find(17)) # False\n",
    "\n",
    "# Delete\n",
    "print(bst.delete(55)) # True\n",
    "print(bst.delete(14)) # True\n",
    "print(bst.delete(11)) # False"
   ]
  },
  {
   "cell_type": "code",
   "execution_count": 121,
   "metadata": {},
   "outputs": [],
   "source": [
    "from collections import Counter\n"
   ]
  },
  {
   "cell_type": "code",
   "execution_count": 123,
   "metadata": {},
   "outputs": [
    {
     "ename": "TypeError",
     "evalue": "__init__() takes from 1 to 2 positional arguments but 3 were given",
     "output_type": "error",
     "traceback": [
      "\u001b[1;31m---------------------------------------------------------------------------\u001b[0m",
      "\u001b[1;31mTypeError\u001b[0m                                 Traceback (most recent call last)",
      "\u001b[1;32m<ipython-input-123-ec66d1456e1e>\u001b[0m in \u001b[0;36m<module>\u001b[1;34m\u001b[0m\n\u001b[0;32m      1\u001b[0m \u001b[0mlst\u001b[0m\u001b[1;33m=\u001b[0m\u001b[1;33m[\u001b[0m\u001b[1;33m[\u001b[0m\u001b[1;36m1\u001b[0m\u001b[1;33m,\u001b[0m\u001b[1;36m2\u001b[0m\u001b[1;33m,\u001b[0m\u001b[1;36m3\u001b[0m\u001b[1;33m,\u001b[0m\u001b[1;36m0\u001b[0m\u001b[1;33m]\u001b[0m\u001b[1;33m,\u001b[0m\u001b[1;33m[\u001b[0m\u001b[1;36m0\u001b[0m\u001b[1;33m,\u001b[0m\u001b[1;36m5\u001b[0m\u001b[1;33m,\u001b[0m\u001b[1;36m6\u001b[0m\u001b[1;33m,\u001b[0m\u001b[1;36m7\u001b[0m\u001b[1;33m]\u001b[0m\u001b[1;33m]\u001b[0m\u001b[1;33m\u001b[0m\u001b[1;33m\u001b[0m\u001b[0m\n\u001b[1;32m----> 2\u001b[1;33m \u001b[0ma\u001b[0m\u001b[1;33m=\u001b[0m\u001b[0mCounter\u001b[0m\u001b[1;33m(\u001b[0m\u001b[1;33m*\u001b[0m\u001b[0mlst\u001b[0m\u001b[1;33m)\u001b[0m\u001b[1;33m\u001b[0m\u001b[1;33m\u001b[0m\u001b[0m\n\u001b[0m\u001b[0;32m      3\u001b[0m \u001b[0ma\u001b[0m\u001b[1;33m\u001b[0m\u001b[1;33m\u001b[0m\u001b[0m\n\u001b[0;32m      4\u001b[0m \u001b[1;31m#[ for i in range(4) for j in range(4) if lst[i][j]==0]\u001b[0m\u001b[1;33m\u001b[0m\u001b[1;33m\u001b[0m\u001b[1;33m\u001b[0m\u001b[0m\n",
      "\u001b[1;31mTypeError\u001b[0m: __init__() takes from 1 to 2 positional arguments but 3 were given"
     ]
    }
   ],
   "source": [
    "lst=[[1,2,3,0],[0,5,6,7]]\n",
    "a=Counter(*lst)\n",
    "a\n",
    "#[ for i in range(4) for j in range(4) if lst[i][j]==0]"
   ]
  }
 ],
 "metadata": {
  "kernelspec": {
   "display_name": "Python 3",
   "language": "python",
   "name": "python3"
  },
  "language_info": {
   "codemirror_mode": {
    "name": "ipython",
    "version": 3
   },
   "file_extension": ".py",
   "mimetype": "text/x-python",
   "name": "python",
   "nbconvert_exporter": "python",
   "pygments_lexer": "ipython3",
   "version": "3.8.5"
  }
 },
 "nbformat": 4,
 "nbformat_minor": 4
}
