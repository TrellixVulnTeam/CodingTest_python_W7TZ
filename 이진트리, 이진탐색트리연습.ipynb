{
 "cells": [
  {
   "cell_type": "code",
   "execution_count": 59,
   "metadata": {},
   "outputs": [
    {
     "name": "stdout",
     "output_type": "stream",
     "text": [
      "pop :  (7, [8, 6]) <__main__.TreeNode object at 0x000001F031EB8880> <__main__.TreeNode object at 0x000001F031EB8730>\n",
      "pop :  (4, [3, 5]) <__main__.TreeNode object at 0x000001F031EB87C0> <__main__.TreeNode object at 0x000001F031EB8790>\n",
      "pop :  (2, [11, 5]) None <__main__.TreeNode object at 0x000001F031EB88E0>\n",
      "pop :  (6, [1, 3]) None <__main__.TreeNode object at 0x000001F031EB88B0>\n",
      "pop :  (1, [5, 3]) None <__main__.TreeNode object at 0x000001F031EB8DF0>\n",
      "pop :  (3, [13, 3]) <__main__.TreeNode object at 0x000001F031EB8160> None\n",
      "pop :  (9, [2, 2]) None None\n",
      "pop :  (8, [7, 2]) None None\n",
      "pop :  (5, [6, 1]) None None\n"
     ]
    },
    {
     "data": {
      "text/plain": [
       "[[]]"
      ]
     },
     "execution_count": 59,
     "metadata": {},
     "output_type": "execute_result"
    }
   ],
   "source": [
    "from collections import deque\n",
    "\n",
    "class TreeNode(object):\n",
    "    def __init__(self, val=0,left=None, right=None):\n",
    "        self.val=val\n",
    "        self.left=left\n",
    "        self.right=right\n",
    "\n",
    "\n",
    "def solution(nodeinfo):\n",
    "    answer = [[]]\n",
    "    \n",
    "    # nodeinfo.sort(key=lambda x:x[1])\n",
    "    # print(nodeinfo)\n",
    "    d={}\n",
    "    for k, v in zip(range(1,len(nodeinfo)+1),nodeinfo):\n",
    "        d[k]=v\n",
    "    \n",
    "\n",
    "    nodes=sorted(list(d.items()), key=lambda x:(-x[1][1],x[1][0]))\n",
    "    \n",
    "    root=TreeNode(nodes[0])\n",
    "    #print(root.val, root.left, root.right)\n",
    "    \n",
    "    queue = deque([root])\n",
    "    index=1\n",
    "    \n",
    "    while queue:\n",
    "        node=queue.popleft()\n",
    "        \n",
    "        if node:\n",
    "            if node.val[1][0] > nodes[index][1][0] and node.val[1][1]>nodes[index][1][1]:\n",
    "                node.left=TreeNode(nodes[index])\n",
    "                queue.append(node.left)\n",
    "                index+=1\n",
    "                \n",
    "            else:\n",
    "                queue.append(None)\n",
    "                \n",
    "                \n",
    "            if index>=len(nodes):\n",
    "                break\n",
    "\n",
    "            if node.val[1][0] < nodes[index][1][0] and node.val[1][1]>nodes[index][1][1]:\n",
    "                node.right=TreeNode(nodes[index])\n",
    "                queue.append(node.right)\n",
    "                index+=1\n",
    "                \n",
    "            else:\n",
    "                queue.append(None)\n",
    "                \n",
    "            \n",
    "            if index>=len(nodes):\n",
    "                break\n",
    "                \n",
    "            \n",
    "    \n",
    "    q=deque([root])\n",
    "    while q:\n",
    "        n=q.popleft()\n",
    "        if n:\n",
    "            print('pop : ',n.val, n.left, n.right)\n",
    "            q.append(n.left)\n",
    "            q.append(n.right)\n",
    "\n",
    "    \n",
    "    #print(nodes)\n",
    "    return answer\n",
    "\n",
    "nodeinfo=[[5,3],[11,5],[13,3],[3,5],[6,1],[1,3],[8,6],[7,2],[2,2]]\n",
    "solution(nodeinfo)"
   ]
  },
  {
   "cell_type": "code",
   "execution_count": 58,
   "metadata": {},
   "outputs": [],
   "source": [
    "class TreeNode(object):\n",
    "    def __init__(self, x):\n",
    "        self.val = x\n",
    "        self.left = None\n",
    "        self.right = None\n",
    "        \n",
    "def creatBTree(data, index):\n",
    "    pNode = None\n",
    "    if index < len(data):\n",
    "        if data[index] == None:\n",
    "            return\n",
    "        pNode = TreeNode(data[index])\n",
    "        pNode.left = creatBTree(data, 2 * index + 1) # [1, 3, 7, 15, ...]\n",
    "        pNode.right = creatBTree(data, 2 * index + 2) # [2, 5, 12, 25, ...]\n",
    "    return pNode \n",
    "\n",
    "lst = [5,4,8,11,None,13,4,7,2,None,None,None,1]\n",
    "root = creatBTree(lst, 0)\n",
    "\n",
    "q=deque([root])\n",
    "while q:\n",
    "    node=q.popleft()\n",
    "    if node:\n",
    "        "
   ]
  },
  {
   "cell_type": "code",
   "execution_count": 71,
   "metadata": {},
   "outputs": [
    {
     "data": {
      "text/plain": [
       "6"
      ]
     },
     "execution_count": 71,
     "metadata": {},
     "output_type": "execute_result"
    }
   ],
   "source": [
    "nodeinfo=[[5,3],[11,5],[13,3],[3,5],[6,1],[1,3],[8,6],[7,2],[2,2]]\n",
    "\n",
    "y_max=max([x[1] for x in nodeinfo])   # 두번째 열의 값들 중 가장 큰 값 \n",
    "\n",
    "sub=[]\n",
    "while y_max>=1:\n",
    "    \n",
    "\n",
    "\n",
    "# max_y = [ for x[1] in nodeinfo]\n",
    "# max(*nodeinfo)"
   ]
  },
  {
   "cell_type": "code",
   "execution_count": 76,
   "metadata": {},
   "outputs": [
    {
     "data": {
      "text/plain": [
       "[(7, [8, 6]),\n",
       " (4, [3, 5]),\n",
       " (2, [11, 5]),\n",
       " (6, [1, 3]),\n",
       " (1, [5, 3]),\n",
       " (3, [13, 3]),\n",
       " (9, [2, 2]),\n",
       " (8, [7, 2]),\n",
       " (5, [6, 1])]"
      ]
     },
     "execution_count": 76,
     "metadata": {},
     "output_type": "execute_result"
    }
   ],
   "source": [
    "nodeinfo=[[5,3],[11,5],[13,3],[3,5],[6,1],[1,3],[8,6],[7,2],[2,2]]\n",
    "class TreeNode(object):\n",
    "    def __init__(self, val=0,left=None, right=None):\n",
    "        self.val=val\n",
    "        self.left=left\n",
    "        self.right=right\n",
    "\n",
    "d={}\n",
    "for k, v in zip(range(1,len(nodeinfo)+1),nodeinfo):\n",
    "    d[k]=v\n",
    "\n",
    "\n",
    "nodes=sorted(list(d.items()), key=lambda x:(-x[1][1],x[1][0]))  # (x,y) : y의 내림차순, x의 오름차순으로 정렬 \n",
    "nodes"
   ]
  },
  {
   "cell_type": "code",
   "execution_count": null,
   "metadata": {},
   "outputs": [],
   "source": [
    "node=TreeNode(nodes.pop(0))\n",
    "q=queue([node])\n",
    "node_val=root.val[0]\n",
    "node_x = root.val[1][0]\n",
    "node_y = root.val[1][1]\n",
    "\n",
    "cnt=2\n",
    "while q:\n",
    "    i=q.popleft()\n",
    "    if i[1][0] < node_x and i[1][1] < node_y:\n",
    "        node.left=TreeNode(i)\n",
    "        q.append(node.left)\n",
    "        \n",
    "    elif i[1][0] > node_x and i[1][1] < node_y:\n",
    "        node.right=TreeNode(i)\n",
    "        q.append(node.right)\n",
    "        \n",
    "    "
   ]
  }
 ],
 "metadata": {
  "kernelspec": {
   "display_name": "Python 3",
   "language": "python",
   "name": "python3"
  },
  "language_info": {
   "codemirror_mode": {
    "name": "ipython",
    "version": 3
   },
   "file_extension": ".py",
   "mimetype": "text/x-python",
   "name": "python",
   "nbconvert_exporter": "python",
   "pygments_lexer": "ipython3",
   "version": "3.8.5"
  }
 },
 "nbformat": 4,
 "nbformat_minor": 4
}
