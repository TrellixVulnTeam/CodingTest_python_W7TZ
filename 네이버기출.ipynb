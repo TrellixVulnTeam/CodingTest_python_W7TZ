{
 "cells": [
  {
   "cell_type": "code",
   "execution_count": 1,
   "metadata": {},
   "outputs": [
    {
     "data": {
      "text/plain": [
       "[50, 22, 10, 4, -13]"
      ]
     },
     "execution_count": 1,
     "metadata": {},
     "output_type": "execute_result"
    }
   ],
   "source": [
    "blocks=[[0,50],[0,22],[2,10],[1,4],[4,-13]]\n",
    "ans=[x[1] for x in blocks]\n",
    "\n",
    "        \n",
    "\n",
    "ans"
   ]
  },
  {
   "cell_type": "code",
   "execution_count": null,
   "metadata": {},
   "outputs": [],
   "source": [
    "ans=[]\n",
    "\n",
    "for i in range(len(blocks)):\n",
    "    for j in range(len(i)+1):\n",
    "        if blocks[i][0]==j:\n",
    "            ans.append(blocks[i][1])\n",
    "            continue\n",
    "        ans.append(blocks[])\n",
    "        blocks[i][j]=blocks[i-1][j-1]+blocks[i][j-1]\n",
    "        "
   ]
  },
  {
   "cell_type": "code",
   "execution_count": 13,
   "metadata": {},
   "outputs": [
    {
     "name": "stdout",
     "output_type": "stream",
     "text": [
      "8\n",
      "8\n",
      "1\n",
      "7\n",
      "7\n",
      "4\n",
      "5\n",
      "5\n",
      "6\n",
      "6\n"
     ]
    }
   ],
   "source": [
    "triangle=[[7], [3, 8], [8, 1, 0], [2, 7, 4, 4], [4, 5, 2, 6, 5]]\n",
    "sub=triangle[0][0]\n",
    "for i in range(0,len(triangle)-1):\n",
    "    sub=0\n",
    "    for j in range(len(triangle[i])):\n",
    "        sub=max(triangle[i+1][j],triangle[i+1][j+1])\n",
    "        \n",
    "        "
   ]
  },
  {
   "cell_type": "code",
   "execution_count": null,
   "metadata": {},
   "outputs": [],
   "source": [
    "for i in range(1,len(blocks)):\n",
    "    for j in range(len(blocks[i])):\n",
    "        if blocks[i][0]==j:\n",
    "            continue\n",
    "        \n",
    "        if j==len(blocks[i]-1):\n",
    "            \n",
    "        elif j==0:\n",
    "            \n",
    "        else:\n",
    "            \n",
    "            \n",
    "        "
   ]
  }
 ],
 "metadata": {
  "kernelspec": {
   "display_name": "Python 3",
   "language": "python",
   "name": "python3"
  },
  "language_info": {
   "codemirror_mode": {
    "name": "ipython",
    "version": 3
   },
   "file_extension": ".py",
   "mimetype": "text/x-python",
   "name": "python",
   "nbconvert_exporter": "python",
   "pygments_lexer": "ipython3",
   "version": "3.8.5"
  }
 },
 "nbformat": 4,
 "nbformat_minor": 4
}
