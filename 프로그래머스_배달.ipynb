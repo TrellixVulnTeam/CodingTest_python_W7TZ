{
 "cells": [
  {
   "cell_type": "markdown",
   "metadata": {},
   "source": [
    "https://programmers.co.kr/learn/courses/30/lessons/12978"
   ]
  },
  {
   "cell_type": "code",
   "execution_count": null,
   "metadata": {},
   "outputs": [],
   "source": [
    "from collections import defaultdict\n",
    "def solution(N, road, K):\n",
    "    answer = 0\n",
    "    d=defaultdict(list)\n",
    "    for r in road:\n",
    "        a,b,c = r\n",
    "        d[a]+=[(c,b)]\n",
    "        d[b]+=[(c,a)]\n",
    "    #print(d)\n",
    "    \n",
    "    deli={k+1:v for k,v in enumerate([0]*(N))}\n",
    "    \n",
    "    def delivery(start,cost,dest,visits,init):\n",
    "         \n",
    "        if start==dest:\n",
    "            if deli[init]==0:\n",
    "                deli[init]=cost\n",
    "            else:\n",
    "                deli[init]=min(deli[init],cost)\n",
    "                \n",
    "            return\n",
    "                \n",
    "        for c,j in d[start]:\n",
    "            if visits[j]==0:\n",
    "                visit2 = [x for x in visits]\n",
    "                visit2[j]=1\n",
    "                delivery(j,cost+c,dest,visit2,init)\n",
    "        return\n",
    "            \n",
    "    for i in range(2,N+1):\n",
    "        visit = [0]*(N+1)\n",
    "        delivery(1,0,i,visit,i)\n",
    "\n",
    "    print(deli)\n",
    "    answer = [k for k,v in deli.items() if v<=K]\n",
    "        \n",
    "    return len(answer)\n",
    "\n",
    "N=5\n",
    "road=[[1,2,1],[2,3,3],[5,2,2],[1,4,2],[5,3,1],[5,4,2]]\n",
    "\n",
    "N=6\n",
    "road = [[1,2,1],[1,3,2],[2,3,2],[3,4,3],[3,5,2],[3,5,3],[5,6,1]]\n",
    "K=4\n",
    "\n",
    "solution(N,road,K)"
   ]
  }
 ],
 "metadata": {
  "kernelspec": {
   "display_name": "Python 3",
   "language": "python",
   "name": "python3"
  },
  "language_info": {
   "codemirror_mode": {
    "name": "ipython",
    "version": 3
   },
   "file_extension": ".py",
   "mimetype": "text/x-python",
   "name": "python",
   "nbconvert_exporter": "python",
   "pygments_lexer": "ipython3",
   "version": "3.8.5"
  }
 },
 "nbformat": 4,
 "nbformat_minor": 4
}
