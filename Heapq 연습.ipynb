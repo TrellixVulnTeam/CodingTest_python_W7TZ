{
 "cells": [
  {
   "cell_type": "code",
   "execution_count": 49,
   "metadata": {},
   "outputs": [
    {
     "name": "stdout",
     "output_type": "stream",
     "text": [
      "[6, 5, 5, 4]\n",
      "[1, 2, 2, 3]\n",
      "[1, 2, 3, 2, 3, 4, 5, 5, 6, 10]\n",
      "[2, 2, 3, 5, 3, 4, 5, 10, 6]\n",
      "2\n",
      "2 [2, 3, 3, 5, 20, 4, 5, 10, 6]\n",
      "[2, 3, 3, 5, 20, 4, 5, 10, 6]\n"
     ]
    }
   ],
   "source": [
    "import heapq\n",
    "\n",
    "nums=[3,2,3,1,2,4,5,5,6]\n",
    "heapq.heapify(nums)       # heapify는 다른 변수에 객체 복사가 안됨. 해당 객체를 바로 (sort와 똑같음)\n",
    "\n",
    "k=4\n",
    "print(heapq.nlargest(k,nums))   # 가장 큰 k개의 요소를 가져옴\n",
    "\n",
    "print(heapq.nsmallest(k,nums)) # 가장 작은 k개의 요소를 가져옴\n",
    "\n",
    "x=10\n",
    "heapq.heappush(nums, x)         #  x를 힙큐에 집어넣음 (자동으로 정렬됨)\n",
    "print(nums)\n",
    "\n",
    "heapq.heappop(nums)              # 힙큐에서 가장 작은 값이 pop됨. \n",
    "print(nums)\n",
    "\n",
    "# pop하지 않고 가장 작은 요소를 반환하고 싶다면 그냥 인덱스로 접근하면 됌.\n",
    "print(nums[0])\n",
    "\n",
    "x=20\n",
    "sm=heapq.heapreplace(nums, x)  # 힙큐에서 가장 작은 값이 pop되고 새로운 x가 push됨 \n",
    "print(sm,nums)\n",
    "\n",
    "\n",
    "\n"
   ]
  }
 ],
 "metadata": {
  "kernelspec": {
   "display_name": "Python 3",
   "language": "python",
   "name": "python3"
  },
  "language_info": {
   "codemirror_mode": {
    "name": "ipython",
    "version": 3
   },
   "file_extension": ".py",
   "mimetype": "text/x-python",
   "name": "python",
   "nbconvert_exporter": "python",
   "pygments_lexer": "ipython3",
   "version": "3.8.5"
  }
 },
 "nbformat": 4,
 "nbformat_minor": 4
}
