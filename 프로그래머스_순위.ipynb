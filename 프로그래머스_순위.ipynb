{
 "cells": [
  {
   "cell_type": "code",
   "execution_count": 18,
   "metadata": {},
   "outputs": [
    {
     "name": "stdout",
     "output_type": "stream",
     "text": [
      "defaultdict(<class 'list'>, {4: [3, 2], 3: [2], 1: [2], 2: [5]})\n",
      "{1: [2, 5], 2: [5], 3: [2, 5], 4: [3, 2, 5], 5: []}\n",
      "[(5, []), (2, [5]), (1, [2, 5]), (3, [2, 5]), (4, [3, 2, 5])]\n",
      "[(5, 0), (2, 1), (1, 2), (3, 2), (4, 3)]\n",
      "\n",
      "(5, 0)\n",
      "(2, 1)\n"
     ]
    },
    {
     "data": {
      "text/plain": [
       "2"
      ]
     },
     "execution_count": 18,
     "metadata": {},
     "output_type": "execute_result"
    }
   ],
   "source": [
    "from collections import defaultdict\n",
    "def solution(n, results):\n",
    "    answer = 0\n",
    "    # 순위 그래프 만들기 \n",
    "    d = defaultdict(list)\n",
    "    for i in results:\n",
    "        a,b = i\n",
    "        d[a]+=[b]\n",
    "    \n",
    "    rank = {}\n",
    "    print(d)\n",
    "    \n",
    "    def dfs(r,p):\n",
    "        if p in d and len(d[p])>0:\n",
    "            for c in d[p]:\n",
    "                if c not in rank[r]:\n",
    "                    rank[r]+=[c]\n",
    "                    dfs(r,c)\n",
    "        else:\n",
    "            return\n",
    "    \n",
    "    for i in range(1,n+1):\n",
    "        node = i\n",
    "        rank[i]=[]\n",
    "        dfs(i,i)\n",
    "            \n",
    "    print(rank)\n",
    "    res = sorted(rank.items(), key = lambda x: len(x[1]))\n",
    "    res2 = [(x[0],len(x[1])) for x in res]\n",
    "    sub = [len(x[1]) for x in res]\n",
    "    print(res)\n",
    "    print(res2)\n",
    "    print()\n",
    "    \n",
    "    for i,j in zip(res2,range(0,n)):\n",
    "        if i[1]==j and (sub[j+1:].count(j)==0):\n",
    "            print(i)\n",
    "            answer+=1\n",
    "    return answer\n",
    "\n",
    "n=5\n",
    "results = [[4, 3], [4, 2], [3, 2], [1, 2], [2, 5]]\n",
    "solution(n, results)"
   ]
  },
  {
   "cell_type": "code",
   "execution_count": 11,
   "metadata": {},
   "outputs": [
    {
     "data": {
      "text/plain": [
       "0"
      ]
     },
     "execution_count": 11,
     "metadata": {},
     "output_type": "execute_result"
    }
   ],
   "source": [
    "c=[1,2,3,3]\n"
   ]
  }
 ],
 "metadata": {
  "kernelspec": {
   "display_name": "Python 3",
   "language": "python",
   "name": "python3"
  },
  "language_info": {
   "codemirror_mode": {
    "name": "ipython",
    "version": 3
   },
   "file_extension": ".py",
   "mimetype": "text/x-python",
   "name": "python",
   "nbconvert_exporter": "python",
   "pygments_lexer": "ipython3",
   "version": "3.7.9"
  }
 },
 "nbformat": 4,
 "nbformat_minor": 4
}
